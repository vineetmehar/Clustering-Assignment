{
 "cells": [
  {
   "cell_type": "markdown",
   "metadata": {},
   "source": [
    "TAKING DATASET"
   ]
  },
  {
   "cell_type": "code",
   "execution_count": 1,
   "metadata": {},
   "outputs": [
    {
     "data": {
      "text/html": [
       "<div>\n",
       "<style scoped>\n",
       "    .dataframe tbody tr th:only-of-type {\n",
       "        vertical-align: middle;\n",
       "    }\n",
       "\n",
       "    .dataframe tbody tr th {\n",
       "        vertical-align: top;\n",
       "    }\n",
       "\n",
       "    .dataframe thead th {\n",
       "        text-align: right;\n",
       "    }\n",
       "</style>\n",
       "<table border=\"1\" class=\"dataframe\">\n",
       "  <thead>\n",
       "    <tr style=\"text-align: right;\">\n",
       "      <th></th>\n",
       "      <th>sepal_length</th>\n",
       "      <th>sepal_width</th>\n",
       "      <th>petal_length</th>\n",
       "      <th>petal_width</th>\n",
       "      <th>species</th>\n",
       "    </tr>\n",
       "  </thead>\n",
       "  <tbody>\n",
       "    <tr>\n",
       "      <th>0</th>\n",
       "      <td>5.1</td>\n",
       "      <td>3.5</td>\n",
       "      <td>1.4</td>\n",
       "      <td>0.2</td>\n",
       "      <td>Iris-setosa</td>\n",
       "    </tr>\n",
       "    <tr>\n",
       "      <th>1</th>\n",
       "      <td>4.9</td>\n",
       "      <td>3.0</td>\n",
       "      <td>1.4</td>\n",
       "      <td>0.2</td>\n",
       "      <td>Iris-setosa</td>\n",
       "    </tr>\n",
       "    <tr>\n",
       "      <th>2</th>\n",
       "      <td>4.7</td>\n",
       "      <td>3.2</td>\n",
       "      <td>1.3</td>\n",
       "      <td>0.2</td>\n",
       "      <td>Iris-setosa</td>\n",
       "    </tr>\n",
       "    <tr>\n",
       "      <th>3</th>\n",
       "      <td>4.6</td>\n",
       "      <td>3.1</td>\n",
       "      <td>1.5</td>\n",
       "      <td>0.2</td>\n",
       "      <td>Iris-setosa</td>\n",
       "    </tr>\n",
       "    <tr>\n",
       "      <th>4</th>\n",
       "      <td>5.0</td>\n",
       "      <td>3.6</td>\n",
       "      <td>1.4</td>\n",
       "      <td>0.2</td>\n",
       "      <td>Iris-setosa</td>\n",
       "    </tr>\n",
       "  </tbody>\n",
       "</table>\n",
       "</div>"
      ],
      "text/plain": [
       "   sepal_length  sepal_width  petal_length  petal_width      species\n",
       "0           5.1          3.5           1.4          0.2  Iris-setosa\n",
       "1           4.9          3.0           1.4          0.2  Iris-setosa\n",
       "2           4.7          3.2           1.3          0.2  Iris-setosa\n",
       "3           4.6          3.1           1.5          0.2  Iris-setosa\n",
       "4           5.0          3.6           1.4          0.2  Iris-setosa"
      ]
     },
     "metadata": {},
     "output_type": "display_data"
    },
    {
     "name": "stdout",
     "output_type": "stream",
     "text": [
      "     sepal_length  sepal_width  petal_length  petal_width\n",
      "0             5.1          3.5           1.4          0.2\n",
      "1             4.9          3.0           1.4          0.2\n",
      "2             4.7          3.2           1.3          0.2\n",
      "3             4.6          3.1           1.5          0.2\n",
      "4             5.0          3.6           1.4          0.2\n",
      "..            ...          ...           ...          ...\n",
      "145           6.7          3.0           5.2          2.3\n",
      "146           6.3          2.5           5.0          1.9\n",
      "147           6.5          3.0           5.2          2.0\n",
      "148           6.2          3.4           5.4          2.3\n",
      "149           5.9          3.0           5.1          1.8\n",
      "\n",
      "[150 rows x 4 columns]\n"
     ]
    }
   ],
   "source": [
    "from pycaret.datasets import get_data\n",
    "from pycaret.clustering import *\n",
    "data = get_data('iris')\n",
    "data = data.drop('species', axis=1)\n",
    "print(data)"
   ]
  },
  {
   "cell_type": "markdown",
   "metadata": {},
   "source": [
    "USING THREE MODELS K MEANS,HEIRARCHICAL AND BIRCH"
   ]
  },
  {
   "cell_type": "code",
   "execution_count": 2,
   "metadata": {},
   "outputs": [],
   "source": [
    "\n",
    "models = ['kmeans', 'hierarchical', 'birch']\n",
    "clusters = [3, 4, 5]"
   ]
  },
  {
   "cell_type": "markdown",
   "metadata": {},
   "source": [
    "NO PREPROCESSING"
   ]
  },
  {
   "cell_type": "code",
   "execution_count": 3,
   "metadata": {},
   "outputs": [
    {
     "data": {
      "text/html": [
       "<style type=\"text/css\">\n",
       "</style>\n",
       "<table id=\"T_16d44\">\n",
       "  <thead>\n",
       "    <tr>\n",
       "      <th class=\"blank level0\" >&nbsp;</th>\n",
       "      <th id=\"T_16d44_level0_col0\" class=\"col_heading level0 col0\" >Description</th>\n",
       "      <th id=\"T_16d44_level0_col1\" class=\"col_heading level0 col1\" >Value</th>\n",
       "    </tr>\n",
       "  </thead>\n",
       "  <tbody>\n",
       "    <tr>\n",
       "      <th id=\"T_16d44_level0_row0\" class=\"row_heading level0 row0\" >0</th>\n",
       "      <td id=\"T_16d44_row0_col0\" class=\"data row0 col0\" >Session id</td>\n",
       "      <td id=\"T_16d44_row0_col1\" class=\"data row0 col1\" >2</td>\n",
       "    </tr>\n",
       "    <tr>\n",
       "      <th id=\"T_16d44_level0_row1\" class=\"row_heading level0 row1\" >1</th>\n",
       "      <td id=\"T_16d44_row1_col0\" class=\"data row1 col0\" >Original data shape</td>\n",
       "      <td id=\"T_16d44_row1_col1\" class=\"data row1 col1\" >(150, 4)</td>\n",
       "    </tr>\n",
       "    <tr>\n",
       "      <th id=\"T_16d44_level0_row2\" class=\"row_heading level0 row2\" >2</th>\n",
       "      <td id=\"T_16d44_row2_col0\" class=\"data row2 col0\" >Transformed data shape</td>\n",
       "      <td id=\"T_16d44_row2_col1\" class=\"data row2 col1\" >(150, 4)</td>\n",
       "    </tr>\n",
       "    <tr>\n",
       "      <th id=\"T_16d44_level0_row3\" class=\"row_heading level0 row3\" >3</th>\n",
       "      <td id=\"T_16d44_row3_col0\" class=\"data row3 col0\" >Numeric features</td>\n",
       "      <td id=\"T_16d44_row3_col1\" class=\"data row3 col1\" >4</td>\n",
       "    </tr>\n",
       "  </tbody>\n",
       "</table>\n"
      ],
      "text/plain": [
       "<pandas.io.formats.style.Styler at 0x2b11e54c4c0>"
      ]
     },
     "metadata": {},
     "output_type": "display_data"
    },
    {
     "data": {
      "text/html": [],
      "text/plain": [
       "<IPython.core.display.HTML object>"
      ]
     },
     "metadata": {},
     "output_type": "display_data"
    },
    {
     "data": {
      "text/html": [
       "<style type=\"text/css\">\n",
       "</style>\n",
       "<table id=\"T_e7843\">\n",
       "  <thead>\n",
       "    <tr>\n",
       "      <th class=\"blank level0\" >&nbsp;</th>\n",
       "      <th id=\"T_e7843_level0_col0\" class=\"col_heading level0 col0\" >Silhouette</th>\n",
       "      <th id=\"T_e7843_level0_col1\" class=\"col_heading level0 col1\" >Calinski-Harabasz</th>\n",
       "      <th id=\"T_e7843_level0_col2\" class=\"col_heading level0 col2\" >Davies-Bouldin</th>\n",
       "      <th id=\"T_e7843_level0_col3\" class=\"col_heading level0 col3\" >Homogeneity</th>\n",
       "      <th id=\"T_e7843_level0_col4\" class=\"col_heading level0 col4\" >Rand Index</th>\n",
       "      <th id=\"T_e7843_level0_col5\" class=\"col_heading level0 col5\" >Completeness</th>\n",
       "    </tr>\n",
       "  </thead>\n",
       "  <tbody>\n",
       "    <tr>\n",
       "      <th id=\"T_e7843_level0_row0\" class=\"row_heading level0 row0\" >0</th>\n",
       "      <td id=\"T_e7843_row0_col0\" class=\"data row0 col0\" >0.5526</td>\n",
       "      <td id=\"T_e7843_row0_col1\" class=\"data row0 col1\" >560.3999</td>\n",
       "      <td id=\"T_e7843_row0_col2\" class=\"data row0 col2\" >0.6623</td>\n",
       "      <td id=\"T_e7843_row0_col3\" class=\"data row0 col3\" >0</td>\n",
       "      <td id=\"T_e7843_row0_col4\" class=\"data row0 col4\" >0</td>\n",
       "      <td id=\"T_e7843_row0_col5\" class=\"data row0 col5\" >0</td>\n",
       "    </tr>\n",
       "  </tbody>\n",
       "</table>\n"
      ],
      "text/plain": [
       "<pandas.io.formats.style.Styler at 0x2b11e43b010>"
      ]
     },
     "metadata": {},
     "output_type": "display_data"
    },
    {
     "data": {
      "text/html": [],
      "text/plain": [
       "<IPython.core.display.HTML object>"
      ]
     },
     "metadata": {},
     "output_type": "display_data"
    },
    {
     "name": "stdout",
     "output_type": "stream",
     "text": [
      "For kmeans with 3 clusters without PreProcessing\n"
     ]
    },
    {
     "data": {
      "application/vnd.jupyter.widget-view+json": {
       "model_id": "f3ae796f564f48949a94a687be09f6f1",
       "version_major": 2,
       "version_minor": 0
      },
      "text/plain": [
       "interactive(children=(ToggleButtons(description='Plot Type:', icons=('',), options=(('Pipeline Plot', 'pipelin…"
      ]
     },
     "metadata": {},
     "output_type": "display_data"
    },
    {
     "data": {
      "text/html": [
       "<style type=\"text/css\">\n",
       "</style>\n",
       "<table id=\"T_1c443\">\n",
       "  <thead>\n",
       "    <tr>\n",
       "      <th class=\"blank level0\" >&nbsp;</th>\n",
       "      <th id=\"T_1c443_level0_col0\" class=\"col_heading level0 col0\" >Description</th>\n",
       "      <th id=\"T_1c443_level0_col1\" class=\"col_heading level0 col1\" >Value</th>\n",
       "    </tr>\n",
       "  </thead>\n",
       "  <tbody>\n",
       "    <tr>\n",
       "      <th id=\"T_1c443_level0_row0\" class=\"row_heading level0 row0\" >0</th>\n",
       "      <td id=\"T_1c443_row0_col0\" class=\"data row0 col0\" >Session id</td>\n",
       "      <td id=\"T_1c443_row0_col1\" class=\"data row0 col1\" >2</td>\n",
       "    </tr>\n",
       "    <tr>\n",
       "      <th id=\"T_1c443_level0_row1\" class=\"row_heading level0 row1\" >1</th>\n",
       "      <td id=\"T_1c443_row1_col0\" class=\"data row1 col0\" >Original data shape</td>\n",
       "      <td id=\"T_1c443_row1_col1\" class=\"data row1 col1\" >(150, 4)</td>\n",
       "    </tr>\n",
       "    <tr>\n",
       "      <th id=\"T_1c443_level0_row2\" class=\"row_heading level0 row2\" >2</th>\n",
       "      <td id=\"T_1c443_row2_col0\" class=\"data row2 col0\" >Transformed data shape</td>\n",
       "      <td id=\"T_1c443_row2_col1\" class=\"data row2 col1\" >(150, 4)</td>\n",
       "    </tr>\n",
       "    <tr>\n",
       "      <th id=\"T_1c443_level0_row3\" class=\"row_heading level0 row3\" >3</th>\n",
       "      <td id=\"T_1c443_row3_col0\" class=\"data row3 col0\" >Numeric features</td>\n",
       "      <td id=\"T_1c443_row3_col1\" class=\"data row3 col1\" >4</td>\n",
       "    </tr>\n",
       "  </tbody>\n",
       "</table>\n"
      ],
      "text/plain": [
       "<pandas.io.formats.style.Styler at 0x2b11e66f280>"
      ]
     },
     "metadata": {},
     "output_type": "display_data"
    },
    {
     "data": {
      "text/html": [],
      "text/plain": [
       "<IPython.core.display.HTML object>"
      ]
     },
     "metadata": {},
     "output_type": "display_data"
    },
    {
     "data": {
      "text/html": [
       "<style type=\"text/css\">\n",
       "</style>\n",
       "<table id=\"T_d741d\">\n",
       "  <thead>\n",
       "    <tr>\n",
       "      <th class=\"blank level0\" >&nbsp;</th>\n",
       "      <th id=\"T_d741d_level0_col0\" class=\"col_heading level0 col0\" >Silhouette</th>\n",
       "      <th id=\"T_d741d_level0_col1\" class=\"col_heading level0 col1\" >Calinski-Harabasz</th>\n",
       "      <th id=\"T_d741d_level0_col2\" class=\"col_heading level0 col2\" >Davies-Bouldin</th>\n",
       "      <th id=\"T_d741d_level0_col3\" class=\"col_heading level0 col3\" >Homogeneity</th>\n",
       "      <th id=\"T_d741d_level0_col4\" class=\"col_heading level0 col4\" >Rand Index</th>\n",
       "      <th id=\"T_d741d_level0_col5\" class=\"col_heading level0 col5\" >Completeness</th>\n",
       "    </tr>\n",
       "  </thead>\n",
       "  <tbody>\n",
       "    <tr>\n",
       "      <th id=\"T_d741d_level0_row0\" class=\"row_heading level0 row0\" >0</th>\n",
       "      <td id=\"T_d741d_row0_col0\" class=\"data row0 col0\" >0.4972</td>\n",
       "      <td id=\"T_d741d_row0_col1\" class=\"data row0 col1\" >529.1207</td>\n",
       "      <td id=\"T_d741d_row0_col2\" class=\"data row0 col2\" >0.7760</td>\n",
       "      <td id=\"T_d741d_row0_col3\" class=\"data row0 col3\" >0</td>\n",
       "      <td id=\"T_d741d_row0_col4\" class=\"data row0 col4\" >0</td>\n",
       "      <td id=\"T_d741d_row0_col5\" class=\"data row0 col5\" >0</td>\n",
       "    </tr>\n",
       "  </tbody>\n",
       "</table>\n"
      ],
      "text/plain": [
       "<pandas.io.formats.style.Styler at 0x2b11e54df60>"
      ]
     },
     "metadata": {},
     "output_type": "display_data"
    },
    {
     "data": {
      "text/html": [],
      "text/plain": [
       "<IPython.core.display.HTML object>"
      ]
     },
     "metadata": {},
     "output_type": "display_data"
    },
    {
     "name": "stdout",
     "output_type": "stream",
     "text": [
      "For kmeans with 4 clusters without PreProcessing\n"
     ]
    },
    {
     "data": {
      "application/vnd.jupyter.widget-view+json": {
       "model_id": "ae0b43d925594dc99ae6e09b166b6055",
       "version_major": 2,
       "version_minor": 0
      },
      "text/plain": [
       "interactive(children=(ToggleButtons(description='Plot Type:', icons=('',), options=(('Pipeline Plot', 'pipelin…"
      ]
     },
     "metadata": {},
     "output_type": "display_data"
    },
    {
     "data": {
      "text/html": [
       "<style type=\"text/css\">\n",
       "</style>\n",
       "<table id=\"T_4a925\">\n",
       "  <thead>\n",
       "    <tr>\n",
       "      <th class=\"blank level0\" >&nbsp;</th>\n",
       "      <th id=\"T_4a925_level0_col0\" class=\"col_heading level0 col0\" >Description</th>\n",
       "      <th id=\"T_4a925_level0_col1\" class=\"col_heading level0 col1\" >Value</th>\n",
       "    </tr>\n",
       "  </thead>\n",
       "  <tbody>\n",
       "    <tr>\n",
       "      <th id=\"T_4a925_level0_row0\" class=\"row_heading level0 row0\" >0</th>\n",
       "      <td id=\"T_4a925_row0_col0\" class=\"data row0 col0\" >Session id</td>\n",
       "      <td id=\"T_4a925_row0_col1\" class=\"data row0 col1\" >2</td>\n",
       "    </tr>\n",
       "    <tr>\n",
       "      <th id=\"T_4a925_level0_row1\" class=\"row_heading level0 row1\" >1</th>\n",
       "      <td id=\"T_4a925_row1_col0\" class=\"data row1 col0\" >Original data shape</td>\n",
       "      <td id=\"T_4a925_row1_col1\" class=\"data row1 col1\" >(150, 4)</td>\n",
       "    </tr>\n",
       "    <tr>\n",
       "      <th id=\"T_4a925_level0_row2\" class=\"row_heading level0 row2\" >2</th>\n",
       "      <td id=\"T_4a925_row2_col0\" class=\"data row2 col0\" >Transformed data shape</td>\n",
       "      <td id=\"T_4a925_row2_col1\" class=\"data row2 col1\" >(150, 4)</td>\n",
       "    </tr>\n",
       "    <tr>\n",
       "      <th id=\"T_4a925_level0_row3\" class=\"row_heading level0 row3\" >3</th>\n",
       "      <td id=\"T_4a925_row3_col0\" class=\"data row3 col0\" >Numeric features</td>\n",
       "      <td id=\"T_4a925_row3_col1\" class=\"data row3 col1\" >4</td>\n",
       "    </tr>\n",
       "  </tbody>\n",
       "</table>\n"
      ],
      "text/plain": [
       "<pandas.io.formats.style.Styler at 0x2b11e66ff10>"
      ]
     },
     "metadata": {},
     "output_type": "display_data"
    },
    {
     "data": {
      "text/html": [],
      "text/plain": [
       "<IPython.core.display.HTML object>"
      ]
     },
     "metadata": {},
     "output_type": "display_data"
    },
    {
     "data": {
      "text/html": [
       "<style type=\"text/css\">\n",
       "</style>\n",
       "<table id=\"T_dbe83\">\n",
       "  <thead>\n",
       "    <tr>\n",
       "      <th class=\"blank level0\" >&nbsp;</th>\n",
       "      <th id=\"T_dbe83_level0_col0\" class=\"col_heading level0 col0\" >Silhouette</th>\n",
       "      <th id=\"T_dbe83_level0_col1\" class=\"col_heading level0 col1\" >Calinski-Harabasz</th>\n",
       "      <th id=\"T_dbe83_level0_col2\" class=\"col_heading level0 col2\" >Davies-Bouldin</th>\n",
       "      <th id=\"T_dbe83_level0_col3\" class=\"col_heading level0 col3\" >Homogeneity</th>\n",
       "      <th id=\"T_dbe83_level0_col4\" class=\"col_heading level0 col4\" >Rand Index</th>\n",
       "      <th id=\"T_dbe83_level0_col5\" class=\"col_heading level0 col5\" >Completeness</th>\n",
       "    </tr>\n",
       "  </thead>\n",
       "  <tbody>\n",
       "    <tr>\n",
       "      <th id=\"T_dbe83_level0_row0\" class=\"row_heading level0 row0\" >0</th>\n",
       "      <td id=\"T_dbe83_row0_col0\" class=\"data row0 col0\" >0.4885</td>\n",
       "      <td id=\"T_dbe83_row0_col1\" class=\"data row0 col1\" >494.0944</td>\n",
       "      <td id=\"T_dbe83_row0_col2\" class=\"data row0 col2\" >0.8062</td>\n",
       "      <td id=\"T_dbe83_row0_col3\" class=\"data row0 col3\" >0</td>\n",
       "      <td id=\"T_dbe83_row0_col4\" class=\"data row0 col4\" >0</td>\n",
       "      <td id=\"T_dbe83_row0_col5\" class=\"data row0 col5\" >0</td>\n",
       "    </tr>\n",
       "  </tbody>\n",
       "</table>\n"
      ],
      "text/plain": [
       "<pandas.io.formats.style.Styler at 0x2b11e516f20>"
      ]
     },
     "metadata": {},
     "output_type": "display_data"
    },
    {
     "data": {
      "text/html": [],
      "text/plain": [
       "<IPython.core.display.HTML object>"
      ]
     },
     "metadata": {},
     "output_type": "display_data"
    },
    {
     "name": "stdout",
     "output_type": "stream",
     "text": [
      "For kmeans with 5 clusters without PreProcessing\n"
     ]
    },
    {
     "data": {
      "application/vnd.jupyter.widget-view+json": {
       "model_id": "6f083af453764751a04d68f98da45c05",
       "version_major": 2,
       "version_minor": 0
      },
      "text/plain": [
       "interactive(children=(ToggleButtons(description='Plot Type:', icons=('',), options=(('Pipeline Plot', 'pipelin…"
      ]
     },
     "metadata": {},
     "output_type": "display_data"
    },
    {
     "data": {
      "text/html": [
       "<style type=\"text/css\">\n",
       "</style>\n",
       "<table id=\"T_764d5\">\n",
       "  <thead>\n",
       "    <tr>\n",
       "      <th class=\"blank level0\" >&nbsp;</th>\n",
       "      <th id=\"T_764d5_level0_col0\" class=\"col_heading level0 col0\" >Description</th>\n",
       "      <th id=\"T_764d5_level0_col1\" class=\"col_heading level0 col1\" >Value</th>\n",
       "    </tr>\n",
       "  </thead>\n",
       "  <tbody>\n",
       "    <tr>\n",
       "      <th id=\"T_764d5_level0_row0\" class=\"row_heading level0 row0\" >0</th>\n",
       "      <td id=\"T_764d5_row0_col0\" class=\"data row0 col0\" >Session id</td>\n",
       "      <td id=\"T_764d5_row0_col1\" class=\"data row0 col1\" >2</td>\n",
       "    </tr>\n",
       "    <tr>\n",
       "      <th id=\"T_764d5_level0_row1\" class=\"row_heading level0 row1\" >1</th>\n",
       "      <td id=\"T_764d5_row1_col0\" class=\"data row1 col0\" >Original data shape</td>\n",
       "      <td id=\"T_764d5_row1_col1\" class=\"data row1 col1\" >(150, 4)</td>\n",
       "    </tr>\n",
       "    <tr>\n",
       "      <th id=\"T_764d5_level0_row2\" class=\"row_heading level0 row2\" >2</th>\n",
       "      <td id=\"T_764d5_row2_col0\" class=\"data row2 col0\" >Transformed data shape</td>\n",
       "      <td id=\"T_764d5_row2_col1\" class=\"data row2 col1\" >(150, 4)</td>\n",
       "    </tr>\n",
       "    <tr>\n",
       "      <th id=\"T_764d5_level0_row3\" class=\"row_heading level0 row3\" >3</th>\n",
       "      <td id=\"T_764d5_row3_col0\" class=\"data row3 col0\" >Numeric features</td>\n",
       "      <td id=\"T_764d5_row3_col1\" class=\"data row3 col1\" >4</td>\n",
       "    </tr>\n",
       "  </tbody>\n",
       "</table>\n"
      ],
      "text/plain": [
       "<pandas.io.formats.style.Styler at 0x2b11e6b38e0>"
      ]
     },
     "metadata": {},
     "output_type": "display_data"
    },
    {
     "data": {
      "text/html": [],
      "text/plain": [
       "<IPython.core.display.HTML object>"
      ]
     },
     "metadata": {},
     "output_type": "display_data"
    },
    {
     "data": {
      "text/html": [
       "<style type=\"text/css\">\n",
       "</style>\n",
       "<table id=\"T_22aaf\">\n",
       "  <thead>\n",
       "    <tr>\n",
       "      <th class=\"blank level0\" >&nbsp;</th>\n",
       "      <th id=\"T_22aaf_level0_col0\" class=\"col_heading level0 col0\" >Silhouette</th>\n",
       "      <th id=\"T_22aaf_level0_col1\" class=\"col_heading level0 col1\" >Calinski-Harabasz</th>\n",
       "      <th id=\"T_22aaf_level0_col2\" class=\"col_heading level0 col2\" >Davies-Bouldin</th>\n",
       "      <th id=\"T_22aaf_level0_col3\" class=\"col_heading level0 col3\" >Homogeneity</th>\n",
       "      <th id=\"T_22aaf_level0_col4\" class=\"col_heading level0 col4\" >Rand Index</th>\n",
       "      <th id=\"T_22aaf_level0_col5\" class=\"col_heading level0 col5\" >Completeness</th>\n",
       "    </tr>\n",
       "  </thead>\n",
       "  <tbody>\n",
       "    <tr>\n",
       "      <th id=\"T_22aaf_level0_row0\" class=\"row_heading level0 row0\" >0</th>\n",
       "      <td id=\"T_22aaf_row0_col0\" class=\"data row0 col0\" >0.5541</td>\n",
       "      <td id=\"T_22aaf_row0_col1\" class=\"data row0 col1\" >556.8410</td>\n",
       "      <td id=\"T_22aaf_row0_col2\" class=\"data row0 col2\" >0.6566</td>\n",
       "      <td id=\"T_22aaf_row0_col3\" class=\"data row0 col3\" >0</td>\n",
       "      <td id=\"T_22aaf_row0_col4\" class=\"data row0 col4\" >0</td>\n",
       "      <td id=\"T_22aaf_row0_col5\" class=\"data row0 col5\" >0</td>\n",
       "    </tr>\n",
       "  </tbody>\n",
       "</table>\n"
      ],
      "text/plain": [
       "<pandas.io.formats.style.Styler at 0x2b11e6b1270>"
      ]
     },
     "metadata": {},
     "output_type": "display_data"
    },
    {
     "data": {
      "text/html": [],
      "text/plain": [
       "<IPython.core.display.HTML object>"
      ]
     },
     "metadata": {},
     "output_type": "display_data"
    },
    {
     "name": "stdout",
     "output_type": "stream",
     "text": [
      "For hierarchical with 3 clusters without PreProcessing\n"
     ]
    },
    {
     "data": {
      "application/vnd.jupyter.widget-view+json": {
       "model_id": "dea077ce7ad1450ebe36cb1e6fe8f00c",
       "version_major": 2,
       "version_minor": 0
      },
      "text/plain": [
       "interactive(children=(ToggleButtons(description='Plot Type:', icons=('',), options=(('Pipeline Plot', 'pipelin…"
      ]
     },
     "metadata": {},
     "output_type": "display_data"
    },
    {
     "data": {
      "text/html": [
       "<style type=\"text/css\">\n",
       "</style>\n",
       "<table id=\"T_69d6e\">\n",
       "  <thead>\n",
       "    <tr>\n",
       "      <th class=\"blank level0\" >&nbsp;</th>\n",
       "      <th id=\"T_69d6e_level0_col0\" class=\"col_heading level0 col0\" >Description</th>\n",
       "      <th id=\"T_69d6e_level0_col1\" class=\"col_heading level0 col1\" >Value</th>\n",
       "    </tr>\n",
       "  </thead>\n",
       "  <tbody>\n",
       "    <tr>\n",
       "      <th id=\"T_69d6e_level0_row0\" class=\"row_heading level0 row0\" >0</th>\n",
       "      <td id=\"T_69d6e_row0_col0\" class=\"data row0 col0\" >Session id</td>\n",
       "      <td id=\"T_69d6e_row0_col1\" class=\"data row0 col1\" >2</td>\n",
       "    </tr>\n",
       "    <tr>\n",
       "      <th id=\"T_69d6e_level0_row1\" class=\"row_heading level0 row1\" >1</th>\n",
       "      <td id=\"T_69d6e_row1_col0\" class=\"data row1 col0\" >Original data shape</td>\n",
       "      <td id=\"T_69d6e_row1_col1\" class=\"data row1 col1\" >(150, 4)</td>\n",
       "    </tr>\n",
       "    <tr>\n",
       "      <th id=\"T_69d6e_level0_row2\" class=\"row_heading level0 row2\" >2</th>\n",
       "      <td id=\"T_69d6e_row2_col0\" class=\"data row2 col0\" >Transformed data shape</td>\n",
       "      <td id=\"T_69d6e_row2_col1\" class=\"data row2 col1\" >(150, 4)</td>\n",
       "    </tr>\n",
       "    <tr>\n",
       "      <th id=\"T_69d6e_level0_row3\" class=\"row_heading level0 row3\" >3</th>\n",
       "      <td id=\"T_69d6e_row3_col0\" class=\"data row3 col0\" >Numeric features</td>\n",
       "      <td id=\"T_69d6e_row3_col1\" class=\"data row3 col1\" >4</td>\n",
       "    </tr>\n",
       "  </tbody>\n",
       "</table>\n"
      ],
      "text/plain": [
       "<pandas.io.formats.style.Styler at 0x2b11e6b3220>"
      ]
     },
     "metadata": {},
     "output_type": "display_data"
    },
    {
     "data": {
      "text/html": [],
      "text/plain": [
       "<IPython.core.display.HTML object>"
      ]
     },
     "metadata": {},
     "output_type": "display_data"
    },
    {
     "data": {
      "text/html": [
       "<style type=\"text/css\">\n",
       "</style>\n",
       "<table id=\"T_f0d4f\">\n",
       "  <thead>\n",
       "    <tr>\n",
       "      <th class=\"blank level0\" >&nbsp;</th>\n",
       "      <th id=\"T_f0d4f_level0_col0\" class=\"col_heading level0 col0\" >Silhouette</th>\n",
       "      <th id=\"T_f0d4f_level0_col1\" class=\"col_heading level0 col1\" >Calinski-Harabasz</th>\n",
       "      <th id=\"T_f0d4f_level0_col2\" class=\"col_heading level0 col2\" >Davies-Bouldin</th>\n",
       "      <th id=\"T_f0d4f_level0_col3\" class=\"col_heading level0 col3\" >Homogeneity</th>\n",
       "      <th id=\"T_f0d4f_level0_col4\" class=\"col_heading level0 col4\" >Rand Index</th>\n",
       "      <th id=\"T_f0d4f_level0_col5\" class=\"col_heading level0 col5\" >Completeness</th>\n",
       "    </tr>\n",
       "  </thead>\n",
       "  <tbody>\n",
       "    <tr>\n",
       "      <th id=\"T_f0d4f_level0_row0\" class=\"row_heading level0 row0\" >0</th>\n",
       "      <td id=\"T_f0d4f_row0_col0\" class=\"data row0 col0\" >0.4887</td>\n",
       "      <td id=\"T_f0d4f_row0_col1\" class=\"data row0 col1\" >513.7721</td>\n",
       "      <td id=\"T_f0d4f_row0_col2\" class=\"data row0 col2\" >0.7956</td>\n",
       "      <td id=\"T_f0d4f_row0_col3\" class=\"data row0 col3\" >0</td>\n",
       "      <td id=\"T_f0d4f_row0_col4\" class=\"data row0 col4\" >0</td>\n",
       "      <td id=\"T_f0d4f_row0_col5\" class=\"data row0 col5\" >0</td>\n",
       "    </tr>\n",
       "  </tbody>\n",
       "</table>\n"
      ],
      "text/plain": [
       "<pandas.io.formats.style.Styler at 0x2b11e66f5e0>"
      ]
     },
     "metadata": {},
     "output_type": "display_data"
    },
    {
     "data": {
      "text/html": [],
      "text/plain": [
       "<IPython.core.display.HTML object>"
      ]
     },
     "metadata": {},
     "output_type": "display_data"
    },
    {
     "name": "stdout",
     "output_type": "stream",
     "text": [
      "For hierarchical with 4 clusters without PreProcessing\n"
     ]
    },
    {
     "data": {
      "application/vnd.jupyter.widget-view+json": {
       "model_id": "19470888a034491eab1c725fd24631f5",
       "version_major": 2,
       "version_minor": 0
      },
      "text/plain": [
       "interactive(children=(ToggleButtons(description='Plot Type:', icons=('',), options=(('Pipeline Plot', 'pipelin…"
      ]
     },
     "metadata": {},
     "output_type": "display_data"
    },
    {
     "data": {
      "text/html": [
       "<style type=\"text/css\">\n",
       "</style>\n",
       "<table id=\"T_6b833\">\n",
       "  <thead>\n",
       "    <tr>\n",
       "      <th class=\"blank level0\" >&nbsp;</th>\n",
       "      <th id=\"T_6b833_level0_col0\" class=\"col_heading level0 col0\" >Description</th>\n",
       "      <th id=\"T_6b833_level0_col1\" class=\"col_heading level0 col1\" >Value</th>\n",
       "    </tr>\n",
       "  </thead>\n",
       "  <tbody>\n",
       "    <tr>\n",
       "      <th id=\"T_6b833_level0_row0\" class=\"row_heading level0 row0\" >0</th>\n",
       "      <td id=\"T_6b833_row0_col0\" class=\"data row0 col0\" >Session id</td>\n",
       "      <td id=\"T_6b833_row0_col1\" class=\"data row0 col1\" >2</td>\n",
       "    </tr>\n",
       "    <tr>\n",
       "      <th id=\"T_6b833_level0_row1\" class=\"row_heading level0 row1\" >1</th>\n",
       "      <td id=\"T_6b833_row1_col0\" class=\"data row1 col0\" >Original data shape</td>\n",
       "      <td id=\"T_6b833_row1_col1\" class=\"data row1 col1\" >(150, 4)</td>\n",
       "    </tr>\n",
       "    <tr>\n",
       "      <th id=\"T_6b833_level0_row2\" class=\"row_heading level0 row2\" >2</th>\n",
       "      <td id=\"T_6b833_row2_col0\" class=\"data row2 col0\" >Transformed data shape</td>\n",
       "      <td id=\"T_6b833_row2_col1\" class=\"data row2 col1\" >(150, 4)</td>\n",
       "    </tr>\n",
       "    <tr>\n",
       "      <th id=\"T_6b833_level0_row3\" class=\"row_heading level0 row3\" >3</th>\n",
       "      <td id=\"T_6b833_row3_col0\" class=\"data row3 col0\" >Numeric features</td>\n",
       "      <td id=\"T_6b833_row3_col1\" class=\"data row3 col1\" >4</td>\n",
       "    </tr>\n",
       "  </tbody>\n",
       "</table>\n"
      ],
      "text/plain": [
       "<pandas.io.formats.style.Styler at 0x2b11e772980>"
      ]
     },
     "metadata": {},
     "output_type": "display_data"
    },
    {
     "data": {
      "text/html": [],
      "text/plain": [
       "<IPython.core.display.HTML object>"
      ]
     },
     "metadata": {},
     "output_type": "display_data"
    },
    {
     "data": {
      "text/html": [
       "<style type=\"text/css\">\n",
       "</style>\n",
       "<table id=\"T_f5ced\">\n",
       "  <thead>\n",
       "    <tr>\n",
       "      <th class=\"blank level0\" >&nbsp;</th>\n",
       "      <th id=\"T_f5ced_level0_col0\" class=\"col_heading level0 col0\" >Silhouette</th>\n",
       "      <th id=\"T_f5ced_level0_col1\" class=\"col_heading level0 col1\" >Calinski-Harabasz</th>\n",
       "      <th id=\"T_f5ced_level0_col2\" class=\"col_heading level0 col2\" >Davies-Bouldin</th>\n",
       "      <th id=\"T_f5ced_level0_col3\" class=\"col_heading level0 col3\" >Homogeneity</th>\n",
       "      <th id=\"T_f5ced_level0_col4\" class=\"col_heading level0 col4\" >Rand Index</th>\n",
       "      <th id=\"T_f5ced_level0_col5\" class=\"col_heading level0 col5\" >Completeness</th>\n",
       "    </tr>\n",
       "  </thead>\n",
       "  <tbody>\n",
       "    <tr>\n",
       "      <th id=\"T_f5ced_level0_row0\" class=\"row_heading level0 row0\" >0</th>\n",
       "      <td id=\"T_f5ced_row0_col0\" class=\"data row0 col0\" >0.4842</td>\n",
       "      <td id=\"T_f5ced_row0_col1\" class=\"data row0 col1\" >487.0704</td>\n",
       "      <td id=\"T_f5ced_row0_col2\" class=\"data row0 col2\" >0.8207</td>\n",
       "      <td id=\"T_f5ced_row0_col3\" class=\"data row0 col3\" >0</td>\n",
       "      <td id=\"T_f5ced_row0_col4\" class=\"data row0 col4\" >0</td>\n",
       "      <td id=\"T_f5ced_row0_col5\" class=\"data row0 col5\" >0</td>\n",
       "    </tr>\n",
       "  </tbody>\n",
       "</table>\n"
      ],
      "text/plain": [
       "<pandas.io.formats.style.Styler at 0x2b11e773340>"
      ]
     },
     "metadata": {},
     "output_type": "display_data"
    },
    {
     "data": {
      "text/html": [],
      "text/plain": [
       "<IPython.core.display.HTML object>"
      ]
     },
     "metadata": {},
     "output_type": "display_data"
    },
    {
     "name": "stdout",
     "output_type": "stream",
     "text": [
      "For hierarchical with 5 clusters without PreProcessing\n"
     ]
    },
    {
     "data": {
      "application/vnd.jupyter.widget-view+json": {
       "model_id": "de56408a7935451a9a99d98664858551",
       "version_major": 2,
       "version_minor": 0
      },
      "text/plain": [
       "interactive(children=(ToggleButtons(description='Plot Type:', icons=('',), options=(('Pipeline Plot', 'pipelin…"
      ]
     },
     "metadata": {},
     "output_type": "display_data"
    },
    {
     "data": {
      "text/html": [
       "<style type=\"text/css\">\n",
       "</style>\n",
       "<table id=\"T_c717a\">\n",
       "  <thead>\n",
       "    <tr>\n",
       "      <th class=\"blank level0\" >&nbsp;</th>\n",
       "      <th id=\"T_c717a_level0_col0\" class=\"col_heading level0 col0\" >Description</th>\n",
       "      <th id=\"T_c717a_level0_col1\" class=\"col_heading level0 col1\" >Value</th>\n",
       "    </tr>\n",
       "  </thead>\n",
       "  <tbody>\n",
       "    <tr>\n",
       "      <th id=\"T_c717a_level0_row0\" class=\"row_heading level0 row0\" >0</th>\n",
       "      <td id=\"T_c717a_row0_col0\" class=\"data row0 col0\" >Session id</td>\n",
       "      <td id=\"T_c717a_row0_col1\" class=\"data row0 col1\" >2</td>\n",
       "    </tr>\n",
       "    <tr>\n",
       "      <th id=\"T_c717a_level0_row1\" class=\"row_heading level0 row1\" >1</th>\n",
       "      <td id=\"T_c717a_row1_col0\" class=\"data row1 col0\" >Original data shape</td>\n",
       "      <td id=\"T_c717a_row1_col1\" class=\"data row1 col1\" >(150, 4)</td>\n",
       "    </tr>\n",
       "    <tr>\n",
       "      <th id=\"T_c717a_level0_row2\" class=\"row_heading level0 row2\" >2</th>\n",
       "      <td id=\"T_c717a_row2_col0\" class=\"data row2 col0\" >Transformed data shape</td>\n",
       "      <td id=\"T_c717a_row2_col1\" class=\"data row2 col1\" >(150, 4)</td>\n",
       "    </tr>\n",
       "    <tr>\n",
       "      <th id=\"T_c717a_level0_row3\" class=\"row_heading level0 row3\" >3</th>\n",
       "      <td id=\"T_c717a_row3_col0\" class=\"data row3 col0\" >Numeric features</td>\n",
       "      <td id=\"T_c717a_row3_col1\" class=\"data row3 col1\" >4</td>\n",
       "    </tr>\n",
       "  </tbody>\n",
       "</table>\n"
      ],
      "text/plain": [
       "<pandas.io.formats.style.Styler at 0x2b11e7de260>"
      ]
     },
     "metadata": {},
     "output_type": "display_data"
    },
    {
     "data": {
      "text/html": [],
      "text/plain": [
       "<IPython.core.display.HTML object>"
      ]
     },
     "metadata": {},
     "output_type": "display_data"
    },
    {
     "data": {
      "text/html": [
       "<style type=\"text/css\">\n",
       "</style>\n",
       "<table id=\"T_ee143\">\n",
       "  <thead>\n",
       "    <tr>\n",
       "      <th class=\"blank level0\" >&nbsp;</th>\n",
       "      <th id=\"T_ee143_level0_col0\" class=\"col_heading level0 col0\" >Silhouette</th>\n",
       "      <th id=\"T_ee143_level0_col1\" class=\"col_heading level0 col1\" >Calinski-Harabasz</th>\n",
       "      <th id=\"T_ee143_level0_col2\" class=\"col_heading level0 col2\" >Davies-Bouldin</th>\n",
       "      <th id=\"T_ee143_level0_col3\" class=\"col_heading level0 col3\" >Homogeneity</th>\n",
       "      <th id=\"T_ee143_level0_col4\" class=\"col_heading level0 col4\" >Rand Index</th>\n",
       "      <th id=\"T_ee143_level0_col5\" class=\"col_heading level0 col5\" >Completeness</th>\n",
       "    </tr>\n",
       "  </thead>\n",
       "  <tbody>\n",
       "    <tr>\n",
       "      <th id=\"T_ee143_level0_row0\" class=\"row_heading level0 row0\" >0</th>\n",
       "      <td id=\"T_ee143_row0_col0\" class=\"data row0 col0\" >0.5017</td>\n",
       "      <td id=\"T_ee143_row0_col1\" class=\"data row0 col1\" >457.5420</td>\n",
       "      <td id=\"T_ee143_row0_col2\" class=\"data row0 col2\" >0.6263</td>\n",
       "      <td id=\"T_ee143_row0_col3\" class=\"data row0 col3\" >0</td>\n",
       "      <td id=\"T_ee143_row0_col4\" class=\"data row0 col4\" >0</td>\n",
       "      <td id=\"T_ee143_row0_col5\" class=\"data row0 col5\" >0</td>\n",
       "    </tr>\n",
       "  </tbody>\n",
       "</table>\n"
      ],
      "text/plain": [
       "<pandas.io.formats.style.Styler at 0x2b11e7dd2a0>"
      ]
     },
     "metadata": {},
     "output_type": "display_data"
    },
    {
     "data": {
      "text/html": [],
      "text/plain": [
       "<IPython.core.display.HTML object>"
      ]
     },
     "metadata": {},
     "output_type": "display_data"
    },
    {
     "name": "stdout",
     "output_type": "stream",
     "text": [
      "For birch with 3 clusters without PreProcessing\n"
     ]
    },
    {
     "data": {
      "application/vnd.jupyter.widget-view+json": {
       "model_id": "6ef6eb4b589e4f8ca36f87f9c0555ba8",
       "version_major": 2,
       "version_minor": 0
      },
      "text/plain": [
       "interactive(children=(ToggleButtons(description='Plot Type:', icons=('',), options=(('Pipeline Plot', 'pipelin…"
      ]
     },
     "metadata": {},
     "output_type": "display_data"
    },
    {
     "data": {
      "text/html": [
       "<style type=\"text/css\">\n",
       "</style>\n",
       "<table id=\"T_506c8\">\n",
       "  <thead>\n",
       "    <tr>\n",
       "      <th class=\"blank level0\" >&nbsp;</th>\n",
       "      <th id=\"T_506c8_level0_col0\" class=\"col_heading level0 col0\" >Description</th>\n",
       "      <th id=\"T_506c8_level0_col1\" class=\"col_heading level0 col1\" >Value</th>\n",
       "    </tr>\n",
       "  </thead>\n",
       "  <tbody>\n",
       "    <tr>\n",
       "      <th id=\"T_506c8_level0_row0\" class=\"row_heading level0 row0\" >0</th>\n",
       "      <td id=\"T_506c8_row0_col0\" class=\"data row0 col0\" >Session id</td>\n",
       "      <td id=\"T_506c8_row0_col1\" class=\"data row0 col1\" >2</td>\n",
       "    </tr>\n",
       "    <tr>\n",
       "      <th id=\"T_506c8_level0_row1\" class=\"row_heading level0 row1\" >1</th>\n",
       "      <td id=\"T_506c8_row1_col0\" class=\"data row1 col0\" >Original data shape</td>\n",
       "      <td id=\"T_506c8_row1_col1\" class=\"data row1 col1\" >(150, 4)</td>\n",
       "    </tr>\n",
       "    <tr>\n",
       "      <th id=\"T_506c8_level0_row2\" class=\"row_heading level0 row2\" >2</th>\n",
       "      <td id=\"T_506c8_row2_col0\" class=\"data row2 col0\" >Transformed data shape</td>\n",
       "      <td id=\"T_506c8_row2_col1\" class=\"data row2 col1\" >(150, 4)</td>\n",
       "    </tr>\n",
       "    <tr>\n",
       "      <th id=\"T_506c8_level0_row3\" class=\"row_heading level0 row3\" >3</th>\n",
       "      <td id=\"T_506c8_row3_col0\" class=\"data row3 col0\" >Numeric features</td>\n",
       "      <td id=\"T_506c8_row3_col1\" class=\"data row3 col1\" >4</td>\n",
       "    </tr>\n",
       "  </tbody>\n",
       "</table>\n"
      ],
      "text/plain": [
       "<pandas.io.formats.style.Styler at 0x2b11e7dd6c0>"
      ]
     },
     "metadata": {},
     "output_type": "display_data"
    },
    {
     "data": {
      "text/html": [],
      "text/plain": [
       "<IPython.core.display.HTML object>"
      ]
     },
     "metadata": {},
     "output_type": "display_data"
    },
    {
     "data": {
      "text/html": [
       "<style type=\"text/css\">\n",
       "</style>\n",
       "<table id=\"T_d6cdf\">\n",
       "  <thead>\n",
       "    <tr>\n",
       "      <th class=\"blank level0\" >&nbsp;</th>\n",
       "      <th id=\"T_d6cdf_level0_col0\" class=\"col_heading level0 col0\" >Silhouette</th>\n",
       "      <th id=\"T_d6cdf_level0_col1\" class=\"col_heading level0 col1\" >Calinski-Harabasz</th>\n",
       "      <th id=\"T_d6cdf_level0_col2\" class=\"col_heading level0 col2\" >Davies-Bouldin</th>\n",
       "      <th id=\"T_d6cdf_level0_col3\" class=\"col_heading level0 col3\" >Homogeneity</th>\n",
       "      <th id=\"T_d6cdf_level0_col4\" class=\"col_heading level0 col4\" >Rand Index</th>\n",
       "      <th id=\"T_d6cdf_level0_col5\" class=\"col_heading level0 col5\" >Completeness</th>\n",
       "    </tr>\n",
       "  </thead>\n",
       "  <tbody>\n",
       "    <tr>\n",
       "      <th id=\"T_d6cdf_level0_row0\" class=\"row_heading level0 row0\" >0</th>\n",
       "      <td id=\"T_d6cdf_row0_col0\" class=\"data row0 col0\" >0.4837</td>\n",
       "      <td id=\"T_d6cdf_row0_col1\" class=\"data row0 col1\" >460.8046</td>\n",
       "      <td id=\"T_d6cdf_row0_col2\" class=\"data row0 col2\" >0.6554</td>\n",
       "      <td id=\"T_d6cdf_row0_col3\" class=\"data row0 col3\" >0</td>\n",
       "      <td id=\"T_d6cdf_row0_col4\" class=\"data row0 col4\" >0</td>\n",
       "      <td id=\"T_d6cdf_row0_col5\" class=\"data row0 col5\" >0</td>\n",
       "    </tr>\n",
       "  </tbody>\n",
       "</table>\n"
      ],
      "text/plain": [
       "<pandas.io.formats.style.Styler at 0x2b11e772d70>"
      ]
     },
     "metadata": {},
     "output_type": "display_data"
    },
    {
     "data": {
      "text/html": [],
      "text/plain": [
       "<IPython.core.display.HTML object>"
      ]
     },
     "metadata": {},
     "output_type": "display_data"
    },
    {
     "name": "stdout",
     "output_type": "stream",
     "text": [
      "For birch with 4 clusters without PreProcessing\n"
     ]
    },
    {
     "data": {
      "application/vnd.jupyter.widget-view+json": {
       "model_id": "e729cc81d345410591ca5dfffea140c4",
       "version_major": 2,
       "version_minor": 0
      },
      "text/plain": [
       "interactive(children=(ToggleButtons(description='Plot Type:', icons=('',), options=(('Pipeline Plot', 'pipelin…"
      ]
     },
     "metadata": {},
     "output_type": "display_data"
    },
    {
     "data": {
      "text/html": [
       "<style type=\"text/css\">\n",
       "</style>\n",
       "<table id=\"T_00f1d\">\n",
       "  <thead>\n",
       "    <tr>\n",
       "      <th class=\"blank level0\" >&nbsp;</th>\n",
       "      <th id=\"T_00f1d_level0_col0\" class=\"col_heading level0 col0\" >Description</th>\n",
       "      <th id=\"T_00f1d_level0_col1\" class=\"col_heading level0 col1\" >Value</th>\n",
       "    </tr>\n",
       "  </thead>\n",
       "  <tbody>\n",
       "    <tr>\n",
       "      <th id=\"T_00f1d_level0_row0\" class=\"row_heading level0 row0\" >0</th>\n",
       "      <td id=\"T_00f1d_row0_col0\" class=\"data row0 col0\" >Session id</td>\n",
       "      <td id=\"T_00f1d_row0_col1\" class=\"data row0 col1\" >2</td>\n",
       "    </tr>\n",
       "    <tr>\n",
       "      <th id=\"T_00f1d_level0_row1\" class=\"row_heading level0 row1\" >1</th>\n",
       "      <td id=\"T_00f1d_row1_col0\" class=\"data row1 col0\" >Original data shape</td>\n",
       "      <td id=\"T_00f1d_row1_col1\" class=\"data row1 col1\" >(150, 4)</td>\n",
       "    </tr>\n",
       "    <tr>\n",
       "      <th id=\"T_00f1d_level0_row2\" class=\"row_heading level0 row2\" >2</th>\n",
       "      <td id=\"T_00f1d_row2_col0\" class=\"data row2 col0\" >Transformed data shape</td>\n",
       "      <td id=\"T_00f1d_row2_col1\" class=\"data row2 col1\" >(150, 4)</td>\n",
       "    </tr>\n",
       "    <tr>\n",
       "      <th id=\"T_00f1d_level0_row3\" class=\"row_heading level0 row3\" >3</th>\n",
       "      <td id=\"T_00f1d_row3_col0\" class=\"data row3 col0\" >Numeric features</td>\n",
       "      <td id=\"T_00f1d_row3_col1\" class=\"data row3 col1\" >4</td>\n",
       "    </tr>\n",
       "  </tbody>\n",
       "</table>\n"
      ],
      "text/plain": [
       "<pandas.io.formats.style.Styler at 0x2b11e7dc580>"
      ]
     },
     "metadata": {},
     "output_type": "display_data"
    },
    {
     "data": {
      "text/html": [],
      "text/plain": [
       "<IPython.core.display.HTML object>"
      ]
     },
     "metadata": {},
     "output_type": "display_data"
    },
    {
     "data": {
      "text/html": [
       "<style type=\"text/css\">\n",
       "</style>\n",
       "<table id=\"T_faeb2\">\n",
       "  <thead>\n",
       "    <tr>\n",
       "      <th class=\"blank level0\" >&nbsp;</th>\n",
       "      <th id=\"T_faeb2_level0_col0\" class=\"col_heading level0 col0\" >Silhouette</th>\n",
       "      <th id=\"T_faeb2_level0_col1\" class=\"col_heading level0 col1\" >Calinski-Harabasz</th>\n",
       "      <th id=\"T_faeb2_level0_col2\" class=\"col_heading level0 col2\" >Davies-Bouldin</th>\n",
       "      <th id=\"T_faeb2_level0_col3\" class=\"col_heading level0 col3\" >Homogeneity</th>\n",
       "      <th id=\"T_faeb2_level0_col4\" class=\"col_heading level0 col4\" >Rand Index</th>\n",
       "      <th id=\"T_faeb2_level0_col5\" class=\"col_heading level0 col5\" >Completeness</th>\n",
       "    </tr>\n",
       "  </thead>\n",
       "  <tbody>\n",
       "    <tr>\n",
       "      <th id=\"T_faeb2_level0_row0\" class=\"row_heading level0 row0\" >0</th>\n",
       "      <td id=\"T_faeb2_row0_col0\" class=\"data row0 col0\" >0.4871</td>\n",
       "      <td id=\"T_faeb2_row0_col1\" class=\"data row0 col1\" >489.1259</td>\n",
       "      <td id=\"T_faeb2_row0_col2\" class=\"data row0 col2\" >0.8049</td>\n",
       "      <td id=\"T_faeb2_row0_col3\" class=\"data row0 col3\" >0</td>\n",
       "      <td id=\"T_faeb2_row0_col4\" class=\"data row0 col4\" >0</td>\n",
       "      <td id=\"T_faeb2_row0_col5\" class=\"data row0 col5\" >0</td>\n",
       "    </tr>\n",
       "  </tbody>\n",
       "</table>\n"
      ],
      "text/plain": [
       "<pandas.io.formats.style.Styler at 0x2b11e7aa2f0>"
      ]
     },
     "metadata": {},
     "output_type": "display_data"
    },
    {
     "data": {
      "text/html": [],
      "text/plain": [
       "<IPython.core.display.HTML object>"
      ]
     },
     "metadata": {},
     "output_type": "display_data"
    },
    {
     "name": "stdout",
     "output_type": "stream",
     "text": [
      "For birch with 5 clusters without PreProcessing\n"
     ]
    },
    {
     "data": {
      "application/vnd.jupyter.widget-view+json": {
       "model_id": "3d9ee6bc642a4df0a1081e6ba2f2461d",
       "version_major": 2,
       "version_minor": 0
      },
      "text/plain": [
       "interactive(children=(ToggleButtons(description='Plot Type:', icons=('',), options=(('Pipeline Plot', 'pipelin…"
      ]
     },
     "metadata": {},
     "output_type": "display_data"
    }
   ],
   "source": [
    "for model in models:\n",
    "    for cluster in clusters:\n",
    "        setup1 = setup(data, normalize=False, pca=False, preprocess=False, session_id=2)\n",
    "        if model == 'kmeans':\n",
    "            mod1 = create_model('kmeans', num_clusters=cluster)\n",
    "        elif model == 'hierarchical':\n",
    "            mod1 = create_model('hclust', num_clusters=cluster)\n",
    "        elif model == 'birch':\n",
    "            mod1 = create_model('birch', num_clusters=cluster)\n",
    "        print(f\"For {model} with {cluster} clusters without PreProcessing\")\n",
    "        evaluate_model(mod1)"
   ]
  },
  {
   "cell_type": "markdown",
   "metadata": {},
   "source": [
    "WITH NORMALISATION"
   ]
  },
  {
   "cell_type": "code",
   "execution_count": 4,
   "metadata": {},
   "outputs": [
    {
     "data": {
      "text/html": [
       "<style type=\"text/css\">\n",
       "#T_8cc8b_row4_col1, #T_8cc8b_row8_col1 {\n",
       "  background-color: lightgreen;\n",
       "}\n",
       "</style>\n",
       "<table id=\"T_8cc8b\">\n",
       "  <thead>\n",
       "    <tr>\n",
       "      <th class=\"blank level0\" >&nbsp;</th>\n",
       "      <th id=\"T_8cc8b_level0_col0\" class=\"col_heading level0 col0\" >Description</th>\n",
       "      <th id=\"T_8cc8b_level0_col1\" class=\"col_heading level0 col1\" >Value</th>\n",
       "    </tr>\n",
       "  </thead>\n",
       "  <tbody>\n",
       "    <tr>\n",
       "      <th id=\"T_8cc8b_level0_row0\" class=\"row_heading level0 row0\" >0</th>\n",
       "      <td id=\"T_8cc8b_row0_col0\" class=\"data row0 col0\" >Session id</td>\n",
       "      <td id=\"T_8cc8b_row0_col1\" class=\"data row0 col1\" >2</td>\n",
       "    </tr>\n",
       "    <tr>\n",
       "      <th id=\"T_8cc8b_level0_row1\" class=\"row_heading level0 row1\" >1</th>\n",
       "      <td id=\"T_8cc8b_row1_col0\" class=\"data row1 col0\" >Original data shape</td>\n",
       "      <td id=\"T_8cc8b_row1_col1\" class=\"data row1 col1\" >(150, 4)</td>\n",
       "    </tr>\n",
       "    <tr>\n",
       "      <th id=\"T_8cc8b_level0_row2\" class=\"row_heading level0 row2\" >2</th>\n",
       "      <td id=\"T_8cc8b_row2_col0\" class=\"data row2 col0\" >Transformed data shape</td>\n",
       "      <td id=\"T_8cc8b_row2_col1\" class=\"data row2 col1\" >(150, 4)</td>\n",
       "    </tr>\n",
       "    <tr>\n",
       "      <th id=\"T_8cc8b_level0_row3\" class=\"row_heading level0 row3\" >3</th>\n",
       "      <td id=\"T_8cc8b_row3_col0\" class=\"data row3 col0\" >Numeric features</td>\n",
       "      <td id=\"T_8cc8b_row3_col1\" class=\"data row3 col1\" >4</td>\n",
       "    </tr>\n",
       "    <tr>\n",
       "      <th id=\"T_8cc8b_level0_row4\" class=\"row_heading level0 row4\" >4</th>\n",
       "      <td id=\"T_8cc8b_row4_col0\" class=\"data row4 col0\" >Preprocess</td>\n",
       "      <td id=\"T_8cc8b_row4_col1\" class=\"data row4 col1\" >True</td>\n",
       "    </tr>\n",
       "    <tr>\n",
       "      <th id=\"T_8cc8b_level0_row5\" class=\"row_heading level0 row5\" >5</th>\n",
       "      <td id=\"T_8cc8b_row5_col0\" class=\"data row5 col0\" >Imputation type</td>\n",
       "      <td id=\"T_8cc8b_row5_col1\" class=\"data row5 col1\" >simple</td>\n",
       "    </tr>\n",
       "    <tr>\n",
       "      <th id=\"T_8cc8b_level0_row6\" class=\"row_heading level0 row6\" >6</th>\n",
       "      <td id=\"T_8cc8b_row6_col0\" class=\"data row6 col0\" >Numeric imputation</td>\n",
       "      <td id=\"T_8cc8b_row6_col1\" class=\"data row6 col1\" >mean</td>\n",
       "    </tr>\n",
       "    <tr>\n",
       "      <th id=\"T_8cc8b_level0_row7\" class=\"row_heading level0 row7\" >7</th>\n",
       "      <td id=\"T_8cc8b_row7_col0\" class=\"data row7 col0\" >Categorical imputation</td>\n",
       "      <td id=\"T_8cc8b_row7_col1\" class=\"data row7 col1\" >mode</td>\n",
       "    </tr>\n",
       "    <tr>\n",
       "      <th id=\"T_8cc8b_level0_row8\" class=\"row_heading level0 row8\" >8</th>\n",
       "      <td id=\"T_8cc8b_row8_col0\" class=\"data row8 col0\" >Normalize</td>\n",
       "      <td id=\"T_8cc8b_row8_col1\" class=\"data row8 col1\" >True</td>\n",
       "    </tr>\n",
       "    <tr>\n",
       "      <th id=\"T_8cc8b_level0_row9\" class=\"row_heading level0 row9\" >9</th>\n",
       "      <td id=\"T_8cc8b_row9_col0\" class=\"data row9 col0\" >Normalize method</td>\n",
       "      <td id=\"T_8cc8b_row9_col1\" class=\"data row9 col1\" >zscore</td>\n",
       "    </tr>\n",
       "    <tr>\n",
       "      <th id=\"T_8cc8b_level0_row10\" class=\"row_heading level0 row10\" >10</th>\n",
       "      <td id=\"T_8cc8b_row10_col0\" class=\"data row10 col0\" >CPU Jobs</td>\n",
       "      <td id=\"T_8cc8b_row10_col1\" class=\"data row10 col1\" >-1</td>\n",
       "    </tr>\n",
       "    <tr>\n",
       "      <th id=\"T_8cc8b_level0_row11\" class=\"row_heading level0 row11\" >11</th>\n",
       "      <td id=\"T_8cc8b_row11_col0\" class=\"data row11 col0\" >Use GPU</td>\n",
       "      <td id=\"T_8cc8b_row11_col1\" class=\"data row11 col1\" >False</td>\n",
       "    </tr>\n",
       "    <tr>\n",
       "      <th id=\"T_8cc8b_level0_row12\" class=\"row_heading level0 row12\" >12</th>\n",
       "      <td id=\"T_8cc8b_row12_col0\" class=\"data row12 col0\" >Log Experiment</td>\n",
       "      <td id=\"T_8cc8b_row12_col1\" class=\"data row12 col1\" >False</td>\n",
       "    </tr>\n",
       "    <tr>\n",
       "      <th id=\"T_8cc8b_level0_row13\" class=\"row_heading level0 row13\" >13</th>\n",
       "      <td id=\"T_8cc8b_row13_col0\" class=\"data row13 col0\" >Experiment Name</td>\n",
       "      <td id=\"T_8cc8b_row13_col1\" class=\"data row13 col1\" >cluster-default-name</td>\n",
       "    </tr>\n",
       "    <tr>\n",
       "      <th id=\"T_8cc8b_level0_row14\" class=\"row_heading level0 row14\" >14</th>\n",
       "      <td id=\"T_8cc8b_row14_col0\" class=\"data row14 col0\" >USI</td>\n",
       "      <td id=\"T_8cc8b_row14_col1\" class=\"data row14 col1\" >b388</td>\n",
       "    </tr>\n",
       "  </tbody>\n",
       "</table>\n"
      ],
      "text/plain": [
       "<pandas.io.formats.style.Styler at 0x2b123a59d80>"
      ]
     },
     "metadata": {},
     "output_type": "display_data"
    },
    {
     "data": {
      "text/html": [],
      "text/plain": [
       "<IPython.core.display.HTML object>"
      ]
     },
     "metadata": {},
     "output_type": "display_data"
    },
    {
     "data": {
      "text/html": [
       "<style type=\"text/css\">\n",
       "</style>\n",
       "<table id=\"T_f3847\">\n",
       "  <thead>\n",
       "    <tr>\n",
       "      <th class=\"blank level0\" >&nbsp;</th>\n",
       "      <th id=\"T_f3847_level0_col0\" class=\"col_heading level0 col0\" >Silhouette</th>\n",
       "      <th id=\"T_f3847_level0_col1\" class=\"col_heading level0 col1\" >Calinski-Harabasz</th>\n",
       "      <th id=\"T_f3847_level0_col2\" class=\"col_heading level0 col2\" >Davies-Bouldin</th>\n",
       "      <th id=\"T_f3847_level0_col3\" class=\"col_heading level0 col3\" >Homogeneity</th>\n",
       "      <th id=\"T_f3847_level0_col4\" class=\"col_heading level0 col4\" >Rand Index</th>\n",
       "      <th id=\"T_f3847_level0_col5\" class=\"col_heading level0 col5\" >Completeness</th>\n",
       "    </tr>\n",
       "  </thead>\n",
       "  <tbody>\n",
       "    <tr>\n",
       "      <th id=\"T_f3847_level0_row0\" class=\"row_heading level0 row0\" >0</th>\n",
       "      <td id=\"T_f3847_row0_col0\" class=\"data row0 col0\" >0.4590</td>\n",
       "      <td id=\"T_f3847_row0_col1\" class=\"data row0 col1\" >239.3419</td>\n",
       "      <td id=\"T_f3847_row0_col2\" class=\"data row0 col2\" >0.8354</td>\n",
       "      <td id=\"T_f3847_row0_col3\" class=\"data row0 col3\" >0</td>\n",
       "      <td id=\"T_f3847_row0_col4\" class=\"data row0 col4\" >0</td>\n",
       "      <td id=\"T_f3847_row0_col5\" class=\"data row0 col5\" >0</td>\n",
       "    </tr>\n",
       "  </tbody>\n",
       "</table>\n"
      ],
      "text/plain": [
       "<pandas.io.formats.style.Styler at 0x2b123a59330>"
      ]
     },
     "metadata": {},
     "output_type": "display_data"
    },
    {
     "data": {
      "application/vnd.jupyter.widget-view+json": {
       "model_id": "897a0d1212b44393953117a3b42e0bc6",
       "version_major": 2,
       "version_minor": 0
      },
      "text/plain": [
       "Processing:   0%|          | 0/3 [00:00<?, ?it/s]"
      ]
     },
     "metadata": {},
     "output_type": "display_data"
    },
    {
     "name": "stdout",
     "output_type": "stream",
     "text": [
      "For kmeans with 3 clusters with Normalization\n"
     ]
    },
    {
     "data": {
      "application/vnd.jupyter.widget-view+json": {
       "model_id": "22117fe7d5c04d7b9a3a167540ca369f",
       "version_major": 2,
       "version_minor": 0
      },
      "text/plain": [
       "interactive(children=(ToggleButtons(description='Plot Type:', icons=('',), options=(('Pipeline Plot', 'pipelin…"
      ]
     },
     "metadata": {},
     "output_type": "display_data"
    },
    {
     "data": {
      "text/html": [
       "<style type=\"text/css\">\n",
       "#T_8ac28_row4_col1, #T_8ac28_row8_col1 {\n",
       "  background-color: lightgreen;\n",
       "}\n",
       "</style>\n",
       "<table id=\"T_8ac28\">\n",
       "  <thead>\n",
       "    <tr>\n",
       "      <th class=\"blank level0\" >&nbsp;</th>\n",
       "      <th id=\"T_8ac28_level0_col0\" class=\"col_heading level0 col0\" >Description</th>\n",
       "      <th id=\"T_8ac28_level0_col1\" class=\"col_heading level0 col1\" >Value</th>\n",
       "    </tr>\n",
       "  </thead>\n",
       "  <tbody>\n",
       "    <tr>\n",
       "      <th id=\"T_8ac28_level0_row0\" class=\"row_heading level0 row0\" >0</th>\n",
       "      <td id=\"T_8ac28_row0_col0\" class=\"data row0 col0\" >Session id</td>\n",
       "      <td id=\"T_8ac28_row0_col1\" class=\"data row0 col1\" >2</td>\n",
       "    </tr>\n",
       "    <tr>\n",
       "      <th id=\"T_8ac28_level0_row1\" class=\"row_heading level0 row1\" >1</th>\n",
       "      <td id=\"T_8ac28_row1_col0\" class=\"data row1 col0\" >Original data shape</td>\n",
       "      <td id=\"T_8ac28_row1_col1\" class=\"data row1 col1\" >(150, 4)</td>\n",
       "    </tr>\n",
       "    <tr>\n",
       "      <th id=\"T_8ac28_level0_row2\" class=\"row_heading level0 row2\" >2</th>\n",
       "      <td id=\"T_8ac28_row2_col0\" class=\"data row2 col0\" >Transformed data shape</td>\n",
       "      <td id=\"T_8ac28_row2_col1\" class=\"data row2 col1\" >(150, 4)</td>\n",
       "    </tr>\n",
       "    <tr>\n",
       "      <th id=\"T_8ac28_level0_row3\" class=\"row_heading level0 row3\" >3</th>\n",
       "      <td id=\"T_8ac28_row3_col0\" class=\"data row3 col0\" >Numeric features</td>\n",
       "      <td id=\"T_8ac28_row3_col1\" class=\"data row3 col1\" >4</td>\n",
       "    </tr>\n",
       "    <tr>\n",
       "      <th id=\"T_8ac28_level0_row4\" class=\"row_heading level0 row4\" >4</th>\n",
       "      <td id=\"T_8ac28_row4_col0\" class=\"data row4 col0\" >Preprocess</td>\n",
       "      <td id=\"T_8ac28_row4_col1\" class=\"data row4 col1\" >True</td>\n",
       "    </tr>\n",
       "    <tr>\n",
       "      <th id=\"T_8ac28_level0_row5\" class=\"row_heading level0 row5\" >5</th>\n",
       "      <td id=\"T_8ac28_row5_col0\" class=\"data row5 col0\" >Imputation type</td>\n",
       "      <td id=\"T_8ac28_row5_col1\" class=\"data row5 col1\" >simple</td>\n",
       "    </tr>\n",
       "    <tr>\n",
       "      <th id=\"T_8ac28_level0_row6\" class=\"row_heading level0 row6\" >6</th>\n",
       "      <td id=\"T_8ac28_row6_col0\" class=\"data row6 col0\" >Numeric imputation</td>\n",
       "      <td id=\"T_8ac28_row6_col1\" class=\"data row6 col1\" >mean</td>\n",
       "    </tr>\n",
       "    <tr>\n",
       "      <th id=\"T_8ac28_level0_row7\" class=\"row_heading level0 row7\" >7</th>\n",
       "      <td id=\"T_8ac28_row7_col0\" class=\"data row7 col0\" >Categorical imputation</td>\n",
       "      <td id=\"T_8ac28_row7_col1\" class=\"data row7 col1\" >mode</td>\n",
       "    </tr>\n",
       "    <tr>\n",
       "      <th id=\"T_8ac28_level0_row8\" class=\"row_heading level0 row8\" >8</th>\n",
       "      <td id=\"T_8ac28_row8_col0\" class=\"data row8 col0\" >Normalize</td>\n",
       "      <td id=\"T_8ac28_row8_col1\" class=\"data row8 col1\" >True</td>\n",
       "    </tr>\n",
       "    <tr>\n",
       "      <th id=\"T_8ac28_level0_row9\" class=\"row_heading level0 row9\" >9</th>\n",
       "      <td id=\"T_8ac28_row9_col0\" class=\"data row9 col0\" >Normalize method</td>\n",
       "      <td id=\"T_8ac28_row9_col1\" class=\"data row9 col1\" >zscore</td>\n",
       "    </tr>\n",
       "    <tr>\n",
       "      <th id=\"T_8ac28_level0_row10\" class=\"row_heading level0 row10\" >10</th>\n",
       "      <td id=\"T_8ac28_row10_col0\" class=\"data row10 col0\" >CPU Jobs</td>\n",
       "      <td id=\"T_8ac28_row10_col1\" class=\"data row10 col1\" >-1</td>\n",
       "    </tr>\n",
       "    <tr>\n",
       "      <th id=\"T_8ac28_level0_row11\" class=\"row_heading level0 row11\" >11</th>\n",
       "      <td id=\"T_8ac28_row11_col0\" class=\"data row11 col0\" >Use GPU</td>\n",
       "      <td id=\"T_8ac28_row11_col1\" class=\"data row11 col1\" >False</td>\n",
       "    </tr>\n",
       "    <tr>\n",
       "      <th id=\"T_8ac28_level0_row12\" class=\"row_heading level0 row12\" >12</th>\n",
       "      <td id=\"T_8ac28_row12_col0\" class=\"data row12 col0\" >Log Experiment</td>\n",
       "      <td id=\"T_8ac28_row12_col1\" class=\"data row12 col1\" >False</td>\n",
       "    </tr>\n",
       "    <tr>\n",
       "      <th id=\"T_8ac28_level0_row13\" class=\"row_heading level0 row13\" >13</th>\n",
       "      <td id=\"T_8ac28_row13_col0\" class=\"data row13 col0\" >Experiment Name</td>\n",
       "      <td id=\"T_8ac28_row13_col1\" class=\"data row13 col1\" >cluster-default-name</td>\n",
       "    </tr>\n",
       "    <tr>\n",
       "      <th id=\"T_8ac28_level0_row14\" class=\"row_heading level0 row14\" >14</th>\n",
       "      <td id=\"T_8ac28_row14_col0\" class=\"data row14 col0\" >USI</td>\n",
       "      <td id=\"T_8ac28_row14_col1\" class=\"data row14 col1\" >4d60</td>\n",
       "    </tr>\n",
       "  </tbody>\n",
       "</table>\n"
      ],
      "text/plain": [
       "<pandas.io.formats.style.Styler at 0x2b11e7aa110>"
      ]
     },
     "metadata": {},
     "output_type": "display_data"
    },
    {
     "data": {
      "text/html": [],
      "text/plain": [
       "<IPython.core.display.HTML object>"
      ]
     },
     "metadata": {},
     "output_type": "display_data"
    },
    {
     "data": {
      "text/html": [
       "<style type=\"text/css\">\n",
       "</style>\n",
       "<table id=\"T_9f4e5\">\n",
       "  <thead>\n",
       "    <tr>\n",
       "      <th class=\"blank level0\" >&nbsp;</th>\n",
       "      <th id=\"T_9f4e5_level0_col0\" class=\"col_heading level0 col0\" >Silhouette</th>\n",
       "      <th id=\"T_9f4e5_level0_col1\" class=\"col_heading level0 col1\" >Calinski-Harabasz</th>\n",
       "      <th id=\"T_9f4e5_level0_col2\" class=\"col_heading level0 col2\" >Davies-Bouldin</th>\n",
       "      <th id=\"T_9f4e5_level0_col3\" class=\"col_heading level0 col3\" >Homogeneity</th>\n",
       "      <th id=\"T_9f4e5_level0_col4\" class=\"col_heading level0 col4\" >Rand Index</th>\n",
       "      <th id=\"T_9f4e5_level0_col5\" class=\"col_heading level0 col5\" >Completeness</th>\n",
       "    </tr>\n",
       "  </thead>\n",
       "  <tbody>\n",
       "    <tr>\n",
       "      <th id=\"T_9f4e5_level0_row0\" class=\"row_heading level0 row0\" >0</th>\n",
       "      <td id=\"T_9f4e5_row0_col0\" class=\"data row0 col0\" >0.3888</td>\n",
       "      <td id=\"T_9f4e5_row0_col1\" class=\"data row0 col1\" >206.5119</td>\n",
       "      <td id=\"T_9f4e5_row0_col2\" class=\"data row0 col2\" >0.8663</td>\n",
       "      <td id=\"T_9f4e5_row0_col3\" class=\"data row0 col3\" >0</td>\n",
       "      <td id=\"T_9f4e5_row0_col4\" class=\"data row0 col4\" >0</td>\n",
       "      <td id=\"T_9f4e5_row0_col5\" class=\"data row0 col5\" >0</td>\n",
       "    </tr>\n",
       "  </tbody>\n",
       "</table>\n"
      ],
      "text/plain": [
       "<pandas.io.formats.style.Styler at 0x2b11e7a8700>"
      ]
     },
     "metadata": {},
     "output_type": "display_data"
    },
    {
     "data": {
      "text/html": [],
      "text/plain": [
       "<IPython.core.display.HTML object>"
      ]
     },
     "metadata": {},
     "output_type": "display_data"
    },
    {
     "name": "stdout",
     "output_type": "stream",
     "text": [
      "For kmeans with 4 clusters with Normalization\n"
     ]
    },
    {
     "data": {
      "application/vnd.jupyter.widget-view+json": {
       "model_id": "e944cc08cf8d400cafd218841e128cff",
       "version_major": 2,
       "version_minor": 0
      },
      "text/plain": [
       "interactive(children=(ToggleButtons(description='Plot Type:', icons=('',), options=(('Pipeline Plot', 'pipelin…"
      ]
     },
     "metadata": {},
     "output_type": "display_data"
    },
    {
     "data": {
      "text/html": [
       "<style type=\"text/css\">\n",
       "#T_cc438_row4_col1, #T_cc438_row8_col1 {\n",
       "  background-color: lightgreen;\n",
       "}\n",
       "</style>\n",
       "<table id=\"T_cc438\">\n",
       "  <thead>\n",
       "    <tr>\n",
       "      <th class=\"blank level0\" >&nbsp;</th>\n",
       "      <th id=\"T_cc438_level0_col0\" class=\"col_heading level0 col0\" >Description</th>\n",
       "      <th id=\"T_cc438_level0_col1\" class=\"col_heading level0 col1\" >Value</th>\n",
       "    </tr>\n",
       "  </thead>\n",
       "  <tbody>\n",
       "    <tr>\n",
       "      <th id=\"T_cc438_level0_row0\" class=\"row_heading level0 row0\" >0</th>\n",
       "      <td id=\"T_cc438_row0_col0\" class=\"data row0 col0\" >Session id</td>\n",
       "      <td id=\"T_cc438_row0_col1\" class=\"data row0 col1\" >2</td>\n",
       "    </tr>\n",
       "    <tr>\n",
       "      <th id=\"T_cc438_level0_row1\" class=\"row_heading level0 row1\" >1</th>\n",
       "      <td id=\"T_cc438_row1_col0\" class=\"data row1 col0\" >Original data shape</td>\n",
       "      <td id=\"T_cc438_row1_col1\" class=\"data row1 col1\" >(150, 4)</td>\n",
       "    </tr>\n",
       "    <tr>\n",
       "      <th id=\"T_cc438_level0_row2\" class=\"row_heading level0 row2\" >2</th>\n",
       "      <td id=\"T_cc438_row2_col0\" class=\"data row2 col0\" >Transformed data shape</td>\n",
       "      <td id=\"T_cc438_row2_col1\" class=\"data row2 col1\" >(150, 4)</td>\n",
       "    </tr>\n",
       "    <tr>\n",
       "      <th id=\"T_cc438_level0_row3\" class=\"row_heading level0 row3\" >3</th>\n",
       "      <td id=\"T_cc438_row3_col0\" class=\"data row3 col0\" >Numeric features</td>\n",
       "      <td id=\"T_cc438_row3_col1\" class=\"data row3 col1\" >4</td>\n",
       "    </tr>\n",
       "    <tr>\n",
       "      <th id=\"T_cc438_level0_row4\" class=\"row_heading level0 row4\" >4</th>\n",
       "      <td id=\"T_cc438_row4_col0\" class=\"data row4 col0\" >Preprocess</td>\n",
       "      <td id=\"T_cc438_row4_col1\" class=\"data row4 col1\" >True</td>\n",
       "    </tr>\n",
       "    <tr>\n",
       "      <th id=\"T_cc438_level0_row5\" class=\"row_heading level0 row5\" >5</th>\n",
       "      <td id=\"T_cc438_row5_col0\" class=\"data row5 col0\" >Imputation type</td>\n",
       "      <td id=\"T_cc438_row5_col1\" class=\"data row5 col1\" >simple</td>\n",
       "    </tr>\n",
       "    <tr>\n",
       "      <th id=\"T_cc438_level0_row6\" class=\"row_heading level0 row6\" >6</th>\n",
       "      <td id=\"T_cc438_row6_col0\" class=\"data row6 col0\" >Numeric imputation</td>\n",
       "      <td id=\"T_cc438_row6_col1\" class=\"data row6 col1\" >mean</td>\n",
       "    </tr>\n",
       "    <tr>\n",
       "      <th id=\"T_cc438_level0_row7\" class=\"row_heading level0 row7\" >7</th>\n",
       "      <td id=\"T_cc438_row7_col0\" class=\"data row7 col0\" >Categorical imputation</td>\n",
       "      <td id=\"T_cc438_row7_col1\" class=\"data row7 col1\" >mode</td>\n",
       "    </tr>\n",
       "    <tr>\n",
       "      <th id=\"T_cc438_level0_row8\" class=\"row_heading level0 row8\" >8</th>\n",
       "      <td id=\"T_cc438_row8_col0\" class=\"data row8 col0\" >Normalize</td>\n",
       "      <td id=\"T_cc438_row8_col1\" class=\"data row8 col1\" >True</td>\n",
       "    </tr>\n",
       "    <tr>\n",
       "      <th id=\"T_cc438_level0_row9\" class=\"row_heading level0 row9\" >9</th>\n",
       "      <td id=\"T_cc438_row9_col0\" class=\"data row9 col0\" >Normalize method</td>\n",
       "      <td id=\"T_cc438_row9_col1\" class=\"data row9 col1\" >zscore</td>\n",
       "    </tr>\n",
       "    <tr>\n",
       "      <th id=\"T_cc438_level0_row10\" class=\"row_heading level0 row10\" >10</th>\n",
       "      <td id=\"T_cc438_row10_col0\" class=\"data row10 col0\" >CPU Jobs</td>\n",
       "      <td id=\"T_cc438_row10_col1\" class=\"data row10 col1\" >-1</td>\n",
       "    </tr>\n",
       "    <tr>\n",
       "      <th id=\"T_cc438_level0_row11\" class=\"row_heading level0 row11\" >11</th>\n",
       "      <td id=\"T_cc438_row11_col0\" class=\"data row11 col0\" >Use GPU</td>\n",
       "      <td id=\"T_cc438_row11_col1\" class=\"data row11 col1\" >False</td>\n",
       "    </tr>\n",
       "    <tr>\n",
       "      <th id=\"T_cc438_level0_row12\" class=\"row_heading level0 row12\" >12</th>\n",
       "      <td id=\"T_cc438_row12_col0\" class=\"data row12 col0\" >Log Experiment</td>\n",
       "      <td id=\"T_cc438_row12_col1\" class=\"data row12 col1\" >False</td>\n",
       "    </tr>\n",
       "    <tr>\n",
       "      <th id=\"T_cc438_level0_row13\" class=\"row_heading level0 row13\" >13</th>\n",
       "      <td id=\"T_cc438_row13_col0\" class=\"data row13 col0\" >Experiment Name</td>\n",
       "      <td id=\"T_cc438_row13_col1\" class=\"data row13 col1\" >cluster-default-name</td>\n",
       "    </tr>\n",
       "    <tr>\n",
       "      <th id=\"T_cc438_level0_row14\" class=\"row_heading level0 row14\" >14</th>\n",
       "      <td id=\"T_cc438_row14_col0\" class=\"data row14 col0\" >USI</td>\n",
       "      <td id=\"T_cc438_row14_col1\" class=\"data row14 col1\" >a5a4</td>\n",
       "    </tr>\n",
       "  </tbody>\n",
       "</table>\n"
      ],
      "text/plain": [
       "<pandas.io.formats.style.Styler at 0x2b123a581f0>"
      ]
     },
     "metadata": {},
     "output_type": "display_data"
    },
    {
     "data": {
      "text/html": [],
      "text/plain": [
       "<IPython.core.display.HTML object>"
      ]
     },
     "metadata": {},
     "output_type": "display_data"
    },
    {
     "data": {
      "text/html": [
       "<style type=\"text/css\">\n",
       "</style>\n",
       "<table id=\"T_ca051\">\n",
       "  <thead>\n",
       "    <tr>\n",
       "      <th class=\"blank level0\" >&nbsp;</th>\n",
       "      <th id=\"T_ca051_level0_col0\" class=\"col_heading level0 col0\" >Silhouette</th>\n",
       "      <th id=\"T_ca051_level0_col1\" class=\"col_heading level0 col1\" >Calinski-Harabasz</th>\n",
       "      <th id=\"T_ca051_level0_col2\" class=\"col_heading level0 col2\" >Davies-Bouldin</th>\n",
       "      <th id=\"T_ca051_level0_col3\" class=\"col_heading level0 col3\" >Homogeneity</th>\n",
       "      <th id=\"T_ca051_level0_col4\" class=\"col_heading level0 col4\" >Rand Index</th>\n",
       "      <th id=\"T_ca051_level0_col5\" class=\"col_heading level0 col5\" >Completeness</th>\n",
       "    </tr>\n",
       "  </thead>\n",
       "  <tbody>\n",
       "    <tr>\n",
       "      <th id=\"T_ca051_level0_row0\" class=\"row_heading level0 row0\" >0</th>\n",
       "      <td id=\"T_ca051_row0_col0\" class=\"data row0 col0\" >0.3481</td>\n",
       "      <td id=\"T_ca051_row0_col1\" class=\"data row0 col1\" >202.2578</td>\n",
       "      <td id=\"T_ca051_row0_col2\" class=\"data row0 col2\" >0.9452</td>\n",
       "      <td id=\"T_ca051_row0_col3\" class=\"data row0 col3\" >0</td>\n",
       "      <td id=\"T_ca051_row0_col4\" class=\"data row0 col4\" >0</td>\n",
       "      <td id=\"T_ca051_row0_col5\" class=\"data row0 col5\" >0</td>\n",
       "    </tr>\n",
       "  </tbody>\n",
       "</table>\n"
      ],
      "text/plain": [
       "<pandas.io.formats.style.Styler at 0x2b11e8136d0>"
      ]
     },
     "metadata": {},
     "output_type": "display_data"
    },
    {
     "data": {
      "text/html": [],
      "text/plain": [
       "<IPython.core.display.HTML object>"
      ]
     },
     "metadata": {},
     "output_type": "display_data"
    },
    {
     "name": "stdout",
     "output_type": "stream",
     "text": [
      "For kmeans with 5 clusters with Normalization\n"
     ]
    },
    {
     "data": {
      "application/vnd.jupyter.widget-view+json": {
       "model_id": "f5297baf756e40a981ca509be8bfc70f",
       "version_major": 2,
       "version_minor": 0
      },
      "text/plain": [
       "interactive(children=(ToggleButtons(description='Plot Type:', icons=('',), options=(('Pipeline Plot', 'pipelin…"
      ]
     },
     "metadata": {},
     "output_type": "display_data"
    },
    {
     "data": {
      "text/html": [
       "<style type=\"text/css\">\n",
       "#T_338b8_row4_col1, #T_338b8_row8_col1 {\n",
       "  background-color: lightgreen;\n",
       "}\n",
       "</style>\n",
       "<table id=\"T_338b8\">\n",
       "  <thead>\n",
       "    <tr>\n",
       "      <th class=\"blank level0\" >&nbsp;</th>\n",
       "      <th id=\"T_338b8_level0_col0\" class=\"col_heading level0 col0\" >Description</th>\n",
       "      <th id=\"T_338b8_level0_col1\" class=\"col_heading level0 col1\" >Value</th>\n",
       "    </tr>\n",
       "  </thead>\n",
       "  <tbody>\n",
       "    <tr>\n",
       "      <th id=\"T_338b8_level0_row0\" class=\"row_heading level0 row0\" >0</th>\n",
       "      <td id=\"T_338b8_row0_col0\" class=\"data row0 col0\" >Session id</td>\n",
       "      <td id=\"T_338b8_row0_col1\" class=\"data row0 col1\" >2</td>\n",
       "    </tr>\n",
       "    <tr>\n",
       "      <th id=\"T_338b8_level0_row1\" class=\"row_heading level0 row1\" >1</th>\n",
       "      <td id=\"T_338b8_row1_col0\" class=\"data row1 col0\" >Original data shape</td>\n",
       "      <td id=\"T_338b8_row1_col1\" class=\"data row1 col1\" >(150, 4)</td>\n",
       "    </tr>\n",
       "    <tr>\n",
       "      <th id=\"T_338b8_level0_row2\" class=\"row_heading level0 row2\" >2</th>\n",
       "      <td id=\"T_338b8_row2_col0\" class=\"data row2 col0\" >Transformed data shape</td>\n",
       "      <td id=\"T_338b8_row2_col1\" class=\"data row2 col1\" >(150, 4)</td>\n",
       "    </tr>\n",
       "    <tr>\n",
       "      <th id=\"T_338b8_level0_row3\" class=\"row_heading level0 row3\" >3</th>\n",
       "      <td id=\"T_338b8_row3_col0\" class=\"data row3 col0\" >Numeric features</td>\n",
       "      <td id=\"T_338b8_row3_col1\" class=\"data row3 col1\" >4</td>\n",
       "    </tr>\n",
       "    <tr>\n",
       "      <th id=\"T_338b8_level0_row4\" class=\"row_heading level0 row4\" >4</th>\n",
       "      <td id=\"T_338b8_row4_col0\" class=\"data row4 col0\" >Preprocess</td>\n",
       "      <td id=\"T_338b8_row4_col1\" class=\"data row4 col1\" >True</td>\n",
       "    </tr>\n",
       "    <tr>\n",
       "      <th id=\"T_338b8_level0_row5\" class=\"row_heading level0 row5\" >5</th>\n",
       "      <td id=\"T_338b8_row5_col0\" class=\"data row5 col0\" >Imputation type</td>\n",
       "      <td id=\"T_338b8_row5_col1\" class=\"data row5 col1\" >simple</td>\n",
       "    </tr>\n",
       "    <tr>\n",
       "      <th id=\"T_338b8_level0_row6\" class=\"row_heading level0 row6\" >6</th>\n",
       "      <td id=\"T_338b8_row6_col0\" class=\"data row6 col0\" >Numeric imputation</td>\n",
       "      <td id=\"T_338b8_row6_col1\" class=\"data row6 col1\" >mean</td>\n",
       "    </tr>\n",
       "    <tr>\n",
       "      <th id=\"T_338b8_level0_row7\" class=\"row_heading level0 row7\" >7</th>\n",
       "      <td id=\"T_338b8_row7_col0\" class=\"data row7 col0\" >Categorical imputation</td>\n",
       "      <td id=\"T_338b8_row7_col1\" class=\"data row7 col1\" >mode</td>\n",
       "    </tr>\n",
       "    <tr>\n",
       "      <th id=\"T_338b8_level0_row8\" class=\"row_heading level0 row8\" >8</th>\n",
       "      <td id=\"T_338b8_row8_col0\" class=\"data row8 col0\" >Normalize</td>\n",
       "      <td id=\"T_338b8_row8_col1\" class=\"data row8 col1\" >True</td>\n",
       "    </tr>\n",
       "    <tr>\n",
       "      <th id=\"T_338b8_level0_row9\" class=\"row_heading level0 row9\" >9</th>\n",
       "      <td id=\"T_338b8_row9_col0\" class=\"data row9 col0\" >Normalize method</td>\n",
       "      <td id=\"T_338b8_row9_col1\" class=\"data row9 col1\" >zscore</td>\n",
       "    </tr>\n",
       "    <tr>\n",
       "      <th id=\"T_338b8_level0_row10\" class=\"row_heading level0 row10\" >10</th>\n",
       "      <td id=\"T_338b8_row10_col0\" class=\"data row10 col0\" >CPU Jobs</td>\n",
       "      <td id=\"T_338b8_row10_col1\" class=\"data row10 col1\" >-1</td>\n",
       "    </tr>\n",
       "    <tr>\n",
       "      <th id=\"T_338b8_level0_row11\" class=\"row_heading level0 row11\" >11</th>\n",
       "      <td id=\"T_338b8_row11_col0\" class=\"data row11 col0\" >Use GPU</td>\n",
       "      <td id=\"T_338b8_row11_col1\" class=\"data row11 col1\" >False</td>\n",
       "    </tr>\n",
       "    <tr>\n",
       "      <th id=\"T_338b8_level0_row12\" class=\"row_heading level0 row12\" >12</th>\n",
       "      <td id=\"T_338b8_row12_col0\" class=\"data row12 col0\" >Log Experiment</td>\n",
       "      <td id=\"T_338b8_row12_col1\" class=\"data row12 col1\" >False</td>\n",
       "    </tr>\n",
       "    <tr>\n",
       "      <th id=\"T_338b8_level0_row13\" class=\"row_heading level0 row13\" >13</th>\n",
       "      <td id=\"T_338b8_row13_col0\" class=\"data row13 col0\" >Experiment Name</td>\n",
       "      <td id=\"T_338b8_row13_col1\" class=\"data row13 col1\" >cluster-default-name</td>\n",
       "    </tr>\n",
       "    <tr>\n",
       "      <th id=\"T_338b8_level0_row14\" class=\"row_heading level0 row14\" >14</th>\n",
       "      <td id=\"T_338b8_row14_col0\" class=\"data row14 col0\" >USI</td>\n",
       "      <td id=\"T_338b8_row14_col1\" class=\"data row14 col1\" >95c7</td>\n",
       "    </tr>\n",
       "  </tbody>\n",
       "</table>\n"
      ],
      "text/plain": [
       "<pandas.io.formats.style.Styler at 0x2b123aeb130>"
      ]
     },
     "metadata": {},
     "output_type": "display_data"
    },
    {
     "data": {
      "text/html": [],
      "text/plain": [
       "<IPython.core.display.HTML object>"
      ]
     },
     "metadata": {},
     "output_type": "display_data"
    },
    {
     "data": {
      "text/html": [
       "<style type=\"text/css\">\n",
       "</style>\n",
       "<table id=\"T_58456\">\n",
       "  <thead>\n",
       "    <tr>\n",
       "      <th class=\"blank level0\" >&nbsp;</th>\n",
       "      <th id=\"T_58456_level0_col0\" class=\"col_heading level0 col0\" >Silhouette</th>\n",
       "      <th id=\"T_58456_level0_col1\" class=\"col_heading level0 col1\" >Calinski-Harabasz</th>\n",
       "      <th id=\"T_58456_level0_col2\" class=\"col_heading level0 col2\" >Davies-Bouldin</th>\n",
       "      <th id=\"T_58456_level0_col3\" class=\"col_heading level0 col3\" >Homogeneity</th>\n",
       "      <th id=\"T_58456_level0_col4\" class=\"col_heading level0 col4\" >Rand Index</th>\n",
       "      <th id=\"T_58456_level0_col5\" class=\"col_heading level0 col5\" >Completeness</th>\n",
       "    </tr>\n",
       "  </thead>\n",
       "  <tbody>\n",
       "    <tr>\n",
       "      <th id=\"T_58456_level0_row0\" class=\"row_heading level0 row0\" >0</th>\n",
       "      <td id=\"T_58456_row0_col0\" class=\"data row0 col0\" >0.4455</td>\n",
       "      <td id=\"T_58456_row0_col1\" class=\"data row0 col1\" >220.2605</td>\n",
       "      <td id=\"T_58456_row0_col2\" class=\"data row0 col2\" >0.8059</td>\n",
       "      <td id=\"T_58456_row0_col3\" class=\"data row0 col3\" >0</td>\n",
       "      <td id=\"T_58456_row0_col4\" class=\"data row0 col4\" >0</td>\n",
       "      <td id=\"T_58456_row0_col5\" class=\"data row0 col5\" >0</td>\n",
       "    </tr>\n",
       "  </tbody>\n",
       "</table>\n"
      ],
      "text/plain": [
       "<pandas.io.formats.style.Styler at 0x2b123ae8340>"
      ]
     },
     "metadata": {},
     "output_type": "display_data"
    },
    {
     "data": {
      "text/html": [],
      "text/plain": [
       "<IPython.core.display.HTML object>"
      ]
     },
     "metadata": {},
     "output_type": "display_data"
    },
    {
     "name": "stdout",
     "output_type": "stream",
     "text": [
      "For hierarchical with 3 clusters with Normalization\n"
     ]
    },
    {
     "data": {
      "application/vnd.jupyter.widget-view+json": {
       "model_id": "5bf1aac0a4c144909cf6f4325d7dfc77",
       "version_major": 2,
       "version_minor": 0
      },
      "text/plain": [
       "interactive(children=(ToggleButtons(description='Plot Type:', icons=('',), options=(('Pipeline Plot', 'pipelin…"
      ]
     },
     "metadata": {},
     "output_type": "display_data"
    },
    {
     "data": {
      "text/html": [
       "<style type=\"text/css\">\n",
       "#T_124e3_row4_col1, #T_124e3_row8_col1 {\n",
       "  background-color: lightgreen;\n",
       "}\n",
       "</style>\n",
       "<table id=\"T_124e3\">\n",
       "  <thead>\n",
       "    <tr>\n",
       "      <th class=\"blank level0\" >&nbsp;</th>\n",
       "      <th id=\"T_124e3_level0_col0\" class=\"col_heading level0 col0\" >Description</th>\n",
       "      <th id=\"T_124e3_level0_col1\" class=\"col_heading level0 col1\" >Value</th>\n",
       "    </tr>\n",
       "  </thead>\n",
       "  <tbody>\n",
       "    <tr>\n",
       "      <th id=\"T_124e3_level0_row0\" class=\"row_heading level0 row0\" >0</th>\n",
       "      <td id=\"T_124e3_row0_col0\" class=\"data row0 col0\" >Session id</td>\n",
       "      <td id=\"T_124e3_row0_col1\" class=\"data row0 col1\" >2</td>\n",
       "    </tr>\n",
       "    <tr>\n",
       "      <th id=\"T_124e3_level0_row1\" class=\"row_heading level0 row1\" >1</th>\n",
       "      <td id=\"T_124e3_row1_col0\" class=\"data row1 col0\" >Original data shape</td>\n",
       "      <td id=\"T_124e3_row1_col1\" class=\"data row1 col1\" >(150, 4)</td>\n",
       "    </tr>\n",
       "    <tr>\n",
       "      <th id=\"T_124e3_level0_row2\" class=\"row_heading level0 row2\" >2</th>\n",
       "      <td id=\"T_124e3_row2_col0\" class=\"data row2 col0\" >Transformed data shape</td>\n",
       "      <td id=\"T_124e3_row2_col1\" class=\"data row2 col1\" >(150, 4)</td>\n",
       "    </tr>\n",
       "    <tr>\n",
       "      <th id=\"T_124e3_level0_row3\" class=\"row_heading level0 row3\" >3</th>\n",
       "      <td id=\"T_124e3_row3_col0\" class=\"data row3 col0\" >Numeric features</td>\n",
       "      <td id=\"T_124e3_row3_col1\" class=\"data row3 col1\" >4</td>\n",
       "    </tr>\n",
       "    <tr>\n",
       "      <th id=\"T_124e3_level0_row4\" class=\"row_heading level0 row4\" >4</th>\n",
       "      <td id=\"T_124e3_row4_col0\" class=\"data row4 col0\" >Preprocess</td>\n",
       "      <td id=\"T_124e3_row4_col1\" class=\"data row4 col1\" >True</td>\n",
       "    </tr>\n",
       "    <tr>\n",
       "      <th id=\"T_124e3_level0_row5\" class=\"row_heading level0 row5\" >5</th>\n",
       "      <td id=\"T_124e3_row5_col0\" class=\"data row5 col0\" >Imputation type</td>\n",
       "      <td id=\"T_124e3_row5_col1\" class=\"data row5 col1\" >simple</td>\n",
       "    </tr>\n",
       "    <tr>\n",
       "      <th id=\"T_124e3_level0_row6\" class=\"row_heading level0 row6\" >6</th>\n",
       "      <td id=\"T_124e3_row6_col0\" class=\"data row6 col0\" >Numeric imputation</td>\n",
       "      <td id=\"T_124e3_row6_col1\" class=\"data row6 col1\" >mean</td>\n",
       "    </tr>\n",
       "    <tr>\n",
       "      <th id=\"T_124e3_level0_row7\" class=\"row_heading level0 row7\" >7</th>\n",
       "      <td id=\"T_124e3_row7_col0\" class=\"data row7 col0\" >Categorical imputation</td>\n",
       "      <td id=\"T_124e3_row7_col1\" class=\"data row7 col1\" >mode</td>\n",
       "    </tr>\n",
       "    <tr>\n",
       "      <th id=\"T_124e3_level0_row8\" class=\"row_heading level0 row8\" >8</th>\n",
       "      <td id=\"T_124e3_row8_col0\" class=\"data row8 col0\" >Normalize</td>\n",
       "      <td id=\"T_124e3_row8_col1\" class=\"data row8 col1\" >True</td>\n",
       "    </tr>\n",
       "    <tr>\n",
       "      <th id=\"T_124e3_level0_row9\" class=\"row_heading level0 row9\" >9</th>\n",
       "      <td id=\"T_124e3_row9_col0\" class=\"data row9 col0\" >Normalize method</td>\n",
       "      <td id=\"T_124e3_row9_col1\" class=\"data row9 col1\" >zscore</td>\n",
       "    </tr>\n",
       "    <tr>\n",
       "      <th id=\"T_124e3_level0_row10\" class=\"row_heading level0 row10\" >10</th>\n",
       "      <td id=\"T_124e3_row10_col0\" class=\"data row10 col0\" >CPU Jobs</td>\n",
       "      <td id=\"T_124e3_row10_col1\" class=\"data row10 col1\" >-1</td>\n",
       "    </tr>\n",
       "    <tr>\n",
       "      <th id=\"T_124e3_level0_row11\" class=\"row_heading level0 row11\" >11</th>\n",
       "      <td id=\"T_124e3_row11_col0\" class=\"data row11 col0\" >Use GPU</td>\n",
       "      <td id=\"T_124e3_row11_col1\" class=\"data row11 col1\" >False</td>\n",
       "    </tr>\n",
       "    <tr>\n",
       "      <th id=\"T_124e3_level0_row12\" class=\"row_heading level0 row12\" >12</th>\n",
       "      <td id=\"T_124e3_row12_col0\" class=\"data row12 col0\" >Log Experiment</td>\n",
       "      <td id=\"T_124e3_row12_col1\" class=\"data row12 col1\" >False</td>\n",
       "    </tr>\n",
       "    <tr>\n",
       "      <th id=\"T_124e3_level0_row13\" class=\"row_heading level0 row13\" >13</th>\n",
       "      <td id=\"T_124e3_row13_col0\" class=\"data row13 col0\" >Experiment Name</td>\n",
       "      <td id=\"T_124e3_row13_col1\" class=\"data row13 col1\" >cluster-default-name</td>\n",
       "    </tr>\n",
       "    <tr>\n",
       "      <th id=\"T_124e3_level0_row14\" class=\"row_heading level0 row14\" >14</th>\n",
       "      <td id=\"T_124e3_row14_col0\" class=\"data row14 col0\" >USI</td>\n",
       "      <td id=\"T_124e3_row14_col1\" class=\"data row14 col1\" >d05f</td>\n",
       "    </tr>\n",
       "  </tbody>\n",
       "</table>\n"
      ],
      "text/plain": [
       "<pandas.io.formats.style.Styler at 0x2b11e811750>"
      ]
     },
     "metadata": {},
     "output_type": "display_data"
    },
    {
     "data": {
      "text/html": [],
      "text/plain": [
       "<IPython.core.display.HTML object>"
      ]
     },
     "metadata": {},
     "output_type": "display_data"
    },
    {
     "data": {
      "text/html": [
       "<style type=\"text/css\">\n",
       "</style>\n",
       "<table id=\"T_80071\">\n",
       "  <thead>\n",
       "    <tr>\n",
       "      <th class=\"blank level0\" >&nbsp;</th>\n",
       "      <th id=\"T_80071_level0_col0\" class=\"col_heading level0 col0\" >Silhouette</th>\n",
       "      <th id=\"T_80071_level0_col1\" class=\"col_heading level0 col1\" >Calinski-Harabasz</th>\n",
       "      <th id=\"T_80071_level0_col2\" class=\"col_heading level0 col2\" >Davies-Bouldin</th>\n",
       "      <th id=\"T_80071_level0_col3\" class=\"col_heading level0 col3\" >Homogeneity</th>\n",
       "      <th id=\"T_80071_level0_col4\" class=\"col_heading level0 col4\" >Rand Index</th>\n",
       "      <th id=\"T_80071_level0_col5\" class=\"col_heading level0 col5\" >Completeness</th>\n",
       "    </tr>\n",
       "  </thead>\n",
       "  <tbody>\n",
       "    <tr>\n",
       "      <th id=\"T_80071_level0_row0\" class=\"row_heading level0 row0\" >0</th>\n",
       "      <td id=\"T_80071_row0_col0\" class=\"data row0 col0\" >0.3993</td>\n",
       "      <td id=\"T_80071_row0_col1\" class=\"data row0 col1\" >198.7303</td>\n",
       "      <td id=\"T_80071_row0_col2\" class=\"data row0 col2\" >0.9811</td>\n",
       "      <td id=\"T_80071_row0_col3\" class=\"data row0 col3\" >0</td>\n",
       "      <td id=\"T_80071_row0_col4\" class=\"data row0 col4\" >0</td>\n",
       "      <td id=\"T_80071_row0_col5\" class=\"data row0 col5\" >0</td>\n",
       "    </tr>\n",
       "  </tbody>\n",
       "</table>\n"
      ],
      "text/plain": [
       "<pandas.io.formats.style.Styler at 0x2b11e813910>"
      ]
     },
     "metadata": {},
     "output_type": "display_data"
    },
    {
     "data": {
      "text/html": [],
      "text/plain": [
       "<IPython.core.display.HTML object>"
      ]
     },
     "metadata": {},
     "output_type": "display_data"
    },
    {
     "name": "stdout",
     "output_type": "stream",
     "text": [
      "For hierarchical with 4 clusters with Normalization\n"
     ]
    },
    {
     "data": {
      "application/vnd.jupyter.widget-view+json": {
       "model_id": "346f7c91a4db4f9d9446a0db21b4559b",
       "version_major": 2,
       "version_minor": 0
      },
      "text/plain": [
       "interactive(children=(ToggleButtons(description='Plot Type:', icons=('',), options=(('Pipeline Plot', 'pipelin…"
      ]
     },
     "metadata": {},
     "output_type": "display_data"
    },
    {
     "data": {
      "text/html": [
       "<style type=\"text/css\">\n",
       "#T_53d6a_row4_col1, #T_53d6a_row8_col1 {\n",
       "  background-color: lightgreen;\n",
       "}\n",
       "</style>\n",
       "<table id=\"T_53d6a\">\n",
       "  <thead>\n",
       "    <tr>\n",
       "      <th class=\"blank level0\" >&nbsp;</th>\n",
       "      <th id=\"T_53d6a_level0_col0\" class=\"col_heading level0 col0\" >Description</th>\n",
       "      <th id=\"T_53d6a_level0_col1\" class=\"col_heading level0 col1\" >Value</th>\n",
       "    </tr>\n",
       "  </thead>\n",
       "  <tbody>\n",
       "    <tr>\n",
       "      <th id=\"T_53d6a_level0_row0\" class=\"row_heading level0 row0\" >0</th>\n",
       "      <td id=\"T_53d6a_row0_col0\" class=\"data row0 col0\" >Session id</td>\n",
       "      <td id=\"T_53d6a_row0_col1\" class=\"data row0 col1\" >2</td>\n",
       "    </tr>\n",
       "    <tr>\n",
       "      <th id=\"T_53d6a_level0_row1\" class=\"row_heading level0 row1\" >1</th>\n",
       "      <td id=\"T_53d6a_row1_col0\" class=\"data row1 col0\" >Original data shape</td>\n",
       "      <td id=\"T_53d6a_row1_col1\" class=\"data row1 col1\" >(150, 4)</td>\n",
       "    </tr>\n",
       "    <tr>\n",
       "      <th id=\"T_53d6a_level0_row2\" class=\"row_heading level0 row2\" >2</th>\n",
       "      <td id=\"T_53d6a_row2_col0\" class=\"data row2 col0\" >Transformed data shape</td>\n",
       "      <td id=\"T_53d6a_row2_col1\" class=\"data row2 col1\" >(150, 4)</td>\n",
       "    </tr>\n",
       "    <tr>\n",
       "      <th id=\"T_53d6a_level0_row3\" class=\"row_heading level0 row3\" >3</th>\n",
       "      <td id=\"T_53d6a_row3_col0\" class=\"data row3 col0\" >Numeric features</td>\n",
       "      <td id=\"T_53d6a_row3_col1\" class=\"data row3 col1\" >4</td>\n",
       "    </tr>\n",
       "    <tr>\n",
       "      <th id=\"T_53d6a_level0_row4\" class=\"row_heading level0 row4\" >4</th>\n",
       "      <td id=\"T_53d6a_row4_col0\" class=\"data row4 col0\" >Preprocess</td>\n",
       "      <td id=\"T_53d6a_row4_col1\" class=\"data row4 col1\" >True</td>\n",
       "    </tr>\n",
       "    <tr>\n",
       "      <th id=\"T_53d6a_level0_row5\" class=\"row_heading level0 row5\" >5</th>\n",
       "      <td id=\"T_53d6a_row5_col0\" class=\"data row5 col0\" >Imputation type</td>\n",
       "      <td id=\"T_53d6a_row5_col1\" class=\"data row5 col1\" >simple</td>\n",
       "    </tr>\n",
       "    <tr>\n",
       "      <th id=\"T_53d6a_level0_row6\" class=\"row_heading level0 row6\" >6</th>\n",
       "      <td id=\"T_53d6a_row6_col0\" class=\"data row6 col0\" >Numeric imputation</td>\n",
       "      <td id=\"T_53d6a_row6_col1\" class=\"data row6 col1\" >mean</td>\n",
       "    </tr>\n",
       "    <tr>\n",
       "      <th id=\"T_53d6a_level0_row7\" class=\"row_heading level0 row7\" >7</th>\n",
       "      <td id=\"T_53d6a_row7_col0\" class=\"data row7 col0\" >Categorical imputation</td>\n",
       "      <td id=\"T_53d6a_row7_col1\" class=\"data row7 col1\" >mode</td>\n",
       "    </tr>\n",
       "    <tr>\n",
       "      <th id=\"T_53d6a_level0_row8\" class=\"row_heading level0 row8\" >8</th>\n",
       "      <td id=\"T_53d6a_row8_col0\" class=\"data row8 col0\" >Normalize</td>\n",
       "      <td id=\"T_53d6a_row8_col1\" class=\"data row8 col1\" >True</td>\n",
       "    </tr>\n",
       "    <tr>\n",
       "      <th id=\"T_53d6a_level0_row9\" class=\"row_heading level0 row9\" >9</th>\n",
       "      <td id=\"T_53d6a_row9_col0\" class=\"data row9 col0\" >Normalize method</td>\n",
       "      <td id=\"T_53d6a_row9_col1\" class=\"data row9 col1\" >zscore</td>\n",
       "    </tr>\n",
       "    <tr>\n",
       "      <th id=\"T_53d6a_level0_row10\" class=\"row_heading level0 row10\" >10</th>\n",
       "      <td id=\"T_53d6a_row10_col0\" class=\"data row10 col0\" >CPU Jobs</td>\n",
       "      <td id=\"T_53d6a_row10_col1\" class=\"data row10 col1\" >-1</td>\n",
       "    </tr>\n",
       "    <tr>\n",
       "      <th id=\"T_53d6a_level0_row11\" class=\"row_heading level0 row11\" >11</th>\n",
       "      <td id=\"T_53d6a_row11_col0\" class=\"data row11 col0\" >Use GPU</td>\n",
       "      <td id=\"T_53d6a_row11_col1\" class=\"data row11 col1\" >False</td>\n",
       "    </tr>\n",
       "    <tr>\n",
       "      <th id=\"T_53d6a_level0_row12\" class=\"row_heading level0 row12\" >12</th>\n",
       "      <td id=\"T_53d6a_row12_col0\" class=\"data row12 col0\" >Log Experiment</td>\n",
       "      <td id=\"T_53d6a_row12_col1\" class=\"data row12 col1\" >False</td>\n",
       "    </tr>\n",
       "    <tr>\n",
       "      <th id=\"T_53d6a_level0_row13\" class=\"row_heading level0 row13\" >13</th>\n",
       "      <td id=\"T_53d6a_row13_col0\" class=\"data row13 col0\" >Experiment Name</td>\n",
       "      <td id=\"T_53d6a_row13_col1\" class=\"data row13 col1\" >cluster-default-name</td>\n",
       "    </tr>\n",
       "    <tr>\n",
       "      <th id=\"T_53d6a_level0_row14\" class=\"row_heading level0 row14\" >14</th>\n",
       "      <td id=\"T_53d6a_row14_col0\" class=\"data row14 col0\" >USI</td>\n",
       "      <td id=\"T_53d6a_row14_col1\" class=\"data row14 col1\" >d009</td>\n",
       "    </tr>\n",
       "  </tbody>\n",
       "</table>\n"
      ],
      "text/plain": [
       "<pandas.io.formats.style.Styler at 0x2b123b0f4c0>"
      ]
     },
     "metadata": {},
     "output_type": "display_data"
    },
    {
     "data": {
      "text/html": [],
      "text/plain": [
       "<IPython.core.display.HTML object>"
      ]
     },
     "metadata": {},
     "output_type": "display_data"
    },
    {
     "data": {
      "text/html": [
       "<style type=\"text/css\">\n",
       "</style>\n",
       "<table id=\"T_1c384\">\n",
       "  <thead>\n",
       "    <tr>\n",
       "      <th class=\"blank level0\" >&nbsp;</th>\n",
       "      <th id=\"T_1c384_level0_col0\" class=\"col_heading level0 col0\" >Silhouette</th>\n",
       "      <th id=\"T_1c384_level0_col1\" class=\"col_heading level0 col1\" >Calinski-Harabasz</th>\n",
       "      <th id=\"T_1c384_level0_col2\" class=\"col_heading level0 col2\" >Davies-Bouldin</th>\n",
       "      <th id=\"T_1c384_level0_col3\" class=\"col_heading level0 col3\" >Homogeneity</th>\n",
       "      <th id=\"T_1c384_level0_col4\" class=\"col_heading level0 col4\" >Rand Index</th>\n",
       "      <th id=\"T_1c384_level0_col5\" class=\"col_heading level0 col5\" >Completeness</th>\n",
       "    </tr>\n",
       "  </thead>\n",
       "  <tbody>\n",
       "    <tr>\n",
       "      <th id=\"T_1c384_level0_row0\" class=\"row_heading level0 row0\" >0</th>\n",
       "      <td id=\"T_1c384_row0_col0\" class=\"data row0 col0\" >0.3550</td>\n",
       "      <td id=\"T_1c384_row0_col1\" class=\"data row0 col1\" >194.9616</td>\n",
       "      <td id=\"T_1c384_row0_col2\" class=\"data row0 col2\" >0.9465</td>\n",
       "      <td id=\"T_1c384_row0_col3\" class=\"data row0 col3\" >0</td>\n",
       "      <td id=\"T_1c384_row0_col4\" class=\"data row0 col4\" >0</td>\n",
       "      <td id=\"T_1c384_row0_col5\" class=\"data row0 col5\" >0</td>\n",
       "    </tr>\n",
       "  </tbody>\n",
       "</table>\n"
      ],
      "text/plain": [
       "<pandas.io.formats.style.Styler at 0x2b11e810040>"
      ]
     },
     "metadata": {},
     "output_type": "display_data"
    },
    {
     "data": {
      "text/html": [],
      "text/plain": [
       "<IPython.core.display.HTML object>"
      ]
     },
     "metadata": {},
     "output_type": "display_data"
    },
    {
     "name": "stdout",
     "output_type": "stream",
     "text": [
      "For hierarchical with 5 clusters with Normalization\n"
     ]
    },
    {
     "data": {
      "application/vnd.jupyter.widget-view+json": {
       "model_id": "cea351b21e3a4e94b3610f92e46cacaf",
       "version_major": 2,
       "version_minor": 0
      },
      "text/plain": [
       "interactive(children=(ToggleButtons(description='Plot Type:', icons=('',), options=(('Pipeline Plot', 'pipelin…"
      ]
     },
     "metadata": {},
     "output_type": "display_data"
    },
    {
     "data": {
      "text/html": [
       "<style type=\"text/css\">\n",
       "#T_e7cdb_row4_col1, #T_e7cdb_row8_col1 {\n",
       "  background-color: lightgreen;\n",
       "}\n",
       "</style>\n",
       "<table id=\"T_e7cdb\">\n",
       "  <thead>\n",
       "    <tr>\n",
       "      <th class=\"blank level0\" >&nbsp;</th>\n",
       "      <th id=\"T_e7cdb_level0_col0\" class=\"col_heading level0 col0\" >Description</th>\n",
       "      <th id=\"T_e7cdb_level0_col1\" class=\"col_heading level0 col1\" >Value</th>\n",
       "    </tr>\n",
       "  </thead>\n",
       "  <tbody>\n",
       "    <tr>\n",
       "      <th id=\"T_e7cdb_level0_row0\" class=\"row_heading level0 row0\" >0</th>\n",
       "      <td id=\"T_e7cdb_row0_col0\" class=\"data row0 col0\" >Session id</td>\n",
       "      <td id=\"T_e7cdb_row0_col1\" class=\"data row0 col1\" >2</td>\n",
       "    </tr>\n",
       "    <tr>\n",
       "      <th id=\"T_e7cdb_level0_row1\" class=\"row_heading level0 row1\" >1</th>\n",
       "      <td id=\"T_e7cdb_row1_col0\" class=\"data row1 col0\" >Original data shape</td>\n",
       "      <td id=\"T_e7cdb_row1_col1\" class=\"data row1 col1\" >(150, 4)</td>\n",
       "    </tr>\n",
       "    <tr>\n",
       "      <th id=\"T_e7cdb_level0_row2\" class=\"row_heading level0 row2\" >2</th>\n",
       "      <td id=\"T_e7cdb_row2_col0\" class=\"data row2 col0\" >Transformed data shape</td>\n",
       "      <td id=\"T_e7cdb_row2_col1\" class=\"data row2 col1\" >(150, 4)</td>\n",
       "    </tr>\n",
       "    <tr>\n",
       "      <th id=\"T_e7cdb_level0_row3\" class=\"row_heading level0 row3\" >3</th>\n",
       "      <td id=\"T_e7cdb_row3_col0\" class=\"data row3 col0\" >Numeric features</td>\n",
       "      <td id=\"T_e7cdb_row3_col1\" class=\"data row3 col1\" >4</td>\n",
       "    </tr>\n",
       "    <tr>\n",
       "      <th id=\"T_e7cdb_level0_row4\" class=\"row_heading level0 row4\" >4</th>\n",
       "      <td id=\"T_e7cdb_row4_col0\" class=\"data row4 col0\" >Preprocess</td>\n",
       "      <td id=\"T_e7cdb_row4_col1\" class=\"data row4 col1\" >True</td>\n",
       "    </tr>\n",
       "    <tr>\n",
       "      <th id=\"T_e7cdb_level0_row5\" class=\"row_heading level0 row5\" >5</th>\n",
       "      <td id=\"T_e7cdb_row5_col0\" class=\"data row5 col0\" >Imputation type</td>\n",
       "      <td id=\"T_e7cdb_row5_col1\" class=\"data row5 col1\" >simple</td>\n",
       "    </tr>\n",
       "    <tr>\n",
       "      <th id=\"T_e7cdb_level0_row6\" class=\"row_heading level0 row6\" >6</th>\n",
       "      <td id=\"T_e7cdb_row6_col0\" class=\"data row6 col0\" >Numeric imputation</td>\n",
       "      <td id=\"T_e7cdb_row6_col1\" class=\"data row6 col1\" >mean</td>\n",
       "    </tr>\n",
       "    <tr>\n",
       "      <th id=\"T_e7cdb_level0_row7\" class=\"row_heading level0 row7\" >7</th>\n",
       "      <td id=\"T_e7cdb_row7_col0\" class=\"data row7 col0\" >Categorical imputation</td>\n",
       "      <td id=\"T_e7cdb_row7_col1\" class=\"data row7 col1\" >mode</td>\n",
       "    </tr>\n",
       "    <tr>\n",
       "      <th id=\"T_e7cdb_level0_row8\" class=\"row_heading level0 row8\" >8</th>\n",
       "      <td id=\"T_e7cdb_row8_col0\" class=\"data row8 col0\" >Normalize</td>\n",
       "      <td id=\"T_e7cdb_row8_col1\" class=\"data row8 col1\" >True</td>\n",
       "    </tr>\n",
       "    <tr>\n",
       "      <th id=\"T_e7cdb_level0_row9\" class=\"row_heading level0 row9\" >9</th>\n",
       "      <td id=\"T_e7cdb_row9_col0\" class=\"data row9 col0\" >Normalize method</td>\n",
       "      <td id=\"T_e7cdb_row9_col1\" class=\"data row9 col1\" >zscore</td>\n",
       "    </tr>\n",
       "    <tr>\n",
       "      <th id=\"T_e7cdb_level0_row10\" class=\"row_heading level0 row10\" >10</th>\n",
       "      <td id=\"T_e7cdb_row10_col0\" class=\"data row10 col0\" >CPU Jobs</td>\n",
       "      <td id=\"T_e7cdb_row10_col1\" class=\"data row10 col1\" >-1</td>\n",
       "    </tr>\n",
       "    <tr>\n",
       "      <th id=\"T_e7cdb_level0_row11\" class=\"row_heading level0 row11\" >11</th>\n",
       "      <td id=\"T_e7cdb_row11_col0\" class=\"data row11 col0\" >Use GPU</td>\n",
       "      <td id=\"T_e7cdb_row11_col1\" class=\"data row11 col1\" >False</td>\n",
       "    </tr>\n",
       "    <tr>\n",
       "      <th id=\"T_e7cdb_level0_row12\" class=\"row_heading level0 row12\" >12</th>\n",
       "      <td id=\"T_e7cdb_row12_col0\" class=\"data row12 col0\" >Log Experiment</td>\n",
       "      <td id=\"T_e7cdb_row12_col1\" class=\"data row12 col1\" >False</td>\n",
       "    </tr>\n",
       "    <tr>\n",
       "      <th id=\"T_e7cdb_level0_row13\" class=\"row_heading level0 row13\" >13</th>\n",
       "      <td id=\"T_e7cdb_row13_col0\" class=\"data row13 col0\" >Experiment Name</td>\n",
       "      <td id=\"T_e7cdb_row13_col1\" class=\"data row13 col1\" >cluster-default-name</td>\n",
       "    </tr>\n",
       "    <tr>\n",
       "      <th id=\"T_e7cdb_level0_row14\" class=\"row_heading level0 row14\" >14</th>\n",
       "      <td id=\"T_e7cdb_row14_col0\" class=\"data row14 col0\" >USI</td>\n",
       "      <td id=\"T_e7cdb_row14_col1\" class=\"data row14 col1\" >53ef</td>\n",
       "    </tr>\n",
       "  </tbody>\n",
       "</table>\n"
      ],
      "text/plain": [
       "<pandas.io.formats.style.Styler at 0x2b123ae8280>"
      ]
     },
     "metadata": {},
     "output_type": "display_data"
    },
    {
     "data": {
      "text/html": [],
      "text/plain": [
       "<IPython.core.display.HTML object>"
      ]
     },
     "metadata": {},
     "output_type": "display_data"
    },
    {
     "data": {
      "text/html": [
       "<style type=\"text/css\">\n",
       "</style>\n",
       "<table id=\"T_fed2d\">\n",
       "  <thead>\n",
       "    <tr>\n",
       "      <th class=\"blank level0\" >&nbsp;</th>\n",
       "      <th id=\"T_fed2d_level0_col0\" class=\"col_heading level0 col0\" >Silhouette</th>\n",
       "      <th id=\"T_fed2d_level0_col1\" class=\"col_heading level0 col1\" >Calinski-Harabasz</th>\n",
       "      <th id=\"T_fed2d_level0_col2\" class=\"col_heading level0 col2\" >Davies-Bouldin</th>\n",
       "      <th id=\"T_fed2d_level0_col3\" class=\"col_heading level0 col3\" >Homogeneity</th>\n",
       "      <th id=\"T_fed2d_level0_col4\" class=\"col_heading level0 col4\" >Rand Index</th>\n",
       "      <th id=\"T_fed2d_level0_col5\" class=\"col_heading level0 col5\" >Completeness</th>\n",
       "    </tr>\n",
       "  </thead>\n",
       "  <tbody>\n",
       "    <tr>\n",
       "      <th id=\"T_fed2d_level0_row0\" class=\"row_heading level0 row0\" >0</th>\n",
       "      <td id=\"T_fed2d_row0_col0\" class=\"data row0 col0\" >0.4523</td>\n",
       "      <td id=\"T_fed2d_row0_col1\" class=\"data row0 col1\" >217.3493</td>\n",
       "      <td id=\"T_fed2d_row0_col2\" class=\"data row0 col2\" >0.8241</td>\n",
       "      <td id=\"T_fed2d_row0_col3\" class=\"data row0 col3\" >0</td>\n",
       "      <td id=\"T_fed2d_row0_col4\" class=\"data row0 col4\" >0</td>\n",
       "      <td id=\"T_fed2d_row0_col5\" class=\"data row0 col5\" >0</td>\n",
       "    </tr>\n",
       "  </tbody>\n",
       "</table>\n"
      ],
      "text/plain": [
       "<pandas.io.formats.style.Styler at 0x2b123ae9f90>"
      ]
     },
     "metadata": {},
     "output_type": "display_data"
    },
    {
     "data": {
      "text/html": [],
      "text/plain": [
       "<IPython.core.display.HTML object>"
      ]
     },
     "metadata": {},
     "output_type": "display_data"
    },
    {
     "name": "stdout",
     "output_type": "stream",
     "text": [
      "For birch with 3 clusters with Normalization\n"
     ]
    },
    {
     "data": {
      "application/vnd.jupyter.widget-view+json": {
       "model_id": "93d5185064624461bccb869699f59d28",
       "version_major": 2,
       "version_minor": 0
      },
      "text/plain": [
       "interactive(children=(ToggleButtons(description='Plot Type:', icons=('',), options=(('Pipeline Plot', 'pipelin…"
      ]
     },
     "metadata": {},
     "output_type": "display_data"
    },
    {
     "data": {
      "text/html": [
       "<style type=\"text/css\">\n",
       "#T_45aa1_row4_col1, #T_45aa1_row8_col1 {\n",
       "  background-color: lightgreen;\n",
       "}\n",
       "</style>\n",
       "<table id=\"T_45aa1\">\n",
       "  <thead>\n",
       "    <tr>\n",
       "      <th class=\"blank level0\" >&nbsp;</th>\n",
       "      <th id=\"T_45aa1_level0_col0\" class=\"col_heading level0 col0\" >Description</th>\n",
       "      <th id=\"T_45aa1_level0_col1\" class=\"col_heading level0 col1\" >Value</th>\n",
       "    </tr>\n",
       "  </thead>\n",
       "  <tbody>\n",
       "    <tr>\n",
       "      <th id=\"T_45aa1_level0_row0\" class=\"row_heading level0 row0\" >0</th>\n",
       "      <td id=\"T_45aa1_row0_col0\" class=\"data row0 col0\" >Session id</td>\n",
       "      <td id=\"T_45aa1_row0_col1\" class=\"data row0 col1\" >2</td>\n",
       "    </tr>\n",
       "    <tr>\n",
       "      <th id=\"T_45aa1_level0_row1\" class=\"row_heading level0 row1\" >1</th>\n",
       "      <td id=\"T_45aa1_row1_col0\" class=\"data row1 col0\" >Original data shape</td>\n",
       "      <td id=\"T_45aa1_row1_col1\" class=\"data row1 col1\" >(150, 4)</td>\n",
       "    </tr>\n",
       "    <tr>\n",
       "      <th id=\"T_45aa1_level0_row2\" class=\"row_heading level0 row2\" >2</th>\n",
       "      <td id=\"T_45aa1_row2_col0\" class=\"data row2 col0\" >Transformed data shape</td>\n",
       "      <td id=\"T_45aa1_row2_col1\" class=\"data row2 col1\" >(150, 4)</td>\n",
       "    </tr>\n",
       "    <tr>\n",
       "      <th id=\"T_45aa1_level0_row3\" class=\"row_heading level0 row3\" >3</th>\n",
       "      <td id=\"T_45aa1_row3_col0\" class=\"data row3 col0\" >Numeric features</td>\n",
       "      <td id=\"T_45aa1_row3_col1\" class=\"data row3 col1\" >4</td>\n",
       "    </tr>\n",
       "    <tr>\n",
       "      <th id=\"T_45aa1_level0_row4\" class=\"row_heading level0 row4\" >4</th>\n",
       "      <td id=\"T_45aa1_row4_col0\" class=\"data row4 col0\" >Preprocess</td>\n",
       "      <td id=\"T_45aa1_row4_col1\" class=\"data row4 col1\" >True</td>\n",
       "    </tr>\n",
       "    <tr>\n",
       "      <th id=\"T_45aa1_level0_row5\" class=\"row_heading level0 row5\" >5</th>\n",
       "      <td id=\"T_45aa1_row5_col0\" class=\"data row5 col0\" >Imputation type</td>\n",
       "      <td id=\"T_45aa1_row5_col1\" class=\"data row5 col1\" >simple</td>\n",
       "    </tr>\n",
       "    <tr>\n",
       "      <th id=\"T_45aa1_level0_row6\" class=\"row_heading level0 row6\" >6</th>\n",
       "      <td id=\"T_45aa1_row6_col0\" class=\"data row6 col0\" >Numeric imputation</td>\n",
       "      <td id=\"T_45aa1_row6_col1\" class=\"data row6 col1\" >mean</td>\n",
       "    </tr>\n",
       "    <tr>\n",
       "      <th id=\"T_45aa1_level0_row7\" class=\"row_heading level0 row7\" >7</th>\n",
       "      <td id=\"T_45aa1_row7_col0\" class=\"data row7 col0\" >Categorical imputation</td>\n",
       "      <td id=\"T_45aa1_row7_col1\" class=\"data row7 col1\" >mode</td>\n",
       "    </tr>\n",
       "    <tr>\n",
       "      <th id=\"T_45aa1_level0_row8\" class=\"row_heading level0 row8\" >8</th>\n",
       "      <td id=\"T_45aa1_row8_col0\" class=\"data row8 col0\" >Normalize</td>\n",
       "      <td id=\"T_45aa1_row8_col1\" class=\"data row8 col1\" >True</td>\n",
       "    </tr>\n",
       "    <tr>\n",
       "      <th id=\"T_45aa1_level0_row9\" class=\"row_heading level0 row9\" >9</th>\n",
       "      <td id=\"T_45aa1_row9_col0\" class=\"data row9 col0\" >Normalize method</td>\n",
       "      <td id=\"T_45aa1_row9_col1\" class=\"data row9 col1\" >zscore</td>\n",
       "    </tr>\n",
       "    <tr>\n",
       "      <th id=\"T_45aa1_level0_row10\" class=\"row_heading level0 row10\" >10</th>\n",
       "      <td id=\"T_45aa1_row10_col0\" class=\"data row10 col0\" >CPU Jobs</td>\n",
       "      <td id=\"T_45aa1_row10_col1\" class=\"data row10 col1\" >-1</td>\n",
       "    </tr>\n",
       "    <tr>\n",
       "      <th id=\"T_45aa1_level0_row11\" class=\"row_heading level0 row11\" >11</th>\n",
       "      <td id=\"T_45aa1_row11_col0\" class=\"data row11 col0\" >Use GPU</td>\n",
       "      <td id=\"T_45aa1_row11_col1\" class=\"data row11 col1\" >False</td>\n",
       "    </tr>\n",
       "    <tr>\n",
       "      <th id=\"T_45aa1_level0_row12\" class=\"row_heading level0 row12\" >12</th>\n",
       "      <td id=\"T_45aa1_row12_col0\" class=\"data row12 col0\" >Log Experiment</td>\n",
       "      <td id=\"T_45aa1_row12_col1\" class=\"data row12 col1\" >False</td>\n",
       "    </tr>\n",
       "    <tr>\n",
       "      <th id=\"T_45aa1_level0_row13\" class=\"row_heading level0 row13\" >13</th>\n",
       "      <td id=\"T_45aa1_row13_col0\" class=\"data row13 col0\" >Experiment Name</td>\n",
       "      <td id=\"T_45aa1_row13_col1\" class=\"data row13 col1\" >cluster-default-name</td>\n",
       "    </tr>\n",
       "    <tr>\n",
       "      <th id=\"T_45aa1_level0_row14\" class=\"row_heading level0 row14\" >14</th>\n",
       "      <td id=\"T_45aa1_row14_col0\" class=\"data row14 col0\" >USI</td>\n",
       "      <td id=\"T_45aa1_row14_col1\" class=\"data row14 col1\" >be67</td>\n",
       "    </tr>\n",
       "  </tbody>\n",
       "</table>\n"
      ],
      "text/plain": [
       "<pandas.io.formats.style.Styler at 0x2b123b0e1a0>"
      ]
     },
     "metadata": {},
     "output_type": "display_data"
    },
    {
     "data": {
      "text/html": [],
      "text/plain": [
       "<IPython.core.display.HTML object>"
      ]
     },
     "metadata": {},
     "output_type": "display_data"
    },
    {
     "data": {
      "text/html": [
       "<style type=\"text/css\">\n",
       "</style>\n",
       "<table id=\"T_8b9b6\">\n",
       "  <thead>\n",
       "    <tr>\n",
       "      <th class=\"blank level0\" >&nbsp;</th>\n",
       "      <th id=\"T_8b9b6_level0_col0\" class=\"col_heading level0 col0\" >Silhouette</th>\n",
       "      <th id=\"T_8b9b6_level0_col1\" class=\"col_heading level0 col1\" >Calinski-Harabasz</th>\n",
       "      <th id=\"T_8b9b6_level0_col2\" class=\"col_heading level0 col2\" >Davies-Bouldin</th>\n",
       "      <th id=\"T_8b9b6_level0_col3\" class=\"col_heading level0 col3\" >Homogeneity</th>\n",
       "      <th id=\"T_8b9b6_level0_col4\" class=\"col_heading level0 col4\" >Rand Index</th>\n",
       "      <th id=\"T_8b9b6_level0_col5\" class=\"col_heading level0 col5\" >Completeness</th>\n",
       "    </tr>\n",
       "  </thead>\n",
       "  <tbody>\n",
       "    <tr>\n",
       "      <th id=\"T_8b9b6_level0_row0\" class=\"row_heading level0 row0\" >0</th>\n",
       "      <td id=\"T_8b9b6_row0_col0\" class=\"data row0 col0\" >0.4036</td>\n",
       "      <td id=\"T_8b9b6_row0_col1\" class=\"data row0 col1\" >185.0947</td>\n",
       "      <td id=\"T_8b9b6_row0_col2\" class=\"data row0 col2\" >0.8383</td>\n",
       "      <td id=\"T_8b9b6_row0_col3\" class=\"data row0 col3\" >0</td>\n",
       "      <td id=\"T_8b9b6_row0_col4\" class=\"data row0 col4\" >0</td>\n",
       "      <td id=\"T_8b9b6_row0_col5\" class=\"data row0 col5\" >0</td>\n",
       "    </tr>\n",
       "  </tbody>\n",
       "</table>\n"
      ],
      "text/plain": [
       "<pandas.io.formats.style.Styler at 0x2b123ae82b0>"
      ]
     },
     "metadata": {},
     "output_type": "display_data"
    },
    {
     "data": {
      "text/html": [],
      "text/plain": [
       "<IPython.core.display.HTML object>"
      ]
     },
     "metadata": {},
     "output_type": "display_data"
    },
    {
     "name": "stdout",
     "output_type": "stream",
     "text": [
      "For birch with 4 clusters with Normalization\n"
     ]
    },
    {
     "data": {
      "application/vnd.jupyter.widget-view+json": {
       "model_id": "6dbe7cf32c654dd2971366bcb94caec5",
       "version_major": 2,
       "version_minor": 0
      },
      "text/plain": [
       "interactive(children=(ToggleButtons(description='Plot Type:', icons=('',), options=(('Pipeline Plot', 'pipelin…"
      ]
     },
     "metadata": {},
     "output_type": "display_data"
    },
    {
     "data": {
      "text/html": [
       "<style type=\"text/css\">\n",
       "#T_3b706_row4_col1, #T_3b706_row8_col1 {\n",
       "  background-color: lightgreen;\n",
       "}\n",
       "</style>\n",
       "<table id=\"T_3b706\">\n",
       "  <thead>\n",
       "    <tr>\n",
       "      <th class=\"blank level0\" >&nbsp;</th>\n",
       "      <th id=\"T_3b706_level0_col0\" class=\"col_heading level0 col0\" >Description</th>\n",
       "      <th id=\"T_3b706_level0_col1\" class=\"col_heading level0 col1\" >Value</th>\n",
       "    </tr>\n",
       "  </thead>\n",
       "  <tbody>\n",
       "    <tr>\n",
       "      <th id=\"T_3b706_level0_row0\" class=\"row_heading level0 row0\" >0</th>\n",
       "      <td id=\"T_3b706_row0_col0\" class=\"data row0 col0\" >Session id</td>\n",
       "      <td id=\"T_3b706_row0_col1\" class=\"data row0 col1\" >2</td>\n",
       "    </tr>\n",
       "    <tr>\n",
       "      <th id=\"T_3b706_level0_row1\" class=\"row_heading level0 row1\" >1</th>\n",
       "      <td id=\"T_3b706_row1_col0\" class=\"data row1 col0\" >Original data shape</td>\n",
       "      <td id=\"T_3b706_row1_col1\" class=\"data row1 col1\" >(150, 4)</td>\n",
       "    </tr>\n",
       "    <tr>\n",
       "      <th id=\"T_3b706_level0_row2\" class=\"row_heading level0 row2\" >2</th>\n",
       "      <td id=\"T_3b706_row2_col0\" class=\"data row2 col0\" >Transformed data shape</td>\n",
       "      <td id=\"T_3b706_row2_col1\" class=\"data row2 col1\" >(150, 4)</td>\n",
       "    </tr>\n",
       "    <tr>\n",
       "      <th id=\"T_3b706_level0_row3\" class=\"row_heading level0 row3\" >3</th>\n",
       "      <td id=\"T_3b706_row3_col0\" class=\"data row3 col0\" >Numeric features</td>\n",
       "      <td id=\"T_3b706_row3_col1\" class=\"data row3 col1\" >4</td>\n",
       "    </tr>\n",
       "    <tr>\n",
       "      <th id=\"T_3b706_level0_row4\" class=\"row_heading level0 row4\" >4</th>\n",
       "      <td id=\"T_3b706_row4_col0\" class=\"data row4 col0\" >Preprocess</td>\n",
       "      <td id=\"T_3b706_row4_col1\" class=\"data row4 col1\" >True</td>\n",
       "    </tr>\n",
       "    <tr>\n",
       "      <th id=\"T_3b706_level0_row5\" class=\"row_heading level0 row5\" >5</th>\n",
       "      <td id=\"T_3b706_row5_col0\" class=\"data row5 col0\" >Imputation type</td>\n",
       "      <td id=\"T_3b706_row5_col1\" class=\"data row5 col1\" >simple</td>\n",
       "    </tr>\n",
       "    <tr>\n",
       "      <th id=\"T_3b706_level0_row6\" class=\"row_heading level0 row6\" >6</th>\n",
       "      <td id=\"T_3b706_row6_col0\" class=\"data row6 col0\" >Numeric imputation</td>\n",
       "      <td id=\"T_3b706_row6_col1\" class=\"data row6 col1\" >mean</td>\n",
       "    </tr>\n",
       "    <tr>\n",
       "      <th id=\"T_3b706_level0_row7\" class=\"row_heading level0 row7\" >7</th>\n",
       "      <td id=\"T_3b706_row7_col0\" class=\"data row7 col0\" >Categorical imputation</td>\n",
       "      <td id=\"T_3b706_row7_col1\" class=\"data row7 col1\" >mode</td>\n",
       "    </tr>\n",
       "    <tr>\n",
       "      <th id=\"T_3b706_level0_row8\" class=\"row_heading level0 row8\" >8</th>\n",
       "      <td id=\"T_3b706_row8_col0\" class=\"data row8 col0\" >Normalize</td>\n",
       "      <td id=\"T_3b706_row8_col1\" class=\"data row8 col1\" >True</td>\n",
       "    </tr>\n",
       "    <tr>\n",
       "      <th id=\"T_3b706_level0_row9\" class=\"row_heading level0 row9\" >9</th>\n",
       "      <td id=\"T_3b706_row9_col0\" class=\"data row9 col0\" >Normalize method</td>\n",
       "      <td id=\"T_3b706_row9_col1\" class=\"data row9 col1\" >zscore</td>\n",
       "    </tr>\n",
       "    <tr>\n",
       "      <th id=\"T_3b706_level0_row10\" class=\"row_heading level0 row10\" >10</th>\n",
       "      <td id=\"T_3b706_row10_col0\" class=\"data row10 col0\" >CPU Jobs</td>\n",
       "      <td id=\"T_3b706_row10_col1\" class=\"data row10 col1\" >-1</td>\n",
       "    </tr>\n",
       "    <tr>\n",
       "      <th id=\"T_3b706_level0_row11\" class=\"row_heading level0 row11\" >11</th>\n",
       "      <td id=\"T_3b706_row11_col0\" class=\"data row11 col0\" >Use GPU</td>\n",
       "      <td id=\"T_3b706_row11_col1\" class=\"data row11 col1\" >False</td>\n",
       "    </tr>\n",
       "    <tr>\n",
       "      <th id=\"T_3b706_level0_row12\" class=\"row_heading level0 row12\" >12</th>\n",
       "      <td id=\"T_3b706_row12_col0\" class=\"data row12 col0\" >Log Experiment</td>\n",
       "      <td id=\"T_3b706_row12_col1\" class=\"data row12 col1\" >False</td>\n",
       "    </tr>\n",
       "    <tr>\n",
       "      <th id=\"T_3b706_level0_row13\" class=\"row_heading level0 row13\" >13</th>\n",
       "      <td id=\"T_3b706_row13_col0\" class=\"data row13 col0\" >Experiment Name</td>\n",
       "      <td id=\"T_3b706_row13_col1\" class=\"data row13 col1\" >cluster-default-name</td>\n",
       "    </tr>\n",
       "    <tr>\n",
       "      <th id=\"T_3b706_level0_row14\" class=\"row_heading level0 row14\" >14</th>\n",
       "      <td id=\"T_3b706_row14_col0\" class=\"data row14 col0\" >USI</td>\n",
       "      <td id=\"T_3b706_row14_col1\" class=\"data row14 col1\" >fcfe</td>\n",
       "    </tr>\n",
       "  </tbody>\n",
       "</table>\n"
      ],
      "text/plain": [
       "<pandas.io.formats.style.Styler at 0x2b123f76800>"
      ]
     },
     "metadata": {},
     "output_type": "display_data"
    },
    {
     "data": {
      "text/html": [],
      "text/plain": [
       "<IPython.core.display.HTML object>"
      ]
     },
     "metadata": {},
     "output_type": "display_data"
    },
    {
     "data": {
      "text/html": [
       "<style type=\"text/css\">\n",
       "</style>\n",
       "<table id=\"T_fd84d\">\n",
       "  <thead>\n",
       "    <tr>\n",
       "      <th class=\"blank level0\" >&nbsp;</th>\n",
       "      <th id=\"T_fd84d_level0_col0\" class=\"col_heading level0 col0\" >Silhouette</th>\n",
       "      <th id=\"T_fd84d_level0_col1\" class=\"col_heading level0 col1\" >Calinski-Harabasz</th>\n",
       "      <th id=\"T_fd84d_level0_col2\" class=\"col_heading level0 col2\" >Davies-Bouldin</th>\n",
       "      <th id=\"T_fd84d_level0_col3\" class=\"col_heading level0 col3\" >Homogeneity</th>\n",
       "      <th id=\"T_fd84d_level0_col4\" class=\"col_heading level0 col4\" >Rand Index</th>\n",
       "      <th id=\"T_fd84d_level0_col5\" class=\"col_heading level0 col5\" >Completeness</th>\n",
       "    </tr>\n",
       "  </thead>\n",
       "  <tbody>\n",
       "    <tr>\n",
       "      <th id=\"T_fd84d_level0_row0\" class=\"row_heading level0 row0\" >0</th>\n",
       "      <td id=\"T_fd84d_row0_col0\" class=\"data row0 col0\" >0.3485</td>\n",
       "      <td id=\"T_fd84d_row0_col1\" class=\"data row0 col1\" >160.5611</td>\n",
       "      <td id=\"T_fd84d_row0_col2\" class=\"data row0 col2\" >0.7899</td>\n",
       "      <td id=\"T_fd84d_row0_col3\" class=\"data row0 col3\" >0</td>\n",
       "      <td id=\"T_fd84d_row0_col4\" class=\"data row0 col4\" >0</td>\n",
       "      <td id=\"T_fd84d_row0_col5\" class=\"data row0 col5\" >0</td>\n",
       "    </tr>\n",
       "  </tbody>\n",
       "</table>\n"
      ],
      "text/plain": [
       "<pandas.io.formats.style.Styler at 0x2b123f74640>"
      ]
     },
     "metadata": {},
     "output_type": "display_data"
    },
    {
     "data": {
      "text/html": [],
      "text/plain": [
       "<IPython.core.display.HTML object>"
      ]
     },
     "metadata": {},
     "output_type": "display_data"
    },
    {
     "name": "stdout",
     "output_type": "stream",
     "text": [
      "For birch with 5 clusters with Normalization\n"
     ]
    },
    {
     "data": {
      "application/vnd.jupyter.widget-view+json": {
       "model_id": "c60ebed7709b4a5a849a84e5bd2fa193",
       "version_major": 2,
       "version_minor": 0
      },
      "text/plain": [
       "interactive(children=(ToggleButtons(description='Plot Type:', icons=('',), options=(('Pipeline Plot', 'pipelin…"
      ]
     },
     "metadata": {},
     "output_type": "display_data"
    }
   ],
   "source": [
    "for model in models:\n",
    "    for cluster in clusters:\n",
    "        setup1 = setup(data, normalize=True, pca=False, preprocess=True, session_id=2)\n",
    "        if model == 'kmeans':\n",
    "            mod1 = create_model('kmeans', num_clusters=cluster)\n",
    "        elif model == 'hierarchical':\n",
    "            mod1 = create_model('hclust', num_clusters=cluster)\n",
    "        elif model == 'birch':\n",
    "            mod1 = create_model('birch', num_clusters=cluster)\n",
    "        print(f\"For {model} with {cluster} clusters with Normalization\")\n",
    "        evaluate_model(mod1)"
   ]
  },
  {
   "cell_type": "markdown",
   "metadata": {},
   "source": [
    "USING TRANSFORMATION"
   ]
  },
  {
   "cell_type": "code",
   "execution_count": 5,
   "metadata": {},
   "outputs": [
    {
     "data": {
      "text/html": [
       "<style type=\"text/css\">\n",
       "#T_cb106_row4_col1 {\n",
       "  background-color: lightgreen;\n",
       "}\n",
       "</style>\n",
       "<table id=\"T_cb106\">\n",
       "  <thead>\n",
       "    <tr>\n",
       "      <th class=\"blank level0\" >&nbsp;</th>\n",
       "      <th id=\"T_cb106_level0_col0\" class=\"col_heading level0 col0\" >Description</th>\n",
       "      <th id=\"T_cb106_level0_col1\" class=\"col_heading level0 col1\" >Value</th>\n",
       "    </tr>\n",
       "  </thead>\n",
       "  <tbody>\n",
       "    <tr>\n",
       "      <th id=\"T_cb106_level0_row0\" class=\"row_heading level0 row0\" >0</th>\n",
       "      <td id=\"T_cb106_row0_col0\" class=\"data row0 col0\" >Session id</td>\n",
       "      <td id=\"T_cb106_row0_col1\" class=\"data row0 col1\" >2</td>\n",
       "    </tr>\n",
       "    <tr>\n",
       "      <th id=\"T_cb106_level0_row1\" class=\"row_heading level0 row1\" >1</th>\n",
       "      <td id=\"T_cb106_row1_col0\" class=\"data row1 col0\" >Original data shape</td>\n",
       "      <td id=\"T_cb106_row1_col1\" class=\"data row1 col1\" >(150, 4)</td>\n",
       "    </tr>\n",
       "    <tr>\n",
       "      <th id=\"T_cb106_level0_row2\" class=\"row_heading level0 row2\" >2</th>\n",
       "      <td id=\"T_cb106_row2_col0\" class=\"data row2 col0\" >Transformed data shape</td>\n",
       "      <td id=\"T_cb106_row2_col1\" class=\"data row2 col1\" >(150, 4)</td>\n",
       "    </tr>\n",
       "    <tr>\n",
       "      <th id=\"T_cb106_level0_row3\" class=\"row_heading level0 row3\" >3</th>\n",
       "      <td id=\"T_cb106_row3_col0\" class=\"data row3 col0\" >Numeric features</td>\n",
       "      <td id=\"T_cb106_row3_col1\" class=\"data row3 col1\" >4</td>\n",
       "    </tr>\n",
       "    <tr>\n",
       "      <th id=\"T_cb106_level0_row4\" class=\"row_heading level0 row4\" >4</th>\n",
       "      <td id=\"T_cb106_row4_col0\" class=\"data row4 col0\" >Preprocess</td>\n",
       "      <td id=\"T_cb106_row4_col1\" class=\"data row4 col1\" >True</td>\n",
       "    </tr>\n",
       "    <tr>\n",
       "      <th id=\"T_cb106_level0_row5\" class=\"row_heading level0 row5\" >5</th>\n",
       "      <td id=\"T_cb106_row5_col0\" class=\"data row5 col0\" >Imputation type</td>\n",
       "      <td id=\"T_cb106_row5_col1\" class=\"data row5 col1\" >simple</td>\n",
       "    </tr>\n",
       "    <tr>\n",
       "      <th id=\"T_cb106_level0_row6\" class=\"row_heading level0 row6\" >6</th>\n",
       "      <td id=\"T_cb106_row6_col0\" class=\"data row6 col0\" >Numeric imputation</td>\n",
       "      <td id=\"T_cb106_row6_col1\" class=\"data row6 col1\" >mean</td>\n",
       "    </tr>\n",
       "    <tr>\n",
       "      <th id=\"T_cb106_level0_row7\" class=\"row_heading level0 row7\" >7</th>\n",
       "      <td id=\"T_cb106_row7_col0\" class=\"data row7 col0\" >Categorical imputation</td>\n",
       "      <td id=\"T_cb106_row7_col1\" class=\"data row7 col1\" >mode</td>\n",
       "    </tr>\n",
       "    <tr>\n",
       "      <th id=\"T_cb106_level0_row8\" class=\"row_heading level0 row8\" >8</th>\n",
       "      <td id=\"T_cb106_row8_col0\" class=\"data row8 col0\" >Transformation</td>\n",
       "      <td id=\"T_cb106_row8_col1\" class=\"data row8 col1\" ><function custom_preprocess at 0x000002B123A65990></td>\n",
       "    </tr>\n",
       "    <tr>\n",
       "      <th id=\"T_cb106_level0_row9\" class=\"row_heading level0 row9\" >9</th>\n",
       "      <td id=\"T_cb106_row9_col0\" class=\"data row9 col0\" >Transformation method</td>\n",
       "      <td id=\"T_cb106_row9_col1\" class=\"data row9 col1\" >yeo-johnson</td>\n",
       "    </tr>\n",
       "    <tr>\n",
       "      <th id=\"T_cb106_level0_row10\" class=\"row_heading level0 row10\" >10</th>\n",
       "      <td id=\"T_cb106_row10_col0\" class=\"data row10 col0\" >CPU Jobs</td>\n",
       "      <td id=\"T_cb106_row10_col1\" class=\"data row10 col1\" >-1</td>\n",
       "    </tr>\n",
       "    <tr>\n",
       "      <th id=\"T_cb106_level0_row11\" class=\"row_heading level0 row11\" >11</th>\n",
       "      <td id=\"T_cb106_row11_col0\" class=\"data row11 col0\" >Use GPU</td>\n",
       "      <td id=\"T_cb106_row11_col1\" class=\"data row11 col1\" >False</td>\n",
       "    </tr>\n",
       "    <tr>\n",
       "      <th id=\"T_cb106_level0_row12\" class=\"row_heading level0 row12\" >12</th>\n",
       "      <td id=\"T_cb106_row12_col0\" class=\"data row12 col0\" >Log Experiment</td>\n",
       "      <td id=\"T_cb106_row12_col1\" class=\"data row12 col1\" >False</td>\n",
       "    </tr>\n",
       "    <tr>\n",
       "      <th id=\"T_cb106_level0_row13\" class=\"row_heading level0 row13\" >13</th>\n",
       "      <td id=\"T_cb106_row13_col0\" class=\"data row13 col0\" >Experiment Name</td>\n",
       "      <td id=\"T_cb106_row13_col1\" class=\"data row13 col1\" >cluster-default-name</td>\n",
       "    </tr>\n",
       "    <tr>\n",
       "      <th id=\"T_cb106_level0_row14\" class=\"row_heading level0 row14\" >14</th>\n",
       "      <td id=\"T_cb106_row14_col0\" class=\"data row14 col0\" >USI</td>\n",
       "      <td id=\"T_cb106_row14_col1\" class=\"data row14 col1\" >a8d0</td>\n",
       "    </tr>\n",
       "  </tbody>\n",
       "</table>\n"
      ],
      "text/plain": [
       "<pandas.io.formats.style.Styler at 0x2b123f9ec50>"
      ]
     },
     "metadata": {},
     "output_type": "display_data"
    },
    {
     "data": {
      "text/html": [],
      "text/plain": [
       "<IPython.core.display.HTML object>"
      ]
     },
     "metadata": {},
     "output_type": "display_data"
    },
    {
     "data": {
      "text/html": [
       "<style type=\"text/css\">\n",
       "</style>\n",
       "<table id=\"T_4e71b\">\n",
       "  <thead>\n",
       "    <tr>\n",
       "      <th class=\"blank level0\" >&nbsp;</th>\n",
       "      <th id=\"T_4e71b_level0_col0\" class=\"col_heading level0 col0\" >Silhouette</th>\n",
       "      <th id=\"T_4e71b_level0_col1\" class=\"col_heading level0 col1\" >Calinski-Harabasz</th>\n",
       "      <th id=\"T_4e71b_level0_col2\" class=\"col_heading level0 col2\" >Davies-Bouldin</th>\n",
       "      <th id=\"T_4e71b_level0_col3\" class=\"col_heading level0 col3\" >Homogeneity</th>\n",
       "      <th id=\"T_4e71b_level0_col4\" class=\"col_heading level0 col4\" >Rand Index</th>\n",
       "      <th id=\"T_4e71b_level0_col5\" class=\"col_heading level0 col5\" >Completeness</th>\n",
       "    </tr>\n",
       "  </thead>\n",
       "  <tbody>\n",
       "    <tr>\n",
       "      <th id=\"T_4e71b_level0_row0\" class=\"row_heading level0 row0\" >0</th>\n",
       "      <td id=\"T_4e71b_row0_col0\" class=\"data row0 col0\" >0.6548</td>\n",
       "      <td id=\"T_4e71b_row0_col1\" class=\"data row0 col1\" >1167.4515</td>\n",
       "      <td id=\"T_4e71b_row0_col2\" class=\"data row0 col2\" >0.4872</td>\n",
       "      <td id=\"T_4e71b_row0_col3\" class=\"data row0 col3\" >0</td>\n",
       "      <td id=\"T_4e71b_row0_col4\" class=\"data row0 col4\" >0</td>\n",
       "      <td id=\"T_4e71b_row0_col5\" class=\"data row0 col5\" >0</td>\n",
       "    </tr>\n",
       "  </tbody>\n",
       "</table>\n"
      ],
      "text/plain": [
       "<pandas.io.formats.style.Styler at 0x2b123f9c190>"
      ]
     },
     "metadata": {},
     "output_type": "display_data"
    },
    {
     "data": {
      "text/html": [],
      "text/plain": [
       "<IPython.core.display.HTML object>"
      ]
     },
     "metadata": {},
     "output_type": "display_data"
    },
    {
     "name": "stdout",
     "output_type": "stream",
     "text": [
      "For kmeans with 3 clusters with Normalization\n"
     ]
    },
    {
     "data": {
      "application/vnd.jupyter.widget-view+json": {
       "model_id": "d7e85b9095714812b2f4dcfeca93bc89",
       "version_major": 2,
       "version_minor": 0
      },
      "text/plain": [
       "interactive(children=(ToggleButtons(description='Plot Type:', icons=('',), options=(('Pipeline Plot', 'pipelin…"
      ]
     },
     "metadata": {},
     "output_type": "display_data"
    },
    {
     "data": {
      "text/html": [
       "<style type=\"text/css\">\n",
       "#T_7ba70_row4_col1 {\n",
       "  background-color: lightgreen;\n",
       "}\n",
       "</style>\n",
       "<table id=\"T_7ba70\">\n",
       "  <thead>\n",
       "    <tr>\n",
       "      <th class=\"blank level0\" >&nbsp;</th>\n",
       "      <th id=\"T_7ba70_level0_col0\" class=\"col_heading level0 col0\" >Description</th>\n",
       "      <th id=\"T_7ba70_level0_col1\" class=\"col_heading level0 col1\" >Value</th>\n",
       "    </tr>\n",
       "  </thead>\n",
       "  <tbody>\n",
       "    <tr>\n",
       "      <th id=\"T_7ba70_level0_row0\" class=\"row_heading level0 row0\" >0</th>\n",
       "      <td id=\"T_7ba70_row0_col0\" class=\"data row0 col0\" >Session id</td>\n",
       "      <td id=\"T_7ba70_row0_col1\" class=\"data row0 col1\" >2</td>\n",
       "    </tr>\n",
       "    <tr>\n",
       "      <th id=\"T_7ba70_level0_row1\" class=\"row_heading level0 row1\" >1</th>\n",
       "      <td id=\"T_7ba70_row1_col0\" class=\"data row1 col0\" >Original data shape</td>\n",
       "      <td id=\"T_7ba70_row1_col1\" class=\"data row1 col1\" >(150, 4)</td>\n",
       "    </tr>\n",
       "    <tr>\n",
       "      <th id=\"T_7ba70_level0_row2\" class=\"row_heading level0 row2\" >2</th>\n",
       "      <td id=\"T_7ba70_row2_col0\" class=\"data row2 col0\" >Transformed data shape</td>\n",
       "      <td id=\"T_7ba70_row2_col1\" class=\"data row2 col1\" >(150, 4)</td>\n",
       "    </tr>\n",
       "    <tr>\n",
       "      <th id=\"T_7ba70_level0_row3\" class=\"row_heading level0 row3\" >3</th>\n",
       "      <td id=\"T_7ba70_row3_col0\" class=\"data row3 col0\" >Numeric features</td>\n",
       "      <td id=\"T_7ba70_row3_col1\" class=\"data row3 col1\" >4</td>\n",
       "    </tr>\n",
       "    <tr>\n",
       "      <th id=\"T_7ba70_level0_row4\" class=\"row_heading level0 row4\" >4</th>\n",
       "      <td id=\"T_7ba70_row4_col0\" class=\"data row4 col0\" >Preprocess</td>\n",
       "      <td id=\"T_7ba70_row4_col1\" class=\"data row4 col1\" >True</td>\n",
       "    </tr>\n",
       "    <tr>\n",
       "      <th id=\"T_7ba70_level0_row5\" class=\"row_heading level0 row5\" >5</th>\n",
       "      <td id=\"T_7ba70_row5_col0\" class=\"data row5 col0\" >Imputation type</td>\n",
       "      <td id=\"T_7ba70_row5_col1\" class=\"data row5 col1\" >simple</td>\n",
       "    </tr>\n",
       "    <tr>\n",
       "      <th id=\"T_7ba70_level0_row6\" class=\"row_heading level0 row6\" >6</th>\n",
       "      <td id=\"T_7ba70_row6_col0\" class=\"data row6 col0\" >Numeric imputation</td>\n",
       "      <td id=\"T_7ba70_row6_col1\" class=\"data row6 col1\" >mean</td>\n",
       "    </tr>\n",
       "    <tr>\n",
       "      <th id=\"T_7ba70_level0_row7\" class=\"row_heading level0 row7\" >7</th>\n",
       "      <td id=\"T_7ba70_row7_col0\" class=\"data row7 col0\" >Categorical imputation</td>\n",
       "      <td id=\"T_7ba70_row7_col1\" class=\"data row7 col1\" >mode</td>\n",
       "    </tr>\n",
       "    <tr>\n",
       "      <th id=\"T_7ba70_level0_row8\" class=\"row_heading level0 row8\" >8</th>\n",
       "      <td id=\"T_7ba70_row8_col0\" class=\"data row8 col0\" >Transformation</td>\n",
       "      <td id=\"T_7ba70_row8_col1\" class=\"data row8 col1\" ><function custom_preprocess at 0x000002B123A65990></td>\n",
       "    </tr>\n",
       "    <tr>\n",
       "      <th id=\"T_7ba70_level0_row9\" class=\"row_heading level0 row9\" >9</th>\n",
       "      <td id=\"T_7ba70_row9_col0\" class=\"data row9 col0\" >Transformation method</td>\n",
       "      <td id=\"T_7ba70_row9_col1\" class=\"data row9 col1\" >yeo-johnson</td>\n",
       "    </tr>\n",
       "    <tr>\n",
       "      <th id=\"T_7ba70_level0_row10\" class=\"row_heading level0 row10\" >10</th>\n",
       "      <td id=\"T_7ba70_row10_col0\" class=\"data row10 col0\" >CPU Jobs</td>\n",
       "      <td id=\"T_7ba70_row10_col1\" class=\"data row10 col1\" >-1</td>\n",
       "    </tr>\n",
       "    <tr>\n",
       "      <th id=\"T_7ba70_level0_row11\" class=\"row_heading level0 row11\" >11</th>\n",
       "      <td id=\"T_7ba70_row11_col0\" class=\"data row11 col0\" >Use GPU</td>\n",
       "      <td id=\"T_7ba70_row11_col1\" class=\"data row11 col1\" >False</td>\n",
       "    </tr>\n",
       "    <tr>\n",
       "      <th id=\"T_7ba70_level0_row12\" class=\"row_heading level0 row12\" >12</th>\n",
       "      <td id=\"T_7ba70_row12_col0\" class=\"data row12 col0\" >Log Experiment</td>\n",
       "      <td id=\"T_7ba70_row12_col1\" class=\"data row12 col1\" >False</td>\n",
       "    </tr>\n",
       "    <tr>\n",
       "      <th id=\"T_7ba70_level0_row13\" class=\"row_heading level0 row13\" >13</th>\n",
       "      <td id=\"T_7ba70_row13_col0\" class=\"data row13 col0\" >Experiment Name</td>\n",
       "      <td id=\"T_7ba70_row13_col1\" class=\"data row13 col1\" >cluster-default-name</td>\n",
       "    </tr>\n",
       "    <tr>\n",
       "      <th id=\"T_7ba70_level0_row14\" class=\"row_heading level0 row14\" >14</th>\n",
       "      <td id=\"T_7ba70_row14_col0\" class=\"data row14 col0\" >USI</td>\n",
       "      <td id=\"T_7ba70_row14_col1\" class=\"data row14 col1\" >2bcf</td>\n",
       "    </tr>\n",
       "  </tbody>\n",
       "</table>\n"
      ],
      "text/plain": [
       "<pandas.io.formats.style.Styler at 0x2b123aa0400>"
      ]
     },
     "metadata": {},
     "output_type": "display_data"
    },
    {
     "data": {
      "text/html": [],
      "text/plain": [
       "<IPython.core.display.HTML object>"
      ]
     },
     "metadata": {},
     "output_type": "display_data"
    },
    {
     "data": {
      "text/html": [
       "<style type=\"text/css\">\n",
       "</style>\n",
       "<table id=\"T_f200f\">\n",
       "  <thead>\n",
       "    <tr>\n",
       "      <th class=\"blank level0\" >&nbsp;</th>\n",
       "      <th id=\"T_f200f_level0_col0\" class=\"col_heading level0 col0\" >Silhouette</th>\n",
       "      <th id=\"T_f200f_level0_col1\" class=\"col_heading level0 col1\" >Calinski-Harabasz</th>\n",
       "      <th id=\"T_f200f_level0_col2\" class=\"col_heading level0 col2\" >Davies-Bouldin</th>\n",
       "      <th id=\"T_f200f_level0_col3\" class=\"col_heading level0 col3\" >Homogeneity</th>\n",
       "      <th id=\"T_f200f_level0_col4\" class=\"col_heading level0 col4\" >Rand Index</th>\n",
       "      <th id=\"T_f200f_level0_col5\" class=\"col_heading level0 col5\" >Completeness</th>\n",
       "    </tr>\n",
       "  </thead>\n",
       "  <tbody>\n",
       "    <tr>\n",
       "      <th id=\"T_f200f_level0_row0\" class=\"row_heading level0 row0\" >0</th>\n",
       "      <td id=\"T_f200f_row0_col0\" class=\"data row0 col0\" >0.6170</td>\n",
       "      <td id=\"T_f200f_row0_col1\" class=\"data row0 col1\" >1353.8006</td>\n",
       "      <td id=\"T_f200f_row0_col2\" class=\"data row0 col2\" >0.5312</td>\n",
       "      <td id=\"T_f200f_row0_col3\" class=\"data row0 col3\" >0</td>\n",
       "      <td id=\"T_f200f_row0_col4\" class=\"data row0 col4\" >0</td>\n",
       "      <td id=\"T_f200f_row0_col5\" class=\"data row0 col5\" >0</td>\n",
       "    </tr>\n",
       "  </tbody>\n",
       "</table>\n"
      ],
      "text/plain": [
       "<pandas.io.formats.style.Styler at 0x2b123f9c670>"
      ]
     },
     "metadata": {},
     "output_type": "display_data"
    },
    {
     "data": {
      "text/html": [],
      "text/plain": [
       "<IPython.core.display.HTML object>"
      ]
     },
     "metadata": {},
     "output_type": "display_data"
    },
    {
     "name": "stdout",
     "output_type": "stream",
     "text": [
      "For kmeans with 4 clusters with Normalization\n"
     ]
    },
    {
     "data": {
      "application/vnd.jupyter.widget-view+json": {
       "model_id": "2750a9276b3c42d3b7ce6a67d32f64ed",
       "version_major": 2,
       "version_minor": 0
      },
      "text/plain": [
       "interactive(children=(ToggleButtons(description='Plot Type:', icons=('',), options=(('Pipeline Plot', 'pipelin…"
      ]
     },
     "metadata": {},
     "output_type": "display_data"
    },
    {
     "data": {
      "text/html": [
       "<style type=\"text/css\">\n",
       "#T_65f96_row4_col1 {\n",
       "  background-color: lightgreen;\n",
       "}\n",
       "</style>\n",
       "<table id=\"T_65f96\">\n",
       "  <thead>\n",
       "    <tr>\n",
       "      <th class=\"blank level0\" >&nbsp;</th>\n",
       "      <th id=\"T_65f96_level0_col0\" class=\"col_heading level0 col0\" >Description</th>\n",
       "      <th id=\"T_65f96_level0_col1\" class=\"col_heading level0 col1\" >Value</th>\n",
       "    </tr>\n",
       "  </thead>\n",
       "  <tbody>\n",
       "    <tr>\n",
       "      <th id=\"T_65f96_level0_row0\" class=\"row_heading level0 row0\" >0</th>\n",
       "      <td id=\"T_65f96_row0_col0\" class=\"data row0 col0\" >Session id</td>\n",
       "      <td id=\"T_65f96_row0_col1\" class=\"data row0 col1\" >2</td>\n",
       "    </tr>\n",
       "    <tr>\n",
       "      <th id=\"T_65f96_level0_row1\" class=\"row_heading level0 row1\" >1</th>\n",
       "      <td id=\"T_65f96_row1_col0\" class=\"data row1 col0\" >Original data shape</td>\n",
       "      <td id=\"T_65f96_row1_col1\" class=\"data row1 col1\" >(150, 4)</td>\n",
       "    </tr>\n",
       "    <tr>\n",
       "      <th id=\"T_65f96_level0_row2\" class=\"row_heading level0 row2\" >2</th>\n",
       "      <td id=\"T_65f96_row2_col0\" class=\"data row2 col0\" >Transformed data shape</td>\n",
       "      <td id=\"T_65f96_row2_col1\" class=\"data row2 col1\" >(150, 4)</td>\n",
       "    </tr>\n",
       "    <tr>\n",
       "      <th id=\"T_65f96_level0_row3\" class=\"row_heading level0 row3\" >3</th>\n",
       "      <td id=\"T_65f96_row3_col0\" class=\"data row3 col0\" >Numeric features</td>\n",
       "      <td id=\"T_65f96_row3_col1\" class=\"data row3 col1\" >4</td>\n",
       "    </tr>\n",
       "    <tr>\n",
       "      <th id=\"T_65f96_level0_row4\" class=\"row_heading level0 row4\" >4</th>\n",
       "      <td id=\"T_65f96_row4_col0\" class=\"data row4 col0\" >Preprocess</td>\n",
       "      <td id=\"T_65f96_row4_col1\" class=\"data row4 col1\" >True</td>\n",
       "    </tr>\n",
       "    <tr>\n",
       "      <th id=\"T_65f96_level0_row5\" class=\"row_heading level0 row5\" >5</th>\n",
       "      <td id=\"T_65f96_row5_col0\" class=\"data row5 col0\" >Imputation type</td>\n",
       "      <td id=\"T_65f96_row5_col1\" class=\"data row5 col1\" >simple</td>\n",
       "    </tr>\n",
       "    <tr>\n",
       "      <th id=\"T_65f96_level0_row6\" class=\"row_heading level0 row6\" >6</th>\n",
       "      <td id=\"T_65f96_row6_col0\" class=\"data row6 col0\" >Numeric imputation</td>\n",
       "      <td id=\"T_65f96_row6_col1\" class=\"data row6 col1\" >mean</td>\n",
       "    </tr>\n",
       "    <tr>\n",
       "      <th id=\"T_65f96_level0_row7\" class=\"row_heading level0 row7\" >7</th>\n",
       "      <td id=\"T_65f96_row7_col0\" class=\"data row7 col0\" >Categorical imputation</td>\n",
       "      <td id=\"T_65f96_row7_col1\" class=\"data row7 col1\" >mode</td>\n",
       "    </tr>\n",
       "    <tr>\n",
       "      <th id=\"T_65f96_level0_row8\" class=\"row_heading level0 row8\" >8</th>\n",
       "      <td id=\"T_65f96_row8_col0\" class=\"data row8 col0\" >Transformation</td>\n",
       "      <td id=\"T_65f96_row8_col1\" class=\"data row8 col1\" ><function custom_preprocess at 0x000002B123A65990></td>\n",
       "    </tr>\n",
       "    <tr>\n",
       "      <th id=\"T_65f96_level0_row9\" class=\"row_heading level0 row9\" >9</th>\n",
       "      <td id=\"T_65f96_row9_col0\" class=\"data row9 col0\" >Transformation method</td>\n",
       "      <td id=\"T_65f96_row9_col1\" class=\"data row9 col1\" >yeo-johnson</td>\n",
       "    </tr>\n",
       "    <tr>\n",
       "      <th id=\"T_65f96_level0_row10\" class=\"row_heading level0 row10\" >10</th>\n",
       "      <td id=\"T_65f96_row10_col0\" class=\"data row10 col0\" >CPU Jobs</td>\n",
       "      <td id=\"T_65f96_row10_col1\" class=\"data row10 col1\" >-1</td>\n",
       "    </tr>\n",
       "    <tr>\n",
       "      <th id=\"T_65f96_level0_row11\" class=\"row_heading level0 row11\" >11</th>\n",
       "      <td id=\"T_65f96_row11_col0\" class=\"data row11 col0\" >Use GPU</td>\n",
       "      <td id=\"T_65f96_row11_col1\" class=\"data row11 col1\" >False</td>\n",
       "    </tr>\n",
       "    <tr>\n",
       "      <th id=\"T_65f96_level0_row12\" class=\"row_heading level0 row12\" >12</th>\n",
       "      <td id=\"T_65f96_row12_col0\" class=\"data row12 col0\" >Log Experiment</td>\n",
       "      <td id=\"T_65f96_row12_col1\" class=\"data row12 col1\" >False</td>\n",
       "    </tr>\n",
       "    <tr>\n",
       "      <th id=\"T_65f96_level0_row13\" class=\"row_heading level0 row13\" >13</th>\n",
       "      <td id=\"T_65f96_row13_col0\" class=\"data row13 col0\" >Experiment Name</td>\n",
       "      <td id=\"T_65f96_row13_col1\" class=\"data row13 col1\" >cluster-default-name</td>\n",
       "    </tr>\n",
       "    <tr>\n",
       "      <th id=\"T_65f96_level0_row14\" class=\"row_heading level0 row14\" >14</th>\n",
       "      <td id=\"T_65f96_row14_col0\" class=\"data row14 col0\" >USI</td>\n",
       "      <td id=\"T_65f96_row14_col1\" class=\"data row14 col1\" >d889</td>\n",
       "    </tr>\n",
       "  </tbody>\n",
       "</table>\n"
      ],
      "text/plain": [
       "<pandas.io.formats.style.Styler at 0x2b123fca3e0>"
      ]
     },
     "metadata": {},
     "output_type": "display_data"
    },
    {
     "data": {
      "text/html": [],
      "text/plain": [
       "<IPython.core.display.HTML object>"
      ]
     },
     "metadata": {},
     "output_type": "display_data"
    },
    {
     "data": {
      "text/html": [
       "<style type=\"text/css\">\n",
       "</style>\n",
       "<table id=\"T_11be1\">\n",
       "  <thead>\n",
       "    <tr>\n",
       "      <th class=\"blank level0\" >&nbsp;</th>\n",
       "      <th id=\"T_11be1_level0_col0\" class=\"col_heading level0 col0\" >Silhouette</th>\n",
       "      <th id=\"T_11be1_level0_col1\" class=\"col_heading level0 col1\" >Calinski-Harabasz</th>\n",
       "      <th id=\"T_11be1_level0_col2\" class=\"col_heading level0 col2\" >Davies-Bouldin</th>\n",
       "      <th id=\"T_11be1_level0_col3\" class=\"col_heading level0 col3\" >Homogeneity</th>\n",
       "      <th id=\"T_11be1_level0_col4\" class=\"col_heading level0 col4\" >Rand Index</th>\n",
       "      <th id=\"T_11be1_level0_col5\" class=\"col_heading level0 col5\" >Completeness</th>\n",
       "    </tr>\n",
       "  </thead>\n",
       "  <tbody>\n",
       "    <tr>\n",
       "      <th id=\"T_11be1_level0_row0\" class=\"row_heading level0 row0\" >0</th>\n",
       "      <td id=\"T_11be1_row0_col0\" class=\"data row0 col0\" >0.5950</td>\n",
       "      <td id=\"T_11be1_row0_col1\" class=\"data row0 col1\" >1410.6191</td>\n",
       "      <td id=\"T_11be1_row0_col2\" class=\"data row0 col2\" >0.5960</td>\n",
       "      <td id=\"T_11be1_row0_col3\" class=\"data row0 col3\" >0</td>\n",
       "      <td id=\"T_11be1_row0_col4\" class=\"data row0 col4\" >0</td>\n",
       "      <td id=\"T_11be1_row0_col5\" class=\"data row0 col5\" >0</td>\n",
       "    </tr>\n",
       "  </tbody>\n",
       "</table>\n"
      ],
      "text/plain": [
       "<pandas.io.formats.style.Styler at 0x2b123fca830>"
      ]
     },
     "metadata": {},
     "output_type": "display_data"
    },
    {
     "data": {
      "text/html": [],
      "text/plain": [
       "<IPython.core.display.HTML object>"
      ]
     },
     "metadata": {},
     "output_type": "display_data"
    },
    {
     "name": "stdout",
     "output_type": "stream",
     "text": [
      "For kmeans with 5 clusters with Normalization\n"
     ]
    },
    {
     "data": {
      "application/vnd.jupyter.widget-view+json": {
       "model_id": "d10ce5045a54420d957f34535a54f18b",
       "version_major": 2,
       "version_minor": 0
      },
      "text/plain": [
       "interactive(children=(ToggleButtons(description='Plot Type:', icons=('',), options=(('Pipeline Plot', 'pipelin…"
      ]
     },
     "metadata": {},
     "output_type": "display_data"
    },
    {
     "data": {
      "text/html": [
       "<style type=\"text/css\">\n",
       "#T_c90ec_row4_col1 {\n",
       "  background-color: lightgreen;\n",
       "}\n",
       "</style>\n",
       "<table id=\"T_c90ec\">\n",
       "  <thead>\n",
       "    <tr>\n",
       "      <th class=\"blank level0\" >&nbsp;</th>\n",
       "      <th id=\"T_c90ec_level0_col0\" class=\"col_heading level0 col0\" >Description</th>\n",
       "      <th id=\"T_c90ec_level0_col1\" class=\"col_heading level0 col1\" >Value</th>\n",
       "    </tr>\n",
       "  </thead>\n",
       "  <tbody>\n",
       "    <tr>\n",
       "      <th id=\"T_c90ec_level0_row0\" class=\"row_heading level0 row0\" >0</th>\n",
       "      <td id=\"T_c90ec_row0_col0\" class=\"data row0 col0\" >Session id</td>\n",
       "      <td id=\"T_c90ec_row0_col1\" class=\"data row0 col1\" >2</td>\n",
       "    </tr>\n",
       "    <tr>\n",
       "      <th id=\"T_c90ec_level0_row1\" class=\"row_heading level0 row1\" >1</th>\n",
       "      <td id=\"T_c90ec_row1_col0\" class=\"data row1 col0\" >Original data shape</td>\n",
       "      <td id=\"T_c90ec_row1_col1\" class=\"data row1 col1\" >(150, 4)</td>\n",
       "    </tr>\n",
       "    <tr>\n",
       "      <th id=\"T_c90ec_level0_row2\" class=\"row_heading level0 row2\" >2</th>\n",
       "      <td id=\"T_c90ec_row2_col0\" class=\"data row2 col0\" >Transformed data shape</td>\n",
       "      <td id=\"T_c90ec_row2_col1\" class=\"data row2 col1\" >(150, 4)</td>\n",
       "    </tr>\n",
       "    <tr>\n",
       "      <th id=\"T_c90ec_level0_row3\" class=\"row_heading level0 row3\" >3</th>\n",
       "      <td id=\"T_c90ec_row3_col0\" class=\"data row3 col0\" >Numeric features</td>\n",
       "      <td id=\"T_c90ec_row3_col1\" class=\"data row3 col1\" >4</td>\n",
       "    </tr>\n",
       "    <tr>\n",
       "      <th id=\"T_c90ec_level0_row4\" class=\"row_heading level0 row4\" >4</th>\n",
       "      <td id=\"T_c90ec_row4_col0\" class=\"data row4 col0\" >Preprocess</td>\n",
       "      <td id=\"T_c90ec_row4_col1\" class=\"data row4 col1\" >True</td>\n",
       "    </tr>\n",
       "    <tr>\n",
       "      <th id=\"T_c90ec_level0_row5\" class=\"row_heading level0 row5\" >5</th>\n",
       "      <td id=\"T_c90ec_row5_col0\" class=\"data row5 col0\" >Imputation type</td>\n",
       "      <td id=\"T_c90ec_row5_col1\" class=\"data row5 col1\" >simple</td>\n",
       "    </tr>\n",
       "    <tr>\n",
       "      <th id=\"T_c90ec_level0_row6\" class=\"row_heading level0 row6\" >6</th>\n",
       "      <td id=\"T_c90ec_row6_col0\" class=\"data row6 col0\" >Numeric imputation</td>\n",
       "      <td id=\"T_c90ec_row6_col1\" class=\"data row6 col1\" >mean</td>\n",
       "    </tr>\n",
       "    <tr>\n",
       "      <th id=\"T_c90ec_level0_row7\" class=\"row_heading level0 row7\" >7</th>\n",
       "      <td id=\"T_c90ec_row7_col0\" class=\"data row7 col0\" >Categorical imputation</td>\n",
       "      <td id=\"T_c90ec_row7_col1\" class=\"data row7 col1\" >mode</td>\n",
       "    </tr>\n",
       "    <tr>\n",
       "      <th id=\"T_c90ec_level0_row8\" class=\"row_heading level0 row8\" >8</th>\n",
       "      <td id=\"T_c90ec_row8_col0\" class=\"data row8 col0\" >Transformation</td>\n",
       "      <td id=\"T_c90ec_row8_col1\" class=\"data row8 col1\" ><function custom_preprocess at 0x000002B123A65990></td>\n",
       "    </tr>\n",
       "    <tr>\n",
       "      <th id=\"T_c90ec_level0_row9\" class=\"row_heading level0 row9\" >9</th>\n",
       "      <td id=\"T_c90ec_row9_col0\" class=\"data row9 col0\" >Transformation method</td>\n",
       "      <td id=\"T_c90ec_row9_col1\" class=\"data row9 col1\" >yeo-johnson</td>\n",
       "    </tr>\n",
       "    <tr>\n",
       "      <th id=\"T_c90ec_level0_row10\" class=\"row_heading level0 row10\" >10</th>\n",
       "      <td id=\"T_c90ec_row10_col0\" class=\"data row10 col0\" >CPU Jobs</td>\n",
       "      <td id=\"T_c90ec_row10_col1\" class=\"data row10 col1\" >-1</td>\n",
       "    </tr>\n",
       "    <tr>\n",
       "      <th id=\"T_c90ec_level0_row11\" class=\"row_heading level0 row11\" >11</th>\n",
       "      <td id=\"T_c90ec_row11_col0\" class=\"data row11 col0\" >Use GPU</td>\n",
       "      <td id=\"T_c90ec_row11_col1\" class=\"data row11 col1\" >False</td>\n",
       "    </tr>\n",
       "    <tr>\n",
       "      <th id=\"T_c90ec_level0_row12\" class=\"row_heading level0 row12\" >12</th>\n",
       "      <td id=\"T_c90ec_row12_col0\" class=\"data row12 col0\" >Log Experiment</td>\n",
       "      <td id=\"T_c90ec_row12_col1\" class=\"data row12 col1\" >False</td>\n",
       "    </tr>\n",
       "    <tr>\n",
       "      <th id=\"T_c90ec_level0_row13\" class=\"row_heading level0 row13\" >13</th>\n",
       "      <td id=\"T_c90ec_row13_col0\" class=\"data row13 col0\" >Experiment Name</td>\n",
       "      <td id=\"T_c90ec_row13_col1\" class=\"data row13 col1\" >cluster-default-name</td>\n",
       "    </tr>\n",
       "    <tr>\n",
       "      <th id=\"T_c90ec_level0_row14\" class=\"row_heading level0 row14\" >14</th>\n",
       "      <td id=\"T_c90ec_row14_col0\" class=\"data row14 col0\" >USI</td>\n",
       "      <td id=\"T_c90ec_row14_col1\" class=\"data row14 col1\" >9516</td>\n",
       "    </tr>\n",
       "  </tbody>\n",
       "</table>\n"
      ],
      "text/plain": [
       "<pandas.io.formats.style.Styler at 0x2b123f74070>"
      ]
     },
     "metadata": {},
     "output_type": "display_data"
    },
    {
     "data": {
      "text/html": [],
      "text/plain": [
       "<IPython.core.display.HTML object>"
      ]
     },
     "metadata": {},
     "output_type": "display_data"
    },
    {
     "data": {
      "text/html": [
       "<style type=\"text/css\">\n",
       "</style>\n",
       "<table id=\"T_5fde2\">\n",
       "  <thead>\n",
       "    <tr>\n",
       "      <th class=\"blank level0\" >&nbsp;</th>\n",
       "      <th id=\"T_5fde2_level0_col0\" class=\"col_heading level0 col0\" >Silhouette</th>\n",
       "      <th id=\"T_5fde2_level0_col1\" class=\"col_heading level0 col1\" >Calinski-Harabasz</th>\n",
       "      <th id=\"T_5fde2_level0_col2\" class=\"col_heading level0 col2\" >Davies-Bouldin</th>\n",
       "      <th id=\"T_5fde2_level0_col3\" class=\"col_heading level0 col3\" >Homogeneity</th>\n",
       "      <th id=\"T_5fde2_level0_col4\" class=\"col_heading level0 col4\" >Rand Index</th>\n",
       "      <th id=\"T_5fde2_level0_col5\" class=\"col_heading level0 col5\" >Completeness</th>\n",
       "    </tr>\n",
       "  </thead>\n",
       "  <tbody>\n",
       "    <tr>\n",
       "      <th id=\"T_5fde2_level0_row0\" class=\"row_heading level0 row0\" >0</th>\n",
       "      <td id=\"T_5fde2_row0_col0\" class=\"data row0 col0\" >0.6503</td>\n",
       "      <td id=\"T_5fde2_row0_col1\" class=\"data row0 col1\" >1138.6493</td>\n",
       "      <td id=\"T_5fde2_row0_col2\" class=\"data row0 col2\" >0.4854</td>\n",
       "      <td id=\"T_5fde2_row0_col3\" class=\"data row0 col3\" >0</td>\n",
       "      <td id=\"T_5fde2_row0_col4\" class=\"data row0 col4\" >0</td>\n",
       "      <td id=\"T_5fde2_row0_col5\" class=\"data row0 col5\" >0</td>\n",
       "    </tr>\n",
       "  </tbody>\n",
       "</table>\n"
      ],
      "text/plain": [
       "<pandas.io.formats.style.Styler at 0x2b123f76560>"
      ]
     },
     "metadata": {},
     "output_type": "display_data"
    },
    {
     "data": {
      "text/html": [],
      "text/plain": [
       "<IPython.core.display.HTML object>"
      ]
     },
     "metadata": {},
     "output_type": "display_data"
    },
    {
     "name": "stdout",
     "output_type": "stream",
     "text": [
      "For hierarchical with 3 clusters with Normalization\n"
     ]
    },
    {
     "data": {
      "application/vnd.jupyter.widget-view+json": {
       "model_id": "b0da96d600b0435883a44edd000e072a",
       "version_major": 2,
       "version_minor": 0
      },
      "text/plain": [
       "interactive(children=(ToggleButtons(description='Plot Type:', icons=('',), options=(('Pipeline Plot', 'pipelin…"
      ]
     },
     "metadata": {},
     "output_type": "display_data"
    },
    {
     "data": {
      "text/html": [
       "<style type=\"text/css\">\n",
       "#T_9fa8c_row4_col1 {\n",
       "  background-color: lightgreen;\n",
       "}\n",
       "</style>\n",
       "<table id=\"T_9fa8c\">\n",
       "  <thead>\n",
       "    <tr>\n",
       "      <th class=\"blank level0\" >&nbsp;</th>\n",
       "      <th id=\"T_9fa8c_level0_col0\" class=\"col_heading level0 col0\" >Description</th>\n",
       "      <th id=\"T_9fa8c_level0_col1\" class=\"col_heading level0 col1\" >Value</th>\n",
       "    </tr>\n",
       "  </thead>\n",
       "  <tbody>\n",
       "    <tr>\n",
       "      <th id=\"T_9fa8c_level0_row0\" class=\"row_heading level0 row0\" >0</th>\n",
       "      <td id=\"T_9fa8c_row0_col0\" class=\"data row0 col0\" >Session id</td>\n",
       "      <td id=\"T_9fa8c_row0_col1\" class=\"data row0 col1\" >2</td>\n",
       "    </tr>\n",
       "    <tr>\n",
       "      <th id=\"T_9fa8c_level0_row1\" class=\"row_heading level0 row1\" >1</th>\n",
       "      <td id=\"T_9fa8c_row1_col0\" class=\"data row1 col0\" >Original data shape</td>\n",
       "      <td id=\"T_9fa8c_row1_col1\" class=\"data row1 col1\" >(150, 4)</td>\n",
       "    </tr>\n",
       "    <tr>\n",
       "      <th id=\"T_9fa8c_level0_row2\" class=\"row_heading level0 row2\" >2</th>\n",
       "      <td id=\"T_9fa8c_row2_col0\" class=\"data row2 col0\" >Transformed data shape</td>\n",
       "      <td id=\"T_9fa8c_row2_col1\" class=\"data row2 col1\" >(150, 4)</td>\n",
       "    </tr>\n",
       "    <tr>\n",
       "      <th id=\"T_9fa8c_level0_row3\" class=\"row_heading level0 row3\" >3</th>\n",
       "      <td id=\"T_9fa8c_row3_col0\" class=\"data row3 col0\" >Numeric features</td>\n",
       "      <td id=\"T_9fa8c_row3_col1\" class=\"data row3 col1\" >4</td>\n",
       "    </tr>\n",
       "    <tr>\n",
       "      <th id=\"T_9fa8c_level0_row4\" class=\"row_heading level0 row4\" >4</th>\n",
       "      <td id=\"T_9fa8c_row4_col0\" class=\"data row4 col0\" >Preprocess</td>\n",
       "      <td id=\"T_9fa8c_row4_col1\" class=\"data row4 col1\" >True</td>\n",
       "    </tr>\n",
       "    <tr>\n",
       "      <th id=\"T_9fa8c_level0_row5\" class=\"row_heading level0 row5\" >5</th>\n",
       "      <td id=\"T_9fa8c_row5_col0\" class=\"data row5 col0\" >Imputation type</td>\n",
       "      <td id=\"T_9fa8c_row5_col1\" class=\"data row5 col1\" >simple</td>\n",
       "    </tr>\n",
       "    <tr>\n",
       "      <th id=\"T_9fa8c_level0_row6\" class=\"row_heading level0 row6\" >6</th>\n",
       "      <td id=\"T_9fa8c_row6_col0\" class=\"data row6 col0\" >Numeric imputation</td>\n",
       "      <td id=\"T_9fa8c_row6_col1\" class=\"data row6 col1\" >mean</td>\n",
       "    </tr>\n",
       "    <tr>\n",
       "      <th id=\"T_9fa8c_level0_row7\" class=\"row_heading level0 row7\" >7</th>\n",
       "      <td id=\"T_9fa8c_row7_col0\" class=\"data row7 col0\" >Categorical imputation</td>\n",
       "      <td id=\"T_9fa8c_row7_col1\" class=\"data row7 col1\" >mode</td>\n",
       "    </tr>\n",
       "    <tr>\n",
       "      <th id=\"T_9fa8c_level0_row8\" class=\"row_heading level0 row8\" >8</th>\n",
       "      <td id=\"T_9fa8c_row8_col0\" class=\"data row8 col0\" >Transformation</td>\n",
       "      <td id=\"T_9fa8c_row8_col1\" class=\"data row8 col1\" ><function custom_preprocess at 0x000002B123A65990></td>\n",
       "    </tr>\n",
       "    <tr>\n",
       "      <th id=\"T_9fa8c_level0_row9\" class=\"row_heading level0 row9\" >9</th>\n",
       "      <td id=\"T_9fa8c_row9_col0\" class=\"data row9 col0\" >Transformation method</td>\n",
       "      <td id=\"T_9fa8c_row9_col1\" class=\"data row9 col1\" >yeo-johnson</td>\n",
       "    </tr>\n",
       "    <tr>\n",
       "      <th id=\"T_9fa8c_level0_row10\" class=\"row_heading level0 row10\" >10</th>\n",
       "      <td id=\"T_9fa8c_row10_col0\" class=\"data row10 col0\" >CPU Jobs</td>\n",
       "      <td id=\"T_9fa8c_row10_col1\" class=\"data row10 col1\" >-1</td>\n",
       "    </tr>\n",
       "    <tr>\n",
       "      <th id=\"T_9fa8c_level0_row11\" class=\"row_heading level0 row11\" >11</th>\n",
       "      <td id=\"T_9fa8c_row11_col0\" class=\"data row11 col0\" >Use GPU</td>\n",
       "      <td id=\"T_9fa8c_row11_col1\" class=\"data row11 col1\" >False</td>\n",
       "    </tr>\n",
       "    <tr>\n",
       "      <th id=\"T_9fa8c_level0_row12\" class=\"row_heading level0 row12\" >12</th>\n",
       "      <td id=\"T_9fa8c_row12_col0\" class=\"data row12 col0\" >Log Experiment</td>\n",
       "      <td id=\"T_9fa8c_row12_col1\" class=\"data row12 col1\" >False</td>\n",
       "    </tr>\n",
       "    <tr>\n",
       "      <th id=\"T_9fa8c_level0_row13\" class=\"row_heading level0 row13\" >13</th>\n",
       "      <td id=\"T_9fa8c_row13_col0\" class=\"data row13 col0\" >Experiment Name</td>\n",
       "      <td id=\"T_9fa8c_row13_col1\" class=\"data row13 col1\" >cluster-default-name</td>\n",
       "    </tr>\n",
       "    <tr>\n",
       "      <th id=\"T_9fa8c_level0_row14\" class=\"row_heading level0 row14\" >14</th>\n",
       "      <td id=\"T_9fa8c_row14_col0\" class=\"data row14 col0\" >USI</td>\n",
       "      <td id=\"T_9fa8c_row14_col1\" class=\"data row14 col1\" >191f</td>\n",
       "    </tr>\n",
       "  </tbody>\n",
       "</table>\n"
      ],
      "text/plain": [
       "<pandas.io.formats.style.Styler at 0x2b123ffae60>"
      ]
     },
     "metadata": {},
     "output_type": "display_data"
    },
    {
     "data": {
      "text/html": [],
      "text/plain": [
       "<IPython.core.display.HTML object>"
      ]
     },
     "metadata": {},
     "output_type": "display_data"
    },
    {
     "data": {
      "text/html": [
       "<style type=\"text/css\">\n",
       "</style>\n",
       "<table id=\"T_50365\">\n",
       "  <thead>\n",
       "    <tr>\n",
       "      <th class=\"blank level0\" >&nbsp;</th>\n",
       "      <th id=\"T_50365_level0_col0\" class=\"col_heading level0 col0\" >Silhouette</th>\n",
       "      <th id=\"T_50365_level0_col1\" class=\"col_heading level0 col1\" >Calinski-Harabasz</th>\n",
       "      <th id=\"T_50365_level0_col2\" class=\"col_heading level0 col2\" >Davies-Bouldin</th>\n",
       "      <th id=\"T_50365_level0_col3\" class=\"col_heading level0 col3\" >Homogeneity</th>\n",
       "      <th id=\"T_50365_level0_col4\" class=\"col_heading level0 col4\" >Rand Index</th>\n",
       "      <th id=\"T_50365_level0_col5\" class=\"col_heading level0 col5\" >Completeness</th>\n",
       "    </tr>\n",
       "  </thead>\n",
       "  <tbody>\n",
       "    <tr>\n",
       "      <th id=\"T_50365_level0_row0\" class=\"row_heading level0 row0\" >0</th>\n",
       "      <td id=\"T_50365_row0_col0\" class=\"data row0 col0\" >0.5885</td>\n",
       "      <td id=\"T_50365_row0_col1\" class=\"data row0 col1\" >1222.9414</td>\n",
       "      <td id=\"T_50365_row0_col2\" class=\"data row0 col2\" >0.5736</td>\n",
       "      <td id=\"T_50365_row0_col3\" class=\"data row0 col3\" >0</td>\n",
       "      <td id=\"T_50365_row0_col4\" class=\"data row0 col4\" >0</td>\n",
       "      <td id=\"T_50365_row0_col5\" class=\"data row0 col5\" >0</td>\n",
       "    </tr>\n",
       "  </tbody>\n",
       "</table>\n"
      ],
      "text/plain": [
       "<pandas.io.formats.style.Styler at 0x2b123ff9480>"
      ]
     },
     "metadata": {},
     "output_type": "display_data"
    },
    {
     "data": {
      "text/html": [],
      "text/plain": [
       "<IPython.core.display.HTML object>"
      ]
     },
     "metadata": {},
     "output_type": "display_data"
    },
    {
     "name": "stdout",
     "output_type": "stream",
     "text": [
      "For hierarchical with 4 clusters with Normalization\n"
     ]
    },
    {
     "data": {
      "application/vnd.jupyter.widget-view+json": {
       "model_id": "c6b128eab62c4074bca554b51b5c5ae0",
       "version_major": 2,
       "version_minor": 0
      },
      "text/plain": [
       "interactive(children=(ToggleButtons(description='Plot Type:', icons=('',), options=(('Pipeline Plot', 'pipelin…"
      ]
     },
     "metadata": {},
     "output_type": "display_data"
    },
    {
     "data": {
      "text/html": [
       "<style type=\"text/css\">\n",
       "#T_f0d29_row4_col1 {\n",
       "  background-color: lightgreen;\n",
       "}\n",
       "</style>\n",
       "<table id=\"T_f0d29\">\n",
       "  <thead>\n",
       "    <tr>\n",
       "      <th class=\"blank level0\" >&nbsp;</th>\n",
       "      <th id=\"T_f0d29_level0_col0\" class=\"col_heading level0 col0\" >Description</th>\n",
       "      <th id=\"T_f0d29_level0_col1\" class=\"col_heading level0 col1\" >Value</th>\n",
       "    </tr>\n",
       "  </thead>\n",
       "  <tbody>\n",
       "    <tr>\n",
       "      <th id=\"T_f0d29_level0_row0\" class=\"row_heading level0 row0\" >0</th>\n",
       "      <td id=\"T_f0d29_row0_col0\" class=\"data row0 col0\" >Session id</td>\n",
       "      <td id=\"T_f0d29_row0_col1\" class=\"data row0 col1\" >2</td>\n",
       "    </tr>\n",
       "    <tr>\n",
       "      <th id=\"T_f0d29_level0_row1\" class=\"row_heading level0 row1\" >1</th>\n",
       "      <td id=\"T_f0d29_row1_col0\" class=\"data row1 col0\" >Original data shape</td>\n",
       "      <td id=\"T_f0d29_row1_col1\" class=\"data row1 col1\" >(150, 4)</td>\n",
       "    </tr>\n",
       "    <tr>\n",
       "      <th id=\"T_f0d29_level0_row2\" class=\"row_heading level0 row2\" >2</th>\n",
       "      <td id=\"T_f0d29_row2_col0\" class=\"data row2 col0\" >Transformed data shape</td>\n",
       "      <td id=\"T_f0d29_row2_col1\" class=\"data row2 col1\" >(150, 4)</td>\n",
       "    </tr>\n",
       "    <tr>\n",
       "      <th id=\"T_f0d29_level0_row3\" class=\"row_heading level0 row3\" >3</th>\n",
       "      <td id=\"T_f0d29_row3_col0\" class=\"data row3 col0\" >Numeric features</td>\n",
       "      <td id=\"T_f0d29_row3_col1\" class=\"data row3 col1\" >4</td>\n",
       "    </tr>\n",
       "    <tr>\n",
       "      <th id=\"T_f0d29_level0_row4\" class=\"row_heading level0 row4\" >4</th>\n",
       "      <td id=\"T_f0d29_row4_col0\" class=\"data row4 col0\" >Preprocess</td>\n",
       "      <td id=\"T_f0d29_row4_col1\" class=\"data row4 col1\" >True</td>\n",
       "    </tr>\n",
       "    <tr>\n",
       "      <th id=\"T_f0d29_level0_row5\" class=\"row_heading level0 row5\" >5</th>\n",
       "      <td id=\"T_f0d29_row5_col0\" class=\"data row5 col0\" >Imputation type</td>\n",
       "      <td id=\"T_f0d29_row5_col1\" class=\"data row5 col1\" >simple</td>\n",
       "    </tr>\n",
       "    <tr>\n",
       "      <th id=\"T_f0d29_level0_row6\" class=\"row_heading level0 row6\" >6</th>\n",
       "      <td id=\"T_f0d29_row6_col0\" class=\"data row6 col0\" >Numeric imputation</td>\n",
       "      <td id=\"T_f0d29_row6_col1\" class=\"data row6 col1\" >mean</td>\n",
       "    </tr>\n",
       "    <tr>\n",
       "      <th id=\"T_f0d29_level0_row7\" class=\"row_heading level0 row7\" >7</th>\n",
       "      <td id=\"T_f0d29_row7_col0\" class=\"data row7 col0\" >Categorical imputation</td>\n",
       "      <td id=\"T_f0d29_row7_col1\" class=\"data row7 col1\" >mode</td>\n",
       "    </tr>\n",
       "    <tr>\n",
       "      <th id=\"T_f0d29_level0_row8\" class=\"row_heading level0 row8\" >8</th>\n",
       "      <td id=\"T_f0d29_row8_col0\" class=\"data row8 col0\" >Transformation</td>\n",
       "      <td id=\"T_f0d29_row8_col1\" class=\"data row8 col1\" ><function custom_preprocess at 0x000002B123A65990></td>\n",
       "    </tr>\n",
       "    <tr>\n",
       "      <th id=\"T_f0d29_level0_row9\" class=\"row_heading level0 row9\" >9</th>\n",
       "      <td id=\"T_f0d29_row9_col0\" class=\"data row9 col0\" >Transformation method</td>\n",
       "      <td id=\"T_f0d29_row9_col1\" class=\"data row9 col1\" >yeo-johnson</td>\n",
       "    </tr>\n",
       "    <tr>\n",
       "      <th id=\"T_f0d29_level0_row10\" class=\"row_heading level0 row10\" >10</th>\n",
       "      <td id=\"T_f0d29_row10_col0\" class=\"data row10 col0\" >CPU Jobs</td>\n",
       "      <td id=\"T_f0d29_row10_col1\" class=\"data row10 col1\" >-1</td>\n",
       "    </tr>\n",
       "    <tr>\n",
       "      <th id=\"T_f0d29_level0_row11\" class=\"row_heading level0 row11\" >11</th>\n",
       "      <td id=\"T_f0d29_row11_col0\" class=\"data row11 col0\" >Use GPU</td>\n",
       "      <td id=\"T_f0d29_row11_col1\" class=\"data row11 col1\" >False</td>\n",
       "    </tr>\n",
       "    <tr>\n",
       "      <th id=\"T_f0d29_level0_row12\" class=\"row_heading level0 row12\" >12</th>\n",
       "      <td id=\"T_f0d29_row12_col0\" class=\"data row12 col0\" >Log Experiment</td>\n",
       "      <td id=\"T_f0d29_row12_col1\" class=\"data row12 col1\" >False</td>\n",
       "    </tr>\n",
       "    <tr>\n",
       "      <th id=\"T_f0d29_level0_row13\" class=\"row_heading level0 row13\" >13</th>\n",
       "      <td id=\"T_f0d29_row13_col0\" class=\"data row13 col0\" >Experiment Name</td>\n",
       "      <td id=\"T_f0d29_row13_col1\" class=\"data row13 col1\" >cluster-default-name</td>\n",
       "    </tr>\n",
       "    <tr>\n",
       "      <th id=\"T_f0d29_level0_row14\" class=\"row_heading level0 row14\" >14</th>\n",
       "      <td id=\"T_f0d29_row14_col0\" class=\"data row14 col0\" >USI</td>\n",
       "      <td id=\"T_f0d29_row14_col1\" class=\"data row14 col1\" >941b</td>\n",
       "    </tr>\n",
       "  </tbody>\n",
       "</table>\n"
      ],
      "text/plain": [
       "<pandas.io.formats.style.Styler at 0x2b123fc8250>"
      ]
     },
     "metadata": {},
     "output_type": "display_data"
    },
    {
     "data": {
      "text/html": [],
      "text/plain": [
       "<IPython.core.display.HTML object>"
      ]
     },
     "metadata": {},
     "output_type": "display_data"
    },
    {
     "data": {
      "text/html": [
       "<style type=\"text/css\">\n",
       "</style>\n",
       "<table id=\"T_4fc00\">\n",
       "  <thead>\n",
       "    <tr>\n",
       "      <th class=\"blank level0\" >&nbsp;</th>\n",
       "      <th id=\"T_4fc00_level0_col0\" class=\"col_heading level0 col0\" >Silhouette</th>\n",
       "      <th id=\"T_4fc00_level0_col1\" class=\"col_heading level0 col1\" >Calinski-Harabasz</th>\n",
       "      <th id=\"T_4fc00_level0_col2\" class=\"col_heading level0 col2\" >Davies-Bouldin</th>\n",
       "      <th id=\"T_4fc00_level0_col3\" class=\"col_heading level0 col3\" >Homogeneity</th>\n",
       "      <th id=\"T_4fc00_level0_col4\" class=\"col_heading level0 col4\" >Rand Index</th>\n",
       "      <th id=\"T_4fc00_level0_col5\" class=\"col_heading level0 col5\" >Completeness</th>\n",
       "    </tr>\n",
       "  </thead>\n",
       "  <tbody>\n",
       "    <tr>\n",
       "      <th id=\"T_4fc00_level0_row0\" class=\"row_heading level0 row0\" >0</th>\n",
       "      <td id=\"T_4fc00_row0_col0\" class=\"data row0 col0\" >0.5807</td>\n",
       "      <td id=\"T_4fc00_row0_col1\" class=\"data row0 col1\" >1353.3470</td>\n",
       "      <td id=\"T_4fc00_row0_col2\" class=\"data row0 col2\" >0.5969</td>\n",
       "      <td id=\"T_4fc00_row0_col3\" class=\"data row0 col3\" >0</td>\n",
       "      <td id=\"T_4fc00_row0_col4\" class=\"data row0 col4\" >0</td>\n",
       "      <td id=\"T_4fc00_row0_col5\" class=\"data row0 col5\" >0</td>\n",
       "    </tr>\n",
       "  </tbody>\n",
       "</table>\n"
      ],
      "text/plain": [
       "<pandas.io.formats.style.Styler at 0x2b123fcaf80>"
      ]
     },
     "metadata": {},
     "output_type": "display_data"
    },
    {
     "data": {
      "text/html": [],
      "text/plain": [
       "<IPython.core.display.HTML object>"
      ]
     },
     "metadata": {},
     "output_type": "display_data"
    },
    {
     "name": "stdout",
     "output_type": "stream",
     "text": [
      "For hierarchical with 5 clusters with Normalization\n"
     ]
    },
    {
     "data": {
      "application/vnd.jupyter.widget-view+json": {
       "model_id": "4e756abe053f4113b43313d9206c15fb",
       "version_major": 2,
       "version_minor": 0
      },
      "text/plain": [
       "interactive(children=(ToggleButtons(description='Plot Type:', icons=('',), options=(('Pipeline Plot', 'pipelin…"
      ]
     },
     "metadata": {},
     "output_type": "display_data"
    },
    {
     "data": {
      "text/html": [
       "<style type=\"text/css\">\n",
       "#T_8a0e1_row4_col1 {\n",
       "  background-color: lightgreen;\n",
       "}\n",
       "</style>\n",
       "<table id=\"T_8a0e1\">\n",
       "  <thead>\n",
       "    <tr>\n",
       "      <th class=\"blank level0\" >&nbsp;</th>\n",
       "      <th id=\"T_8a0e1_level0_col0\" class=\"col_heading level0 col0\" >Description</th>\n",
       "      <th id=\"T_8a0e1_level0_col1\" class=\"col_heading level0 col1\" >Value</th>\n",
       "    </tr>\n",
       "  </thead>\n",
       "  <tbody>\n",
       "    <tr>\n",
       "      <th id=\"T_8a0e1_level0_row0\" class=\"row_heading level0 row0\" >0</th>\n",
       "      <td id=\"T_8a0e1_row0_col0\" class=\"data row0 col0\" >Session id</td>\n",
       "      <td id=\"T_8a0e1_row0_col1\" class=\"data row0 col1\" >2</td>\n",
       "    </tr>\n",
       "    <tr>\n",
       "      <th id=\"T_8a0e1_level0_row1\" class=\"row_heading level0 row1\" >1</th>\n",
       "      <td id=\"T_8a0e1_row1_col0\" class=\"data row1 col0\" >Original data shape</td>\n",
       "      <td id=\"T_8a0e1_row1_col1\" class=\"data row1 col1\" >(150, 4)</td>\n",
       "    </tr>\n",
       "    <tr>\n",
       "      <th id=\"T_8a0e1_level0_row2\" class=\"row_heading level0 row2\" >2</th>\n",
       "      <td id=\"T_8a0e1_row2_col0\" class=\"data row2 col0\" >Transformed data shape</td>\n",
       "      <td id=\"T_8a0e1_row2_col1\" class=\"data row2 col1\" >(150, 4)</td>\n",
       "    </tr>\n",
       "    <tr>\n",
       "      <th id=\"T_8a0e1_level0_row3\" class=\"row_heading level0 row3\" >3</th>\n",
       "      <td id=\"T_8a0e1_row3_col0\" class=\"data row3 col0\" >Numeric features</td>\n",
       "      <td id=\"T_8a0e1_row3_col1\" class=\"data row3 col1\" >4</td>\n",
       "    </tr>\n",
       "    <tr>\n",
       "      <th id=\"T_8a0e1_level0_row4\" class=\"row_heading level0 row4\" >4</th>\n",
       "      <td id=\"T_8a0e1_row4_col0\" class=\"data row4 col0\" >Preprocess</td>\n",
       "      <td id=\"T_8a0e1_row4_col1\" class=\"data row4 col1\" >True</td>\n",
       "    </tr>\n",
       "    <tr>\n",
       "      <th id=\"T_8a0e1_level0_row5\" class=\"row_heading level0 row5\" >5</th>\n",
       "      <td id=\"T_8a0e1_row5_col0\" class=\"data row5 col0\" >Imputation type</td>\n",
       "      <td id=\"T_8a0e1_row5_col1\" class=\"data row5 col1\" >simple</td>\n",
       "    </tr>\n",
       "    <tr>\n",
       "      <th id=\"T_8a0e1_level0_row6\" class=\"row_heading level0 row6\" >6</th>\n",
       "      <td id=\"T_8a0e1_row6_col0\" class=\"data row6 col0\" >Numeric imputation</td>\n",
       "      <td id=\"T_8a0e1_row6_col1\" class=\"data row6 col1\" >mean</td>\n",
       "    </tr>\n",
       "    <tr>\n",
       "      <th id=\"T_8a0e1_level0_row7\" class=\"row_heading level0 row7\" >7</th>\n",
       "      <td id=\"T_8a0e1_row7_col0\" class=\"data row7 col0\" >Categorical imputation</td>\n",
       "      <td id=\"T_8a0e1_row7_col1\" class=\"data row7 col1\" >mode</td>\n",
       "    </tr>\n",
       "    <tr>\n",
       "      <th id=\"T_8a0e1_level0_row8\" class=\"row_heading level0 row8\" >8</th>\n",
       "      <td id=\"T_8a0e1_row8_col0\" class=\"data row8 col0\" >Transformation</td>\n",
       "      <td id=\"T_8a0e1_row8_col1\" class=\"data row8 col1\" ><function custom_preprocess at 0x000002B123A65990></td>\n",
       "    </tr>\n",
       "    <tr>\n",
       "      <th id=\"T_8a0e1_level0_row9\" class=\"row_heading level0 row9\" >9</th>\n",
       "      <td id=\"T_8a0e1_row9_col0\" class=\"data row9 col0\" >Transformation method</td>\n",
       "      <td id=\"T_8a0e1_row9_col1\" class=\"data row9 col1\" >yeo-johnson</td>\n",
       "    </tr>\n",
       "    <tr>\n",
       "      <th id=\"T_8a0e1_level0_row10\" class=\"row_heading level0 row10\" >10</th>\n",
       "      <td id=\"T_8a0e1_row10_col0\" class=\"data row10 col0\" >CPU Jobs</td>\n",
       "      <td id=\"T_8a0e1_row10_col1\" class=\"data row10 col1\" >-1</td>\n",
       "    </tr>\n",
       "    <tr>\n",
       "      <th id=\"T_8a0e1_level0_row11\" class=\"row_heading level0 row11\" >11</th>\n",
       "      <td id=\"T_8a0e1_row11_col0\" class=\"data row11 col0\" >Use GPU</td>\n",
       "      <td id=\"T_8a0e1_row11_col1\" class=\"data row11 col1\" >False</td>\n",
       "    </tr>\n",
       "    <tr>\n",
       "      <th id=\"T_8a0e1_level0_row12\" class=\"row_heading level0 row12\" >12</th>\n",
       "      <td id=\"T_8a0e1_row12_col0\" class=\"data row12 col0\" >Log Experiment</td>\n",
       "      <td id=\"T_8a0e1_row12_col1\" class=\"data row12 col1\" >False</td>\n",
       "    </tr>\n",
       "    <tr>\n",
       "      <th id=\"T_8a0e1_level0_row13\" class=\"row_heading level0 row13\" >13</th>\n",
       "      <td id=\"T_8a0e1_row13_col0\" class=\"data row13 col0\" >Experiment Name</td>\n",
       "      <td id=\"T_8a0e1_row13_col1\" class=\"data row13 col1\" >cluster-default-name</td>\n",
       "    </tr>\n",
       "    <tr>\n",
       "      <th id=\"T_8a0e1_level0_row14\" class=\"row_heading level0 row14\" >14</th>\n",
       "      <td id=\"T_8a0e1_row14_col0\" class=\"data row14 col0\" >USI</td>\n",
       "      <td id=\"T_8a0e1_row14_col1\" class=\"data row14 col1\" >2a8a</td>\n",
       "    </tr>\n",
       "  </tbody>\n",
       "</table>\n"
      ],
      "text/plain": [
       "<pandas.io.formats.style.Styler at 0x2b123ffa1a0>"
      ]
     },
     "metadata": {},
     "output_type": "display_data"
    },
    {
     "data": {
      "text/html": [],
      "text/plain": [
       "<IPython.core.display.HTML object>"
      ]
     },
     "metadata": {},
     "output_type": "display_data"
    },
    {
     "data": {
      "text/html": [
       "<style type=\"text/css\">\n",
       "</style>\n",
       "<table id=\"T_06aca\">\n",
       "  <thead>\n",
       "    <tr>\n",
       "      <th class=\"blank level0\" >&nbsp;</th>\n",
       "      <th id=\"T_06aca_level0_col0\" class=\"col_heading level0 col0\" >Silhouette</th>\n",
       "      <th id=\"T_06aca_level0_col1\" class=\"col_heading level0 col1\" >Calinski-Harabasz</th>\n",
       "      <th id=\"T_06aca_level0_col2\" class=\"col_heading level0 col2\" >Davies-Bouldin</th>\n",
       "      <th id=\"T_06aca_level0_col3\" class=\"col_heading level0 col3\" >Homogeneity</th>\n",
       "      <th id=\"T_06aca_level0_col4\" class=\"col_heading level0 col4\" >Rand Index</th>\n",
       "      <th id=\"T_06aca_level0_col5\" class=\"col_heading level0 col5\" >Completeness</th>\n",
       "    </tr>\n",
       "  </thead>\n",
       "  <tbody>\n",
       "    <tr>\n",
       "      <th id=\"T_06aca_level0_row0\" class=\"row_heading level0 row0\" >0</th>\n",
       "      <td id=\"T_06aca_row0_col0\" class=\"data row0 col0\" >0.6548</td>\n",
       "      <td id=\"T_06aca_row0_col1\" class=\"data row0 col1\" >1167.4515</td>\n",
       "      <td id=\"T_06aca_row0_col2\" class=\"data row0 col2\" >0.4872</td>\n",
       "      <td id=\"T_06aca_row0_col3\" class=\"data row0 col3\" >0</td>\n",
       "      <td id=\"T_06aca_row0_col4\" class=\"data row0 col4\" >0</td>\n",
       "      <td id=\"T_06aca_row0_col5\" class=\"data row0 col5\" >0</td>\n",
       "    </tr>\n",
       "  </tbody>\n",
       "</table>\n"
      ],
      "text/plain": [
       "<pandas.io.formats.style.Styler at 0x2b123aa1270>"
      ]
     },
     "metadata": {},
     "output_type": "display_data"
    },
    {
     "data": {
      "text/html": [],
      "text/plain": [
       "<IPython.core.display.HTML object>"
      ]
     },
     "metadata": {},
     "output_type": "display_data"
    },
    {
     "name": "stdout",
     "output_type": "stream",
     "text": [
      "For birch with 3 clusters with Normalization\n"
     ]
    },
    {
     "data": {
      "application/vnd.jupyter.widget-view+json": {
       "model_id": "468fe8e05e9f4fc989b8c74f9287d2c4",
       "version_major": 2,
       "version_minor": 0
      },
      "text/plain": [
       "interactive(children=(ToggleButtons(description='Plot Type:', icons=('',), options=(('Pipeline Plot', 'pipelin…"
      ]
     },
     "metadata": {},
     "output_type": "display_data"
    },
    {
     "data": {
      "text/html": [
       "<style type=\"text/css\">\n",
       "#T_9f45f_row4_col1 {\n",
       "  background-color: lightgreen;\n",
       "}\n",
       "</style>\n",
       "<table id=\"T_9f45f\">\n",
       "  <thead>\n",
       "    <tr>\n",
       "      <th class=\"blank level0\" >&nbsp;</th>\n",
       "      <th id=\"T_9f45f_level0_col0\" class=\"col_heading level0 col0\" >Description</th>\n",
       "      <th id=\"T_9f45f_level0_col1\" class=\"col_heading level0 col1\" >Value</th>\n",
       "    </tr>\n",
       "  </thead>\n",
       "  <tbody>\n",
       "    <tr>\n",
       "      <th id=\"T_9f45f_level0_row0\" class=\"row_heading level0 row0\" >0</th>\n",
       "      <td id=\"T_9f45f_row0_col0\" class=\"data row0 col0\" >Session id</td>\n",
       "      <td id=\"T_9f45f_row0_col1\" class=\"data row0 col1\" >2</td>\n",
       "    </tr>\n",
       "    <tr>\n",
       "      <th id=\"T_9f45f_level0_row1\" class=\"row_heading level0 row1\" >1</th>\n",
       "      <td id=\"T_9f45f_row1_col0\" class=\"data row1 col0\" >Original data shape</td>\n",
       "      <td id=\"T_9f45f_row1_col1\" class=\"data row1 col1\" >(150, 4)</td>\n",
       "    </tr>\n",
       "    <tr>\n",
       "      <th id=\"T_9f45f_level0_row2\" class=\"row_heading level0 row2\" >2</th>\n",
       "      <td id=\"T_9f45f_row2_col0\" class=\"data row2 col0\" >Transformed data shape</td>\n",
       "      <td id=\"T_9f45f_row2_col1\" class=\"data row2 col1\" >(150, 4)</td>\n",
       "    </tr>\n",
       "    <tr>\n",
       "      <th id=\"T_9f45f_level0_row3\" class=\"row_heading level0 row3\" >3</th>\n",
       "      <td id=\"T_9f45f_row3_col0\" class=\"data row3 col0\" >Numeric features</td>\n",
       "      <td id=\"T_9f45f_row3_col1\" class=\"data row3 col1\" >4</td>\n",
       "    </tr>\n",
       "    <tr>\n",
       "      <th id=\"T_9f45f_level0_row4\" class=\"row_heading level0 row4\" >4</th>\n",
       "      <td id=\"T_9f45f_row4_col0\" class=\"data row4 col0\" >Preprocess</td>\n",
       "      <td id=\"T_9f45f_row4_col1\" class=\"data row4 col1\" >True</td>\n",
       "    </tr>\n",
       "    <tr>\n",
       "      <th id=\"T_9f45f_level0_row5\" class=\"row_heading level0 row5\" >5</th>\n",
       "      <td id=\"T_9f45f_row5_col0\" class=\"data row5 col0\" >Imputation type</td>\n",
       "      <td id=\"T_9f45f_row5_col1\" class=\"data row5 col1\" >simple</td>\n",
       "    </tr>\n",
       "    <tr>\n",
       "      <th id=\"T_9f45f_level0_row6\" class=\"row_heading level0 row6\" >6</th>\n",
       "      <td id=\"T_9f45f_row6_col0\" class=\"data row6 col0\" >Numeric imputation</td>\n",
       "      <td id=\"T_9f45f_row6_col1\" class=\"data row6 col1\" >mean</td>\n",
       "    </tr>\n",
       "    <tr>\n",
       "      <th id=\"T_9f45f_level0_row7\" class=\"row_heading level0 row7\" >7</th>\n",
       "      <td id=\"T_9f45f_row7_col0\" class=\"data row7 col0\" >Categorical imputation</td>\n",
       "      <td id=\"T_9f45f_row7_col1\" class=\"data row7 col1\" >mode</td>\n",
       "    </tr>\n",
       "    <tr>\n",
       "      <th id=\"T_9f45f_level0_row8\" class=\"row_heading level0 row8\" >8</th>\n",
       "      <td id=\"T_9f45f_row8_col0\" class=\"data row8 col0\" >Transformation</td>\n",
       "      <td id=\"T_9f45f_row8_col1\" class=\"data row8 col1\" ><function custom_preprocess at 0x000002B123A65990></td>\n",
       "    </tr>\n",
       "    <tr>\n",
       "      <th id=\"T_9f45f_level0_row9\" class=\"row_heading level0 row9\" >9</th>\n",
       "      <td id=\"T_9f45f_row9_col0\" class=\"data row9 col0\" >Transformation method</td>\n",
       "      <td id=\"T_9f45f_row9_col1\" class=\"data row9 col1\" >yeo-johnson</td>\n",
       "    </tr>\n",
       "    <tr>\n",
       "      <th id=\"T_9f45f_level0_row10\" class=\"row_heading level0 row10\" >10</th>\n",
       "      <td id=\"T_9f45f_row10_col0\" class=\"data row10 col0\" >CPU Jobs</td>\n",
       "      <td id=\"T_9f45f_row10_col1\" class=\"data row10 col1\" >-1</td>\n",
       "    </tr>\n",
       "    <tr>\n",
       "      <th id=\"T_9f45f_level0_row11\" class=\"row_heading level0 row11\" >11</th>\n",
       "      <td id=\"T_9f45f_row11_col0\" class=\"data row11 col0\" >Use GPU</td>\n",
       "      <td id=\"T_9f45f_row11_col1\" class=\"data row11 col1\" >False</td>\n",
       "    </tr>\n",
       "    <tr>\n",
       "      <th id=\"T_9f45f_level0_row12\" class=\"row_heading level0 row12\" >12</th>\n",
       "      <td id=\"T_9f45f_row12_col0\" class=\"data row12 col0\" >Log Experiment</td>\n",
       "      <td id=\"T_9f45f_row12_col1\" class=\"data row12 col1\" >False</td>\n",
       "    </tr>\n",
       "    <tr>\n",
       "      <th id=\"T_9f45f_level0_row13\" class=\"row_heading level0 row13\" >13</th>\n",
       "      <td id=\"T_9f45f_row13_col0\" class=\"data row13 col0\" >Experiment Name</td>\n",
       "      <td id=\"T_9f45f_row13_col1\" class=\"data row13 col1\" >cluster-default-name</td>\n",
       "    </tr>\n",
       "    <tr>\n",
       "      <th id=\"T_9f45f_level0_row14\" class=\"row_heading level0 row14\" >14</th>\n",
       "      <td id=\"T_9f45f_row14_col0\" class=\"data row14 col0\" >USI</td>\n",
       "      <td id=\"T_9f45f_row14_col1\" class=\"data row14 col1\" >2970</td>\n",
       "    </tr>\n",
       "  </tbody>\n",
       "</table>\n"
      ],
      "text/plain": [
       "<pandas.io.formats.style.Styler at 0x2b123b5aad0>"
      ]
     },
     "metadata": {},
     "output_type": "display_data"
    },
    {
     "data": {
      "text/html": [],
      "text/plain": [
       "<IPython.core.display.HTML object>"
      ]
     },
     "metadata": {},
     "output_type": "display_data"
    },
    {
     "data": {
      "text/html": [
       "<style type=\"text/css\">\n",
       "</style>\n",
       "<table id=\"T_3b582\">\n",
       "  <thead>\n",
       "    <tr>\n",
       "      <th class=\"blank level0\" >&nbsp;</th>\n",
       "      <th id=\"T_3b582_level0_col0\" class=\"col_heading level0 col0\" >Silhouette</th>\n",
       "      <th id=\"T_3b582_level0_col1\" class=\"col_heading level0 col1\" >Calinski-Harabasz</th>\n",
       "      <th id=\"T_3b582_level0_col2\" class=\"col_heading level0 col2\" >Davies-Bouldin</th>\n",
       "      <th id=\"T_3b582_level0_col3\" class=\"col_heading level0 col3\" >Homogeneity</th>\n",
       "      <th id=\"T_3b582_level0_col4\" class=\"col_heading level0 col4\" >Rand Index</th>\n",
       "      <th id=\"T_3b582_level0_col5\" class=\"col_heading level0 col5\" >Completeness</th>\n",
       "    </tr>\n",
       "  </thead>\n",
       "  <tbody>\n",
       "    <tr>\n",
       "      <th id=\"T_3b582_level0_row0\" class=\"row_heading level0 row0\" >0</th>\n",
       "      <td id=\"T_3b582_row0_col0\" class=\"data row0 col0\" >0.6048</td>\n",
       "      <td id=\"T_3b582_row0_col1\" class=\"data row0 col1\" >1084.7887</td>\n",
       "      <td id=\"T_3b582_row0_col2\" class=\"data row0 col2\" >0.5623</td>\n",
       "      <td id=\"T_3b582_row0_col3\" class=\"data row0 col3\" >0</td>\n",
       "      <td id=\"T_3b582_row0_col4\" class=\"data row0 col4\" >0</td>\n",
       "      <td id=\"T_3b582_row0_col5\" class=\"data row0 col5\" >0</td>\n",
       "    </tr>\n",
       "  </tbody>\n",
       "</table>\n"
      ],
      "text/plain": [
       "<pandas.io.formats.style.Styler at 0x2b123fc9390>"
      ]
     },
     "metadata": {},
     "output_type": "display_data"
    },
    {
     "data": {
      "text/html": [],
      "text/plain": [
       "<IPython.core.display.HTML object>"
      ]
     },
     "metadata": {},
     "output_type": "display_data"
    },
    {
     "name": "stdout",
     "output_type": "stream",
     "text": [
      "For birch with 4 clusters with Normalization\n"
     ]
    },
    {
     "data": {
      "application/vnd.jupyter.widget-view+json": {
       "model_id": "452d70d0c8324be6931faa7dd4b4584d",
       "version_major": 2,
       "version_minor": 0
      },
      "text/plain": [
       "interactive(children=(ToggleButtons(description='Plot Type:', icons=('',), options=(('Pipeline Plot', 'pipelin…"
      ]
     },
     "metadata": {},
     "output_type": "display_data"
    },
    {
     "data": {
      "text/html": [
       "<style type=\"text/css\">\n",
       "#T_70f01_row4_col1 {\n",
       "  background-color: lightgreen;\n",
       "}\n",
       "</style>\n",
       "<table id=\"T_70f01\">\n",
       "  <thead>\n",
       "    <tr>\n",
       "      <th class=\"blank level0\" >&nbsp;</th>\n",
       "      <th id=\"T_70f01_level0_col0\" class=\"col_heading level0 col0\" >Description</th>\n",
       "      <th id=\"T_70f01_level0_col1\" class=\"col_heading level0 col1\" >Value</th>\n",
       "    </tr>\n",
       "  </thead>\n",
       "  <tbody>\n",
       "    <tr>\n",
       "      <th id=\"T_70f01_level0_row0\" class=\"row_heading level0 row0\" >0</th>\n",
       "      <td id=\"T_70f01_row0_col0\" class=\"data row0 col0\" >Session id</td>\n",
       "      <td id=\"T_70f01_row0_col1\" class=\"data row0 col1\" >2</td>\n",
       "    </tr>\n",
       "    <tr>\n",
       "      <th id=\"T_70f01_level0_row1\" class=\"row_heading level0 row1\" >1</th>\n",
       "      <td id=\"T_70f01_row1_col0\" class=\"data row1 col0\" >Original data shape</td>\n",
       "      <td id=\"T_70f01_row1_col1\" class=\"data row1 col1\" >(150, 4)</td>\n",
       "    </tr>\n",
       "    <tr>\n",
       "      <th id=\"T_70f01_level0_row2\" class=\"row_heading level0 row2\" >2</th>\n",
       "      <td id=\"T_70f01_row2_col0\" class=\"data row2 col0\" >Transformed data shape</td>\n",
       "      <td id=\"T_70f01_row2_col1\" class=\"data row2 col1\" >(150, 4)</td>\n",
       "    </tr>\n",
       "    <tr>\n",
       "      <th id=\"T_70f01_level0_row3\" class=\"row_heading level0 row3\" >3</th>\n",
       "      <td id=\"T_70f01_row3_col0\" class=\"data row3 col0\" >Numeric features</td>\n",
       "      <td id=\"T_70f01_row3_col1\" class=\"data row3 col1\" >4</td>\n",
       "    </tr>\n",
       "    <tr>\n",
       "      <th id=\"T_70f01_level0_row4\" class=\"row_heading level0 row4\" >4</th>\n",
       "      <td id=\"T_70f01_row4_col0\" class=\"data row4 col0\" >Preprocess</td>\n",
       "      <td id=\"T_70f01_row4_col1\" class=\"data row4 col1\" >True</td>\n",
       "    </tr>\n",
       "    <tr>\n",
       "      <th id=\"T_70f01_level0_row5\" class=\"row_heading level0 row5\" >5</th>\n",
       "      <td id=\"T_70f01_row5_col0\" class=\"data row5 col0\" >Imputation type</td>\n",
       "      <td id=\"T_70f01_row5_col1\" class=\"data row5 col1\" >simple</td>\n",
       "    </tr>\n",
       "    <tr>\n",
       "      <th id=\"T_70f01_level0_row6\" class=\"row_heading level0 row6\" >6</th>\n",
       "      <td id=\"T_70f01_row6_col0\" class=\"data row6 col0\" >Numeric imputation</td>\n",
       "      <td id=\"T_70f01_row6_col1\" class=\"data row6 col1\" >mean</td>\n",
       "    </tr>\n",
       "    <tr>\n",
       "      <th id=\"T_70f01_level0_row7\" class=\"row_heading level0 row7\" >7</th>\n",
       "      <td id=\"T_70f01_row7_col0\" class=\"data row7 col0\" >Categorical imputation</td>\n",
       "      <td id=\"T_70f01_row7_col1\" class=\"data row7 col1\" >mode</td>\n",
       "    </tr>\n",
       "    <tr>\n",
       "      <th id=\"T_70f01_level0_row8\" class=\"row_heading level0 row8\" >8</th>\n",
       "      <td id=\"T_70f01_row8_col0\" class=\"data row8 col0\" >Transformation</td>\n",
       "      <td id=\"T_70f01_row8_col1\" class=\"data row8 col1\" ><function custom_preprocess at 0x000002B123A65990></td>\n",
       "    </tr>\n",
       "    <tr>\n",
       "      <th id=\"T_70f01_level0_row9\" class=\"row_heading level0 row9\" >9</th>\n",
       "      <td id=\"T_70f01_row9_col0\" class=\"data row9 col0\" >Transformation method</td>\n",
       "      <td id=\"T_70f01_row9_col1\" class=\"data row9 col1\" >yeo-johnson</td>\n",
       "    </tr>\n",
       "    <tr>\n",
       "      <th id=\"T_70f01_level0_row10\" class=\"row_heading level0 row10\" >10</th>\n",
       "      <td id=\"T_70f01_row10_col0\" class=\"data row10 col0\" >CPU Jobs</td>\n",
       "      <td id=\"T_70f01_row10_col1\" class=\"data row10 col1\" >-1</td>\n",
       "    </tr>\n",
       "    <tr>\n",
       "      <th id=\"T_70f01_level0_row11\" class=\"row_heading level0 row11\" >11</th>\n",
       "      <td id=\"T_70f01_row11_col0\" class=\"data row11 col0\" >Use GPU</td>\n",
       "      <td id=\"T_70f01_row11_col1\" class=\"data row11 col1\" >False</td>\n",
       "    </tr>\n",
       "    <tr>\n",
       "      <th id=\"T_70f01_level0_row12\" class=\"row_heading level0 row12\" >12</th>\n",
       "      <td id=\"T_70f01_row12_col0\" class=\"data row12 col0\" >Log Experiment</td>\n",
       "      <td id=\"T_70f01_row12_col1\" class=\"data row12 col1\" >False</td>\n",
       "    </tr>\n",
       "    <tr>\n",
       "      <th id=\"T_70f01_level0_row13\" class=\"row_heading level0 row13\" >13</th>\n",
       "      <td id=\"T_70f01_row13_col0\" class=\"data row13 col0\" >Experiment Name</td>\n",
       "      <td id=\"T_70f01_row13_col1\" class=\"data row13 col1\" >cluster-default-name</td>\n",
       "    </tr>\n",
       "    <tr>\n",
       "      <th id=\"T_70f01_level0_row14\" class=\"row_heading level0 row14\" >14</th>\n",
       "      <td id=\"T_70f01_row14_col0\" class=\"data row14 col0\" >USI</td>\n",
       "      <td id=\"T_70f01_row14_col1\" class=\"data row14 col1\" >fe0b</td>\n",
       "    </tr>\n",
       "  </tbody>\n",
       "</table>\n"
      ],
      "text/plain": [
       "<pandas.io.formats.style.Styler at 0x2b123b59b40>"
      ]
     },
     "metadata": {},
     "output_type": "display_data"
    },
    {
     "data": {
      "text/html": [],
      "text/plain": [
       "<IPython.core.display.HTML object>"
      ]
     },
     "metadata": {},
     "output_type": "display_data"
    },
    {
     "data": {
      "text/html": [
       "<style type=\"text/css\">\n",
       "</style>\n",
       "<table id=\"T_786d1\">\n",
       "  <thead>\n",
       "    <tr>\n",
       "      <th class=\"blank level0\" >&nbsp;</th>\n",
       "      <th id=\"T_786d1_level0_col0\" class=\"col_heading level0 col0\" >Silhouette</th>\n",
       "      <th id=\"T_786d1_level0_col1\" class=\"col_heading level0 col1\" >Calinski-Harabasz</th>\n",
       "      <th id=\"T_786d1_level0_col2\" class=\"col_heading level0 col2\" >Davies-Bouldin</th>\n",
       "      <th id=\"T_786d1_level0_col3\" class=\"col_heading level0 col3\" >Homogeneity</th>\n",
       "      <th id=\"T_786d1_level0_col4\" class=\"col_heading level0 col4\" >Rand Index</th>\n",
       "      <th id=\"T_786d1_level0_col5\" class=\"col_heading level0 col5\" >Completeness</th>\n",
       "    </tr>\n",
       "  </thead>\n",
       "  <tbody>\n",
       "    <tr>\n",
       "      <th id=\"T_786d1_level0_row0\" class=\"row_heading level0 row0\" >0</th>\n",
       "      <td id=\"T_786d1_row0_col0\" class=\"data row0 col0\" >0.5801</td>\n",
       "      <td id=\"T_786d1_row0_col1\" class=\"data row0 col1\" >1357.9952</td>\n",
       "      <td id=\"T_786d1_row0_col2\" class=\"data row0 col2\" >0.5808</td>\n",
       "      <td id=\"T_786d1_row0_col3\" class=\"data row0 col3\" >0</td>\n",
       "      <td id=\"T_786d1_row0_col4\" class=\"data row0 col4\" >0</td>\n",
       "      <td id=\"T_786d1_row0_col5\" class=\"data row0 col5\" >0</td>\n",
       "    </tr>\n",
       "  </tbody>\n",
       "</table>\n"
      ],
      "text/plain": [
       "<pandas.io.formats.style.Styler at 0x2b123b597e0>"
      ]
     },
     "metadata": {},
     "output_type": "display_data"
    },
    {
     "data": {
      "text/html": [],
      "text/plain": [
       "<IPython.core.display.HTML object>"
      ]
     },
     "metadata": {},
     "output_type": "display_data"
    },
    {
     "name": "stdout",
     "output_type": "stream",
     "text": [
      "For birch with 5 clusters with Normalization\n"
     ]
    },
    {
     "data": {
      "application/vnd.jupyter.widget-view+json": {
       "model_id": "520d43bb22a841a890fb1699fb1d0ab7",
       "version_major": 2,
       "version_minor": 0
      },
      "text/plain": [
       "interactive(children=(ToggleButtons(description='Plot Type:', icons=('',), options=(('Pipeline Plot', 'pipelin…"
      ]
     },
     "metadata": {},
     "output_type": "display_data"
    }
   ],
   "source": [
    "from sklearn.preprocessing import StandardScaler\n",
    "\n",
    "def custom_preprocess(data):\n",
    "    scaler = StandardScaler()\n",
    "    data = scaler.fit_transform(data)\n",
    "    return data\n",
    "for model in models:\n",
    "    for cluster in clusters:\n",
    "        setup1 = setup(data, normalize=False, pca=False, preprocess=True, session_id=2,transformation=custom_preprocess)\n",
    "        if model == 'kmeans':\n",
    "            mod1 = create_model('kmeans', num_clusters=cluster)\n",
    "        elif model == 'hierarchical':\n",
    "            mod1 = create_model('hclust', num_clusters=cluster)\n",
    "        elif model == 'birch':\n",
    "            mod1 = create_model('birch', num_clusters=cluster)\n",
    "        print(f\"For {model} with {cluster} clusters with Normalization\")\n",
    "        evaluate_model(mod1)"
   ]
  },
  {
   "cell_type": "markdown",
   "metadata": {},
   "source": [
    "USING PCA"
   ]
  },
  {
   "cell_type": "code",
   "execution_count": 6,
   "metadata": {},
   "outputs": [
    {
     "data": {
      "text/html": [
       "<style type=\"text/css\">\n",
       "#T_37307_row4_col1, #T_37307_row8_col1 {\n",
       "  background-color: lightgreen;\n",
       "}\n",
       "</style>\n",
       "<table id=\"T_37307\">\n",
       "  <thead>\n",
       "    <tr>\n",
       "      <th class=\"blank level0\" >&nbsp;</th>\n",
       "      <th id=\"T_37307_level0_col0\" class=\"col_heading level0 col0\" >Description</th>\n",
       "      <th id=\"T_37307_level0_col1\" class=\"col_heading level0 col1\" >Value</th>\n",
       "    </tr>\n",
       "  </thead>\n",
       "  <tbody>\n",
       "    <tr>\n",
       "      <th id=\"T_37307_level0_row0\" class=\"row_heading level0 row0\" >0</th>\n",
       "      <td id=\"T_37307_row0_col0\" class=\"data row0 col0\" >Session id</td>\n",
       "      <td id=\"T_37307_row0_col1\" class=\"data row0 col1\" >2</td>\n",
       "    </tr>\n",
       "    <tr>\n",
       "      <th id=\"T_37307_level0_row1\" class=\"row_heading level0 row1\" >1</th>\n",
       "      <td id=\"T_37307_row1_col0\" class=\"data row1 col0\" >Original data shape</td>\n",
       "      <td id=\"T_37307_row1_col1\" class=\"data row1 col1\" >(150, 4)</td>\n",
       "    </tr>\n",
       "    <tr>\n",
       "      <th id=\"T_37307_level0_row2\" class=\"row_heading level0 row2\" >2</th>\n",
       "      <td id=\"T_37307_row2_col0\" class=\"data row2 col0\" >Transformed data shape</td>\n",
       "      <td id=\"T_37307_row2_col1\" class=\"data row2 col1\" >(150, 4)</td>\n",
       "    </tr>\n",
       "    <tr>\n",
       "      <th id=\"T_37307_level0_row3\" class=\"row_heading level0 row3\" >3</th>\n",
       "      <td id=\"T_37307_row3_col0\" class=\"data row3 col0\" >Numeric features</td>\n",
       "      <td id=\"T_37307_row3_col1\" class=\"data row3 col1\" >4</td>\n",
       "    </tr>\n",
       "    <tr>\n",
       "      <th id=\"T_37307_level0_row4\" class=\"row_heading level0 row4\" >4</th>\n",
       "      <td id=\"T_37307_row4_col0\" class=\"data row4 col0\" >Preprocess</td>\n",
       "      <td id=\"T_37307_row4_col1\" class=\"data row4 col1\" >True</td>\n",
       "    </tr>\n",
       "    <tr>\n",
       "      <th id=\"T_37307_level0_row5\" class=\"row_heading level0 row5\" >5</th>\n",
       "      <td id=\"T_37307_row5_col0\" class=\"data row5 col0\" >Imputation type</td>\n",
       "      <td id=\"T_37307_row5_col1\" class=\"data row5 col1\" >simple</td>\n",
       "    </tr>\n",
       "    <tr>\n",
       "      <th id=\"T_37307_level0_row6\" class=\"row_heading level0 row6\" >6</th>\n",
       "      <td id=\"T_37307_row6_col0\" class=\"data row6 col0\" >Numeric imputation</td>\n",
       "      <td id=\"T_37307_row6_col1\" class=\"data row6 col1\" >mean</td>\n",
       "    </tr>\n",
       "    <tr>\n",
       "      <th id=\"T_37307_level0_row7\" class=\"row_heading level0 row7\" >7</th>\n",
       "      <td id=\"T_37307_row7_col0\" class=\"data row7 col0\" >Categorical imputation</td>\n",
       "      <td id=\"T_37307_row7_col1\" class=\"data row7 col1\" >mode</td>\n",
       "    </tr>\n",
       "    <tr>\n",
       "      <th id=\"T_37307_level0_row8\" class=\"row_heading level0 row8\" >8</th>\n",
       "      <td id=\"T_37307_row8_col0\" class=\"data row8 col0\" >PCA</td>\n",
       "      <td id=\"T_37307_row8_col1\" class=\"data row8 col1\" >True</td>\n",
       "    </tr>\n",
       "    <tr>\n",
       "      <th id=\"T_37307_level0_row9\" class=\"row_heading level0 row9\" >9</th>\n",
       "      <td id=\"T_37307_row9_col0\" class=\"data row9 col0\" >PCA method</td>\n",
       "      <td id=\"T_37307_row9_col1\" class=\"data row9 col1\" >linear</td>\n",
       "    </tr>\n",
       "    <tr>\n",
       "      <th id=\"T_37307_level0_row10\" class=\"row_heading level0 row10\" >10</th>\n",
       "      <td id=\"T_37307_row10_col0\" class=\"data row10 col0\" >PCA components</td>\n",
       "      <td id=\"T_37307_row10_col1\" class=\"data row10 col1\" >None</td>\n",
       "    </tr>\n",
       "    <tr>\n",
       "      <th id=\"T_37307_level0_row11\" class=\"row_heading level0 row11\" >11</th>\n",
       "      <td id=\"T_37307_row11_col0\" class=\"data row11 col0\" >CPU Jobs</td>\n",
       "      <td id=\"T_37307_row11_col1\" class=\"data row11 col1\" >-1</td>\n",
       "    </tr>\n",
       "    <tr>\n",
       "      <th id=\"T_37307_level0_row12\" class=\"row_heading level0 row12\" >12</th>\n",
       "      <td id=\"T_37307_row12_col0\" class=\"data row12 col0\" >Use GPU</td>\n",
       "      <td id=\"T_37307_row12_col1\" class=\"data row12 col1\" >False</td>\n",
       "    </tr>\n",
       "    <tr>\n",
       "      <th id=\"T_37307_level0_row13\" class=\"row_heading level0 row13\" >13</th>\n",
       "      <td id=\"T_37307_row13_col0\" class=\"data row13 col0\" >Log Experiment</td>\n",
       "      <td id=\"T_37307_row13_col1\" class=\"data row13 col1\" >False</td>\n",
       "    </tr>\n",
       "    <tr>\n",
       "      <th id=\"T_37307_level0_row14\" class=\"row_heading level0 row14\" >14</th>\n",
       "      <td id=\"T_37307_row14_col0\" class=\"data row14 col0\" >Experiment Name</td>\n",
       "      <td id=\"T_37307_row14_col1\" class=\"data row14 col1\" >cluster-default-name</td>\n",
       "    </tr>\n",
       "    <tr>\n",
       "      <th id=\"T_37307_level0_row15\" class=\"row_heading level0 row15\" >15</th>\n",
       "      <td id=\"T_37307_row15_col0\" class=\"data row15 col0\" >USI</td>\n",
       "      <td id=\"T_37307_row15_col1\" class=\"data row15 col1\" >2bfd</td>\n",
       "    </tr>\n",
       "  </tbody>\n",
       "</table>\n"
      ],
      "text/plain": [
       "<pandas.io.formats.style.Styler at 0x2b123b8ad10>"
      ]
     },
     "metadata": {},
     "output_type": "display_data"
    },
    {
     "data": {
      "text/html": [],
      "text/plain": [
       "<IPython.core.display.HTML object>"
      ]
     },
     "metadata": {},
     "output_type": "display_data"
    },
    {
     "data": {
      "text/html": [
       "<style type=\"text/css\">\n",
       "</style>\n",
       "<table id=\"T_64911\">\n",
       "  <thead>\n",
       "    <tr>\n",
       "      <th class=\"blank level0\" >&nbsp;</th>\n",
       "      <th id=\"T_64911_level0_col0\" class=\"col_heading level0 col0\" >Silhouette</th>\n",
       "      <th id=\"T_64911_level0_col1\" class=\"col_heading level0 col1\" >Calinski-Harabasz</th>\n",
       "      <th id=\"T_64911_level0_col2\" class=\"col_heading level0 col2\" >Davies-Bouldin</th>\n",
       "      <th id=\"T_64911_level0_col3\" class=\"col_heading level0 col3\" >Homogeneity</th>\n",
       "      <th id=\"T_64911_level0_col4\" class=\"col_heading level0 col4\" >Rand Index</th>\n",
       "      <th id=\"T_64911_level0_col5\" class=\"col_heading level0 col5\" >Completeness</th>\n",
       "    </tr>\n",
       "  </thead>\n",
       "  <tbody>\n",
       "    <tr>\n",
       "      <th id=\"T_64911_level0_row0\" class=\"row_heading level0 row0\" >0</th>\n",
       "      <td id=\"T_64911_row0_col0\" class=\"data row0 col0\" >0.5526</td>\n",
       "      <td id=\"T_64911_row0_col1\" class=\"data row0 col1\" >560.4000</td>\n",
       "      <td id=\"T_64911_row0_col2\" class=\"data row0 col2\" >0.6623</td>\n",
       "      <td id=\"T_64911_row0_col3\" class=\"data row0 col3\" >0</td>\n",
       "      <td id=\"T_64911_row0_col4\" class=\"data row0 col4\" >0</td>\n",
       "      <td id=\"T_64911_row0_col5\" class=\"data row0 col5\" >0</td>\n",
       "    </tr>\n",
       "  </tbody>\n",
       "</table>\n"
      ],
      "text/plain": [
       "<pandas.io.formats.style.Styler at 0x2b123f76d40>"
      ]
     },
     "metadata": {},
     "output_type": "display_data"
    },
    {
     "data": {
      "text/html": [],
      "text/plain": [
       "<IPython.core.display.HTML object>"
      ]
     },
     "metadata": {},
     "output_type": "display_data"
    },
    {
     "name": "stdout",
     "output_type": "stream",
     "text": [
      "For kmeans with 3 clusters with PCA\n"
     ]
    },
    {
     "data": {
      "application/vnd.jupyter.widget-view+json": {
       "model_id": "e4885796b3bf4db59f7bb1ff574d9a94",
       "version_major": 2,
       "version_minor": 0
      },
      "text/plain": [
       "interactive(children=(ToggleButtons(description='Plot Type:', icons=('',), options=(('Pipeline Plot', 'pipelin…"
      ]
     },
     "metadata": {},
     "output_type": "display_data"
    },
    {
     "data": {
      "text/html": [
       "<style type=\"text/css\">\n",
       "#T_29e40_row4_col1, #T_29e40_row8_col1 {\n",
       "  background-color: lightgreen;\n",
       "}\n",
       "</style>\n",
       "<table id=\"T_29e40\">\n",
       "  <thead>\n",
       "    <tr>\n",
       "      <th class=\"blank level0\" >&nbsp;</th>\n",
       "      <th id=\"T_29e40_level0_col0\" class=\"col_heading level0 col0\" >Description</th>\n",
       "      <th id=\"T_29e40_level0_col1\" class=\"col_heading level0 col1\" >Value</th>\n",
       "    </tr>\n",
       "  </thead>\n",
       "  <tbody>\n",
       "    <tr>\n",
       "      <th id=\"T_29e40_level0_row0\" class=\"row_heading level0 row0\" >0</th>\n",
       "      <td id=\"T_29e40_row0_col0\" class=\"data row0 col0\" >Session id</td>\n",
       "      <td id=\"T_29e40_row0_col1\" class=\"data row0 col1\" >2</td>\n",
       "    </tr>\n",
       "    <tr>\n",
       "      <th id=\"T_29e40_level0_row1\" class=\"row_heading level0 row1\" >1</th>\n",
       "      <td id=\"T_29e40_row1_col0\" class=\"data row1 col0\" >Original data shape</td>\n",
       "      <td id=\"T_29e40_row1_col1\" class=\"data row1 col1\" >(150, 4)</td>\n",
       "    </tr>\n",
       "    <tr>\n",
       "      <th id=\"T_29e40_level0_row2\" class=\"row_heading level0 row2\" >2</th>\n",
       "      <td id=\"T_29e40_row2_col0\" class=\"data row2 col0\" >Transformed data shape</td>\n",
       "      <td id=\"T_29e40_row2_col1\" class=\"data row2 col1\" >(150, 4)</td>\n",
       "    </tr>\n",
       "    <tr>\n",
       "      <th id=\"T_29e40_level0_row3\" class=\"row_heading level0 row3\" >3</th>\n",
       "      <td id=\"T_29e40_row3_col0\" class=\"data row3 col0\" >Numeric features</td>\n",
       "      <td id=\"T_29e40_row3_col1\" class=\"data row3 col1\" >4</td>\n",
       "    </tr>\n",
       "    <tr>\n",
       "      <th id=\"T_29e40_level0_row4\" class=\"row_heading level0 row4\" >4</th>\n",
       "      <td id=\"T_29e40_row4_col0\" class=\"data row4 col0\" >Preprocess</td>\n",
       "      <td id=\"T_29e40_row4_col1\" class=\"data row4 col1\" >True</td>\n",
       "    </tr>\n",
       "    <tr>\n",
       "      <th id=\"T_29e40_level0_row5\" class=\"row_heading level0 row5\" >5</th>\n",
       "      <td id=\"T_29e40_row5_col0\" class=\"data row5 col0\" >Imputation type</td>\n",
       "      <td id=\"T_29e40_row5_col1\" class=\"data row5 col1\" >simple</td>\n",
       "    </tr>\n",
       "    <tr>\n",
       "      <th id=\"T_29e40_level0_row6\" class=\"row_heading level0 row6\" >6</th>\n",
       "      <td id=\"T_29e40_row6_col0\" class=\"data row6 col0\" >Numeric imputation</td>\n",
       "      <td id=\"T_29e40_row6_col1\" class=\"data row6 col1\" >mean</td>\n",
       "    </tr>\n",
       "    <tr>\n",
       "      <th id=\"T_29e40_level0_row7\" class=\"row_heading level0 row7\" >7</th>\n",
       "      <td id=\"T_29e40_row7_col0\" class=\"data row7 col0\" >Categorical imputation</td>\n",
       "      <td id=\"T_29e40_row7_col1\" class=\"data row7 col1\" >mode</td>\n",
       "    </tr>\n",
       "    <tr>\n",
       "      <th id=\"T_29e40_level0_row8\" class=\"row_heading level0 row8\" >8</th>\n",
       "      <td id=\"T_29e40_row8_col0\" class=\"data row8 col0\" >PCA</td>\n",
       "      <td id=\"T_29e40_row8_col1\" class=\"data row8 col1\" >True</td>\n",
       "    </tr>\n",
       "    <tr>\n",
       "      <th id=\"T_29e40_level0_row9\" class=\"row_heading level0 row9\" >9</th>\n",
       "      <td id=\"T_29e40_row9_col0\" class=\"data row9 col0\" >PCA method</td>\n",
       "      <td id=\"T_29e40_row9_col1\" class=\"data row9 col1\" >linear</td>\n",
       "    </tr>\n",
       "    <tr>\n",
       "      <th id=\"T_29e40_level0_row10\" class=\"row_heading level0 row10\" >10</th>\n",
       "      <td id=\"T_29e40_row10_col0\" class=\"data row10 col0\" >PCA components</td>\n",
       "      <td id=\"T_29e40_row10_col1\" class=\"data row10 col1\" >None</td>\n",
       "    </tr>\n",
       "    <tr>\n",
       "      <th id=\"T_29e40_level0_row11\" class=\"row_heading level0 row11\" >11</th>\n",
       "      <td id=\"T_29e40_row11_col0\" class=\"data row11 col0\" >CPU Jobs</td>\n",
       "      <td id=\"T_29e40_row11_col1\" class=\"data row11 col1\" >-1</td>\n",
       "    </tr>\n",
       "    <tr>\n",
       "      <th id=\"T_29e40_level0_row12\" class=\"row_heading level0 row12\" >12</th>\n",
       "      <td id=\"T_29e40_row12_col0\" class=\"data row12 col0\" >Use GPU</td>\n",
       "      <td id=\"T_29e40_row12_col1\" class=\"data row12 col1\" >False</td>\n",
       "    </tr>\n",
       "    <tr>\n",
       "      <th id=\"T_29e40_level0_row13\" class=\"row_heading level0 row13\" >13</th>\n",
       "      <td id=\"T_29e40_row13_col0\" class=\"data row13 col0\" >Log Experiment</td>\n",
       "      <td id=\"T_29e40_row13_col1\" class=\"data row13 col1\" >False</td>\n",
       "    </tr>\n",
       "    <tr>\n",
       "      <th id=\"T_29e40_level0_row14\" class=\"row_heading level0 row14\" >14</th>\n",
       "      <td id=\"T_29e40_row14_col0\" class=\"data row14 col0\" >Experiment Name</td>\n",
       "      <td id=\"T_29e40_row14_col1\" class=\"data row14 col1\" >cluster-default-name</td>\n",
       "    </tr>\n",
       "    <tr>\n",
       "      <th id=\"T_29e40_level0_row15\" class=\"row_heading level0 row15\" >15</th>\n",
       "      <td id=\"T_29e40_row15_col0\" class=\"data row15 col0\" >USI</td>\n",
       "      <td id=\"T_29e40_row15_col1\" class=\"data row15 col1\" >f471</td>\n",
       "    </tr>\n",
       "  </tbody>\n",
       "</table>\n"
      ],
      "text/plain": [
       "<pandas.io.formats.style.Styler at 0x2b123b43b50>"
      ]
     },
     "metadata": {},
     "output_type": "display_data"
    },
    {
     "data": {
      "text/html": [],
      "text/plain": [
       "<IPython.core.display.HTML object>"
      ]
     },
     "metadata": {},
     "output_type": "display_data"
    },
    {
     "data": {
      "text/html": [
       "<style type=\"text/css\">\n",
       "</style>\n",
       "<table id=\"T_a2b94\">\n",
       "  <thead>\n",
       "    <tr>\n",
       "      <th class=\"blank level0\" >&nbsp;</th>\n",
       "      <th id=\"T_a2b94_level0_col0\" class=\"col_heading level0 col0\" >Silhouette</th>\n",
       "      <th id=\"T_a2b94_level0_col1\" class=\"col_heading level0 col1\" >Calinski-Harabasz</th>\n",
       "      <th id=\"T_a2b94_level0_col2\" class=\"col_heading level0 col2\" >Davies-Bouldin</th>\n",
       "      <th id=\"T_a2b94_level0_col3\" class=\"col_heading level0 col3\" >Homogeneity</th>\n",
       "      <th id=\"T_a2b94_level0_col4\" class=\"col_heading level0 col4\" >Rand Index</th>\n",
       "      <th id=\"T_a2b94_level0_col5\" class=\"col_heading level0 col5\" >Completeness</th>\n",
       "    </tr>\n",
       "  </thead>\n",
       "  <tbody>\n",
       "    <tr>\n",
       "      <th id=\"T_a2b94_level0_row0\" class=\"row_heading level0 row0\" >0</th>\n",
       "      <td id=\"T_a2b94_row0_col0\" class=\"data row0 col0\" >0.4972</td>\n",
       "      <td id=\"T_a2b94_row0_col1\" class=\"data row0 col1\" >529.1208</td>\n",
       "      <td id=\"T_a2b94_row0_col2\" class=\"data row0 col2\" >0.7760</td>\n",
       "      <td id=\"T_a2b94_row0_col3\" class=\"data row0 col3\" >0</td>\n",
       "      <td id=\"T_a2b94_row0_col4\" class=\"data row0 col4\" >0</td>\n",
       "      <td id=\"T_a2b94_row0_col5\" class=\"data row0 col5\" >0</td>\n",
       "    </tr>\n",
       "  </tbody>\n",
       "</table>\n"
      ],
      "text/plain": [
       "<pandas.io.formats.style.Styler at 0x2b123b40af0>"
      ]
     },
     "metadata": {},
     "output_type": "display_data"
    },
    {
     "data": {
      "text/html": [],
      "text/plain": [
       "<IPython.core.display.HTML object>"
      ]
     },
     "metadata": {},
     "output_type": "display_data"
    },
    {
     "name": "stdout",
     "output_type": "stream",
     "text": [
      "For kmeans with 4 clusters with PCA\n"
     ]
    },
    {
     "data": {
      "application/vnd.jupyter.widget-view+json": {
       "model_id": "6ec33867992f44a4b2435260aac5934f",
       "version_major": 2,
       "version_minor": 0
      },
      "text/plain": [
       "interactive(children=(ToggleButtons(description='Plot Type:', icons=('',), options=(('Pipeline Plot', 'pipelin…"
      ]
     },
     "metadata": {},
     "output_type": "display_data"
    },
    {
     "data": {
      "text/html": [
       "<style type=\"text/css\">\n",
       "#T_d463d_row4_col1, #T_d463d_row8_col1 {\n",
       "  background-color: lightgreen;\n",
       "}\n",
       "</style>\n",
       "<table id=\"T_d463d\">\n",
       "  <thead>\n",
       "    <tr>\n",
       "      <th class=\"blank level0\" >&nbsp;</th>\n",
       "      <th id=\"T_d463d_level0_col0\" class=\"col_heading level0 col0\" >Description</th>\n",
       "      <th id=\"T_d463d_level0_col1\" class=\"col_heading level0 col1\" >Value</th>\n",
       "    </tr>\n",
       "  </thead>\n",
       "  <tbody>\n",
       "    <tr>\n",
       "      <th id=\"T_d463d_level0_row0\" class=\"row_heading level0 row0\" >0</th>\n",
       "      <td id=\"T_d463d_row0_col0\" class=\"data row0 col0\" >Session id</td>\n",
       "      <td id=\"T_d463d_row0_col1\" class=\"data row0 col1\" >2</td>\n",
       "    </tr>\n",
       "    <tr>\n",
       "      <th id=\"T_d463d_level0_row1\" class=\"row_heading level0 row1\" >1</th>\n",
       "      <td id=\"T_d463d_row1_col0\" class=\"data row1 col0\" >Original data shape</td>\n",
       "      <td id=\"T_d463d_row1_col1\" class=\"data row1 col1\" >(150, 4)</td>\n",
       "    </tr>\n",
       "    <tr>\n",
       "      <th id=\"T_d463d_level0_row2\" class=\"row_heading level0 row2\" >2</th>\n",
       "      <td id=\"T_d463d_row2_col0\" class=\"data row2 col0\" >Transformed data shape</td>\n",
       "      <td id=\"T_d463d_row2_col1\" class=\"data row2 col1\" >(150, 4)</td>\n",
       "    </tr>\n",
       "    <tr>\n",
       "      <th id=\"T_d463d_level0_row3\" class=\"row_heading level0 row3\" >3</th>\n",
       "      <td id=\"T_d463d_row3_col0\" class=\"data row3 col0\" >Numeric features</td>\n",
       "      <td id=\"T_d463d_row3_col1\" class=\"data row3 col1\" >4</td>\n",
       "    </tr>\n",
       "    <tr>\n",
       "      <th id=\"T_d463d_level0_row4\" class=\"row_heading level0 row4\" >4</th>\n",
       "      <td id=\"T_d463d_row4_col0\" class=\"data row4 col0\" >Preprocess</td>\n",
       "      <td id=\"T_d463d_row4_col1\" class=\"data row4 col1\" >True</td>\n",
       "    </tr>\n",
       "    <tr>\n",
       "      <th id=\"T_d463d_level0_row5\" class=\"row_heading level0 row5\" >5</th>\n",
       "      <td id=\"T_d463d_row5_col0\" class=\"data row5 col0\" >Imputation type</td>\n",
       "      <td id=\"T_d463d_row5_col1\" class=\"data row5 col1\" >simple</td>\n",
       "    </tr>\n",
       "    <tr>\n",
       "      <th id=\"T_d463d_level0_row6\" class=\"row_heading level0 row6\" >6</th>\n",
       "      <td id=\"T_d463d_row6_col0\" class=\"data row6 col0\" >Numeric imputation</td>\n",
       "      <td id=\"T_d463d_row6_col1\" class=\"data row6 col1\" >mean</td>\n",
       "    </tr>\n",
       "    <tr>\n",
       "      <th id=\"T_d463d_level0_row7\" class=\"row_heading level0 row7\" >7</th>\n",
       "      <td id=\"T_d463d_row7_col0\" class=\"data row7 col0\" >Categorical imputation</td>\n",
       "      <td id=\"T_d463d_row7_col1\" class=\"data row7 col1\" >mode</td>\n",
       "    </tr>\n",
       "    <tr>\n",
       "      <th id=\"T_d463d_level0_row8\" class=\"row_heading level0 row8\" >8</th>\n",
       "      <td id=\"T_d463d_row8_col0\" class=\"data row8 col0\" >PCA</td>\n",
       "      <td id=\"T_d463d_row8_col1\" class=\"data row8 col1\" >True</td>\n",
       "    </tr>\n",
       "    <tr>\n",
       "      <th id=\"T_d463d_level0_row9\" class=\"row_heading level0 row9\" >9</th>\n",
       "      <td id=\"T_d463d_row9_col0\" class=\"data row9 col0\" >PCA method</td>\n",
       "      <td id=\"T_d463d_row9_col1\" class=\"data row9 col1\" >linear</td>\n",
       "    </tr>\n",
       "    <tr>\n",
       "      <th id=\"T_d463d_level0_row10\" class=\"row_heading level0 row10\" >10</th>\n",
       "      <td id=\"T_d463d_row10_col0\" class=\"data row10 col0\" >PCA components</td>\n",
       "      <td id=\"T_d463d_row10_col1\" class=\"data row10 col1\" >None</td>\n",
       "    </tr>\n",
       "    <tr>\n",
       "      <th id=\"T_d463d_level0_row11\" class=\"row_heading level0 row11\" >11</th>\n",
       "      <td id=\"T_d463d_row11_col0\" class=\"data row11 col0\" >CPU Jobs</td>\n",
       "      <td id=\"T_d463d_row11_col1\" class=\"data row11 col1\" >-1</td>\n",
       "    </tr>\n",
       "    <tr>\n",
       "      <th id=\"T_d463d_level0_row12\" class=\"row_heading level0 row12\" >12</th>\n",
       "      <td id=\"T_d463d_row12_col0\" class=\"data row12 col0\" >Use GPU</td>\n",
       "      <td id=\"T_d463d_row12_col1\" class=\"data row12 col1\" >False</td>\n",
       "    </tr>\n",
       "    <tr>\n",
       "      <th id=\"T_d463d_level0_row13\" class=\"row_heading level0 row13\" >13</th>\n",
       "      <td id=\"T_d463d_row13_col0\" class=\"data row13 col0\" >Log Experiment</td>\n",
       "      <td id=\"T_d463d_row13_col1\" class=\"data row13 col1\" >False</td>\n",
       "    </tr>\n",
       "    <tr>\n",
       "      <th id=\"T_d463d_level0_row14\" class=\"row_heading level0 row14\" >14</th>\n",
       "      <td id=\"T_d463d_row14_col0\" class=\"data row14 col0\" >Experiment Name</td>\n",
       "      <td id=\"T_d463d_row14_col1\" class=\"data row14 col1\" >cluster-default-name</td>\n",
       "    </tr>\n",
       "    <tr>\n",
       "      <th id=\"T_d463d_level0_row15\" class=\"row_heading level0 row15\" >15</th>\n",
       "      <td id=\"T_d463d_row15_col0\" class=\"data row15 col0\" >USI</td>\n",
       "      <td id=\"T_d463d_row15_col1\" class=\"data row15 col1\" >d118</td>\n",
       "    </tr>\n",
       "  </tbody>\n",
       "</table>\n"
      ],
      "text/plain": [
       "<pandas.io.formats.style.Styler at 0x2b123bb72e0>"
      ]
     },
     "metadata": {},
     "output_type": "display_data"
    },
    {
     "data": {
      "text/html": [],
      "text/plain": [
       "<IPython.core.display.HTML object>"
      ]
     },
     "metadata": {},
     "output_type": "display_data"
    },
    {
     "data": {
      "text/html": [
       "<style type=\"text/css\">\n",
       "</style>\n",
       "<table id=\"T_a53d3\">\n",
       "  <thead>\n",
       "    <tr>\n",
       "      <th class=\"blank level0\" >&nbsp;</th>\n",
       "      <th id=\"T_a53d3_level0_col0\" class=\"col_heading level0 col0\" >Silhouette</th>\n",
       "      <th id=\"T_a53d3_level0_col1\" class=\"col_heading level0 col1\" >Calinski-Harabasz</th>\n",
       "      <th id=\"T_a53d3_level0_col2\" class=\"col_heading level0 col2\" >Davies-Bouldin</th>\n",
       "      <th id=\"T_a53d3_level0_col3\" class=\"col_heading level0 col3\" >Homogeneity</th>\n",
       "      <th id=\"T_a53d3_level0_col4\" class=\"col_heading level0 col4\" >Rand Index</th>\n",
       "      <th id=\"T_a53d3_level0_col5\" class=\"col_heading level0 col5\" >Completeness</th>\n",
       "    </tr>\n",
       "  </thead>\n",
       "  <tbody>\n",
       "    <tr>\n",
       "      <th id=\"T_a53d3_level0_row0\" class=\"row_heading level0 row0\" >0</th>\n",
       "      <td id=\"T_a53d3_row0_col0\" class=\"data row0 col0\" >0.4885</td>\n",
       "      <td id=\"T_a53d3_row0_col1\" class=\"data row0 col1\" >494.0945</td>\n",
       "      <td id=\"T_a53d3_row0_col2\" class=\"data row0 col2\" >0.8062</td>\n",
       "      <td id=\"T_a53d3_row0_col3\" class=\"data row0 col3\" >0</td>\n",
       "      <td id=\"T_a53d3_row0_col4\" class=\"data row0 col4\" >0</td>\n",
       "      <td id=\"T_a53d3_row0_col5\" class=\"data row0 col5\" >0</td>\n",
       "    </tr>\n",
       "  </tbody>\n",
       "</table>\n"
      ],
      "text/plain": [
       "<pandas.io.formats.style.Styler at 0x2b123bb6020>"
      ]
     },
     "metadata": {},
     "output_type": "display_data"
    },
    {
     "data": {
      "text/html": [],
      "text/plain": [
       "<IPython.core.display.HTML object>"
      ]
     },
     "metadata": {},
     "output_type": "display_data"
    },
    {
     "name": "stdout",
     "output_type": "stream",
     "text": [
      "For kmeans with 5 clusters with PCA\n"
     ]
    },
    {
     "data": {
      "application/vnd.jupyter.widget-view+json": {
       "model_id": "f210167f0f2e4b6985151c95dc0e397b",
       "version_major": 2,
       "version_minor": 0
      },
      "text/plain": [
       "interactive(children=(ToggleButtons(description='Plot Type:', icons=('',), options=(('Pipeline Plot', 'pipelin…"
      ]
     },
     "metadata": {},
     "output_type": "display_data"
    },
    {
     "data": {
      "text/html": [
       "<style type=\"text/css\">\n",
       "#T_36cc4_row4_col1, #T_36cc4_row8_col1 {\n",
       "  background-color: lightgreen;\n",
       "}\n",
       "</style>\n",
       "<table id=\"T_36cc4\">\n",
       "  <thead>\n",
       "    <tr>\n",
       "      <th class=\"blank level0\" >&nbsp;</th>\n",
       "      <th id=\"T_36cc4_level0_col0\" class=\"col_heading level0 col0\" >Description</th>\n",
       "      <th id=\"T_36cc4_level0_col1\" class=\"col_heading level0 col1\" >Value</th>\n",
       "    </tr>\n",
       "  </thead>\n",
       "  <tbody>\n",
       "    <tr>\n",
       "      <th id=\"T_36cc4_level0_row0\" class=\"row_heading level0 row0\" >0</th>\n",
       "      <td id=\"T_36cc4_row0_col0\" class=\"data row0 col0\" >Session id</td>\n",
       "      <td id=\"T_36cc4_row0_col1\" class=\"data row0 col1\" >2</td>\n",
       "    </tr>\n",
       "    <tr>\n",
       "      <th id=\"T_36cc4_level0_row1\" class=\"row_heading level0 row1\" >1</th>\n",
       "      <td id=\"T_36cc4_row1_col0\" class=\"data row1 col0\" >Original data shape</td>\n",
       "      <td id=\"T_36cc4_row1_col1\" class=\"data row1 col1\" >(150, 4)</td>\n",
       "    </tr>\n",
       "    <tr>\n",
       "      <th id=\"T_36cc4_level0_row2\" class=\"row_heading level0 row2\" >2</th>\n",
       "      <td id=\"T_36cc4_row2_col0\" class=\"data row2 col0\" >Transformed data shape</td>\n",
       "      <td id=\"T_36cc4_row2_col1\" class=\"data row2 col1\" >(150, 4)</td>\n",
       "    </tr>\n",
       "    <tr>\n",
       "      <th id=\"T_36cc4_level0_row3\" class=\"row_heading level0 row3\" >3</th>\n",
       "      <td id=\"T_36cc4_row3_col0\" class=\"data row3 col0\" >Numeric features</td>\n",
       "      <td id=\"T_36cc4_row3_col1\" class=\"data row3 col1\" >4</td>\n",
       "    </tr>\n",
       "    <tr>\n",
       "      <th id=\"T_36cc4_level0_row4\" class=\"row_heading level0 row4\" >4</th>\n",
       "      <td id=\"T_36cc4_row4_col0\" class=\"data row4 col0\" >Preprocess</td>\n",
       "      <td id=\"T_36cc4_row4_col1\" class=\"data row4 col1\" >True</td>\n",
       "    </tr>\n",
       "    <tr>\n",
       "      <th id=\"T_36cc4_level0_row5\" class=\"row_heading level0 row5\" >5</th>\n",
       "      <td id=\"T_36cc4_row5_col0\" class=\"data row5 col0\" >Imputation type</td>\n",
       "      <td id=\"T_36cc4_row5_col1\" class=\"data row5 col1\" >simple</td>\n",
       "    </tr>\n",
       "    <tr>\n",
       "      <th id=\"T_36cc4_level0_row6\" class=\"row_heading level0 row6\" >6</th>\n",
       "      <td id=\"T_36cc4_row6_col0\" class=\"data row6 col0\" >Numeric imputation</td>\n",
       "      <td id=\"T_36cc4_row6_col1\" class=\"data row6 col1\" >mean</td>\n",
       "    </tr>\n",
       "    <tr>\n",
       "      <th id=\"T_36cc4_level0_row7\" class=\"row_heading level0 row7\" >7</th>\n",
       "      <td id=\"T_36cc4_row7_col0\" class=\"data row7 col0\" >Categorical imputation</td>\n",
       "      <td id=\"T_36cc4_row7_col1\" class=\"data row7 col1\" >mode</td>\n",
       "    </tr>\n",
       "    <tr>\n",
       "      <th id=\"T_36cc4_level0_row8\" class=\"row_heading level0 row8\" >8</th>\n",
       "      <td id=\"T_36cc4_row8_col0\" class=\"data row8 col0\" >PCA</td>\n",
       "      <td id=\"T_36cc4_row8_col1\" class=\"data row8 col1\" >True</td>\n",
       "    </tr>\n",
       "    <tr>\n",
       "      <th id=\"T_36cc4_level0_row9\" class=\"row_heading level0 row9\" >9</th>\n",
       "      <td id=\"T_36cc4_row9_col0\" class=\"data row9 col0\" >PCA method</td>\n",
       "      <td id=\"T_36cc4_row9_col1\" class=\"data row9 col1\" >linear</td>\n",
       "    </tr>\n",
       "    <tr>\n",
       "      <th id=\"T_36cc4_level0_row10\" class=\"row_heading level0 row10\" >10</th>\n",
       "      <td id=\"T_36cc4_row10_col0\" class=\"data row10 col0\" >PCA components</td>\n",
       "      <td id=\"T_36cc4_row10_col1\" class=\"data row10 col1\" >None</td>\n",
       "    </tr>\n",
       "    <tr>\n",
       "      <th id=\"T_36cc4_level0_row11\" class=\"row_heading level0 row11\" >11</th>\n",
       "      <td id=\"T_36cc4_row11_col0\" class=\"data row11 col0\" >CPU Jobs</td>\n",
       "      <td id=\"T_36cc4_row11_col1\" class=\"data row11 col1\" >-1</td>\n",
       "    </tr>\n",
       "    <tr>\n",
       "      <th id=\"T_36cc4_level0_row12\" class=\"row_heading level0 row12\" >12</th>\n",
       "      <td id=\"T_36cc4_row12_col0\" class=\"data row12 col0\" >Use GPU</td>\n",
       "      <td id=\"T_36cc4_row12_col1\" class=\"data row12 col1\" >False</td>\n",
       "    </tr>\n",
       "    <tr>\n",
       "      <th id=\"T_36cc4_level0_row13\" class=\"row_heading level0 row13\" >13</th>\n",
       "      <td id=\"T_36cc4_row13_col0\" class=\"data row13 col0\" >Log Experiment</td>\n",
       "      <td id=\"T_36cc4_row13_col1\" class=\"data row13 col1\" >False</td>\n",
       "    </tr>\n",
       "    <tr>\n",
       "      <th id=\"T_36cc4_level0_row14\" class=\"row_heading level0 row14\" >14</th>\n",
       "      <td id=\"T_36cc4_row14_col0\" class=\"data row14 col0\" >Experiment Name</td>\n",
       "      <td id=\"T_36cc4_row14_col1\" class=\"data row14 col1\" >cluster-default-name</td>\n",
       "    </tr>\n",
       "    <tr>\n",
       "      <th id=\"T_36cc4_level0_row15\" class=\"row_heading level0 row15\" >15</th>\n",
       "      <td id=\"T_36cc4_row15_col0\" class=\"data row15 col0\" >USI</td>\n",
       "      <td id=\"T_36cc4_row15_col1\" class=\"data row15 col1\" >9d05</td>\n",
       "    </tr>\n",
       "  </tbody>\n",
       "</table>\n"
      ],
      "text/plain": [
       "<pandas.io.formats.style.Styler at 0x2b123bb6320>"
      ]
     },
     "metadata": {},
     "output_type": "display_data"
    },
    {
     "data": {
      "text/html": [],
      "text/plain": [
       "<IPython.core.display.HTML object>"
      ]
     },
     "metadata": {},
     "output_type": "display_data"
    },
    {
     "data": {
      "text/html": [
       "<style type=\"text/css\">\n",
       "</style>\n",
       "<table id=\"T_b7895\">\n",
       "  <thead>\n",
       "    <tr>\n",
       "      <th class=\"blank level0\" >&nbsp;</th>\n",
       "      <th id=\"T_b7895_level0_col0\" class=\"col_heading level0 col0\" >Silhouette</th>\n",
       "      <th id=\"T_b7895_level0_col1\" class=\"col_heading level0 col1\" >Calinski-Harabasz</th>\n",
       "      <th id=\"T_b7895_level0_col2\" class=\"col_heading level0 col2\" >Davies-Bouldin</th>\n",
       "      <th id=\"T_b7895_level0_col3\" class=\"col_heading level0 col3\" >Homogeneity</th>\n",
       "      <th id=\"T_b7895_level0_col4\" class=\"col_heading level0 col4\" >Rand Index</th>\n",
       "      <th id=\"T_b7895_level0_col5\" class=\"col_heading level0 col5\" >Completeness</th>\n",
       "    </tr>\n",
       "  </thead>\n",
       "  <tbody>\n",
       "    <tr>\n",
       "      <th id=\"T_b7895_level0_row0\" class=\"row_heading level0 row0\" >0</th>\n",
       "      <td id=\"T_b7895_row0_col0\" class=\"data row0 col0\" >0.5541</td>\n",
       "      <td id=\"T_b7895_row0_col1\" class=\"data row0 col1\" >556.8412</td>\n",
       "      <td id=\"T_b7895_row0_col2\" class=\"data row0 col2\" >0.6566</td>\n",
       "      <td id=\"T_b7895_row0_col3\" class=\"data row0 col3\" >0</td>\n",
       "      <td id=\"T_b7895_row0_col4\" class=\"data row0 col4\" >0</td>\n",
       "      <td id=\"T_b7895_row0_col5\" class=\"data row0 col5\" >0</td>\n",
       "    </tr>\n",
       "  </tbody>\n",
       "</table>\n"
      ],
      "text/plain": [
       "<pandas.io.formats.style.Styler at 0x2b123b8a680>"
      ]
     },
     "metadata": {},
     "output_type": "display_data"
    },
    {
     "data": {
      "text/html": [],
      "text/plain": [
       "<IPython.core.display.HTML object>"
      ]
     },
     "metadata": {},
     "output_type": "display_data"
    },
    {
     "name": "stdout",
     "output_type": "stream",
     "text": [
      "For hierarchical with 3 clusters with PCA\n"
     ]
    },
    {
     "data": {
      "application/vnd.jupyter.widget-view+json": {
       "model_id": "d13361b48248438288438b04f07d7e38",
       "version_major": 2,
       "version_minor": 0
      },
      "text/plain": [
       "interactive(children=(ToggleButtons(description='Plot Type:', icons=('',), options=(('Pipeline Plot', 'pipelin…"
      ]
     },
     "metadata": {},
     "output_type": "display_data"
    },
    {
     "data": {
      "text/html": [
       "<style type=\"text/css\">\n",
       "#T_c2929_row4_col1, #T_c2929_row8_col1 {\n",
       "  background-color: lightgreen;\n",
       "}\n",
       "</style>\n",
       "<table id=\"T_c2929\">\n",
       "  <thead>\n",
       "    <tr>\n",
       "      <th class=\"blank level0\" >&nbsp;</th>\n",
       "      <th id=\"T_c2929_level0_col0\" class=\"col_heading level0 col0\" >Description</th>\n",
       "      <th id=\"T_c2929_level0_col1\" class=\"col_heading level0 col1\" >Value</th>\n",
       "    </tr>\n",
       "  </thead>\n",
       "  <tbody>\n",
       "    <tr>\n",
       "      <th id=\"T_c2929_level0_row0\" class=\"row_heading level0 row0\" >0</th>\n",
       "      <td id=\"T_c2929_row0_col0\" class=\"data row0 col0\" >Session id</td>\n",
       "      <td id=\"T_c2929_row0_col1\" class=\"data row0 col1\" >2</td>\n",
       "    </tr>\n",
       "    <tr>\n",
       "      <th id=\"T_c2929_level0_row1\" class=\"row_heading level0 row1\" >1</th>\n",
       "      <td id=\"T_c2929_row1_col0\" class=\"data row1 col0\" >Original data shape</td>\n",
       "      <td id=\"T_c2929_row1_col1\" class=\"data row1 col1\" >(150, 4)</td>\n",
       "    </tr>\n",
       "    <tr>\n",
       "      <th id=\"T_c2929_level0_row2\" class=\"row_heading level0 row2\" >2</th>\n",
       "      <td id=\"T_c2929_row2_col0\" class=\"data row2 col0\" >Transformed data shape</td>\n",
       "      <td id=\"T_c2929_row2_col1\" class=\"data row2 col1\" >(150, 4)</td>\n",
       "    </tr>\n",
       "    <tr>\n",
       "      <th id=\"T_c2929_level0_row3\" class=\"row_heading level0 row3\" >3</th>\n",
       "      <td id=\"T_c2929_row3_col0\" class=\"data row3 col0\" >Numeric features</td>\n",
       "      <td id=\"T_c2929_row3_col1\" class=\"data row3 col1\" >4</td>\n",
       "    </tr>\n",
       "    <tr>\n",
       "      <th id=\"T_c2929_level0_row4\" class=\"row_heading level0 row4\" >4</th>\n",
       "      <td id=\"T_c2929_row4_col0\" class=\"data row4 col0\" >Preprocess</td>\n",
       "      <td id=\"T_c2929_row4_col1\" class=\"data row4 col1\" >True</td>\n",
       "    </tr>\n",
       "    <tr>\n",
       "      <th id=\"T_c2929_level0_row5\" class=\"row_heading level0 row5\" >5</th>\n",
       "      <td id=\"T_c2929_row5_col0\" class=\"data row5 col0\" >Imputation type</td>\n",
       "      <td id=\"T_c2929_row5_col1\" class=\"data row5 col1\" >simple</td>\n",
       "    </tr>\n",
       "    <tr>\n",
       "      <th id=\"T_c2929_level0_row6\" class=\"row_heading level0 row6\" >6</th>\n",
       "      <td id=\"T_c2929_row6_col0\" class=\"data row6 col0\" >Numeric imputation</td>\n",
       "      <td id=\"T_c2929_row6_col1\" class=\"data row6 col1\" >mean</td>\n",
       "    </tr>\n",
       "    <tr>\n",
       "      <th id=\"T_c2929_level0_row7\" class=\"row_heading level0 row7\" >7</th>\n",
       "      <td id=\"T_c2929_row7_col0\" class=\"data row7 col0\" >Categorical imputation</td>\n",
       "      <td id=\"T_c2929_row7_col1\" class=\"data row7 col1\" >mode</td>\n",
       "    </tr>\n",
       "    <tr>\n",
       "      <th id=\"T_c2929_level0_row8\" class=\"row_heading level0 row8\" >8</th>\n",
       "      <td id=\"T_c2929_row8_col0\" class=\"data row8 col0\" >PCA</td>\n",
       "      <td id=\"T_c2929_row8_col1\" class=\"data row8 col1\" >True</td>\n",
       "    </tr>\n",
       "    <tr>\n",
       "      <th id=\"T_c2929_level0_row9\" class=\"row_heading level0 row9\" >9</th>\n",
       "      <td id=\"T_c2929_row9_col0\" class=\"data row9 col0\" >PCA method</td>\n",
       "      <td id=\"T_c2929_row9_col1\" class=\"data row9 col1\" >linear</td>\n",
       "    </tr>\n",
       "    <tr>\n",
       "      <th id=\"T_c2929_level0_row10\" class=\"row_heading level0 row10\" >10</th>\n",
       "      <td id=\"T_c2929_row10_col0\" class=\"data row10 col0\" >PCA components</td>\n",
       "      <td id=\"T_c2929_row10_col1\" class=\"data row10 col1\" >None</td>\n",
       "    </tr>\n",
       "    <tr>\n",
       "      <th id=\"T_c2929_level0_row11\" class=\"row_heading level0 row11\" >11</th>\n",
       "      <td id=\"T_c2929_row11_col0\" class=\"data row11 col0\" >CPU Jobs</td>\n",
       "      <td id=\"T_c2929_row11_col1\" class=\"data row11 col1\" >-1</td>\n",
       "    </tr>\n",
       "    <tr>\n",
       "      <th id=\"T_c2929_level0_row12\" class=\"row_heading level0 row12\" >12</th>\n",
       "      <td id=\"T_c2929_row12_col0\" class=\"data row12 col0\" >Use GPU</td>\n",
       "      <td id=\"T_c2929_row12_col1\" class=\"data row12 col1\" >False</td>\n",
       "    </tr>\n",
       "    <tr>\n",
       "      <th id=\"T_c2929_level0_row13\" class=\"row_heading level0 row13\" >13</th>\n",
       "      <td id=\"T_c2929_row13_col0\" class=\"data row13 col0\" >Log Experiment</td>\n",
       "      <td id=\"T_c2929_row13_col1\" class=\"data row13 col1\" >False</td>\n",
       "    </tr>\n",
       "    <tr>\n",
       "      <th id=\"T_c2929_level0_row14\" class=\"row_heading level0 row14\" >14</th>\n",
       "      <td id=\"T_c2929_row14_col0\" class=\"data row14 col0\" >Experiment Name</td>\n",
       "      <td id=\"T_c2929_row14_col1\" class=\"data row14 col1\" >cluster-default-name</td>\n",
       "    </tr>\n",
       "    <tr>\n",
       "      <th id=\"T_c2929_level0_row15\" class=\"row_heading level0 row15\" >15</th>\n",
       "      <td id=\"T_c2929_row15_col0\" class=\"data row15 col0\" >USI</td>\n",
       "      <td id=\"T_c2929_row15_col1\" class=\"data row15 col1\" >414e</td>\n",
       "    </tr>\n",
       "  </tbody>\n",
       "</table>\n"
      ],
      "text/plain": [
       "<pandas.io.formats.style.Styler at 0x2b123bb7100>"
      ]
     },
     "metadata": {},
     "output_type": "display_data"
    },
    {
     "data": {
      "text/html": [],
      "text/plain": [
       "<IPython.core.display.HTML object>"
      ]
     },
     "metadata": {},
     "output_type": "display_data"
    },
    {
     "data": {
      "text/html": [
       "<style type=\"text/css\">\n",
       "</style>\n",
       "<table id=\"T_9fb9e\">\n",
       "  <thead>\n",
       "    <tr>\n",
       "      <th class=\"blank level0\" >&nbsp;</th>\n",
       "      <th id=\"T_9fb9e_level0_col0\" class=\"col_heading level0 col0\" >Silhouette</th>\n",
       "      <th id=\"T_9fb9e_level0_col1\" class=\"col_heading level0 col1\" >Calinski-Harabasz</th>\n",
       "      <th id=\"T_9fb9e_level0_col2\" class=\"col_heading level0 col2\" >Davies-Bouldin</th>\n",
       "      <th id=\"T_9fb9e_level0_col3\" class=\"col_heading level0 col3\" >Homogeneity</th>\n",
       "      <th id=\"T_9fb9e_level0_col4\" class=\"col_heading level0 col4\" >Rand Index</th>\n",
       "      <th id=\"T_9fb9e_level0_col5\" class=\"col_heading level0 col5\" >Completeness</th>\n",
       "    </tr>\n",
       "  </thead>\n",
       "  <tbody>\n",
       "    <tr>\n",
       "      <th id=\"T_9fb9e_level0_row0\" class=\"row_heading level0 row0\" >0</th>\n",
       "      <td id=\"T_9fb9e_row0_col0\" class=\"data row0 col0\" >0.4887</td>\n",
       "      <td id=\"T_9fb9e_row0_col1\" class=\"data row0 col1\" >513.7722</td>\n",
       "      <td id=\"T_9fb9e_row0_col2\" class=\"data row0 col2\" >0.7956</td>\n",
       "      <td id=\"T_9fb9e_row0_col3\" class=\"data row0 col3\" >0</td>\n",
       "      <td id=\"T_9fb9e_row0_col4\" class=\"data row0 col4\" >0</td>\n",
       "      <td id=\"T_9fb9e_row0_col5\" class=\"data row0 col5\" >0</td>\n",
       "    </tr>\n",
       "  </tbody>\n",
       "</table>\n"
      ],
      "text/plain": [
       "<pandas.io.formats.style.Styler at 0x2b123bb65c0>"
      ]
     },
     "metadata": {},
     "output_type": "display_data"
    },
    {
     "data": {
      "text/html": [],
      "text/plain": [
       "<IPython.core.display.HTML object>"
      ]
     },
     "metadata": {},
     "output_type": "display_data"
    },
    {
     "name": "stdout",
     "output_type": "stream",
     "text": [
      "For hierarchical with 4 clusters with PCA\n"
     ]
    },
    {
     "data": {
      "application/vnd.jupyter.widget-view+json": {
       "model_id": "0d939e73a8904e458511a330df5a3c6a",
       "version_major": 2,
       "version_minor": 0
      },
      "text/plain": [
       "interactive(children=(ToggleButtons(description='Plot Type:', icons=('',), options=(('Pipeline Plot', 'pipelin…"
      ]
     },
     "metadata": {},
     "output_type": "display_data"
    },
    {
     "data": {
      "text/html": [
       "<style type=\"text/css\">\n",
       "#T_aedda_row4_col1, #T_aedda_row8_col1 {\n",
       "  background-color: lightgreen;\n",
       "}\n",
       "</style>\n",
       "<table id=\"T_aedda\">\n",
       "  <thead>\n",
       "    <tr>\n",
       "      <th class=\"blank level0\" >&nbsp;</th>\n",
       "      <th id=\"T_aedda_level0_col0\" class=\"col_heading level0 col0\" >Description</th>\n",
       "      <th id=\"T_aedda_level0_col1\" class=\"col_heading level0 col1\" >Value</th>\n",
       "    </tr>\n",
       "  </thead>\n",
       "  <tbody>\n",
       "    <tr>\n",
       "      <th id=\"T_aedda_level0_row0\" class=\"row_heading level0 row0\" >0</th>\n",
       "      <td id=\"T_aedda_row0_col0\" class=\"data row0 col0\" >Session id</td>\n",
       "      <td id=\"T_aedda_row0_col1\" class=\"data row0 col1\" >2</td>\n",
       "    </tr>\n",
       "    <tr>\n",
       "      <th id=\"T_aedda_level0_row1\" class=\"row_heading level0 row1\" >1</th>\n",
       "      <td id=\"T_aedda_row1_col0\" class=\"data row1 col0\" >Original data shape</td>\n",
       "      <td id=\"T_aedda_row1_col1\" class=\"data row1 col1\" >(150, 4)</td>\n",
       "    </tr>\n",
       "    <tr>\n",
       "      <th id=\"T_aedda_level0_row2\" class=\"row_heading level0 row2\" >2</th>\n",
       "      <td id=\"T_aedda_row2_col0\" class=\"data row2 col0\" >Transformed data shape</td>\n",
       "      <td id=\"T_aedda_row2_col1\" class=\"data row2 col1\" >(150, 4)</td>\n",
       "    </tr>\n",
       "    <tr>\n",
       "      <th id=\"T_aedda_level0_row3\" class=\"row_heading level0 row3\" >3</th>\n",
       "      <td id=\"T_aedda_row3_col0\" class=\"data row3 col0\" >Numeric features</td>\n",
       "      <td id=\"T_aedda_row3_col1\" class=\"data row3 col1\" >4</td>\n",
       "    </tr>\n",
       "    <tr>\n",
       "      <th id=\"T_aedda_level0_row4\" class=\"row_heading level0 row4\" >4</th>\n",
       "      <td id=\"T_aedda_row4_col0\" class=\"data row4 col0\" >Preprocess</td>\n",
       "      <td id=\"T_aedda_row4_col1\" class=\"data row4 col1\" >True</td>\n",
       "    </tr>\n",
       "    <tr>\n",
       "      <th id=\"T_aedda_level0_row5\" class=\"row_heading level0 row5\" >5</th>\n",
       "      <td id=\"T_aedda_row5_col0\" class=\"data row5 col0\" >Imputation type</td>\n",
       "      <td id=\"T_aedda_row5_col1\" class=\"data row5 col1\" >simple</td>\n",
       "    </tr>\n",
       "    <tr>\n",
       "      <th id=\"T_aedda_level0_row6\" class=\"row_heading level0 row6\" >6</th>\n",
       "      <td id=\"T_aedda_row6_col0\" class=\"data row6 col0\" >Numeric imputation</td>\n",
       "      <td id=\"T_aedda_row6_col1\" class=\"data row6 col1\" >mean</td>\n",
       "    </tr>\n",
       "    <tr>\n",
       "      <th id=\"T_aedda_level0_row7\" class=\"row_heading level0 row7\" >7</th>\n",
       "      <td id=\"T_aedda_row7_col0\" class=\"data row7 col0\" >Categorical imputation</td>\n",
       "      <td id=\"T_aedda_row7_col1\" class=\"data row7 col1\" >mode</td>\n",
       "    </tr>\n",
       "    <tr>\n",
       "      <th id=\"T_aedda_level0_row8\" class=\"row_heading level0 row8\" >8</th>\n",
       "      <td id=\"T_aedda_row8_col0\" class=\"data row8 col0\" >PCA</td>\n",
       "      <td id=\"T_aedda_row8_col1\" class=\"data row8 col1\" >True</td>\n",
       "    </tr>\n",
       "    <tr>\n",
       "      <th id=\"T_aedda_level0_row9\" class=\"row_heading level0 row9\" >9</th>\n",
       "      <td id=\"T_aedda_row9_col0\" class=\"data row9 col0\" >PCA method</td>\n",
       "      <td id=\"T_aedda_row9_col1\" class=\"data row9 col1\" >linear</td>\n",
       "    </tr>\n",
       "    <tr>\n",
       "      <th id=\"T_aedda_level0_row10\" class=\"row_heading level0 row10\" >10</th>\n",
       "      <td id=\"T_aedda_row10_col0\" class=\"data row10 col0\" >PCA components</td>\n",
       "      <td id=\"T_aedda_row10_col1\" class=\"data row10 col1\" >None</td>\n",
       "    </tr>\n",
       "    <tr>\n",
       "      <th id=\"T_aedda_level0_row11\" class=\"row_heading level0 row11\" >11</th>\n",
       "      <td id=\"T_aedda_row11_col0\" class=\"data row11 col0\" >CPU Jobs</td>\n",
       "      <td id=\"T_aedda_row11_col1\" class=\"data row11 col1\" >-1</td>\n",
       "    </tr>\n",
       "    <tr>\n",
       "      <th id=\"T_aedda_level0_row12\" class=\"row_heading level0 row12\" >12</th>\n",
       "      <td id=\"T_aedda_row12_col0\" class=\"data row12 col0\" >Use GPU</td>\n",
       "      <td id=\"T_aedda_row12_col1\" class=\"data row12 col1\" >False</td>\n",
       "    </tr>\n",
       "    <tr>\n",
       "      <th id=\"T_aedda_level0_row13\" class=\"row_heading level0 row13\" >13</th>\n",
       "      <td id=\"T_aedda_row13_col0\" class=\"data row13 col0\" >Log Experiment</td>\n",
       "      <td id=\"T_aedda_row13_col1\" class=\"data row13 col1\" >False</td>\n",
       "    </tr>\n",
       "    <tr>\n",
       "      <th id=\"T_aedda_level0_row14\" class=\"row_heading level0 row14\" >14</th>\n",
       "      <td id=\"T_aedda_row14_col0\" class=\"data row14 col0\" >Experiment Name</td>\n",
       "      <td id=\"T_aedda_row14_col1\" class=\"data row14 col1\" >cluster-default-name</td>\n",
       "    </tr>\n",
       "    <tr>\n",
       "      <th id=\"T_aedda_level0_row15\" class=\"row_heading level0 row15\" >15</th>\n",
       "      <td id=\"T_aedda_row15_col0\" class=\"data row15 col0\" >USI</td>\n",
       "      <td id=\"T_aedda_row15_col1\" class=\"data row15 col1\" >afc7</td>\n",
       "    </tr>\n",
       "  </tbody>\n",
       "</table>\n"
      ],
      "text/plain": [
       "<pandas.io.formats.style.Styler at 0x2b123c1e1d0>"
      ]
     },
     "metadata": {},
     "output_type": "display_data"
    },
    {
     "data": {
      "text/html": [],
      "text/plain": [
       "<IPython.core.display.HTML object>"
      ]
     },
     "metadata": {},
     "output_type": "display_data"
    },
    {
     "data": {
      "text/html": [
       "<style type=\"text/css\">\n",
       "</style>\n",
       "<table id=\"T_1064e\">\n",
       "  <thead>\n",
       "    <tr>\n",
       "      <th class=\"blank level0\" >&nbsp;</th>\n",
       "      <th id=\"T_1064e_level0_col0\" class=\"col_heading level0 col0\" >Silhouette</th>\n",
       "      <th id=\"T_1064e_level0_col1\" class=\"col_heading level0 col1\" >Calinski-Harabasz</th>\n",
       "      <th id=\"T_1064e_level0_col2\" class=\"col_heading level0 col2\" >Davies-Bouldin</th>\n",
       "      <th id=\"T_1064e_level0_col3\" class=\"col_heading level0 col3\" >Homogeneity</th>\n",
       "      <th id=\"T_1064e_level0_col4\" class=\"col_heading level0 col4\" >Rand Index</th>\n",
       "      <th id=\"T_1064e_level0_col5\" class=\"col_heading level0 col5\" >Completeness</th>\n",
       "    </tr>\n",
       "  </thead>\n",
       "  <tbody>\n",
       "    <tr>\n",
       "      <th id=\"T_1064e_level0_row0\" class=\"row_heading level0 row0\" >0</th>\n",
       "      <td id=\"T_1064e_row0_col0\" class=\"data row0 col0\" >0.4842</td>\n",
       "      <td id=\"T_1064e_row0_col1\" class=\"data row0 col1\" >487.0705</td>\n",
       "      <td id=\"T_1064e_row0_col2\" class=\"data row0 col2\" >0.8207</td>\n",
       "      <td id=\"T_1064e_row0_col3\" class=\"data row0 col3\" >0</td>\n",
       "      <td id=\"T_1064e_row0_col4\" class=\"data row0 col4\" >0</td>\n",
       "      <td id=\"T_1064e_row0_col5\" class=\"data row0 col5\" >0</td>\n",
       "    </tr>\n",
       "  </tbody>\n",
       "</table>\n"
      ],
      "text/plain": [
       "<pandas.io.formats.style.Styler at 0x2b123c1ea70>"
      ]
     },
     "metadata": {},
     "output_type": "display_data"
    },
    {
     "data": {
      "text/html": [],
      "text/plain": [
       "<IPython.core.display.HTML object>"
      ]
     },
     "metadata": {},
     "output_type": "display_data"
    },
    {
     "name": "stdout",
     "output_type": "stream",
     "text": [
      "For hierarchical with 5 clusters with PCA\n"
     ]
    },
    {
     "data": {
      "application/vnd.jupyter.widget-view+json": {
       "model_id": "3fb97bb8de8d44cfa9790474f1777ff8",
       "version_major": 2,
       "version_minor": 0
      },
      "text/plain": [
       "interactive(children=(ToggleButtons(description='Plot Type:', icons=('',), options=(('Pipeline Plot', 'pipelin…"
      ]
     },
     "metadata": {},
     "output_type": "display_data"
    },
    {
     "data": {
      "text/html": [
       "<style type=\"text/css\">\n",
       "#T_30c29_row4_col1, #T_30c29_row8_col1 {\n",
       "  background-color: lightgreen;\n",
       "}\n",
       "</style>\n",
       "<table id=\"T_30c29\">\n",
       "  <thead>\n",
       "    <tr>\n",
       "      <th class=\"blank level0\" >&nbsp;</th>\n",
       "      <th id=\"T_30c29_level0_col0\" class=\"col_heading level0 col0\" >Description</th>\n",
       "      <th id=\"T_30c29_level0_col1\" class=\"col_heading level0 col1\" >Value</th>\n",
       "    </tr>\n",
       "  </thead>\n",
       "  <tbody>\n",
       "    <tr>\n",
       "      <th id=\"T_30c29_level0_row0\" class=\"row_heading level0 row0\" >0</th>\n",
       "      <td id=\"T_30c29_row0_col0\" class=\"data row0 col0\" >Session id</td>\n",
       "      <td id=\"T_30c29_row0_col1\" class=\"data row0 col1\" >2</td>\n",
       "    </tr>\n",
       "    <tr>\n",
       "      <th id=\"T_30c29_level0_row1\" class=\"row_heading level0 row1\" >1</th>\n",
       "      <td id=\"T_30c29_row1_col0\" class=\"data row1 col0\" >Original data shape</td>\n",
       "      <td id=\"T_30c29_row1_col1\" class=\"data row1 col1\" >(150, 4)</td>\n",
       "    </tr>\n",
       "    <tr>\n",
       "      <th id=\"T_30c29_level0_row2\" class=\"row_heading level0 row2\" >2</th>\n",
       "      <td id=\"T_30c29_row2_col0\" class=\"data row2 col0\" >Transformed data shape</td>\n",
       "      <td id=\"T_30c29_row2_col1\" class=\"data row2 col1\" >(150, 4)</td>\n",
       "    </tr>\n",
       "    <tr>\n",
       "      <th id=\"T_30c29_level0_row3\" class=\"row_heading level0 row3\" >3</th>\n",
       "      <td id=\"T_30c29_row3_col0\" class=\"data row3 col0\" >Numeric features</td>\n",
       "      <td id=\"T_30c29_row3_col1\" class=\"data row3 col1\" >4</td>\n",
       "    </tr>\n",
       "    <tr>\n",
       "      <th id=\"T_30c29_level0_row4\" class=\"row_heading level0 row4\" >4</th>\n",
       "      <td id=\"T_30c29_row4_col0\" class=\"data row4 col0\" >Preprocess</td>\n",
       "      <td id=\"T_30c29_row4_col1\" class=\"data row4 col1\" >True</td>\n",
       "    </tr>\n",
       "    <tr>\n",
       "      <th id=\"T_30c29_level0_row5\" class=\"row_heading level0 row5\" >5</th>\n",
       "      <td id=\"T_30c29_row5_col0\" class=\"data row5 col0\" >Imputation type</td>\n",
       "      <td id=\"T_30c29_row5_col1\" class=\"data row5 col1\" >simple</td>\n",
       "    </tr>\n",
       "    <tr>\n",
       "      <th id=\"T_30c29_level0_row6\" class=\"row_heading level0 row6\" >6</th>\n",
       "      <td id=\"T_30c29_row6_col0\" class=\"data row6 col0\" >Numeric imputation</td>\n",
       "      <td id=\"T_30c29_row6_col1\" class=\"data row6 col1\" >mean</td>\n",
       "    </tr>\n",
       "    <tr>\n",
       "      <th id=\"T_30c29_level0_row7\" class=\"row_heading level0 row7\" >7</th>\n",
       "      <td id=\"T_30c29_row7_col0\" class=\"data row7 col0\" >Categorical imputation</td>\n",
       "      <td id=\"T_30c29_row7_col1\" class=\"data row7 col1\" >mode</td>\n",
       "    </tr>\n",
       "    <tr>\n",
       "      <th id=\"T_30c29_level0_row8\" class=\"row_heading level0 row8\" >8</th>\n",
       "      <td id=\"T_30c29_row8_col0\" class=\"data row8 col0\" >PCA</td>\n",
       "      <td id=\"T_30c29_row8_col1\" class=\"data row8 col1\" >True</td>\n",
       "    </tr>\n",
       "    <tr>\n",
       "      <th id=\"T_30c29_level0_row9\" class=\"row_heading level0 row9\" >9</th>\n",
       "      <td id=\"T_30c29_row9_col0\" class=\"data row9 col0\" >PCA method</td>\n",
       "      <td id=\"T_30c29_row9_col1\" class=\"data row9 col1\" >linear</td>\n",
       "    </tr>\n",
       "    <tr>\n",
       "      <th id=\"T_30c29_level0_row10\" class=\"row_heading level0 row10\" >10</th>\n",
       "      <td id=\"T_30c29_row10_col0\" class=\"data row10 col0\" >PCA components</td>\n",
       "      <td id=\"T_30c29_row10_col1\" class=\"data row10 col1\" >None</td>\n",
       "    </tr>\n",
       "    <tr>\n",
       "      <th id=\"T_30c29_level0_row11\" class=\"row_heading level0 row11\" >11</th>\n",
       "      <td id=\"T_30c29_row11_col0\" class=\"data row11 col0\" >CPU Jobs</td>\n",
       "      <td id=\"T_30c29_row11_col1\" class=\"data row11 col1\" >-1</td>\n",
       "    </tr>\n",
       "    <tr>\n",
       "      <th id=\"T_30c29_level0_row12\" class=\"row_heading level0 row12\" >12</th>\n",
       "      <td id=\"T_30c29_row12_col0\" class=\"data row12 col0\" >Use GPU</td>\n",
       "      <td id=\"T_30c29_row12_col1\" class=\"data row12 col1\" >False</td>\n",
       "    </tr>\n",
       "    <tr>\n",
       "      <th id=\"T_30c29_level0_row13\" class=\"row_heading level0 row13\" >13</th>\n",
       "      <td id=\"T_30c29_row13_col0\" class=\"data row13 col0\" >Log Experiment</td>\n",
       "      <td id=\"T_30c29_row13_col1\" class=\"data row13 col1\" >False</td>\n",
       "    </tr>\n",
       "    <tr>\n",
       "      <th id=\"T_30c29_level0_row14\" class=\"row_heading level0 row14\" >14</th>\n",
       "      <td id=\"T_30c29_row14_col0\" class=\"data row14 col0\" >Experiment Name</td>\n",
       "      <td id=\"T_30c29_row14_col1\" class=\"data row14 col1\" >cluster-default-name</td>\n",
       "    </tr>\n",
       "    <tr>\n",
       "      <th id=\"T_30c29_level0_row15\" class=\"row_heading level0 row15\" >15</th>\n",
       "      <td id=\"T_30c29_row15_col0\" class=\"data row15 col0\" >USI</td>\n",
       "      <td id=\"T_30c29_row15_col1\" class=\"data row15 col1\" >950f</td>\n",
       "    </tr>\n",
       "  </tbody>\n",
       "</table>\n"
      ],
      "text/plain": [
       "<pandas.io.formats.style.Styler at 0x2b124014d90>"
      ]
     },
     "metadata": {},
     "output_type": "display_data"
    },
    {
     "data": {
      "text/html": [],
      "text/plain": [
       "<IPython.core.display.HTML object>"
      ]
     },
     "metadata": {},
     "output_type": "display_data"
    },
    {
     "data": {
      "text/html": [
       "<style type=\"text/css\">\n",
       "</style>\n",
       "<table id=\"T_82682\">\n",
       "  <thead>\n",
       "    <tr>\n",
       "      <th class=\"blank level0\" >&nbsp;</th>\n",
       "      <th id=\"T_82682_level0_col0\" class=\"col_heading level0 col0\" >Silhouette</th>\n",
       "      <th id=\"T_82682_level0_col1\" class=\"col_heading level0 col1\" >Calinski-Harabasz</th>\n",
       "      <th id=\"T_82682_level0_col2\" class=\"col_heading level0 col2\" >Davies-Bouldin</th>\n",
       "      <th id=\"T_82682_level0_col3\" class=\"col_heading level0 col3\" >Homogeneity</th>\n",
       "      <th id=\"T_82682_level0_col4\" class=\"col_heading level0 col4\" >Rand Index</th>\n",
       "      <th id=\"T_82682_level0_col5\" class=\"col_heading level0 col5\" >Completeness</th>\n",
       "    </tr>\n",
       "  </thead>\n",
       "  <tbody>\n",
       "    <tr>\n",
       "      <th id=\"T_82682_level0_row0\" class=\"row_heading level0 row0\" >0</th>\n",
       "      <td id=\"T_82682_row0_col0\" class=\"data row0 col0\" >0.5017</td>\n",
       "      <td id=\"T_82682_row0_col1\" class=\"data row0 col1\" >457.5419</td>\n",
       "      <td id=\"T_82682_row0_col2\" class=\"data row0 col2\" >0.6263</td>\n",
       "      <td id=\"T_82682_row0_col3\" class=\"data row0 col3\" >0</td>\n",
       "      <td id=\"T_82682_row0_col4\" class=\"data row0 col4\" >0</td>\n",
       "      <td id=\"T_82682_row0_col5\" class=\"data row0 col5\" >0</td>\n",
       "    </tr>\n",
       "  </tbody>\n",
       "</table>\n"
      ],
      "text/plain": [
       "<pandas.io.formats.style.Styler at 0x2b124015e10>"
      ]
     },
     "metadata": {},
     "output_type": "display_data"
    },
    {
     "data": {
      "text/html": [],
      "text/plain": [
       "<IPython.core.display.HTML object>"
      ]
     },
     "metadata": {},
     "output_type": "display_data"
    },
    {
     "name": "stdout",
     "output_type": "stream",
     "text": [
      "For birch with 3 clusters with PCA\n"
     ]
    },
    {
     "data": {
      "application/vnd.jupyter.widget-view+json": {
       "model_id": "0b13c0724c6b47bfbf1920ee1f7d09b6",
       "version_major": 2,
       "version_minor": 0
      },
      "text/plain": [
       "interactive(children=(ToggleButtons(description='Plot Type:', icons=('',), options=(('Pipeline Plot', 'pipelin…"
      ]
     },
     "metadata": {},
     "output_type": "display_data"
    },
    {
     "data": {
      "text/html": [
       "<style type=\"text/css\">\n",
       "#T_4ba3c_row4_col1, #T_4ba3c_row8_col1 {\n",
       "  background-color: lightgreen;\n",
       "}\n",
       "</style>\n",
       "<table id=\"T_4ba3c\">\n",
       "  <thead>\n",
       "    <tr>\n",
       "      <th class=\"blank level0\" >&nbsp;</th>\n",
       "      <th id=\"T_4ba3c_level0_col0\" class=\"col_heading level0 col0\" >Description</th>\n",
       "      <th id=\"T_4ba3c_level0_col1\" class=\"col_heading level0 col1\" >Value</th>\n",
       "    </tr>\n",
       "  </thead>\n",
       "  <tbody>\n",
       "    <tr>\n",
       "      <th id=\"T_4ba3c_level0_row0\" class=\"row_heading level0 row0\" >0</th>\n",
       "      <td id=\"T_4ba3c_row0_col0\" class=\"data row0 col0\" >Session id</td>\n",
       "      <td id=\"T_4ba3c_row0_col1\" class=\"data row0 col1\" >2</td>\n",
       "    </tr>\n",
       "    <tr>\n",
       "      <th id=\"T_4ba3c_level0_row1\" class=\"row_heading level0 row1\" >1</th>\n",
       "      <td id=\"T_4ba3c_row1_col0\" class=\"data row1 col0\" >Original data shape</td>\n",
       "      <td id=\"T_4ba3c_row1_col1\" class=\"data row1 col1\" >(150, 4)</td>\n",
       "    </tr>\n",
       "    <tr>\n",
       "      <th id=\"T_4ba3c_level0_row2\" class=\"row_heading level0 row2\" >2</th>\n",
       "      <td id=\"T_4ba3c_row2_col0\" class=\"data row2 col0\" >Transformed data shape</td>\n",
       "      <td id=\"T_4ba3c_row2_col1\" class=\"data row2 col1\" >(150, 4)</td>\n",
       "    </tr>\n",
       "    <tr>\n",
       "      <th id=\"T_4ba3c_level0_row3\" class=\"row_heading level0 row3\" >3</th>\n",
       "      <td id=\"T_4ba3c_row3_col0\" class=\"data row3 col0\" >Numeric features</td>\n",
       "      <td id=\"T_4ba3c_row3_col1\" class=\"data row3 col1\" >4</td>\n",
       "    </tr>\n",
       "    <tr>\n",
       "      <th id=\"T_4ba3c_level0_row4\" class=\"row_heading level0 row4\" >4</th>\n",
       "      <td id=\"T_4ba3c_row4_col0\" class=\"data row4 col0\" >Preprocess</td>\n",
       "      <td id=\"T_4ba3c_row4_col1\" class=\"data row4 col1\" >True</td>\n",
       "    </tr>\n",
       "    <tr>\n",
       "      <th id=\"T_4ba3c_level0_row5\" class=\"row_heading level0 row5\" >5</th>\n",
       "      <td id=\"T_4ba3c_row5_col0\" class=\"data row5 col0\" >Imputation type</td>\n",
       "      <td id=\"T_4ba3c_row5_col1\" class=\"data row5 col1\" >simple</td>\n",
       "    </tr>\n",
       "    <tr>\n",
       "      <th id=\"T_4ba3c_level0_row6\" class=\"row_heading level0 row6\" >6</th>\n",
       "      <td id=\"T_4ba3c_row6_col0\" class=\"data row6 col0\" >Numeric imputation</td>\n",
       "      <td id=\"T_4ba3c_row6_col1\" class=\"data row6 col1\" >mean</td>\n",
       "    </tr>\n",
       "    <tr>\n",
       "      <th id=\"T_4ba3c_level0_row7\" class=\"row_heading level0 row7\" >7</th>\n",
       "      <td id=\"T_4ba3c_row7_col0\" class=\"data row7 col0\" >Categorical imputation</td>\n",
       "      <td id=\"T_4ba3c_row7_col1\" class=\"data row7 col1\" >mode</td>\n",
       "    </tr>\n",
       "    <tr>\n",
       "      <th id=\"T_4ba3c_level0_row8\" class=\"row_heading level0 row8\" >8</th>\n",
       "      <td id=\"T_4ba3c_row8_col0\" class=\"data row8 col0\" >PCA</td>\n",
       "      <td id=\"T_4ba3c_row8_col1\" class=\"data row8 col1\" >True</td>\n",
       "    </tr>\n",
       "    <tr>\n",
       "      <th id=\"T_4ba3c_level0_row9\" class=\"row_heading level0 row9\" >9</th>\n",
       "      <td id=\"T_4ba3c_row9_col0\" class=\"data row9 col0\" >PCA method</td>\n",
       "      <td id=\"T_4ba3c_row9_col1\" class=\"data row9 col1\" >linear</td>\n",
       "    </tr>\n",
       "    <tr>\n",
       "      <th id=\"T_4ba3c_level0_row10\" class=\"row_heading level0 row10\" >10</th>\n",
       "      <td id=\"T_4ba3c_row10_col0\" class=\"data row10 col0\" >PCA components</td>\n",
       "      <td id=\"T_4ba3c_row10_col1\" class=\"data row10 col1\" >None</td>\n",
       "    </tr>\n",
       "    <tr>\n",
       "      <th id=\"T_4ba3c_level0_row11\" class=\"row_heading level0 row11\" >11</th>\n",
       "      <td id=\"T_4ba3c_row11_col0\" class=\"data row11 col0\" >CPU Jobs</td>\n",
       "      <td id=\"T_4ba3c_row11_col1\" class=\"data row11 col1\" >-1</td>\n",
       "    </tr>\n",
       "    <tr>\n",
       "      <th id=\"T_4ba3c_level0_row12\" class=\"row_heading level0 row12\" >12</th>\n",
       "      <td id=\"T_4ba3c_row12_col0\" class=\"data row12 col0\" >Use GPU</td>\n",
       "      <td id=\"T_4ba3c_row12_col1\" class=\"data row12 col1\" >False</td>\n",
       "    </tr>\n",
       "    <tr>\n",
       "      <th id=\"T_4ba3c_level0_row13\" class=\"row_heading level0 row13\" >13</th>\n",
       "      <td id=\"T_4ba3c_row13_col0\" class=\"data row13 col0\" >Log Experiment</td>\n",
       "      <td id=\"T_4ba3c_row13_col1\" class=\"data row13 col1\" >False</td>\n",
       "    </tr>\n",
       "    <tr>\n",
       "      <th id=\"T_4ba3c_level0_row14\" class=\"row_heading level0 row14\" >14</th>\n",
       "      <td id=\"T_4ba3c_row14_col0\" class=\"data row14 col0\" >Experiment Name</td>\n",
       "      <td id=\"T_4ba3c_row14_col1\" class=\"data row14 col1\" >cluster-default-name</td>\n",
       "    </tr>\n",
       "    <tr>\n",
       "      <th id=\"T_4ba3c_level0_row15\" class=\"row_heading level0 row15\" >15</th>\n",
       "      <td id=\"T_4ba3c_row15_col0\" class=\"data row15 col0\" >USI</td>\n",
       "      <td id=\"T_4ba3c_row15_col1\" class=\"data row15 col1\" >e86c</td>\n",
       "    </tr>\n",
       "  </tbody>\n",
       "</table>\n"
      ],
      "text/plain": [
       "<pandas.io.formats.style.Styler at 0x2b123c43b20>"
      ]
     },
     "metadata": {},
     "output_type": "display_data"
    },
    {
     "data": {
      "text/html": [],
      "text/plain": [
       "<IPython.core.display.HTML object>"
      ]
     },
     "metadata": {},
     "output_type": "display_data"
    },
    {
     "data": {
      "text/html": [
       "<style type=\"text/css\">\n",
       "</style>\n",
       "<table id=\"T_ebc73\">\n",
       "  <thead>\n",
       "    <tr>\n",
       "      <th class=\"blank level0\" >&nbsp;</th>\n",
       "      <th id=\"T_ebc73_level0_col0\" class=\"col_heading level0 col0\" >Silhouette</th>\n",
       "      <th id=\"T_ebc73_level0_col1\" class=\"col_heading level0 col1\" >Calinski-Harabasz</th>\n",
       "      <th id=\"T_ebc73_level0_col2\" class=\"col_heading level0 col2\" >Davies-Bouldin</th>\n",
       "      <th id=\"T_ebc73_level0_col3\" class=\"col_heading level0 col3\" >Homogeneity</th>\n",
       "      <th id=\"T_ebc73_level0_col4\" class=\"col_heading level0 col4\" >Rand Index</th>\n",
       "      <th id=\"T_ebc73_level0_col5\" class=\"col_heading level0 col5\" >Completeness</th>\n",
       "    </tr>\n",
       "  </thead>\n",
       "  <tbody>\n",
       "    <tr>\n",
       "      <th id=\"T_ebc73_level0_row0\" class=\"row_heading level0 row0\" >0</th>\n",
       "      <td id=\"T_ebc73_row0_col0\" class=\"data row0 col0\" >0.4837</td>\n",
       "      <td id=\"T_ebc73_row0_col1\" class=\"data row0 col1\" >460.8044</td>\n",
       "      <td id=\"T_ebc73_row0_col2\" class=\"data row0 col2\" >0.6554</td>\n",
       "      <td id=\"T_ebc73_row0_col3\" class=\"data row0 col3\" >0</td>\n",
       "      <td id=\"T_ebc73_row0_col4\" class=\"data row0 col4\" >0</td>\n",
       "      <td id=\"T_ebc73_row0_col5\" class=\"data row0 col5\" >0</td>\n",
       "    </tr>\n",
       "  </tbody>\n",
       "</table>\n"
      ],
      "text/plain": [
       "<pandas.io.formats.style.Styler at 0x2b123c422f0>"
      ]
     },
     "metadata": {},
     "output_type": "display_data"
    },
    {
     "data": {
      "text/html": [],
      "text/plain": [
       "<IPython.core.display.HTML object>"
      ]
     },
     "metadata": {},
     "output_type": "display_data"
    },
    {
     "name": "stdout",
     "output_type": "stream",
     "text": [
      "For birch with 4 clusters with PCA\n"
     ]
    },
    {
     "data": {
      "application/vnd.jupyter.widget-view+json": {
       "model_id": "d653ecca3f18499983a187ab9fee5386",
       "version_major": 2,
       "version_minor": 0
      },
      "text/plain": [
       "interactive(children=(ToggleButtons(description='Plot Type:', icons=('',), options=(('Pipeline Plot', 'pipelin…"
      ]
     },
     "metadata": {},
     "output_type": "display_data"
    },
    {
     "data": {
      "text/html": [
       "<style type=\"text/css\">\n",
       "#T_2cfd7_row4_col1, #T_2cfd7_row8_col1 {\n",
       "  background-color: lightgreen;\n",
       "}\n",
       "</style>\n",
       "<table id=\"T_2cfd7\">\n",
       "  <thead>\n",
       "    <tr>\n",
       "      <th class=\"blank level0\" >&nbsp;</th>\n",
       "      <th id=\"T_2cfd7_level0_col0\" class=\"col_heading level0 col0\" >Description</th>\n",
       "      <th id=\"T_2cfd7_level0_col1\" class=\"col_heading level0 col1\" >Value</th>\n",
       "    </tr>\n",
       "  </thead>\n",
       "  <tbody>\n",
       "    <tr>\n",
       "      <th id=\"T_2cfd7_level0_row0\" class=\"row_heading level0 row0\" >0</th>\n",
       "      <td id=\"T_2cfd7_row0_col0\" class=\"data row0 col0\" >Session id</td>\n",
       "      <td id=\"T_2cfd7_row0_col1\" class=\"data row0 col1\" >2</td>\n",
       "    </tr>\n",
       "    <tr>\n",
       "      <th id=\"T_2cfd7_level0_row1\" class=\"row_heading level0 row1\" >1</th>\n",
       "      <td id=\"T_2cfd7_row1_col0\" class=\"data row1 col0\" >Original data shape</td>\n",
       "      <td id=\"T_2cfd7_row1_col1\" class=\"data row1 col1\" >(150, 4)</td>\n",
       "    </tr>\n",
       "    <tr>\n",
       "      <th id=\"T_2cfd7_level0_row2\" class=\"row_heading level0 row2\" >2</th>\n",
       "      <td id=\"T_2cfd7_row2_col0\" class=\"data row2 col0\" >Transformed data shape</td>\n",
       "      <td id=\"T_2cfd7_row2_col1\" class=\"data row2 col1\" >(150, 4)</td>\n",
       "    </tr>\n",
       "    <tr>\n",
       "      <th id=\"T_2cfd7_level0_row3\" class=\"row_heading level0 row3\" >3</th>\n",
       "      <td id=\"T_2cfd7_row3_col0\" class=\"data row3 col0\" >Numeric features</td>\n",
       "      <td id=\"T_2cfd7_row3_col1\" class=\"data row3 col1\" >4</td>\n",
       "    </tr>\n",
       "    <tr>\n",
       "      <th id=\"T_2cfd7_level0_row4\" class=\"row_heading level0 row4\" >4</th>\n",
       "      <td id=\"T_2cfd7_row4_col0\" class=\"data row4 col0\" >Preprocess</td>\n",
       "      <td id=\"T_2cfd7_row4_col1\" class=\"data row4 col1\" >True</td>\n",
       "    </tr>\n",
       "    <tr>\n",
       "      <th id=\"T_2cfd7_level0_row5\" class=\"row_heading level0 row5\" >5</th>\n",
       "      <td id=\"T_2cfd7_row5_col0\" class=\"data row5 col0\" >Imputation type</td>\n",
       "      <td id=\"T_2cfd7_row5_col1\" class=\"data row5 col1\" >simple</td>\n",
       "    </tr>\n",
       "    <tr>\n",
       "      <th id=\"T_2cfd7_level0_row6\" class=\"row_heading level0 row6\" >6</th>\n",
       "      <td id=\"T_2cfd7_row6_col0\" class=\"data row6 col0\" >Numeric imputation</td>\n",
       "      <td id=\"T_2cfd7_row6_col1\" class=\"data row6 col1\" >mean</td>\n",
       "    </tr>\n",
       "    <tr>\n",
       "      <th id=\"T_2cfd7_level0_row7\" class=\"row_heading level0 row7\" >7</th>\n",
       "      <td id=\"T_2cfd7_row7_col0\" class=\"data row7 col0\" >Categorical imputation</td>\n",
       "      <td id=\"T_2cfd7_row7_col1\" class=\"data row7 col1\" >mode</td>\n",
       "    </tr>\n",
       "    <tr>\n",
       "      <th id=\"T_2cfd7_level0_row8\" class=\"row_heading level0 row8\" >8</th>\n",
       "      <td id=\"T_2cfd7_row8_col0\" class=\"data row8 col0\" >PCA</td>\n",
       "      <td id=\"T_2cfd7_row8_col1\" class=\"data row8 col1\" >True</td>\n",
       "    </tr>\n",
       "    <tr>\n",
       "      <th id=\"T_2cfd7_level0_row9\" class=\"row_heading level0 row9\" >9</th>\n",
       "      <td id=\"T_2cfd7_row9_col0\" class=\"data row9 col0\" >PCA method</td>\n",
       "      <td id=\"T_2cfd7_row9_col1\" class=\"data row9 col1\" >linear</td>\n",
       "    </tr>\n",
       "    <tr>\n",
       "      <th id=\"T_2cfd7_level0_row10\" class=\"row_heading level0 row10\" >10</th>\n",
       "      <td id=\"T_2cfd7_row10_col0\" class=\"data row10 col0\" >PCA components</td>\n",
       "      <td id=\"T_2cfd7_row10_col1\" class=\"data row10 col1\" >None</td>\n",
       "    </tr>\n",
       "    <tr>\n",
       "      <th id=\"T_2cfd7_level0_row11\" class=\"row_heading level0 row11\" >11</th>\n",
       "      <td id=\"T_2cfd7_row11_col0\" class=\"data row11 col0\" >CPU Jobs</td>\n",
       "      <td id=\"T_2cfd7_row11_col1\" class=\"data row11 col1\" >-1</td>\n",
       "    </tr>\n",
       "    <tr>\n",
       "      <th id=\"T_2cfd7_level0_row12\" class=\"row_heading level0 row12\" >12</th>\n",
       "      <td id=\"T_2cfd7_row12_col0\" class=\"data row12 col0\" >Use GPU</td>\n",
       "      <td id=\"T_2cfd7_row12_col1\" class=\"data row12 col1\" >False</td>\n",
       "    </tr>\n",
       "    <tr>\n",
       "      <th id=\"T_2cfd7_level0_row13\" class=\"row_heading level0 row13\" >13</th>\n",
       "      <td id=\"T_2cfd7_row13_col0\" class=\"data row13 col0\" >Log Experiment</td>\n",
       "      <td id=\"T_2cfd7_row13_col1\" class=\"data row13 col1\" >False</td>\n",
       "    </tr>\n",
       "    <tr>\n",
       "      <th id=\"T_2cfd7_level0_row14\" class=\"row_heading level0 row14\" >14</th>\n",
       "      <td id=\"T_2cfd7_row14_col0\" class=\"data row14 col0\" >Experiment Name</td>\n",
       "      <td id=\"T_2cfd7_row14_col1\" class=\"data row14 col1\" >cluster-default-name</td>\n",
       "    </tr>\n",
       "    <tr>\n",
       "      <th id=\"T_2cfd7_level0_row15\" class=\"row_heading level0 row15\" >15</th>\n",
       "      <td id=\"T_2cfd7_row15_col0\" class=\"data row15 col0\" >USI</td>\n",
       "      <td id=\"T_2cfd7_row15_col1\" class=\"data row15 col1\" >0e7c</td>\n",
       "    </tr>\n",
       "  </tbody>\n",
       "</table>\n"
      ],
      "text/plain": [
       "<pandas.io.formats.style.Styler at 0x2b123c40040>"
      ]
     },
     "metadata": {},
     "output_type": "display_data"
    },
    {
     "data": {
      "text/html": [],
      "text/plain": [
       "<IPython.core.display.HTML object>"
      ]
     },
     "metadata": {},
     "output_type": "display_data"
    },
    {
     "data": {
      "text/html": [
       "<style type=\"text/css\">\n",
       "</style>\n",
       "<table id=\"T_21ee6\">\n",
       "  <thead>\n",
       "    <tr>\n",
       "      <th class=\"blank level0\" >&nbsp;</th>\n",
       "      <th id=\"T_21ee6_level0_col0\" class=\"col_heading level0 col0\" >Silhouette</th>\n",
       "      <th id=\"T_21ee6_level0_col1\" class=\"col_heading level0 col1\" >Calinski-Harabasz</th>\n",
       "      <th id=\"T_21ee6_level0_col2\" class=\"col_heading level0 col2\" >Davies-Bouldin</th>\n",
       "      <th id=\"T_21ee6_level0_col3\" class=\"col_heading level0 col3\" >Homogeneity</th>\n",
       "      <th id=\"T_21ee6_level0_col4\" class=\"col_heading level0 col4\" >Rand Index</th>\n",
       "      <th id=\"T_21ee6_level0_col5\" class=\"col_heading level0 col5\" >Completeness</th>\n",
       "    </tr>\n",
       "  </thead>\n",
       "  <tbody>\n",
       "    <tr>\n",
       "      <th id=\"T_21ee6_level0_row0\" class=\"row_heading level0 row0\" >0</th>\n",
       "      <td id=\"T_21ee6_row0_col0\" class=\"data row0 col0\" >0.4871</td>\n",
       "      <td id=\"T_21ee6_row0_col1\" class=\"data row0 col1\" >489.1260</td>\n",
       "      <td id=\"T_21ee6_row0_col2\" class=\"data row0 col2\" >0.8049</td>\n",
       "      <td id=\"T_21ee6_row0_col3\" class=\"data row0 col3\" >0</td>\n",
       "      <td id=\"T_21ee6_row0_col4\" class=\"data row0 col4\" >0</td>\n",
       "      <td id=\"T_21ee6_row0_col5\" class=\"data row0 col5\" >0</td>\n",
       "    </tr>\n",
       "  </tbody>\n",
       "</table>\n"
      ],
      "text/plain": [
       "<pandas.io.formats.style.Styler at 0x2b123c433a0>"
      ]
     },
     "metadata": {},
     "output_type": "display_data"
    },
    {
     "data": {
      "text/html": [],
      "text/plain": [
       "<IPython.core.display.HTML object>"
      ]
     },
     "metadata": {},
     "output_type": "display_data"
    },
    {
     "name": "stdout",
     "output_type": "stream",
     "text": [
      "For birch with 5 clusters with PCA\n"
     ]
    },
    {
     "data": {
      "application/vnd.jupyter.widget-view+json": {
       "model_id": "3f63ddb45fbb4e57ba920e1dc0950544",
       "version_major": 2,
       "version_minor": 0
      },
      "text/plain": [
       "interactive(children=(ToggleButtons(description='Plot Type:', icons=('',), options=(('Pipeline Plot', 'pipelin…"
      ]
     },
     "metadata": {},
     "output_type": "display_data"
    }
   ],
   "source": [
    "for model in models:\n",
    "    for cluster in clusters:\n",
    "        setup1 = setup(data, normalize=False, pca=True, preprocess=True, session_id=2)\n",
    "        if model == 'kmeans':\n",
    "            mod1 = create_model('kmeans', num_clusters=cluster)\n",
    "        elif model == 'hierarchical':\n",
    "            mod1 = create_model('hclust', num_clusters=cluster)\n",
    "        elif model == 'birch':\n",
    "            mod1 = create_model('birch', num_clusters=cluster)\n",
    "        print(f\"For {model} with {cluster} clusters with PCA\")\n",
    "        evaluate_model(mod1)"
   ]
  },
  {
   "cell_type": "markdown",
   "metadata": {},
   "source": [
    "USING NORMALISATION AND TRANSFORMATION"
   ]
  },
  {
   "cell_type": "code",
   "execution_count": 7,
   "metadata": {},
   "outputs": [
    {
     "data": {
      "text/html": [
       "<style type=\"text/css\">\n",
       "#T_af9b3_row4_col1, #T_af9b3_row10_col1 {\n",
       "  background-color: lightgreen;\n",
       "}\n",
       "</style>\n",
       "<table id=\"T_af9b3\">\n",
       "  <thead>\n",
       "    <tr>\n",
       "      <th class=\"blank level0\" >&nbsp;</th>\n",
       "      <th id=\"T_af9b3_level0_col0\" class=\"col_heading level0 col0\" >Description</th>\n",
       "      <th id=\"T_af9b3_level0_col1\" class=\"col_heading level0 col1\" >Value</th>\n",
       "    </tr>\n",
       "  </thead>\n",
       "  <tbody>\n",
       "    <tr>\n",
       "      <th id=\"T_af9b3_level0_row0\" class=\"row_heading level0 row0\" >0</th>\n",
       "      <td id=\"T_af9b3_row0_col0\" class=\"data row0 col0\" >Session id</td>\n",
       "      <td id=\"T_af9b3_row0_col1\" class=\"data row0 col1\" >2</td>\n",
       "    </tr>\n",
       "    <tr>\n",
       "      <th id=\"T_af9b3_level0_row1\" class=\"row_heading level0 row1\" >1</th>\n",
       "      <td id=\"T_af9b3_row1_col0\" class=\"data row1 col0\" >Original data shape</td>\n",
       "      <td id=\"T_af9b3_row1_col1\" class=\"data row1 col1\" >(150, 4)</td>\n",
       "    </tr>\n",
       "    <tr>\n",
       "      <th id=\"T_af9b3_level0_row2\" class=\"row_heading level0 row2\" >2</th>\n",
       "      <td id=\"T_af9b3_row2_col0\" class=\"data row2 col0\" >Transformed data shape</td>\n",
       "      <td id=\"T_af9b3_row2_col1\" class=\"data row2 col1\" >(150, 4)</td>\n",
       "    </tr>\n",
       "    <tr>\n",
       "      <th id=\"T_af9b3_level0_row3\" class=\"row_heading level0 row3\" >3</th>\n",
       "      <td id=\"T_af9b3_row3_col0\" class=\"data row3 col0\" >Numeric features</td>\n",
       "      <td id=\"T_af9b3_row3_col1\" class=\"data row3 col1\" >4</td>\n",
       "    </tr>\n",
       "    <tr>\n",
       "      <th id=\"T_af9b3_level0_row4\" class=\"row_heading level0 row4\" >4</th>\n",
       "      <td id=\"T_af9b3_row4_col0\" class=\"data row4 col0\" >Preprocess</td>\n",
       "      <td id=\"T_af9b3_row4_col1\" class=\"data row4 col1\" >True</td>\n",
       "    </tr>\n",
       "    <tr>\n",
       "      <th id=\"T_af9b3_level0_row5\" class=\"row_heading level0 row5\" >5</th>\n",
       "      <td id=\"T_af9b3_row5_col0\" class=\"data row5 col0\" >Imputation type</td>\n",
       "      <td id=\"T_af9b3_row5_col1\" class=\"data row5 col1\" >simple</td>\n",
       "    </tr>\n",
       "    <tr>\n",
       "      <th id=\"T_af9b3_level0_row6\" class=\"row_heading level0 row6\" >6</th>\n",
       "      <td id=\"T_af9b3_row6_col0\" class=\"data row6 col0\" >Numeric imputation</td>\n",
       "      <td id=\"T_af9b3_row6_col1\" class=\"data row6 col1\" >mean</td>\n",
       "    </tr>\n",
       "    <tr>\n",
       "      <th id=\"T_af9b3_level0_row7\" class=\"row_heading level0 row7\" >7</th>\n",
       "      <td id=\"T_af9b3_row7_col0\" class=\"data row7 col0\" >Categorical imputation</td>\n",
       "      <td id=\"T_af9b3_row7_col1\" class=\"data row7 col1\" >mode</td>\n",
       "    </tr>\n",
       "    <tr>\n",
       "      <th id=\"T_af9b3_level0_row8\" class=\"row_heading level0 row8\" >8</th>\n",
       "      <td id=\"T_af9b3_row8_col0\" class=\"data row8 col0\" >Transformation</td>\n",
       "      <td id=\"T_af9b3_row8_col1\" class=\"data row8 col1\" ><function custom_preprocess at 0x000002B123A65990></td>\n",
       "    </tr>\n",
       "    <tr>\n",
       "      <th id=\"T_af9b3_level0_row9\" class=\"row_heading level0 row9\" >9</th>\n",
       "      <td id=\"T_af9b3_row9_col0\" class=\"data row9 col0\" >Transformation method</td>\n",
       "      <td id=\"T_af9b3_row9_col1\" class=\"data row9 col1\" >yeo-johnson</td>\n",
       "    </tr>\n",
       "    <tr>\n",
       "      <th id=\"T_af9b3_level0_row10\" class=\"row_heading level0 row10\" >10</th>\n",
       "      <td id=\"T_af9b3_row10_col0\" class=\"data row10 col0\" >Normalize</td>\n",
       "      <td id=\"T_af9b3_row10_col1\" class=\"data row10 col1\" >True</td>\n",
       "    </tr>\n",
       "    <tr>\n",
       "      <th id=\"T_af9b3_level0_row11\" class=\"row_heading level0 row11\" >11</th>\n",
       "      <td id=\"T_af9b3_row11_col0\" class=\"data row11 col0\" >Normalize method</td>\n",
       "      <td id=\"T_af9b3_row11_col1\" class=\"data row11 col1\" >zscore</td>\n",
       "    </tr>\n",
       "    <tr>\n",
       "      <th id=\"T_af9b3_level0_row12\" class=\"row_heading level0 row12\" >12</th>\n",
       "      <td id=\"T_af9b3_row12_col0\" class=\"data row12 col0\" >CPU Jobs</td>\n",
       "      <td id=\"T_af9b3_row12_col1\" class=\"data row12 col1\" >-1</td>\n",
       "    </tr>\n",
       "    <tr>\n",
       "      <th id=\"T_af9b3_level0_row13\" class=\"row_heading level0 row13\" >13</th>\n",
       "      <td id=\"T_af9b3_row13_col0\" class=\"data row13 col0\" >Use GPU</td>\n",
       "      <td id=\"T_af9b3_row13_col1\" class=\"data row13 col1\" >False</td>\n",
       "    </tr>\n",
       "    <tr>\n",
       "      <th id=\"T_af9b3_level0_row14\" class=\"row_heading level0 row14\" >14</th>\n",
       "      <td id=\"T_af9b3_row14_col0\" class=\"data row14 col0\" >Log Experiment</td>\n",
       "      <td id=\"T_af9b3_row14_col1\" class=\"data row14 col1\" >False</td>\n",
       "    </tr>\n",
       "    <tr>\n",
       "      <th id=\"T_af9b3_level0_row15\" class=\"row_heading level0 row15\" >15</th>\n",
       "      <td id=\"T_af9b3_row15_col0\" class=\"data row15 col0\" >Experiment Name</td>\n",
       "      <td id=\"T_af9b3_row15_col1\" class=\"data row15 col1\" >cluster-default-name</td>\n",
       "    </tr>\n",
       "    <tr>\n",
       "      <th id=\"T_af9b3_level0_row16\" class=\"row_heading level0 row16\" >16</th>\n",
       "      <td id=\"T_af9b3_row16_col0\" class=\"data row16 col0\" >USI</td>\n",
       "      <td id=\"T_af9b3_row16_col1\" class=\"data row16 col1\" >6885</td>\n",
       "    </tr>\n",
       "  </tbody>\n",
       "</table>\n"
      ],
      "text/plain": [
       "<pandas.io.formats.style.Styler at 0x2b123beb610>"
      ]
     },
     "metadata": {},
     "output_type": "display_data"
    },
    {
     "data": {
      "text/html": [],
      "text/plain": [
       "<IPython.core.display.HTML object>"
      ]
     },
     "metadata": {},
     "output_type": "display_data"
    },
    {
     "data": {
      "text/html": [
       "<style type=\"text/css\">\n",
       "</style>\n",
       "<table id=\"T_698dd\">\n",
       "  <thead>\n",
       "    <tr>\n",
       "      <th class=\"blank level0\" >&nbsp;</th>\n",
       "      <th id=\"T_698dd_level0_col0\" class=\"col_heading level0 col0\" >Silhouette</th>\n",
       "      <th id=\"T_698dd_level0_col1\" class=\"col_heading level0 col1\" >Calinski-Harabasz</th>\n",
       "      <th id=\"T_698dd_level0_col2\" class=\"col_heading level0 col2\" >Davies-Bouldin</th>\n",
       "      <th id=\"T_698dd_level0_col3\" class=\"col_heading level0 col3\" >Homogeneity</th>\n",
       "      <th id=\"T_698dd_level0_col4\" class=\"col_heading level0 col4\" >Rand Index</th>\n",
       "      <th id=\"T_698dd_level0_col5\" class=\"col_heading level0 col5\" >Completeness</th>\n",
       "    </tr>\n",
       "  </thead>\n",
       "  <tbody>\n",
       "    <tr>\n",
       "      <th id=\"T_698dd_level0_row0\" class=\"row_heading level0 row0\" >0</th>\n",
       "      <td id=\"T_698dd_row0_col0\" class=\"data row0 col0\" >0.4575</td>\n",
       "      <td id=\"T_698dd_row0_col1\" class=\"data row0 col1\" >242.9960</td>\n",
       "      <td id=\"T_698dd_row0_col2\" class=\"data row0 col2\" >0.8385</td>\n",
       "      <td id=\"T_698dd_row0_col3\" class=\"data row0 col3\" >0</td>\n",
       "      <td id=\"T_698dd_row0_col4\" class=\"data row0 col4\" >0</td>\n",
       "      <td id=\"T_698dd_row0_col5\" class=\"data row0 col5\" >0</td>\n",
       "    </tr>\n",
       "  </tbody>\n",
       "</table>\n"
      ],
      "text/plain": [
       "<pandas.io.formats.style.Styler at 0x2b123bea050>"
      ]
     },
     "metadata": {},
     "output_type": "display_data"
    },
    {
     "data": {
      "text/html": [],
      "text/plain": [
       "<IPython.core.display.HTML object>"
      ]
     },
     "metadata": {},
     "output_type": "display_data"
    },
    {
     "name": "stdout",
     "output_type": "stream",
     "text": [
      "For kmeans with 3 clusters with Transformation and Normalization\n"
     ]
    },
    {
     "data": {
      "application/vnd.jupyter.widget-view+json": {
       "model_id": "6433e74551874d709b5263410d3ddc26",
       "version_major": 2,
       "version_minor": 0
      },
      "text/plain": [
       "interactive(children=(ToggleButtons(description='Plot Type:', icons=('',), options=(('Pipeline Plot', 'pipelin…"
      ]
     },
     "metadata": {},
     "output_type": "display_data"
    },
    {
     "data": {
      "text/html": [
       "<style type=\"text/css\">\n",
       "#T_81e63_row4_col1, #T_81e63_row10_col1 {\n",
       "  background-color: lightgreen;\n",
       "}\n",
       "</style>\n",
       "<table id=\"T_81e63\">\n",
       "  <thead>\n",
       "    <tr>\n",
       "      <th class=\"blank level0\" >&nbsp;</th>\n",
       "      <th id=\"T_81e63_level0_col0\" class=\"col_heading level0 col0\" >Description</th>\n",
       "      <th id=\"T_81e63_level0_col1\" class=\"col_heading level0 col1\" >Value</th>\n",
       "    </tr>\n",
       "  </thead>\n",
       "  <tbody>\n",
       "    <tr>\n",
       "      <th id=\"T_81e63_level0_row0\" class=\"row_heading level0 row0\" >0</th>\n",
       "      <td id=\"T_81e63_row0_col0\" class=\"data row0 col0\" >Session id</td>\n",
       "      <td id=\"T_81e63_row0_col1\" class=\"data row0 col1\" >2</td>\n",
       "    </tr>\n",
       "    <tr>\n",
       "      <th id=\"T_81e63_level0_row1\" class=\"row_heading level0 row1\" >1</th>\n",
       "      <td id=\"T_81e63_row1_col0\" class=\"data row1 col0\" >Original data shape</td>\n",
       "      <td id=\"T_81e63_row1_col1\" class=\"data row1 col1\" >(150, 4)</td>\n",
       "    </tr>\n",
       "    <tr>\n",
       "      <th id=\"T_81e63_level0_row2\" class=\"row_heading level0 row2\" >2</th>\n",
       "      <td id=\"T_81e63_row2_col0\" class=\"data row2 col0\" >Transformed data shape</td>\n",
       "      <td id=\"T_81e63_row2_col1\" class=\"data row2 col1\" >(150, 4)</td>\n",
       "    </tr>\n",
       "    <tr>\n",
       "      <th id=\"T_81e63_level0_row3\" class=\"row_heading level0 row3\" >3</th>\n",
       "      <td id=\"T_81e63_row3_col0\" class=\"data row3 col0\" >Numeric features</td>\n",
       "      <td id=\"T_81e63_row3_col1\" class=\"data row3 col1\" >4</td>\n",
       "    </tr>\n",
       "    <tr>\n",
       "      <th id=\"T_81e63_level0_row4\" class=\"row_heading level0 row4\" >4</th>\n",
       "      <td id=\"T_81e63_row4_col0\" class=\"data row4 col0\" >Preprocess</td>\n",
       "      <td id=\"T_81e63_row4_col1\" class=\"data row4 col1\" >True</td>\n",
       "    </tr>\n",
       "    <tr>\n",
       "      <th id=\"T_81e63_level0_row5\" class=\"row_heading level0 row5\" >5</th>\n",
       "      <td id=\"T_81e63_row5_col0\" class=\"data row5 col0\" >Imputation type</td>\n",
       "      <td id=\"T_81e63_row5_col1\" class=\"data row5 col1\" >simple</td>\n",
       "    </tr>\n",
       "    <tr>\n",
       "      <th id=\"T_81e63_level0_row6\" class=\"row_heading level0 row6\" >6</th>\n",
       "      <td id=\"T_81e63_row6_col0\" class=\"data row6 col0\" >Numeric imputation</td>\n",
       "      <td id=\"T_81e63_row6_col1\" class=\"data row6 col1\" >mean</td>\n",
       "    </tr>\n",
       "    <tr>\n",
       "      <th id=\"T_81e63_level0_row7\" class=\"row_heading level0 row7\" >7</th>\n",
       "      <td id=\"T_81e63_row7_col0\" class=\"data row7 col0\" >Categorical imputation</td>\n",
       "      <td id=\"T_81e63_row7_col1\" class=\"data row7 col1\" >mode</td>\n",
       "    </tr>\n",
       "    <tr>\n",
       "      <th id=\"T_81e63_level0_row8\" class=\"row_heading level0 row8\" >8</th>\n",
       "      <td id=\"T_81e63_row8_col0\" class=\"data row8 col0\" >Transformation</td>\n",
       "      <td id=\"T_81e63_row8_col1\" class=\"data row8 col1\" ><function custom_preprocess at 0x000002B123A65990></td>\n",
       "    </tr>\n",
       "    <tr>\n",
       "      <th id=\"T_81e63_level0_row9\" class=\"row_heading level0 row9\" >9</th>\n",
       "      <td id=\"T_81e63_row9_col0\" class=\"data row9 col0\" >Transformation method</td>\n",
       "      <td id=\"T_81e63_row9_col1\" class=\"data row9 col1\" >yeo-johnson</td>\n",
       "    </tr>\n",
       "    <tr>\n",
       "      <th id=\"T_81e63_level0_row10\" class=\"row_heading level0 row10\" >10</th>\n",
       "      <td id=\"T_81e63_row10_col0\" class=\"data row10 col0\" >Normalize</td>\n",
       "      <td id=\"T_81e63_row10_col1\" class=\"data row10 col1\" >True</td>\n",
       "    </tr>\n",
       "    <tr>\n",
       "      <th id=\"T_81e63_level0_row11\" class=\"row_heading level0 row11\" >11</th>\n",
       "      <td id=\"T_81e63_row11_col0\" class=\"data row11 col0\" >Normalize method</td>\n",
       "      <td id=\"T_81e63_row11_col1\" class=\"data row11 col1\" >zscore</td>\n",
       "    </tr>\n",
       "    <tr>\n",
       "      <th id=\"T_81e63_level0_row12\" class=\"row_heading level0 row12\" >12</th>\n",
       "      <td id=\"T_81e63_row12_col0\" class=\"data row12 col0\" >CPU Jobs</td>\n",
       "      <td id=\"T_81e63_row12_col1\" class=\"data row12 col1\" >-1</td>\n",
       "    </tr>\n",
       "    <tr>\n",
       "      <th id=\"T_81e63_level0_row13\" class=\"row_heading level0 row13\" >13</th>\n",
       "      <td id=\"T_81e63_row13_col0\" class=\"data row13 col0\" >Use GPU</td>\n",
       "      <td id=\"T_81e63_row13_col1\" class=\"data row13 col1\" >False</td>\n",
       "    </tr>\n",
       "    <tr>\n",
       "      <th id=\"T_81e63_level0_row14\" class=\"row_heading level0 row14\" >14</th>\n",
       "      <td id=\"T_81e63_row14_col0\" class=\"data row14 col0\" >Log Experiment</td>\n",
       "      <td id=\"T_81e63_row14_col1\" class=\"data row14 col1\" >False</td>\n",
       "    </tr>\n",
       "    <tr>\n",
       "      <th id=\"T_81e63_level0_row15\" class=\"row_heading level0 row15\" >15</th>\n",
       "      <td id=\"T_81e63_row15_col0\" class=\"data row15 col0\" >Experiment Name</td>\n",
       "      <td id=\"T_81e63_row15_col1\" class=\"data row15 col1\" >cluster-default-name</td>\n",
       "    </tr>\n",
       "    <tr>\n",
       "      <th id=\"T_81e63_level0_row16\" class=\"row_heading level0 row16\" >16</th>\n",
       "      <td id=\"T_81e63_row16_col0\" class=\"data row16 col0\" >USI</td>\n",
       "      <td id=\"T_81e63_row16_col1\" class=\"data row16 col1\" >c108</td>\n",
       "    </tr>\n",
       "  </tbody>\n",
       "</table>\n"
      ],
      "text/plain": [
       "<pandas.io.formats.style.Styler at 0x2b123caec80>"
      ]
     },
     "metadata": {},
     "output_type": "display_data"
    },
    {
     "data": {
      "text/html": [],
      "text/plain": [
       "<IPython.core.display.HTML object>"
      ]
     },
     "metadata": {},
     "output_type": "display_data"
    },
    {
     "data": {
      "text/html": [
       "<style type=\"text/css\">\n",
       "</style>\n",
       "<table id=\"T_33b25\">\n",
       "  <thead>\n",
       "    <tr>\n",
       "      <th class=\"blank level0\" >&nbsp;</th>\n",
       "      <th id=\"T_33b25_level0_col0\" class=\"col_heading level0 col0\" >Silhouette</th>\n",
       "      <th id=\"T_33b25_level0_col1\" class=\"col_heading level0 col1\" >Calinski-Harabasz</th>\n",
       "      <th id=\"T_33b25_level0_col2\" class=\"col_heading level0 col2\" >Davies-Bouldin</th>\n",
       "      <th id=\"T_33b25_level0_col3\" class=\"col_heading level0 col3\" >Homogeneity</th>\n",
       "      <th id=\"T_33b25_level0_col4\" class=\"col_heading level0 col4\" >Rand Index</th>\n",
       "      <th id=\"T_33b25_level0_col5\" class=\"col_heading level0 col5\" >Completeness</th>\n",
       "    </tr>\n",
       "  </thead>\n",
       "  <tbody>\n",
       "    <tr>\n",
       "      <th id=\"T_33b25_level0_row0\" class=\"row_heading level0 row0\" >0</th>\n",
       "      <td id=\"T_33b25_row0_col0\" class=\"data row0 col0\" >0.4185</td>\n",
       "      <td id=\"T_33b25_row0_col1\" class=\"data row0 col1\" >210.2697</td>\n",
       "      <td id=\"T_33b25_row0_col2\" class=\"data row0 col2\" >0.9307</td>\n",
       "      <td id=\"T_33b25_row0_col3\" class=\"data row0 col3\" >0</td>\n",
       "      <td id=\"T_33b25_row0_col4\" class=\"data row0 col4\" >0</td>\n",
       "      <td id=\"T_33b25_row0_col5\" class=\"data row0 col5\" >0</td>\n",
       "    </tr>\n",
       "  </tbody>\n",
       "</table>\n"
      ],
      "text/plain": [
       "<pandas.io.formats.style.Styler at 0x2b123cacbb0>"
      ]
     },
     "metadata": {},
     "output_type": "display_data"
    },
    {
     "data": {
      "text/html": [],
      "text/plain": [
       "<IPython.core.display.HTML object>"
      ]
     },
     "metadata": {},
     "output_type": "display_data"
    },
    {
     "name": "stdout",
     "output_type": "stream",
     "text": [
      "For kmeans with 4 clusters with Transformation and Normalization\n"
     ]
    },
    {
     "data": {
      "application/vnd.jupyter.widget-view+json": {
       "model_id": "bc20b890969240bebb95d09a9ff0398c",
       "version_major": 2,
       "version_minor": 0
      },
      "text/plain": [
       "interactive(children=(ToggleButtons(description='Plot Type:', icons=('',), options=(('Pipeline Plot', 'pipelin…"
      ]
     },
     "metadata": {},
     "output_type": "display_data"
    },
    {
     "data": {
      "text/html": [
       "<style type=\"text/css\">\n",
       "#T_4560e_row4_col1, #T_4560e_row10_col1 {\n",
       "  background-color: lightgreen;\n",
       "}\n",
       "</style>\n",
       "<table id=\"T_4560e\">\n",
       "  <thead>\n",
       "    <tr>\n",
       "      <th class=\"blank level0\" >&nbsp;</th>\n",
       "      <th id=\"T_4560e_level0_col0\" class=\"col_heading level0 col0\" >Description</th>\n",
       "      <th id=\"T_4560e_level0_col1\" class=\"col_heading level0 col1\" >Value</th>\n",
       "    </tr>\n",
       "  </thead>\n",
       "  <tbody>\n",
       "    <tr>\n",
       "      <th id=\"T_4560e_level0_row0\" class=\"row_heading level0 row0\" >0</th>\n",
       "      <td id=\"T_4560e_row0_col0\" class=\"data row0 col0\" >Session id</td>\n",
       "      <td id=\"T_4560e_row0_col1\" class=\"data row0 col1\" >2</td>\n",
       "    </tr>\n",
       "    <tr>\n",
       "      <th id=\"T_4560e_level0_row1\" class=\"row_heading level0 row1\" >1</th>\n",
       "      <td id=\"T_4560e_row1_col0\" class=\"data row1 col0\" >Original data shape</td>\n",
       "      <td id=\"T_4560e_row1_col1\" class=\"data row1 col1\" >(150, 4)</td>\n",
       "    </tr>\n",
       "    <tr>\n",
       "      <th id=\"T_4560e_level0_row2\" class=\"row_heading level0 row2\" >2</th>\n",
       "      <td id=\"T_4560e_row2_col0\" class=\"data row2 col0\" >Transformed data shape</td>\n",
       "      <td id=\"T_4560e_row2_col1\" class=\"data row2 col1\" >(150, 4)</td>\n",
       "    </tr>\n",
       "    <tr>\n",
       "      <th id=\"T_4560e_level0_row3\" class=\"row_heading level0 row3\" >3</th>\n",
       "      <td id=\"T_4560e_row3_col0\" class=\"data row3 col0\" >Numeric features</td>\n",
       "      <td id=\"T_4560e_row3_col1\" class=\"data row3 col1\" >4</td>\n",
       "    </tr>\n",
       "    <tr>\n",
       "      <th id=\"T_4560e_level0_row4\" class=\"row_heading level0 row4\" >4</th>\n",
       "      <td id=\"T_4560e_row4_col0\" class=\"data row4 col0\" >Preprocess</td>\n",
       "      <td id=\"T_4560e_row4_col1\" class=\"data row4 col1\" >True</td>\n",
       "    </tr>\n",
       "    <tr>\n",
       "      <th id=\"T_4560e_level0_row5\" class=\"row_heading level0 row5\" >5</th>\n",
       "      <td id=\"T_4560e_row5_col0\" class=\"data row5 col0\" >Imputation type</td>\n",
       "      <td id=\"T_4560e_row5_col1\" class=\"data row5 col1\" >simple</td>\n",
       "    </tr>\n",
       "    <tr>\n",
       "      <th id=\"T_4560e_level0_row6\" class=\"row_heading level0 row6\" >6</th>\n",
       "      <td id=\"T_4560e_row6_col0\" class=\"data row6 col0\" >Numeric imputation</td>\n",
       "      <td id=\"T_4560e_row6_col1\" class=\"data row6 col1\" >mean</td>\n",
       "    </tr>\n",
       "    <tr>\n",
       "      <th id=\"T_4560e_level0_row7\" class=\"row_heading level0 row7\" >7</th>\n",
       "      <td id=\"T_4560e_row7_col0\" class=\"data row7 col0\" >Categorical imputation</td>\n",
       "      <td id=\"T_4560e_row7_col1\" class=\"data row7 col1\" >mode</td>\n",
       "    </tr>\n",
       "    <tr>\n",
       "      <th id=\"T_4560e_level0_row8\" class=\"row_heading level0 row8\" >8</th>\n",
       "      <td id=\"T_4560e_row8_col0\" class=\"data row8 col0\" >Transformation</td>\n",
       "      <td id=\"T_4560e_row8_col1\" class=\"data row8 col1\" ><function custom_preprocess at 0x000002B123A65990></td>\n",
       "    </tr>\n",
       "    <tr>\n",
       "      <th id=\"T_4560e_level0_row9\" class=\"row_heading level0 row9\" >9</th>\n",
       "      <td id=\"T_4560e_row9_col0\" class=\"data row9 col0\" >Transformation method</td>\n",
       "      <td id=\"T_4560e_row9_col1\" class=\"data row9 col1\" >yeo-johnson</td>\n",
       "    </tr>\n",
       "    <tr>\n",
       "      <th id=\"T_4560e_level0_row10\" class=\"row_heading level0 row10\" >10</th>\n",
       "      <td id=\"T_4560e_row10_col0\" class=\"data row10 col0\" >Normalize</td>\n",
       "      <td id=\"T_4560e_row10_col1\" class=\"data row10 col1\" >True</td>\n",
       "    </tr>\n",
       "    <tr>\n",
       "      <th id=\"T_4560e_level0_row11\" class=\"row_heading level0 row11\" >11</th>\n",
       "      <td id=\"T_4560e_row11_col0\" class=\"data row11 col0\" >Normalize method</td>\n",
       "      <td id=\"T_4560e_row11_col1\" class=\"data row11 col1\" >zscore</td>\n",
       "    </tr>\n",
       "    <tr>\n",
       "      <th id=\"T_4560e_level0_row12\" class=\"row_heading level0 row12\" >12</th>\n",
       "      <td id=\"T_4560e_row12_col0\" class=\"data row12 col0\" >CPU Jobs</td>\n",
       "      <td id=\"T_4560e_row12_col1\" class=\"data row12 col1\" >-1</td>\n",
       "    </tr>\n",
       "    <tr>\n",
       "      <th id=\"T_4560e_level0_row13\" class=\"row_heading level0 row13\" >13</th>\n",
       "      <td id=\"T_4560e_row13_col0\" class=\"data row13 col0\" >Use GPU</td>\n",
       "      <td id=\"T_4560e_row13_col1\" class=\"data row13 col1\" >False</td>\n",
       "    </tr>\n",
       "    <tr>\n",
       "      <th id=\"T_4560e_level0_row14\" class=\"row_heading level0 row14\" >14</th>\n",
       "      <td id=\"T_4560e_row14_col0\" class=\"data row14 col0\" >Log Experiment</td>\n",
       "      <td id=\"T_4560e_row14_col1\" class=\"data row14 col1\" >False</td>\n",
       "    </tr>\n",
       "    <tr>\n",
       "      <th id=\"T_4560e_level0_row15\" class=\"row_heading level0 row15\" >15</th>\n",
       "      <td id=\"T_4560e_row15_col0\" class=\"data row15 col0\" >Experiment Name</td>\n",
       "      <td id=\"T_4560e_row15_col1\" class=\"data row15 col1\" >cluster-default-name</td>\n",
       "    </tr>\n",
       "    <tr>\n",
       "      <th id=\"T_4560e_level0_row16\" class=\"row_heading level0 row16\" >16</th>\n",
       "      <td id=\"T_4560e_row16_col0\" class=\"data row16 col0\" >USI</td>\n",
       "      <td id=\"T_4560e_row16_col1\" class=\"data row16 col1\" >f6b5</td>\n",
       "    </tr>\n",
       "  </tbody>\n",
       "</table>\n"
      ],
      "text/plain": [
       "<pandas.io.formats.style.Styler at 0x2b123cad750>"
      ]
     },
     "metadata": {},
     "output_type": "display_data"
    },
    {
     "data": {
      "text/html": [],
      "text/plain": [
       "<IPython.core.display.HTML object>"
      ]
     },
     "metadata": {},
     "output_type": "display_data"
    },
    {
     "data": {
      "text/html": [
       "<style type=\"text/css\">\n",
       "</style>\n",
       "<table id=\"T_9c296\">\n",
       "  <thead>\n",
       "    <tr>\n",
       "      <th class=\"blank level0\" >&nbsp;</th>\n",
       "      <th id=\"T_9c296_level0_col0\" class=\"col_heading level0 col0\" >Silhouette</th>\n",
       "      <th id=\"T_9c296_level0_col1\" class=\"col_heading level0 col1\" >Calinski-Harabasz</th>\n",
       "      <th id=\"T_9c296_level0_col2\" class=\"col_heading level0 col2\" >Davies-Bouldin</th>\n",
       "      <th id=\"T_9c296_level0_col3\" class=\"col_heading level0 col3\" >Homogeneity</th>\n",
       "      <th id=\"T_9c296_level0_col4\" class=\"col_heading level0 col4\" >Rand Index</th>\n",
       "      <th id=\"T_9c296_level0_col5\" class=\"col_heading level0 col5\" >Completeness</th>\n",
       "    </tr>\n",
       "  </thead>\n",
       "  <tbody>\n",
       "    <tr>\n",
       "      <th id=\"T_9c296_level0_row0\" class=\"row_heading level0 row0\" >0</th>\n",
       "      <td id=\"T_9c296_row0_col0\" class=\"data row0 col0\" >0.3542</td>\n",
       "      <td id=\"T_9c296_row0_col1\" class=\"data row0 col1\" >208.0275</td>\n",
       "      <td id=\"T_9c296_row0_col2\" class=\"data row0 col2\" >0.9483</td>\n",
       "      <td id=\"T_9c296_row0_col3\" class=\"data row0 col3\" >0</td>\n",
       "      <td id=\"T_9c296_row0_col4\" class=\"data row0 col4\" >0</td>\n",
       "      <td id=\"T_9c296_row0_col5\" class=\"data row0 col5\" >0</td>\n",
       "    </tr>\n",
       "  </tbody>\n",
       "</table>\n"
      ],
      "text/plain": [
       "<pandas.io.formats.style.Styler at 0x2b123c1dc90>"
      ]
     },
     "metadata": {},
     "output_type": "display_data"
    },
    {
     "data": {
      "text/html": [],
      "text/plain": [
       "<IPython.core.display.HTML object>"
      ]
     },
     "metadata": {},
     "output_type": "display_data"
    },
    {
     "name": "stdout",
     "output_type": "stream",
     "text": [
      "For kmeans with 5 clusters with Transformation and Normalization\n"
     ]
    },
    {
     "data": {
      "application/vnd.jupyter.widget-view+json": {
       "model_id": "0942175d36b94981a7cc5be2dfff77a4",
       "version_major": 2,
       "version_minor": 0
      },
      "text/plain": [
       "interactive(children=(ToggleButtons(description='Plot Type:', icons=('',), options=(('Pipeline Plot', 'pipelin…"
      ]
     },
     "metadata": {},
     "output_type": "display_data"
    },
    {
     "data": {
      "text/html": [
       "<style type=\"text/css\">\n",
       "#T_33729_row4_col1, #T_33729_row10_col1 {\n",
       "  background-color: lightgreen;\n",
       "}\n",
       "</style>\n",
       "<table id=\"T_33729\">\n",
       "  <thead>\n",
       "    <tr>\n",
       "      <th class=\"blank level0\" >&nbsp;</th>\n",
       "      <th id=\"T_33729_level0_col0\" class=\"col_heading level0 col0\" >Description</th>\n",
       "      <th id=\"T_33729_level0_col1\" class=\"col_heading level0 col1\" >Value</th>\n",
       "    </tr>\n",
       "  </thead>\n",
       "  <tbody>\n",
       "    <tr>\n",
       "      <th id=\"T_33729_level0_row0\" class=\"row_heading level0 row0\" >0</th>\n",
       "      <td id=\"T_33729_row0_col0\" class=\"data row0 col0\" >Session id</td>\n",
       "      <td id=\"T_33729_row0_col1\" class=\"data row0 col1\" >2</td>\n",
       "    </tr>\n",
       "    <tr>\n",
       "      <th id=\"T_33729_level0_row1\" class=\"row_heading level0 row1\" >1</th>\n",
       "      <td id=\"T_33729_row1_col0\" class=\"data row1 col0\" >Original data shape</td>\n",
       "      <td id=\"T_33729_row1_col1\" class=\"data row1 col1\" >(150, 4)</td>\n",
       "    </tr>\n",
       "    <tr>\n",
       "      <th id=\"T_33729_level0_row2\" class=\"row_heading level0 row2\" >2</th>\n",
       "      <td id=\"T_33729_row2_col0\" class=\"data row2 col0\" >Transformed data shape</td>\n",
       "      <td id=\"T_33729_row2_col1\" class=\"data row2 col1\" >(150, 4)</td>\n",
       "    </tr>\n",
       "    <tr>\n",
       "      <th id=\"T_33729_level0_row3\" class=\"row_heading level0 row3\" >3</th>\n",
       "      <td id=\"T_33729_row3_col0\" class=\"data row3 col0\" >Numeric features</td>\n",
       "      <td id=\"T_33729_row3_col1\" class=\"data row3 col1\" >4</td>\n",
       "    </tr>\n",
       "    <tr>\n",
       "      <th id=\"T_33729_level0_row4\" class=\"row_heading level0 row4\" >4</th>\n",
       "      <td id=\"T_33729_row4_col0\" class=\"data row4 col0\" >Preprocess</td>\n",
       "      <td id=\"T_33729_row4_col1\" class=\"data row4 col1\" >True</td>\n",
       "    </tr>\n",
       "    <tr>\n",
       "      <th id=\"T_33729_level0_row5\" class=\"row_heading level0 row5\" >5</th>\n",
       "      <td id=\"T_33729_row5_col0\" class=\"data row5 col0\" >Imputation type</td>\n",
       "      <td id=\"T_33729_row5_col1\" class=\"data row5 col1\" >simple</td>\n",
       "    </tr>\n",
       "    <tr>\n",
       "      <th id=\"T_33729_level0_row6\" class=\"row_heading level0 row6\" >6</th>\n",
       "      <td id=\"T_33729_row6_col0\" class=\"data row6 col0\" >Numeric imputation</td>\n",
       "      <td id=\"T_33729_row6_col1\" class=\"data row6 col1\" >mean</td>\n",
       "    </tr>\n",
       "    <tr>\n",
       "      <th id=\"T_33729_level0_row7\" class=\"row_heading level0 row7\" >7</th>\n",
       "      <td id=\"T_33729_row7_col0\" class=\"data row7 col0\" >Categorical imputation</td>\n",
       "      <td id=\"T_33729_row7_col1\" class=\"data row7 col1\" >mode</td>\n",
       "    </tr>\n",
       "    <tr>\n",
       "      <th id=\"T_33729_level0_row8\" class=\"row_heading level0 row8\" >8</th>\n",
       "      <td id=\"T_33729_row8_col0\" class=\"data row8 col0\" >Transformation</td>\n",
       "      <td id=\"T_33729_row8_col1\" class=\"data row8 col1\" ><function custom_preprocess at 0x000002B123A65990></td>\n",
       "    </tr>\n",
       "    <tr>\n",
       "      <th id=\"T_33729_level0_row9\" class=\"row_heading level0 row9\" >9</th>\n",
       "      <td id=\"T_33729_row9_col0\" class=\"data row9 col0\" >Transformation method</td>\n",
       "      <td id=\"T_33729_row9_col1\" class=\"data row9 col1\" >yeo-johnson</td>\n",
       "    </tr>\n",
       "    <tr>\n",
       "      <th id=\"T_33729_level0_row10\" class=\"row_heading level0 row10\" >10</th>\n",
       "      <td id=\"T_33729_row10_col0\" class=\"data row10 col0\" >Normalize</td>\n",
       "      <td id=\"T_33729_row10_col1\" class=\"data row10 col1\" >True</td>\n",
       "    </tr>\n",
       "    <tr>\n",
       "      <th id=\"T_33729_level0_row11\" class=\"row_heading level0 row11\" >11</th>\n",
       "      <td id=\"T_33729_row11_col0\" class=\"data row11 col0\" >Normalize method</td>\n",
       "      <td id=\"T_33729_row11_col1\" class=\"data row11 col1\" >zscore</td>\n",
       "    </tr>\n",
       "    <tr>\n",
       "      <th id=\"T_33729_level0_row12\" class=\"row_heading level0 row12\" >12</th>\n",
       "      <td id=\"T_33729_row12_col0\" class=\"data row12 col0\" >CPU Jobs</td>\n",
       "      <td id=\"T_33729_row12_col1\" class=\"data row12 col1\" >-1</td>\n",
       "    </tr>\n",
       "    <tr>\n",
       "      <th id=\"T_33729_level0_row13\" class=\"row_heading level0 row13\" >13</th>\n",
       "      <td id=\"T_33729_row13_col0\" class=\"data row13 col0\" >Use GPU</td>\n",
       "      <td id=\"T_33729_row13_col1\" class=\"data row13 col1\" >False</td>\n",
       "    </tr>\n",
       "    <tr>\n",
       "      <th id=\"T_33729_level0_row14\" class=\"row_heading level0 row14\" >14</th>\n",
       "      <td id=\"T_33729_row14_col0\" class=\"data row14 col0\" >Log Experiment</td>\n",
       "      <td id=\"T_33729_row14_col1\" class=\"data row14 col1\" >False</td>\n",
       "    </tr>\n",
       "    <tr>\n",
       "      <th id=\"T_33729_level0_row15\" class=\"row_heading level0 row15\" >15</th>\n",
       "      <td id=\"T_33729_row15_col0\" class=\"data row15 col0\" >Experiment Name</td>\n",
       "      <td id=\"T_33729_row15_col1\" class=\"data row15 col1\" >cluster-default-name</td>\n",
       "    </tr>\n",
       "    <tr>\n",
       "      <th id=\"T_33729_level0_row16\" class=\"row_heading level0 row16\" >16</th>\n",
       "      <td id=\"T_33729_row16_col0\" class=\"data row16 col0\" >USI</td>\n",
       "      <td id=\"T_33729_row16_col1\" class=\"data row16 col1\" >310a</td>\n",
       "    </tr>\n",
       "  </tbody>\n",
       "</table>\n"
      ],
      "text/plain": [
       "<pandas.io.formats.style.Styler at 0x2b123cd2e00>"
      ]
     },
     "metadata": {},
     "output_type": "display_data"
    },
    {
     "data": {
      "text/html": [],
      "text/plain": [
       "<IPython.core.display.HTML object>"
      ]
     },
     "metadata": {},
     "output_type": "display_data"
    },
    {
     "data": {
      "text/html": [
       "<style type=\"text/css\">\n",
       "</style>\n",
       "<table id=\"T_8250b\">\n",
       "  <thead>\n",
       "    <tr>\n",
       "      <th class=\"blank level0\" >&nbsp;</th>\n",
       "      <th id=\"T_8250b_level0_col0\" class=\"col_heading level0 col0\" >Silhouette</th>\n",
       "      <th id=\"T_8250b_level0_col1\" class=\"col_heading level0 col1\" >Calinski-Harabasz</th>\n",
       "      <th id=\"T_8250b_level0_col2\" class=\"col_heading level0 col2\" >Davies-Bouldin</th>\n",
       "      <th id=\"T_8250b_level0_col3\" class=\"col_heading level0 col3\" >Homogeneity</th>\n",
       "      <th id=\"T_8250b_level0_col4\" class=\"col_heading level0 col4\" >Rand Index</th>\n",
       "      <th id=\"T_8250b_level0_col5\" class=\"col_heading level0 col5\" >Completeness</th>\n",
       "    </tr>\n",
       "  </thead>\n",
       "  <tbody>\n",
       "    <tr>\n",
       "      <th id=\"T_8250b_level0_row0\" class=\"row_heading level0 row0\" >0</th>\n",
       "      <td id=\"T_8250b_row0_col0\" class=\"data row0 col0\" >0.4462</td>\n",
       "      <td id=\"T_8250b_row0_col1\" class=\"data row0 col1\" >223.4591</td>\n",
       "      <td id=\"T_8250b_row0_col2\" class=\"data row0 col2\" >0.8356</td>\n",
       "      <td id=\"T_8250b_row0_col3\" class=\"data row0 col3\" >0</td>\n",
       "      <td id=\"T_8250b_row0_col4\" class=\"data row0 col4\" >0</td>\n",
       "      <td id=\"T_8250b_row0_col5\" class=\"data row0 col5\" >0</td>\n",
       "    </tr>\n",
       "  </tbody>\n",
       "</table>\n"
      ],
      "text/plain": [
       "<pandas.io.formats.style.Styler at 0x2b123cd03a0>"
      ]
     },
     "metadata": {},
     "output_type": "display_data"
    },
    {
     "data": {
      "text/html": [],
      "text/plain": [
       "<IPython.core.display.HTML object>"
      ]
     },
     "metadata": {},
     "output_type": "display_data"
    },
    {
     "name": "stdout",
     "output_type": "stream",
     "text": [
      "For hierarchical with 3 clusters with Transformation and Normalization\n"
     ]
    },
    {
     "data": {
      "application/vnd.jupyter.widget-view+json": {
       "model_id": "b8056c23d6f84de695d0fc62320b461a",
       "version_major": 2,
       "version_minor": 0
      },
      "text/plain": [
       "interactive(children=(ToggleButtons(description='Plot Type:', icons=('',), options=(('Pipeline Plot', 'pipelin…"
      ]
     },
     "metadata": {},
     "output_type": "display_data"
    },
    {
     "data": {
      "text/html": [
       "<style type=\"text/css\">\n",
       "#T_db8b4_row4_col1, #T_db8b4_row10_col1 {\n",
       "  background-color: lightgreen;\n",
       "}\n",
       "</style>\n",
       "<table id=\"T_db8b4\">\n",
       "  <thead>\n",
       "    <tr>\n",
       "      <th class=\"blank level0\" >&nbsp;</th>\n",
       "      <th id=\"T_db8b4_level0_col0\" class=\"col_heading level0 col0\" >Description</th>\n",
       "      <th id=\"T_db8b4_level0_col1\" class=\"col_heading level0 col1\" >Value</th>\n",
       "    </tr>\n",
       "  </thead>\n",
       "  <tbody>\n",
       "    <tr>\n",
       "      <th id=\"T_db8b4_level0_row0\" class=\"row_heading level0 row0\" >0</th>\n",
       "      <td id=\"T_db8b4_row0_col0\" class=\"data row0 col0\" >Session id</td>\n",
       "      <td id=\"T_db8b4_row0_col1\" class=\"data row0 col1\" >2</td>\n",
       "    </tr>\n",
       "    <tr>\n",
       "      <th id=\"T_db8b4_level0_row1\" class=\"row_heading level0 row1\" >1</th>\n",
       "      <td id=\"T_db8b4_row1_col0\" class=\"data row1 col0\" >Original data shape</td>\n",
       "      <td id=\"T_db8b4_row1_col1\" class=\"data row1 col1\" >(150, 4)</td>\n",
       "    </tr>\n",
       "    <tr>\n",
       "      <th id=\"T_db8b4_level0_row2\" class=\"row_heading level0 row2\" >2</th>\n",
       "      <td id=\"T_db8b4_row2_col0\" class=\"data row2 col0\" >Transformed data shape</td>\n",
       "      <td id=\"T_db8b4_row2_col1\" class=\"data row2 col1\" >(150, 4)</td>\n",
       "    </tr>\n",
       "    <tr>\n",
       "      <th id=\"T_db8b4_level0_row3\" class=\"row_heading level0 row3\" >3</th>\n",
       "      <td id=\"T_db8b4_row3_col0\" class=\"data row3 col0\" >Numeric features</td>\n",
       "      <td id=\"T_db8b4_row3_col1\" class=\"data row3 col1\" >4</td>\n",
       "    </tr>\n",
       "    <tr>\n",
       "      <th id=\"T_db8b4_level0_row4\" class=\"row_heading level0 row4\" >4</th>\n",
       "      <td id=\"T_db8b4_row4_col0\" class=\"data row4 col0\" >Preprocess</td>\n",
       "      <td id=\"T_db8b4_row4_col1\" class=\"data row4 col1\" >True</td>\n",
       "    </tr>\n",
       "    <tr>\n",
       "      <th id=\"T_db8b4_level0_row5\" class=\"row_heading level0 row5\" >5</th>\n",
       "      <td id=\"T_db8b4_row5_col0\" class=\"data row5 col0\" >Imputation type</td>\n",
       "      <td id=\"T_db8b4_row5_col1\" class=\"data row5 col1\" >simple</td>\n",
       "    </tr>\n",
       "    <tr>\n",
       "      <th id=\"T_db8b4_level0_row6\" class=\"row_heading level0 row6\" >6</th>\n",
       "      <td id=\"T_db8b4_row6_col0\" class=\"data row6 col0\" >Numeric imputation</td>\n",
       "      <td id=\"T_db8b4_row6_col1\" class=\"data row6 col1\" >mean</td>\n",
       "    </tr>\n",
       "    <tr>\n",
       "      <th id=\"T_db8b4_level0_row7\" class=\"row_heading level0 row7\" >7</th>\n",
       "      <td id=\"T_db8b4_row7_col0\" class=\"data row7 col0\" >Categorical imputation</td>\n",
       "      <td id=\"T_db8b4_row7_col1\" class=\"data row7 col1\" >mode</td>\n",
       "    </tr>\n",
       "    <tr>\n",
       "      <th id=\"T_db8b4_level0_row8\" class=\"row_heading level0 row8\" >8</th>\n",
       "      <td id=\"T_db8b4_row8_col0\" class=\"data row8 col0\" >Transformation</td>\n",
       "      <td id=\"T_db8b4_row8_col1\" class=\"data row8 col1\" ><function custom_preprocess at 0x000002B123A65990></td>\n",
       "    </tr>\n",
       "    <tr>\n",
       "      <th id=\"T_db8b4_level0_row9\" class=\"row_heading level0 row9\" >9</th>\n",
       "      <td id=\"T_db8b4_row9_col0\" class=\"data row9 col0\" >Transformation method</td>\n",
       "      <td id=\"T_db8b4_row9_col1\" class=\"data row9 col1\" >yeo-johnson</td>\n",
       "    </tr>\n",
       "    <tr>\n",
       "      <th id=\"T_db8b4_level0_row10\" class=\"row_heading level0 row10\" >10</th>\n",
       "      <td id=\"T_db8b4_row10_col0\" class=\"data row10 col0\" >Normalize</td>\n",
       "      <td id=\"T_db8b4_row10_col1\" class=\"data row10 col1\" >True</td>\n",
       "    </tr>\n",
       "    <tr>\n",
       "      <th id=\"T_db8b4_level0_row11\" class=\"row_heading level0 row11\" >11</th>\n",
       "      <td id=\"T_db8b4_row11_col0\" class=\"data row11 col0\" >Normalize method</td>\n",
       "      <td id=\"T_db8b4_row11_col1\" class=\"data row11 col1\" >zscore</td>\n",
       "    </tr>\n",
       "    <tr>\n",
       "      <th id=\"T_db8b4_level0_row12\" class=\"row_heading level0 row12\" >12</th>\n",
       "      <td id=\"T_db8b4_row12_col0\" class=\"data row12 col0\" >CPU Jobs</td>\n",
       "      <td id=\"T_db8b4_row12_col1\" class=\"data row12 col1\" >-1</td>\n",
       "    </tr>\n",
       "    <tr>\n",
       "      <th id=\"T_db8b4_level0_row13\" class=\"row_heading level0 row13\" >13</th>\n",
       "      <td id=\"T_db8b4_row13_col0\" class=\"data row13 col0\" >Use GPU</td>\n",
       "      <td id=\"T_db8b4_row13_col1\" class=\"data row13 col1\" >False</td>\n",
       "    </tr>\n",
       "    <tr>\n",
       "      <th id=\"T_db8b4_level0_row14\" class=\"row_heading level0 row14\" >14</th>\n",
       "      <td id=\"T_db8b4_row14_col0\" class=\"data row14 col0\" >Log Experiment</td>\n",
       "      <td id=\"T_db8b4_row14_col1\" class=\"data row14 col1\" >False</td>\n",
       "    </tr>\n",
       "    <tr>\n",
       "      <th id=\"T_db8b4_level0_row15\" class=\"row_heading level0 row15\" >15</th>\n",
       "      <td id=\"T_db8b4_row15_col0\" class=\"data row15 col0\" >Experiment Name</td>\n",
       "      <td id=\"T_db8b4_row15_col1\" class=\"data row15 col1\" >cluster-default-name</td>\n",
       "    </tr>\n",
       "    <tr>\n",
       "      <th id=\"T_db8b4_level0_row16\" class=\"row_heading level0 row16\" >16</th>\n",
       "      <td id=\"T_db8b4_row16_col0\" class=\"data row16 col0\" >USI</td>\n",
       "      <td id=\"T_db8b4_row16_col1\" class=\"data row16 col1\" >ddfa</td>\n",
       "    </tr>\n",
       "  </tbody>\n",
       "</table>\n"
      ],
      "text/plain": [
       "<pandas.io.formats.style.Styler at 0x2b123d0ce20>"
      ]
     },
     "metadata": {},
     "output_type": "display_data"
    },
    {
     "data": {
      "text/html": [],
      "text/plain": [
       "<IPython.core.display.HTML object>"
      ]
     },
     "metadata": {},
     "output_type": "display_data"
    },
    {
     "data": {
      "text/html": [
       "<style type=\"text/css\">\n",
       "</style>\n",
       "<table id=\"T_8233d\">\n",
       "  <thead>\n",
       "    <tr>\n",
       "      <th class=\"blank level0\" >&nbsp;</th>\n",
       "      <th id=\"T_8233d_level0_col0\" class=\"col_heading level0 col0\" >Silhouette</th>\n",
       "      <th id=\"T_8233d_level0_col1\" class=\"col_heading level0 col1\" >Calinski-Harabasz</th>\n",
       "      <th id=\"T_8233d_level0_col2\" class=\"col_heading level0 col2\" >Davies-Bouldin</th>\n",
       "      <th id=\"T_8233d_level0_col3\" class=\"col_heading level0 col3\" >Homogeneity</th>\n",
       "      <th id=\"T_8233d_level0_col4\" class=\"col_heading level0 col4\" >Rand Index</th>\n",
       "      <th id=\"T_8233d_level0_col5\" class=\"col_heading level0 col5\" >Completeness</th>\n",
       "    </tr>\n",
       "  </thead>\n",
       "  <tbody>\n",
       "    <tr>\n",
       "      <th id=\"T_8233d_level0_row0\" class=\"row_heading level0 row0\" >0</th>\n",
       "      <td id=\"T_8233d_row0_col0\" class=\"data row0 col0\" >0.4251</td>\n",
       "      <td id=\"T_8233d_row0_col1\" class=\"data row0 col1\" >200.0175</td>\n",
       "      <td id=\"T_8233d_row0_col2\" class=\"data row0 col2\" >0.8637</td>\n",
       "      <td id=\"T_8233d_row0_col3\" class=\"data row0 col3\" >0</td>\n",
       "      <td id=\"T_8233d_row0_col4\" class=\"data row0 col4\" >0</td>\n",
       "      <td id=\"T_8233d_row0_col5\" class=\"data row0 col5\" >0</td>\n",
       "    </tr>\n",
       "  </tbody>\n",
       "</table>\n"
      ],
      "text/plain": [
       "<pandas.io.formats.style.Styler at 0x2b123d0e470>"
      ]
     },
     "metadata": {},
     "output_type": "display_data"
    },
    {
     "data": {
      "text/html": [],
      "text/plain": [
       "<IPython.core.display.HTML object>"
      ]
     },
     "metadata": {},
     "output_type": "display_data"
    },
    {
     "name": "stdout",
     "output_type": "stream",
     "text": [
      "For hierarchical with 4 clusters with Transformation and Normalization\n"
     ]
    },
    {
     "data": {
      "application/vnd.jupyter.widget-view+json": {
       "model_id": "e7be6a3cc31549c4b037ee73cfea69b5",
       "version_major": 2,
       "version_minor": 0
      },
      "text/plain": [
       "interactive(children=(ToggleButtons(description='Plot Type:', icons=('',), options=(('Pipeline Plot', 'pipelin…"
      ]
     },
     "metadata": {},
     "output_type": "display_data"
    },
    {
     "data": {
      "text/html": [
       "<style type=\"text/css\">\n",
       "#T_0e3d6_row4_col1, #T_0e3d6_row10_col1 {\n",
       "  background-color: lightgreen;\n",
       "}\n",
       "</style>\n",
       "<table id=\"T_0e3d6\">\n",
       "  <thead>\n",
       "    <tr>\n",
       "      <th class=\"blank level0\" >&nbsp;</th>\n",
       "      <th id=\"T_0e3d6_level0_col0\" class=\"col_heading level0 col0\" >Description</th>\n",
       "      <th id=\"T_0e3d6_level0_col1\" class=\"col_heading level0 col1\" >Value</th>\n",
       "    </tr>\n",
       "  </thead>\n",
       "  <tbody>\n",
       "    <tr>\n",
       "      <th id=\"T_0e3d6_level0_row0\" class=\"row_heading level0 row0\" >0</th>\n",
       "      <td id=\"T_0e3d6_row0_col0\" class=\"data row0 col0\" >Session id</td>\n",
       "      <td id=\"T_0e3d6_row0_col1\" class=\"data row0 col1\" >2</td>\n",
       "    </tr>\n",
       "    <tr>\n",
       "      <th id=\"T_0e3d6_level0_row1\" class=\"row_heading level0 row1\" >1</th>\n",
       "      <td id=\"T_0e3d6_row1_col0\" class=\"data row1 col0\" >Original data shape</td>\n",
       "      <td id=\"T_0e3d6_row1_col1\" class=\"data row1 col1\" >(150, 4)</td>\n",
       "    </tr>\n",
       "    <tr>\n",
       "      <th id=\"T_0e3d6_level0_row2\" class=\"row_heading level0 row2\" >2</th>\n",
       "      <td id=\"T_0e3d6_row2_col0\" class=\"data row2 col0\" >Transformed data shape</td>\n",
       "      <td id=\"T_0e3d6_row2_col1\" class=\"data row2 col1\" >(150, 4)</td>\n",
       "    </tr>\n",
       "    <tr>\n",
       "      <th id=\"T_0e3d6_level0_row3\" class=\"row_heading level0 row3\" >3</th>\n",
       "      <td id=\"T_0e3d6_row3_col0\" class=\"data row3 col0\" >Numeric features</td>\n",
       "      <td id=\"T_0e3d6_row3_col1\" class=\"data row3 col1\" >4</td>\n",
       "    </tr>\n",
       "    <tr>\n",
       "      <th id=\"T_0e3d6_level0_row4\" class=\"row_heading level0 row4\" >4</th>\n",
       "      <td id=\"T_0e3d6_row4_col0\" class=\"data row4 col0\" >Preprocess</td>\n",
       "      <td id=\"T_0e3d6_row4_col1\" class=\"data row4 col1\" >True</td>\n",
       "    </tr>\n",
       "    <tr>\n",
       "      <th id=\"T_0e3d6_level0_row5\" class=\"row_heading level0 row5\" >5</th>\n",
       "      <td id=\"T_0e3d6_row5_col0\" class=\"data row5 col0\" >Imputation type</td>\n",
       "      <td id=\"T_0e3d6_row5_col1\" class=\"data row5 col1\" >simple</td>\n",
       "    </tr>\n",
       "    <tr>\n",
       "      <th id=\"T_0e3d6_level0_row6\" class=\"row_heading level0 row6\" >6</th>\n",
       "      <td id=\"T_0e3d6_row6_col0\" class=\"data row6 col0\" >Numeric imputation</td>\n",
       "      <td id=\"T_0e3d6_row6_col1\" class=\"data row6 col1\" >mean</td>\n",
       "    </tr>\n",
       "    <tr>\n",
       "      <th id=\"T_0e3d6_level0_row7\" class=\"row_heading level0 row7\" >7</th>\n",
       "      <td id=\"T_0e3d6_row7_col0\" class=\"data row7 col0\" >Categorical imputation</td>\n",
       "      <td id=\"T_0e3d6_row7_col1\" class=\"data row7 col1\" >mode</td>\n",
       "    </tr>\n",
       "    <tr>\n",
       "      <th id=\"T_0e3d6_level0_row8\" class=\"row_heading level0 row8\" >8</th>\n",
       "      <td id=\"T_0e3d6_row8_col0\" class=\"data row8 col0\" >Transformation</td>\n",
       "      <td id=\"T_0e3d6_row8_col1\" class=\"data row8 col1\" ><function custom_preprocess at 0x000002B123A65990></td>\n",
       "    </tr>\n",
       "    <tr>\n",
       "      <th id=\"T_0e3d6_level0_row9\" class=\"row_heading level0 row9\" >9</th>\n",
       "      <td id=\"T_0e3d6_row9_col0\" class=\"data row9 col0\" >Transformation method</td>\n",
       "      <td id=\"T_0e3d6_row9_col1\" class=\"data row9 col1\" >yeo-johnson</td>\n",
       "    </tr>\n",
       "    <tr>\n",
       "      <th id=\"T_0e3d6_level0_row10\" class=\"row_heading level0 row10\" >10</th>\n",
       "      <td id=\"T_0e3d6_row10_col0\" class=\"data row10 col0\" >Normalize</td>\n",
       "      <td id=\"T_0e3d6_row10_col1\" class=\"data row10 col1\" >True</td>\n",
       "    </tr>\n",
       "    <tr>\n",
       "      <th id=\"T_0e3d6_level0_row11\" class=\"row_heading level0 row11\" >11</th>\n",
       "      <td id=\"T_0e3d6_row11_col0\" class=\"data row11 col0\" >Normalize method</td>\n",
       "      <td id=\"T_0e3d6_row11_col1\" class=\"data row11 col1\" >zscore</td>\n",
       "    </tr>\n",
       "    <tr>\n",
       "      <th id=\"T_0e3d6_level0_row12\" class=\"row_heading level0 row12\" >12</th>\n",
       "      <td id=\"T_0e3d6_row12_col0\" class=\"data row12 col0\" >CPU Jobs</td>\n",
       "      <td id=\"T_0e3d6_row12_col1\" class=\"data row12 col1\" >-1</td>\n",
       "    </tr>\n",
       "    <tr>\n",
       "      <th id=\"T_0e3d6_level0_row13\" class=\"row_heading level0 row13\" >13</th>\n",
       "      <td id=\"T_0e3d6_row13_col0\" class=\"data row13 col0\" >Use GPU</td>\n",
       "      <td id=\"T_0e3d6_row13_col1\" class=\"data row13 col1\" >False</td>\n",
       "    </tr>\n",
       "    <tr>\n",
       "      <th id=\"T_0e3d6_level0_row14\" class=\"row_heading level0 row14\" >14</th>\n",
       "      <td id=\"T_0e3d6_row14_col0\" class=\"data row14 col0\" >Log Experiment</td>\n",
       "      <td id=\"T_0e3d6_row14_col1\" class=\"data row14 col1\" >False</td>\n",
       "    </tr>\n",
       "    <tr>\n",
       "      <th id=\"T_0e3d6_level0_row15\" class=\"row_heading level0 row15\" >15</th>\n",
       "      <td id=\"T_0e3d6_row15_col0\" class=\"data row15 col0\" >Experiment Name</td>\n",
       "      <td id=\"T_0e3d6_row15_col1\" class=\"data row15 col1\" >cluster-default-name</td>\n",
       "    </tr>\n",
       "    <tr>\n",
       "      <th id=\"T_0e3d6_level0_row16\" class=\"row_heading level0 row16\" >16</th>\n",
       "      <td id=\"T_0e3d6_row16_col0\" class=\"data row16 col0\" >USI</td>\n",
       "      <td id=\"T_0e3d6_row16_col1\" class=\"data row16 col1\" >df65</td>\n",
       "    </tr>\n",
       "  </tbody>\n",
       "</table>\n"
      ],
      "text/plain": [
       "<pandas.io.formats.style.Styler at 0x2b123bea020>"
      ]
     },
     "metadata": {},
     "output_type": "display_data"
    },
    {
     "data": {
      "text/html": [],
      "text/plain": [
       "<IPython.core.display.HTML object>"
      ]
     },
     "metadata": {},
     "output_type": "display_data"
    },
    {
     "data": {
      "text/html": [
       "<style type=\"text/css\">\n",
       "</style>\n",
       "<table id=\"T_69c8c\">\n",
       "  <thead>\n",
       "    <tr>\n",
       "      <th class=\"blank level0\" >&nbsp;</th>\n",
       "      <th id=\"T_69c8c_level0_col0\" class=\"col_heading level0 col0\" >Silhouette</th>\n",
       "      <th id=\"T_69c8c_level0_col1\" class=\"col_heading level0 col1\" >Calinski-Harabasz</th>\n",
       "      <th id=\"T_69c8c_level0_col2\" class=\"col_heading level0 col2\" >Davies-Bouldin</th>\n",
       "      <th id=\"T_69c8c_level0_col3\" class=\"col_heading level0 col3\" >Homogeneity</th>\n",
       "      <th id=\"T_69c8c_level0_col4\" class=\"col_heading level0 col4\" >Rand Index</th>\n",
       "      <th id=\"T_69c8c_level0_col5\" class=\"col_heading level0 col5\" >Completeness</th>\n",
       "    </tr>\n",
       "  </thead>\n",
       "  <tbody>\n",
       "    <tr>\n",
       "      <th id=\"T_69c8c_level0_row0\" class=\"row_heading level0 row0\" >0</th>\n",
       "      <td id=\"T_69c8c_row0_col0\" class=\"data row0 col0\" >0.3625</td>\n",
       "      <td id=\"T_69c8c_row0_col1\" class=\"data row0 col1\" >199.3025</td>\n",
       "      <td id=\"T_69c8c_row0_col2\" class=\"data row0 col2\" >0.8962</td>\n",
       "      <td id=\"T_69c8c_row0_col3\" class=\"data row0 col3\" >0</td>\n",
       "      <td id=\"T_69c8c_row0_col4\" class=\"data row0 col4\" >0</td>\n",
       "      <td id=\"T_69c8c_row0_col5\" class=\"data row0 col5\" >0</td>\n",
       "    </tr>\n",
       "  </tbody>\n",
       "</table>\n"
      ],
      "text/plain": [
       "<pandas.io.formats.style.Styler at 0x2b123be8220>"
      ]
     },
     "metadata": {},
     "output_type": "display_data"
    },
    {
     "data": {
      "text/html": [],
      "text/plain": [
       "<IPython.core.display.HTML object>"
      ]
     },
     "metadata": {},
     "output_type": "display_data"
    },
    {
     "name": "stdout",
     "output_type": "stream",
     "text": [
      "For hierarchical with 5 clusters with Transformation and Normalization\n"
     ]
    },
    {
     "data": {
      "application/vnd.jupyter.widget-view+json": {
       "model_id": "b3f4e01c6290430897728ff042854c0c",
       "version_major": 2,
       "version_minor": 0
      },
      "text/plain": [
       "interactive(children=(ToggleButtons(description='Plot Type:', icons=('',), options=(('Pipeline Plot', 'pipelin…"
      ]
     },
     "metadata": {},
     "output_type": "display_data"
    },
    {
     "data": {
      "text/html": [
       "<style type=\"text/css\">\n",
       "#T_9de93_row4_col1, #T_9de93_row10_col1 {\n",
       "  background-color: lightgreen;\n",
       "}\n",
       "</style>\n",
       "<table id=\"T_9de93\">\n",
       "  <thead>\n",
       "    <tr>\n",
       "      <th class=\"blank level0\" >&nbsp;</th>\n",
       "      <th id=\"T_9de93_level0_col0\" class=\"col_heading level0 col0\" >Description</th>\n",
       "      <th id=\"T_9de93_level0_col1\" class=\"col_heading level0 col1\" >Value</th>\n",
       "    </tr>\n",
       "  </thead>\n",
       "  <tbody>\n",
       "    <tr>\n",
       "      <th id=\"T_9de93_level0_row0\" class=\"row_heading level0 row0\" >0</th>\n",
       "      <td id=\"T_9de93_row0_col0\" class=\"data row0 col0\" >Session id</td>\n",
       "      <td id=\"T_9de93_row0_col1\" class=\"data row0 col1\" >2</td>\n",
       "    </tr>\n",
       "    <tr>\n",
       "      <th id=\"T_9de93_level0_row1\" class=\"row_heading level0 row1\" >1</th>\n",
       "      <td id=\"T_9de93_row1_col0\" class=\"data row1 col0\" >Original data shape</td>\n",
       "      <td id=\"T_9de93_row1_col1\" class=\"data row1 col1\" >(150, 4)</td>\n",
       "    </tr>\n",
       "    <tr>\n",
       "      <th id=\"T_9de93_level0_row2\" class=\"row_heading level0 row2\" >2</th>\n",
       "      <td id=\"T_9de93_row2_col0\" class=\"data row2 col0\" >Transformed data shape</td>\n",
       "      <td id=\"T_9de93_row2_col1\" class=\"data row2 col1\" >(150, 4)</td>\n",
       "    </tr>\n",
       "    <tr>\n",
       "      <th id=\"T_9de93_level0_row3\" class=\"row_heading level0 row3\" >3</th>\n",
       "      <td id=\"T_9de93_row3_col0\" class=\"data row3 col0\" >Numeric features</td>\n",
       "      <td id=\"T_9de93_row3_col1\" class=\"data row3 col1\" >4</td>\n",
       "    </tr>\n",
       "    <tr>\n",
       "      <th id=\"T_9de93_level0_row4\" class=\"row_heading level0 row4\" >4</th>\n",
       "      <td id=\"T_9de93_row4_col0\" class=\"data row4 col0\" >Preprocess</td>\n",
       "      <td id=\"T_9de93_row4_col1\" class=\"data row4 col1\" >True</td>\n",
       "    </tr>\n",
       "    <tr>\n",
       "      <th id=\"T_9de93_level0_row5\" class=\"row_heading level0 row5\" >5</th>\n",
       "      <td id=\"T_9de93_row5_col0\" class=\"data row5 col0\" >Imputation type</td>\n",
       "      <td id=\"T_9de93_row5_col1\" class=\"data row5 col1\" >simple</td>\n",
       "    </tr>\n",
       "    <tr>\n",
       "      <th id=\"T_9de93_level0_row6\" class=\"row_heading level0 row6\" >6</th>\n",
       "      <td id=\"T_9de93_row6_col0\" class=\"data row6 col0\" >Numeric imputation</td>\n",
       "      <td id=\"T_9de93_row6_col1\" class=\"data row6 col1\" >mean</td>\n",
       "    </tr>\n",
       "    <tr>\n",
       "      <th id=\"T_9de93_level0_row7\" class=\"row_heading level0 row7\" >7</th>\n",
       "      <td id=\"T_9de93_row7_col0\" class=\"data row7 col0\" >Categorical imputation</td>\n",
       "      <td id=\"T_9de93_row7_col1\" class=\"data row7 col1\" >mode</td>\n",
       "    </tr>\n",
       "    <tr>\n",
       "      <th id=\"T_9de93_level0_row8\" class=\"row_heading level0 row8\" >8</th>\n",
       "      <td id=\"T_9de93_row8_col0\" class=\"data row8 col0\" >Transformation</td>\n",
       "      <td id=\"T_9de93_row8_col1\" class=\"data row8 col1\" ><function custom_preprocess at 0x000002B123A65990></td>\n",
       "    </tr>\n",
       "    <tr>\n",
       "      <th id=\"T_9de93_level0_row9\" class=\"row_heading level0 row9\" >9</th>\n",
       "      <td id=\"T_9de93_row9_col0\" class=\"data row9 col0\" >Transformation method</td>\n",
       "      <td id=\"T_9de93_row9_col1\" class=\"data row9 col1\" >yeo-johnson</td>\n",
       "    </tr>\n",
       "    <tr>\n",
       "      <th id=\"T_9de93_level0_row10\" class=\"row_heading level0 row10\" >10</th>\n",
       "      <td id=\"T_9de93_row10_col0\" class=\"data row10 col0\" >Normalize</td>\n",
       "      <td id=\"T_9de93_row10_col1\" class=\"data row10 col1\" >True</td>\n",
       "    </tr>\n",
       "    <tr>\n",
       "      <th id=\"T_9de93_level0_row11\" class=\"row_heading level0 row11\" >11</th>\n",
       "      <td id=\"T_9de93_row11_col0\" class=\"data row11 col0\" >Normalize method</td>\n",
       "      <td id=\"T_9de93_row11_col1\" class=\"data row11 col1\" >zscore</td>\n",
       "    </tr>\n",
       "    <tr>\n",
       "      <th id=\"T_9de93_level0_row12\" class=\"row_heading level0 row12\" >12</th>\n",
       "      <td id=\"T_9de93_row12_col0\" class=\"data row12 col0\" >CPU Jobs</td>\n",
       "      <td id=\"T_9de93_row12_col1\" class=\"data row12 col1\" >-1</td>\n",
       "    </tr>\n",
       "    <tr>\n",
       "      <th id=\"T_9de93_level0_row13\" class=\"row_heading level0 row13\" >13</th>\n",
       "      <td id=\"T_9de93_row13_col0\" class=\"data row13 col0\" >Use GPU</td>\n",
       "      <td id=\"T_9de93_row13_col1\" class=\"data row13 col1\" >False</td>\n",
       "    </tr>\n",
       "    <tr>\n",
       "      <th id=\"T_9de93_level0_row14\" class=\"row_heading level0 row14\" >14</th>\n",
       "      <td id=\"T_9de93_row14_col0\" class=\"data row14 col0\" >Log Experiment</td>\n",
       "      <td id=\"T_9de93_row14_col1\" class=\"data row14 col1\" >False</td>\n",
       "    </tr>\n",
       "    <tr>\n",
       "      <th id=\"T_9de93_level0_row15\" class=\"row_heading level0 row15\" >15</th>\n",
       "      <td id=\"T_9de93_row15_col0\" class=\"data row15 col0\" >Experiment Name</td>\n",
       "      <td id=\"T_9de93_row15_col1\" class=\"data row15 col1\" >cluster-default-name</td>\n",
       "    </tr>\n",
       "    <tr>\n",
       "      <th id=\"T_9de93_level0_row16\" class=\"row_heading level0 row16\" >16</th>\n",
       "      <td id=\"T_9de93_row16_col0\" class=\"data row16 col0\" >USI</td>\n",
       "      <td id=\"T_9de93_row16_col1\" class=\"data row16 col1\" >bd8d</td>\n",
       "    </tr>\n",
       "  </tbody>\n",
       "</table>\n"
      ],
      "text/plain": [
       "<pandas.io.formats.style.Styler at 0x2b123d42b60>"
      ]
     },
     "metadata": {},
     "output_type": "display_data"
    },
    {
     "data": {
      "text/html": [],
      "text/plain": [
       "<IPython.core.display.HTML object>"
      ]
     },
     "metadata": {},
     "output_type": "display_data"
    },
    {
     "data": {
      "text/html": [
       "<style type=\"text/css\">\n",
       "</style>\n",
       "<table id=\"T_45d6b\">\n",
       "  <thead>\n",
       "    <tr>\n",
       "      <th class=\"blank level0\" >&nbsp;</th>\n",
       "      <th id=\"T_45d6b_level0_col0\" class=\"col_heading level0 col0\" >Silhouette</th>\n",
       "      <th id=\"T_45d6b_level0_col1\" class=\"col_heading level0 col1\" >Calinski-Harabasz</th>\n",
       "      <th id=\"T_45d6b_level0_col2\" class=\"col_heading level0 col2\" >Davies-Bouldin</th>\n",
       "      <th id=\"T_45d6b_level0_col3\" class=\"col_heading level0 col3\" >Homogeneity</th>\n",
       "      <th id=\"T_45d6b_level0_col4\" class=\"col_heading level0 col4\" >Rand Index</th>\n",
       "      <th id=\"T_45d6b_level0_col5\" class=\"col_heading level0 col5\" >Completeness</th>\n",
       "    </tr>\n",
       "  </thead>\n",
       "  <tbody>\n",
       "    <tr>\n",
       "      <th id=\"T_45d6b_level0_row0\" class=\"row_heading level0 row0\" >0</th>\n",
       "      <td id=\"T_45d6b_row0_col0\" class=\"data row0 col0\" >0.4660</td>\n",
       "      <td id=\"T_45d6b_row0_col1\" class=\"data row0 col1\" >227.0425</td>\n",
       "      <td id=\"T_45d6b_row0_col2\" class=\"data row0 col2\" >0.7858</td>\n",
       "      <td id=\"T_45d6b_row0_col3\" class=\"data row0 col3\" >0</td>\n",
       "      <td id=\"T_45d6b_row0_col4\" class=\"data row0 col4\" >0</td>\n",
       "      <td id=\"T_45d6b_row0_col5\" class=\"data row0 col5\" >0</td>\n",
       "    </tr>\n",
       "  </tbody>\n",
       "</table>\n"
      ],
      "text/plain": [
       "<pandas.io.formats.style.Styler at 0x2b123beb7f0>"
      ]
     },
     "metadata": {},
     "output_type": "display_data"
    },
    {
     "data": {
      "text/html": [],
      "text/plain": [
       "<IPython.core.display.HTML object>"
      ]
     },
     "metadata": {},
     "output_type": "display_data"
    },
    {
     "name": "stdout",
     "output_type": "stream",
     "text": [
      "For birch with 3 clusters with Transformation and Normalization\n"
     ]
    },
    {
     "data": {
      "application/vnd.jupyter.widget-view+json": {
       "model_id": "3c4ab40f48b84f82a6b7a2f094abb79f",
       "version_major": 2,
       "version_minor": 0
      },
      "text/plain": [
       "interactive(children=(ToggleButtons(description='Plot Type:', icons=('',), options=(('Pipeline Plot', 'pipelin…"
      ]
     },
     "metadata": {},
     "output_type": "display_data"
    },
    {
     "data": {
      "text/html": [
       "<style type=\"text/css\">\n",
       "#T_c8acc_row4_col1, #T_c8acc_row10_col1 {\n",
       "  background-color: lightgreen;\n",
       "}\n",
       "</style>\n",
       "<table id=\"T_c8acc\">\n",
       "  <thead>\n",
       "    <tr>\n",
       "      <th class=\"blank level0\" >&nbsp;</th>\n",
       "      <th id=\"T_c8acc_level0_col0\" class=\"col_heading level0 col0\" >Description</th>\n",
       "      <th id=\"T_c8acc_level0_col1\" class=\"col_heading level0 col1\" >Value</th>\n",
       "    </tr>\n",
       "  </thead>\n",
       "  <tbody>\n",
       "    <tr>\n",
       "      <th id=\"T_c8acc_level0_row0\" class=\"row_heading level0 row0\" >0</th>\n",
       "      <td id=\"T_c8acc_row0_col0\" class=\"data row0 col0\" >Session id</td>\n",
       "      <td id=\"T_c8acc_row0_col1\" class=\"data row0 col1\" >2</td>\n",
       "    </tr>\n",
       "    <tr>\n",
       "      <th id=\"T_c8acc_level0_row1\" class=\"row_heading level0 row1\" >1</th>\n",
       "      <td id=\"T_c8acc_row1_col0\" class=\"data row1 col0\" >Original data shape</td>\n",
       "      <td id=\"T_c8acc_row1_col1\" class=\"data row1 col1\" >(150, 4)</td>\n",
       "    </tr>\n",
       "    <tr>\n",
       "      <th id=\"T_c8acc_level0_row2\" class=\"row_heading level0 row2\" >2</th>\n",
       "      <td id=\"T_c8acc_row2_col0\" class=\"data row2 col0\" >Transformed data shape</td>\n",
       "      <td id=\"T_c8acc_row2_col1\" class=\"data row2 col1\" >(150, 4)</td>\n",
       "    </tr>\n",
       "    <tr>\n",
       "      <th id=\"T_c8acc_level0_row3\" class=\"row_heading level0 row3\" >3</th>\n",
       "      <td id=\"T_c8acc_row3_col0\" class=\"data row3 col0\" >Numeric features</td>\n",
       "      <td id=\"T_c8acc_row3_col1\" class=\"data row3 col1\" >4</td>\n",
       "    </tr>\n",
       "    <tr>\n",
       "      <th id=\"T_c8acc_level0_row4\" class=\"row_heading level0 row4\" >4</th>\n",
       "      <td id=\"T_c8acc_row4_col0\" class=\"data row4 col0\" >Preprocess</td>\n",
       "      <td id=\"T_c8acc_row4_col1\" class=\"data row4 col1\" >True</td>\n",
       "    </tr>\n",
       "    <tr>\n",
       "      <th id=\"T_c8acc_level0_row5\" class=\"row_heading level0 row5\" >5</th>\n",
       "      <td id=\"T_c8acc_row5_col0\" class=\"data row5 col0\" >Imputation type</td>\n",
       "      <td id=\"T_c8acc_row5_col1\" class=\"data row5 col1\" >simple</td>\n",
       "    </tr>\n",
       "    <tr>\n",
       "      <th id=\"T_c8acc_level0_row6\" class=\"row_heading level0 row6\" >6</th>\n",
       "      <td id=\"T_c8acc_row6_col0\" class=\"data row6 col0\" >Numeric imputation</td>\n",
       "      <td id=\"T_c8acc_row6_col1\" class=\"data row6 col1\" >mean</td>\n",
       "    </tr>\n",
       "    <tr>\n",
       "      <th id=\"T_c8acc_level0_row7\" class=\"row_heading level0 row7\" >7</th>\n",
       "      <td id=\"T_c8acc_row7_col0\" class=\"data row7 col0\" >Categorical imputation</td>\n",
       "      <td id=\"T_c8acc_row7_col1\" class=\"data row7 col1\" >mode</td>\n",
       "    </tr>\n",
       "    <tr>\n",
       "      <th id=\"T_c8acc_level0_row8\" class=\"row_heading level0 row8\" >8</th>\n",
       "      <td id=\"T_c8acc_row8_col0\" class=\"data row8 col0\" >Transformation</td>\n",
       "      <td id=\"T_c8acc_row8_col1\" class=\"data row8 col1\" ><function custom_preprocess at 0x000002B123A65990></td>\n",
       "    </tr>\n",
       "    <tr>\n",
       "      <th id=\"T_c8acc_level0_row9\" class=\"row_heading level0 row9\" >9</th>\n",
       "      <td id=\"T_c8acc_row9_col0\" class=\"data row9 col0\" >Transformation method</td>\n",
       "      <td id=\"T_c8acc_row9_col1\" class=\"data row9 col1\" >yeo-johnson</td>\n",
       "    </tr>\n",
       "    <tr>\n",
       "      <th id=\"T_c8acc_level0_row10\" class=\"row_heading level0 row10\" >10</th>\n",
       "      <td id=\"T_c8acc_row10_col0\" class=\"data row10 col0\" >Normalize</td>\n",
       "      <td id=\"T_c8acc_row10_col1\" class=\"data row10 col1\" >True</td>\n",
       "    </tr>\n",
       "    <tr>\n",
       "      <th id=\"T_c8acc_level0_row11\" class=\"row_heading level0 row11\" >11</th>\n",
       "      <td id=\"T_c8acc_row11_col0\" class=\"data row11 col0\" >Normalize method</td>\n",
       "      <td id=\"T_c8acc_row11_col1\" class=\"data row11 col1\" >zscore</td>\n",
       "    </tr>\n",
       "    <tr>\n",
       "      <th id=\"T_c8acc_level0_row12\" class=\"row_heading level0 row12\" >12</th>\n",
       "      <td id=\"T_c8acc_row12_col0\" class=\"data row12 col0\" >CPU Jobs</td>\n",
       "      <td id=\"T_c8acc_row12_col1\" class=\"data row12 col1\" >-1</td>\n",
       "    </tr>\n",
       "    <tr>\n",
       "      <th id=\"T_c8acc_level0_row13\" class=\"row_heading level0 row13\" >13</th>\n",
       "      <td id=\"T_c8acc_row13_col0\" class=\"data row13 col0\" >Use GPU</td>\n",
       "      <td id=\"T_c8acc_row13_col1\" class=\"data row13 col1\" >False</td>\n",
       "    </tr>\n",
       "    <tr>\n",
       "      <th id=\"T_c8acc_level0_row14\" class=\"row_heading level0 row14\" >14</th>\n",
       "      <td id=\"T_c8acc_row14_col0\" class=\"data row14 col0\" >Log Experiment</td>\n",
       "      <td id=\"T_c8acc_row14_col1\" class=\"data row14 col1\" >False</td>\n",
       "    </tr>\n",
       "    <tr>\n",
       "      <th id=\"T_c8acc_level0_row15\" class=\"row_heading level0 row15\" >15</th>\n",
       "      <td id=\"T_c8acc_row15_col0\" class=\"data row15 col0\" >Experiment Name</td>\n",
       "      <td id=\"T_c8acc_row15_col1\" class=\"data row15 col1\" >cluster-default-name</td>\n",
       "    </tr>\n",
       "    <tr>\n",
       "      <th id=\"T_c8acc_level0_row16\" class=\"row_heading level0 row16\" >16</th>\n",
       "      <td id=\"T_c8acc_row16_col0\" class=\"data row16 col0\" >USI</td>\n",
       "      <td id=\"T_c8acc_row16_col1\" class=\"data row16 col1\" >3d80</td>\n",
       "    </tr>\n",
       "  </tbody>\n",
       "</table>\n"
      ],
      "text/plain": [
       "<pandas.io.formats.style.Styler at 0x2b123d70a60>"
      ]
     },
     "metadata": {},
     "output_type": "display_data"
    },
    {
     "data": {
      "text/html": [],
      "text/plain": [
       "<IPython.core.display.HTML object>"
      ]
     },
     "metadata": {},
     "output_type": "display_data"
    },
    {
     "data": {
      "text/html": [
       "<style type=\"text/css\">\n",
       "</style>\n",
       "<table id=\"T_a17f0\">\n",
       "  <thead>\n",
       "    <tr>\n",
       "      <th class=\"blank level0\" >&nbsp;</th>\n",
       "      <th id=\"T_a17f0_level0_col0\" class=\"col_heading level0 col0\" >Silhouette</th>\n",
       "      <th id=\"T_a17f0_level0_col1\" class=\"col_heading level0 col1\" >Calinski-Harabasz</th>\n",
       "      <th id=\"T_a17f0_level0_col2\" class=\"col_heading level0 col2\" >Davies-Bouldin</th>\n",
       "      <th id=\"T_a17f0_level0_col3\" class=\"col_heading level0 col3\" >Homogeneity</th>\n",
       "      <th id=\"T_a17f0_level0_col4\" class=\"col_heading level0 col4\" >Rand Index</th>\n",
       "      <th id=\"T_a17f0_level0_col5\" class=\"col_heading level0 col5\" >Completeness</th>\n",
       "    </tr>\n",
       "  </thead>\n",
       "  <tbody>\n",
       "    <tr>\n",
       "      <th id=\"T_a17f0_level0_row0\" class=\"row_heading level0 row0\" >0</th>\n",
       "      <td id=\"T_a17f0_row0_col0\" class=\"data row0 col0\" >0.4025</td>\n",
       "      <td id=\"T_a17f0_row0_col1\" class=\"data row0 col1\" >204.5392</td>\n",
       "      <td id=\"T_a17f0_row0_col2\" class=\"data row0 col2\" >0.9729</td>\n",
       "      <td id=\"T_a17f0_row0_col3\" class=\"data row0 col3\" >0</td>\n",
       "      <td id=\"T_a17f0_row0_col4\" class=\"data row0 col4\" >0</td>\n",
       "      <td id=\"T_a17f0_row0_col5\" class=\"data row0 col5\" >0</td>\n",
       "    </tr>\n",
       "  </tbody>\n",
       "</table>\n"
      ],
      "text/plain": [
       "<pandas.io.formats.style.Styler at 0x2b123d73d30>"
      ]
     },
     "metadata": {},
     "output_type": "display_data"
    },
    {
     "data": {
      "text/html": [],
      "text/plain": [
       "<IPython.core.display.HTML object>"
      ]
     },
     "metadata": {},
     "output_type": "display_data"
    },
    {
     "name": "stdout",
     "output_type": "stream",
     "text": [
      "For birch with 4 clusters with Transformation and Normalization\n"
     ]
    },
    {
     "data": {
      "application/vnd.jupyter.widget-view+json": {
       "model_id": "4719def6944941dd8caa624e6c72d6b2",
       "version_major": 2,
       "version_minor": 0
      },
      "text/plain": [
       "interactive(children=(ToggleButtons(description='Plot Type:', icons=('',), options=(('Pipeline Plot', 'pipelin…"
      ]
     },
     "metadata": {},
     "output_type": "display_data"
    },
    {
     "data": {
      "text/html": [
       "<style type=\"text/css\">\n",
       "#T_9a21b_row4_col1, #T_9a21b_row10_col1 {\n",
       "  background-color: lightgreen;\n",
       "}\n",
       "</style>\n",
       "<table id=\"T_9a21b\">\n",
       "  <thead>\n",
       "    <tr>\n",
       "      <th class=\"blank level0\" >&nbsp;</th>\n",
       "      <th id=\"T_9a21b_level0_col0\" class=\"col_heading level0 col0\" >Description</th>\n",
       "      <th id=\"T_9a21b_level0_col1\" class=\"col_heading level0 col1\" >Value</th>\n",
       "    </tr>\n",
       "  </thead>\n",
       "  <tbody>\n",
       "    <tr>\n",
       "      <th id=\"T_9a21b_level0_row0\" class=\"row_heading level0 row0\" >0</th>\n",
       "      <td id=\"T_9a21b_row0_col0\" class=\"data row0 col0\" >Session id</td>\n",
       "      <td id=\"T_9a21b_row0_col1\" class=\"data row0 col1\" >2</td>\n",
       "    </tr>\n",
       "    <tr>\n",
       "      <th id=\"T_9a21b_level0_row1\" class=\"row_heading level0 row1\" >1</th>\n",
       "      <td id=\"T_9a21b_row1_col0\" class=\"data row1 col0\" >Original data shape</td>\n",
       "      <td id=\"T_9a21b_row1_col1\" class=\"data row1 col1\" >(150, 4)</td>\n",
       "    </tr>\n",
       "    <tr>\n",
       "      <th id=\"T_9a21b_level0_row2\" class=\"row_heading level0 row2\" >2</th>\n",
       "      <td id=\"T_9a21b_row2_col0\" class=\"data row2 col0\" >Transformed data shape</td>\n",
       "      <td id=\"T_9a21b_row2_col1\" class=\"data row2 col1\" >(150, 4)</td>\n",
       "    </tr>\n",
       "    <tr>\n",
       "      <th id=\"T_9a21b_level0_row3\" class=\"row_heading level0 row3\" >3</th>\n",
       "      <td id=\"T_9a21b_row3_col0\" class=\"data row3 col0\" >Numeric features</td>\n",
       "      <td id=\"T_9a21b_row3_col1\" class=\"data row3 col1\" >4</td>\n",
       "    </tr>\n",
       "    <tr>\n",
       "      <th id=\"T_9a21b_level0_row4\" class=\"row_heading level0 row4\" >4</th>\n",
       "      <td id=\"T_9a21b_row4_col0\" class=\"data row4 col0\" >Preprocess</td>\n",
       "      <td id=\"T_9a21b_row4_col1\" class=\"data row4 col1\" >True</td>\n",
       "    </tr>\n",
       "    <tr>\n",
       "      <th id=\"T_9a21b_level0_row5\" class=\"row_heading level0 row5\" >5</th>\n",
       "      <td id=\"T_9a21b_row5_col0\" class=\"data row5 col0\" >Imputation type</td>\n",
       "      <td id=\"T_9a21b_row5_col1\" class=\"data row5 col1\" >simple</td>\n",
       "    </tr>\n",
       "    <tr>\n",
       "      <th id=\"T_9a21b_level0_row6\" class=\"row_heading level0 row6\" >6</th>\n",
       "      <td id=\"T_9a21b_row6_col0\" class=\"data row6 col0\" >Numeric imputation</td>\n",
       "      <td id=\"T_9a21b_row6_col1\" class=\"data row6 col1\" >mean</td>\n",
       "    </tr>\n",
       "    <tr>\n",
       "      <th id=\"T_9a21b_level0_row7\" class=\"row_heading level0 row7\" >7</th>\n",
       "      <td id=\"T_9a21b_row7_col0\" class=\"data row7 col0\" >Categorical imputation</td>\n",
       "      <td id=\"T_9a21b_row7_col1\" class=\"data row7 col1\" >mode</td>\n",
       "    </tr>\n",
       "    <tr>\n",
       "      <th id=\"T_9a21b_level0_row8\" class=\"row_heading level0 row8\" >8</th>\n",
       "      <td id=\"T_9a21b_row8_col0\" class=\"data row8 col0\" >Transformation</td>\n",
       "      <td id=\"T_9a21b_row8_col1\" class=\"data row8 col1\" ><function custom_preprocess at 0x000002B123A65990></td>\n",
       "    </tr>\n",
       "    <tr>\n",
       "      <th id=\"T_9a21b_level0_row9\" class=\"row_heading level0 row9\" >9</th>\n",
       "      <td id=\"T_9a21b_row9_col0\" class=\"data row9 col0\" >Transformation method</td>\n",
       "      <td id=\"T_9a21b_row9_col1\" class=\"data row9 col1\" >yeo-johnson</td>\n",
       "    </tr>\n",
       "    <tr>\n",
       "      <th id=\"T_9a21b_level0_row10\" class=\"row_heading level0 row10\" >10</th>\n",
       "      <td id=\"T_9a21b_row10_col0\" class=\"data row10 col0\" >Normalize</td>\n",
       "      <td id=\"T_9a21b_row10_col1\" class=\"data row10 col1\" >True</td>\n",
       "    </tr>\n",
       "    <tr>\n",
       "      <th id=\"T_9a21b_level0_row11\" class=\"row_heading level0 row11\" >11</th>\n",
       "      <td id=\"T_9a21b_row11_col0\" class=\"data row11 col0\" >Normalize method</td>\n",
       "      <td id=\"T_9a21b_row11_col1\" class=\"data row11 col1\" >zscore</td>\n",
       "    </tr>\n",
       "    <tr>\n",
       "      <th id=\"T_9a21b_level0_row12\" class=\"row_heading level0 row12\" >12</th>\n",
       "      <td id=\"T_9a21b_row12_col0\" class=\"data row12 col0\" >CPU Jobs</td>\n",
       "      <td id=\"T_9a21b_row12_col1\" class=\"data row12 col1\" >-1</td>\n",
       "    </tr>\n",
       "    <tr>\n",
       "      <th id=\"T_9a21b_level0_row13\" class=\"row_heading level0 row13\" >13</th>\n",
       "      <td id=\"T_9a21b_row13_col0\" class=\"data row13 col0\" >Use GPU</td>\n",
       "      <td id=\"T_9a21b_row13_col1\" class=\"data row13 col1\" >False</td>\n",
       "    </tr>\n",
       "    <tr>\n",
       "      <th id=\"T_9a21b_level0_row14\" class=\"row_heading level0 row14\" >14</th>\n",
       "      <td id=\"T_9a21b_row14_col0\" class=\"data row14 col0\" >Log Experiment</td>\n",
       "      <td id=\"T_9a21b_row14_col1\" class=\"data row14 col1\" >False</td>\n",
       "    </tr>\n",
       "    <tr>\n",
       "      <th id=\"T_9a21b_level0_row15\" class=\"row_heading level0 row15\" >15</th>\n",
       "      <td id=\"T_9a21b_row15_col0\" class=\"data row15 col0\" >Experiment Name</td>\n",
       "      <td id=\"T_9a21b_row15_col1\" class=\"data row15 col1\" >cluster-default-name</td>\n",
       "    </tr>\n",
       "    <tr>\n",
       "      <th id=\"T_9a21b_level0_row16\" class=\"row_heading level0 row16\" >16</th>\n",
       "      <td id=\"T_9a21b_row16_col0\" class=\"data row16 col0\" >USI</td>\n",
       "      <td id=\"T_9a21b_row16_col1\" class=\"data row16 col1\" >d9b8</td>\n",
       "    </tr>\n",
       "  </tbody>\n",
       "</table>\n"
      ],
      "text/plain": [
       "<pandas.io.formats.style.Styler at 0x2b123d0e1a0>"
      ]
     },
     "metadata": {},
     "output_type": "display_data"
    },
    {
     "data": {
      "text/html": [],
      "text/plain": [
       "<IPython.core.display.HTML object>"
      ]
     },
     "metadata": {},
     "output_type": "display_data"
    },
    {
     "data": {
      "text/html": [
       "<style type=\"text/css\">\n",
       "</style>\n",
       "<table id=\"T_45b96\">\n",
       "  <thead>\n",
       "    <tr>\n",
       "      <th class=\"blank level0\" >&nbsp;</th>\n",
       "      <th id=\"T_45b96_level0_col0\" class=\"col_heading level0 col0\" >Silhouette</th>\n",
       "      <th id=\"T_45b96_level0_col1\" class=\"col_heading level0 col1\" >Calinski-Harabasz</th>\n",
       "      <th id=\"T_45b96_level0_col2\" class=\"col_heading level0 col2\" >Davies-Bouldin</th>\n",
       "      <th id=\"T_45b96_level0_col3\" class=\"col_heading level0 col3\" >Homogeneity</th>\n",
       "      <th id=\"T_45b96_level0_col4\" class=\"col_heading level0 col4\" >Rand Index</th>\n",
       "      <th id=\"T_45b96_level0_col5\" class=\"col_heading level0 col5\" >Completeness</th>\n",
       "    </tr>\n",
       "  </thead>\n",
       "  <tbody>\n",
       "    <tr>\n",
       "      <th id=\"T_45b96_level0_row0\" class=\"row_heading level0 row0\" >0</th>\n",
       "      <td id=\"T_45b96_row0_col0\" class=\"data row0 col0\" >0.3690</td>\n",
       "      <td id=\"T_45b96_row0_col1\" class=\"data row0 col1\" >163.1024</td>\n",
       "      <td id=\"T_45b96_row0_col2\" class=\"data row0 col2\" >0.8380</td>\n",
       "      <td id=\"T_45b96_row0_col3\" class=\"data row0 col3\" >0</td>\n",
       "      <td id=\"T_45b96_row0_col4\" class=\"data row0 col4\" >0</td>\n",
       "      <td id=\"T_45b96_row0_col5\" class=\"data row0 col5\" >0</td>\n",
       "    </tr>\n",
       "  </tbody>\n",
       "</table>\n"
      ],
      "text/plain": [
       "<pandas.io.formats.style.Styler at 0x2b123cae5c0>"
      ]
     },
     "metadata": {},
     "output_type": "display_data"
    },
    {
     "data": {
      "text/html": [],
      "text/plain": [
       "<IPython.core.display.HTML object>"
      ]
     },
     "metadata": {},
     "output_type": "display_data"
    },
    {
     "name": "stdout",
     "output_type": "stream",
     "text": [
      "For birch with 5 clusters with Transformation and Normalization\n"
     ]
    },
    {
     "data": {
      "application/vnd.jupyter.widget-view+json": {
       "model_id": "2eebc737f6fd4ad9bbeb12ae3002a876",
       "version_major": 2,
       "version_minor": 0
      },
      "text/plain": [
       "interactive(children=(ToggleButtons(description='Plot Type:', icons=('',), options=(('Pipeline Plot', 'pipelin…"
      ]
     },
     "metadata": {},
     "output_type": "display_data"
    }
   ],
   "source": [
    "for model in models:\n",
    "    for cluster in clusters:\n",
    "        setup1 = setup(data, normalize=True, pca=False, preprocess=True, session_id=2,transformation=custom_preprocess)\n",
    "        if model == 'kmeans':\n",
    "            mod1 = create_model('kmeans', num_clusters=cluster)\n",
    "        elif model == 'hierarchical':\n",
    "            mod1 = create_model('hclust', num_clusters=cluster)\n",
    "        elif model == 'birch':\n",
    "            mod1 = create_model('birch', num_clusters=cluster)\n",
    "        print(f\"For {model} with {cluster} clusters with Transformation and Normalization\")\n",
    "        evaluate_model(mod1)"
   ]
  },
  {
   "cell_type": "markdown",
   "metadata": {},
   "source": [
    "USING TRANSFORMATION ,NORMALISATION AND PCA"
   ]
  },
  {
   "cell_type": "code",
   "execution_count": 8,
   "metadata": {},
   "outputs": [
    {
     "data": {
      "text/html": [
       "<style type=\"text/css\">\n",
       "#T_fddb7_row4_col1, #T_fddb7_row10_col1, #T_fddb7_row12_col1 {\n",
       "  background-color: lightgreen;\n",
       "}\n",
       "</style>\n",
       "<table id=\"T_fddb7\">\n",
       "  <thead>\n",
       "    <tr>\n",
       "      <th class=\"blank level0\" >&nbsp;</th>\n",
       "      <th id=\"T_fddb7_level0_col0\" class=\"col_heading level0 col0\" >Description</th>\n",
       "      <th id=\"T_fddb7_level0_col1\" class=\"col_heading level0 col1\" >Value</th>\n",
       "    </tr>\n",
       "  </thead>\n",
       "  <tbody>\n",
       "    <tr>\n",
       "      <th id=\"T_fddb7_level0_row0\" class=\"row_heading level0 row0\" >0</th>\n",
       "      <td id=\"T_fddb7_row0_col0\" class=\"data row0 col0\" >Session id</td>\n",
       "      <td id=\"T_fddb7_row0_col1\" class=\"data row0 col1\" >2</td>\n",
       "    </tr>\n",
       "    <tr>\n",
       "      <th id=\"T_fddb7_level0_row1\" class=\"row_heading level0 row1\" >1</th>\n",
       "      <td id=\"T_fddb7_row1_col0\" class=\"data row1 col0\" >Original data shape</td>\n",
       "      <td id=\"T_fddb7_row1_col1\" class=\"data row1 col1\" >(150, 4)</td>\n",
       "    </tr>\n",
       "    <tr>\n",
       "      <th id=\"T_fddb7_level0_row2\" class=\"row_heading level0 row2\" >2</th>\n",
       "      <td id=\"T_fddb7_row2_col0\" class=\"data row2 col0\" >Transformed data shape</td>\n",
       "      <td id=\"T_fddb7_row2_col1\" class=\"data row2 col1\" >(150, 4)</td>\n",
       "    </tr>\n",
       "    <tr>\n",
       "      <th id=\"T_fddb7_level0_row3\" class=\"row_heading level0 row3\" >3</th>\n",
       "      <td id=\"T_fddb7_row3_col0\" class=\"data row3 col0\" >Numeric features</td>\n",
       "      <td id=\"T_fddb7_row3_col1\" class=\"data row3 col1\" >4</td>\n",
       "    </tr>\n",
       "    <tr>\n",
       "      <th id=\"T_fddb7_level0_row4\" class=\"row_heading level0 row4\" >4</th>\n",
       "      <td id=\"T_fddb7_row4_col0\" class=\"data row4 col0\" >Preprocess</td>\n",
       "      <td id=\"T_fddb7_row4_col1\" class=\"data row4 col1\" >True</td>\n",
       "    </tr>\n",
       "    <tr>\n",
       "      <th id=\"T_fddb7_level0_row5\" class=\"row_heading level0 row5\" >5</th>\n",
       "      <td id=\"T_fddb7_row5_col0\" class=\"data row5 col0\" >Imputation type</td>\n",
       "      <td id=\"T_fddb7_row5_col1\" class=\"data row5 col1\" >simple</td>\n",
       "    </tr>\n",
       "    <tr>\n",
       "      <th id=\"T_fddb7_level0_row6\" class=\"row_heading level0 row6\" >6</th>\n",
       "      <td id=\"T_fddb7_row6_col0\" class=\"data row6 col0\" >Numeric imputation</td>\n",
       "      <td id=\"T_fddb7_row6_col1\" class=\"data row6 col1\" >mean</td>\n",
       "    </tr>\n",
       "    <tr>\n",
       "      <th id=\"T_fddb7_level0_row7\" class=\"row_heading level0 row7\" >7</th>\n",
       "      <td id=\"T_fddb7_row7_col0\" class=\"data row7 col0\" >Categorical imputation</td>\n",
       "      <td id=\"T_fddb7_row7_col1\" class=\"data row7 col1\" >mode</td>\n",
       "    </tr>\n",
       "    <tr>\n",
       "      <th id=\"T_fddb7_level0_row8\" class=\"row_heading level0 row8\" >8</th>\n",
       "      <td id=\"T_fddb7_row8_col0\" class=\"data row8 col0\" >Transformation</td>\n",
       "      <td id=\"T_fddb7_row8_col1\" class=\"data row8 col1\" ><function custom_preprocess at 0x000002B123A65990></td>\n",
       "    </tr>\n",
       "    <tr>\n",
       "      <th id=\"T_fddb7_level0_row9\" class=\"row_heading level0 row9\" >9</th>\n",
       "      <td id=\"T_fddb7_row9_col0\" class=\"data row9 col0\" >Transformation method</td>\n",
       "      <td id=\"T_fddb7_row9_col1\" class=\"data row9 col1\" >yeo-johnson</td>\n",
       "    </tr>\n",
       "    <tr>\n",
       "      <th id=\"T_fddb7_level0_row10\" class=\"row_heading level0 row10\" >10</th>\n",
       "      <td id=\"T_fddb7_row10_col0\" class=\"data row10 col0\" >Normalize</td>\n",
       "      <td id=\"T_fddb7_row10_col1\" class=\"data row10 col1\" >True</td>\n",
       "    </tr>\n",
       "    <tr>\n",
       "      <th id=\"T_fddb7_level0_row11\" class=\"row_heading level0 row11\" >11</th>\n",
       "      <td id=\"T_fddb7_row11_col0\" class=\"data row11 col0\" >Normalize method</td>\n",
       "      <td id=\"T_fddb7_row11_col1\" class=\"data row11 col1\" >zscore</td>\n",
       "    </tr>\n",
       "    <tr>\n",
       "      <th id=\"T_fddb7_level0_row12\" class=\"row_heading level0 row12\" >12</th>\n",
       "      <td id=\"T_fddb7_row12_col0\" class=\"data row12 col0\" >PCA</td>\n",
       "      <td id=\"T_fddb7_row12_col1\" class=\"data row12 col1\" >True</td>\n",
       "    </tr>\n",
       "    <tr>\n",
       "      <th id=\"T_fddb7_level0_row13\" class=\"row_heading level0 row13\" >13</th>\n",
       "      <td id=\"T_fddb7_row13_col0\" class=\"data row13 col0\" >PCA method</td>\n",
       "      <td id=\"T_fddb7_row13_col1\" class=\"data row13 col1\" >linear</td>\n",
       "    </tr>\n",
       "    <tr>\n",
       "      <th id=\"T_fddb7_level0_row14\" class=\"row_heading level0 row14\" >14</th>\n",
       "      <td id=\"T_fddb7_row14_col0\" class=\"data row14 col0\" >PCA components</td>\n",
       "      <td id=\"T_fddb7_row14_col1\" class=\"data row14 col1\" >None</td>\n",
       "    </tr>\n",
       "    <tr>\n",
       "      <th id=\"T_fddb7_level0_row15\" class=\"row_heading level0 row15\" >15</th>\n",
       "      <td id=\"T_fddb7_row15_col0\" class=\"data row15 col0\" >CPU Jobs</td>\n",
       "      <td id=\"T_fddb7_row15_col1\" class=\"data row15 col1\" >-1</td>\n",
       "    </tr>\n",
       "    <tr>\n",
       "      <th id=\"T_fddb7_level0_row16\" class=\"row_heading level0 row16\" >16</th>\n",
       "      <td id=\"T_fddb7_row16_col0\" class=\"data row16 col0\" >Use GPU</td>\n",
       "      <td id=\"T_fddb7_row16_col1\" class=\"data row16 col1\" >False</td>\n",
       "    </tr>\n",
       "    <tr>\n",
       "      <th id=\"T_fddb7_level0_row17\" class=\"row_heading level0 row17\" >17</th>\n",
       "      <td id=\"T_fddb7_row17_col0\" class=\"data row17 col0\" >Log Experiment</td>\n",
       "      <td id=\"T_fddb7_row17_col1\" class=\"data row17 col1\" >False</td>\n",
       "    </tr>\n",
       "    <tr>\n",
       "      <th id=\"T_fddb7_level0_row18\" class=\"row_heading level0 row18\" >18</th>\n",
       "      <td id=\"T_fddb7_row18_col0\" class=\"data row18 col0\" >Experiment Name</td>\n",
       "      <td id=\"T_fddb7_row18_col1\" class=\"data row18 col1\" >cluster-default-name</td>\n",
       "    </tr>\n",
       "    <tr>\n",
       "      <th id=\"T_fddb7_level0_row19\" class=\"row_heading level0 row19\" >19</th>\n",
       "      <td id=\"T_fddb7_row19_col0\" class=\"data row19 col0\" >USI</td>\n",
       "      <td id=\"T_fddb7_row19_col1\" class=\"data row19 col1\" >b09a</td>\n",
       "    </tr>\n",
       "  </tbody>\n",
       "</table>\n"
      ],
      "text/plain": [
       "<pandas.io.formats.style.Styler at 0x2b123d9b3a0>"
      ]
     },
     "metadata": {},
     "output_type": "display_data"
    },
    {
     "data": {
      "text/html": [],
      "text/plain": [
       "<IPython.core.display.HTML object>"
      ]
     },
     "metadata": {},
     "output_type": "display_data"
    },
    {
     "data": {
      "text/html": [
       "<style type=\"text/css\">\n",
       "</style>\n",
       "<table id=\"T_ad488\">\n",
       "  <thead>\n",
       "    <tr>\n",
       "      <th class=\"blank level0\" >&nbsp;</th>\n",
       "      <th id=\"T_ad488_level0_col0\" class=\"col_heading level0 col0\" >Silhouette</th>\n",
       "      <th id=\"T_ad488_level0_col1\" class=\"col_heading level0 col1\" >Calinski-Harabasz</th>\n",
       "      <th id=\"T_ad488_level0_col2\" class=\"col_heading level0 col2\" >Davies-Bouldin</th>\n",
       "      <th id=\"T_ad488_level0_col3\" class=\"col_heading level0 col3\" >Homogeneity</th>\n",
       "      <th id=\"T_ad488_level0_col4\" class=\"col_heading level0 col4\" >Rand Index</th>\n",
       "      <th id=\"T_ad488_level0_col5\" class=\"col_heading level0 col5\" >Completeness</th>\n",
       "    </tr>\n",
       "  </thead>\n",
       "  <tbody>\n",
       "    <tr>\n",
       "      <th id=\"T_ad488_level0_row0\" class=\"row_heading level0 row0\" >0</th>\n",
       "      <td id=\"T_ad488_row0_col0\" class=\"data row0 col0\" >0.4575</td>\n",
       "      <td id=\"T_ad488_row0_col1\" class=\"data row0 col1\" >242.9960</td>\n",
       "      <td id=\"T_ad488_row0_col2\" class=\"data row0 col2\" >0.8385</td>\n",
       "      <td id=\"T_ad488_row0_col3\" class=\"data row0 col3\" >0</td>\n",
       "      <td id=\"T_ad488_row0_col4\" class=\"data row0 col4\" >0</td>\n",
       "      <td id=\"T_ad488_row0_col5\" class=\"data row0 col5\" >0</td>\n",
       "    </tr>\n",
       "  </tbody>\n",
       "</table>\n"
      ],
      "text/plain": [
       "<pandas.io.formats.style.Styler at 0x2b123d0dcc0>"
      ]
     },
     "metadata": {},
     "output_type": "display_data"
    },
    {
     "data": {
      "text/html": [],
      "text/plain": [
       "<IPython.core.display.HTML object>"
      ]
     },
     "metadata": {},
     "output_type": "display_data"
    },
    {
     "name": "stdout",
     "output_type": "stream",
     "text": [
      "For kmeans with 3 clusters with Transformation, PCA, and Normalization\n"
     ]
    },
    {
     "data": {
      "application/vnd.jupyter.widget-view+json": {
       "model_id": "4305b7b16c6e410baeb703cc83bdbaf1",
       "version_major": 2,
       "version_minor": 0
      },
      "text/plain": [
       "interactive(children=(ToggleButtons(description='Plot Type:', icons=('',), options=(('Pipeline Plot', 'pipelin…"
      ]
     },
     "metadata": {},
     "output_type": "display_data"
    },
    {
     "data": {
      "text/html": [
       "<style type=\"text/css\">\n",
       "#T_7af27_row4_col1, #T_7af27_row10_col1, #T_7af27_row12_col1 {\n",
       "  background-color: lightgreen;\n",
       "}\n",
       "</style>\n",
       "<table id=\"T_7af27\">\n",
       "  <thead>\n",
       "    <tr>\n",
       "      <th class=\"blank level0\" >&nbsp;</th>\n",
       "      <th id=\"T_7af27_level0_col0\" class=\"col_heading level0 col0\" >Description</th>\n",
       "      <th id=\"T_7af27_level0_col1\" class=\"col_heading level0 col1\" >Value</th>\n",
       "    </tr>\n",
       "  </thead>\n",
       "  <tbody>\n",
       "    <tr>\n",
       "      <th id=\"T_7af27_level0_row0\" class=\"row_heading level0 row0\" >0</th>\n",
       "      <td id=\"T_7af27_row0_col0\" class=\"data row0 col0\" >Session id</td>\n",
       "      <td id=\"T_7af27_row0_col1\" class=\"data row0 col1\" >2</td>\n",
       "    </tr>\n",
       "    <tr>\n",
       "      <th id=\"T_7af27_level0_row1\" class=\"row_heading level0 row1\" >1</th>\n",
       "      <td id=\"T_7af27_row1_col0\" class=\"data row1 col0\" >Original data shape</td>\n",
       "      <td id=\"T_7af27_row1_col1\" class=\"data row1 col1\" >(150, 4)</td>\n",
       "    </tr>\n",
       "    <tr>\n",
       "      <th id=\"T_7af27_level0_row2\" class=\"row_heading level0 row2\" >2</th>\n",
       "      <td id=\"T_7af27_row2_col0\" class=\"data row2 col0\" >Transformed data shape</td>\n",
       "      <td id=\"T_7af27_row2_col1\" class=\"data row2 col1\" >(150, 4)</td>\n",
       "    </tr>\n",
       "    <tr>\n",
       "      <th id=\"T_7af27_level0_row3\" class=\"row_heading level0 row3\" >3</th>\n",
       "      <td id=\"T_7af27_row3_col0\" class=\"data row3 col0\" >Numeric features</td>\n",
       "      <td id=\"T_7af27_row3_col1\" class=\"data row3 col1\" >4</td>\n",
       "    </tr>\n",
       "    <tr>\n",
       "      <th id=\"T_7af27_level0_row4\" class=\"row_heading level0 row4\" >4</th>\n",
       "      <td id=\"T_7af27_row4_col0\" class=\"data row4 col0\" >Preprocess</td>\n",
       "      <td id=\"T_7af27_row4_col1\" class=\"data row4 col1\" >True</td>\n",
       "    </tr>\n",
       "    <tr>\n",
       "      <th id=\"T_7af27_level0_row5\" class=\"row_heading level0 row5\" >5</th>\n",
       "      <td id=\"T_7af27_row5_col0\" class=\"data row5 col0\" >Imputation type</td>\n",
       "      <td id=\"T_7af27_row5_col1\" class=\"data row5 col1\" >simple</td>\n",
       "    </tr>\n",
       "    <tr>\n",
       "      <th id=\"T_7af27_level0_row6\" class=\"row_heading level0 row6\" >6</th>\n",
       "      <td id=\"T_7af27_row6_col0\" class=\"data row6 col0\" >Numeric imputation</td>\n",
       "      <td id=\"T_7af27_row6_col1\" class=\"data row6 col1\" >mean</td>\n",
       "    </tr>\n",
       "    <tr>\n",
       "      <th id=\"T_7af27_level0_row7\" class=\"row_heading level0 row7\" >7</th>\n",
       "      <td id=\"T_7af27_row7_col0\" class=\"data row7 col0\" >Categorical imputation</td>\n",
       "      <td id=\"T_7af27_row7_col1\" class=\"data row7 col1\" >mode</td>\n",
       "    </tr>\n",
       "    <tr>\n",
       "      <th id=\"T_7af27_level0_row8\" class=\"row_heading level0 row8\" >8</th>\n",
       "      <td id=\"T_7af27_row8_col0\" class=\"data row8 col0\" >Transformation</td>\n",
       "      <td id=\"T_7af27_row8_col1\" class=\"data row8 col1\" ><function custom_preprocess at 0x000002B123A65990></td>\n",
       "    </tr>\n",
       "    <tr>\n",
       "      <th id=\"T_7af27_level0_row9\" class=\"row_heading level0 row9\" >9</th>\n",
       "      <td id=\"T_7af27_row9_col0\" class=\"data row9 col0\" >Transformation method</td>\n",
       "      <td id=\"T_7af27_row9_col1\" class=\"data row9 col1\" >yeo-johnson</td>\n",
       "    </tr>\n",
       "    <tr>\n",
       "      <th id=\"T_7af27_level0_row10\" class=\"row_heading level0 row10\" >10</th>\n",
       "      <td id=\"T_7af27_row10_col0\" class=\"data row10 col0\" >Normalize</td>\n",
       "      <td id=\"T_7af27_row10_col1\" class=\"data row10 col1\" >True</td>\n",
       "    </tr>\n",
       "    <tr>\n",
       "      <th id=\"T_7af27_level0_row11\" class=\"row_heading level0 row11\" >11</th>\n",
       "      <td id=\"T_7af27_row11_col0\" class=\"data row11 col0\" >Normalize method</td>\n",
       "      <td id=\"T_7af27_row11_col1\" class=\"data row11 col1\" >zscore</td>\n",
       "    </tr>\n",
       "    <tr>\n",
       "      <th id=\"T_7af27_level0_row12\" class=\"row_heading level0 row12\" >12</th>\n",
       "      <td id=\"T_7af27_row12_col0\" class=\"data row12 col0\" >PCA</td>\n",
       "      <td id=\"T_7af27_row12_col1\" class=\"data row12 col1\" >True</td>\n",
       "    </tr>\n",
       "    <tr>\n",
       "      <th id=\"T_7af27_level0_row13\" class=\"row_heading level0 row13\" >13</th>\n",
       "      <td id=\"T_7af27_row13_col0\" class=\"data row13 col0\" >PCA method</td>\n",
       "      <td id=\"T_7af27_row13_col1\" class=\"data row13 col1\" >linear</td>\n",
       "    </tr>\n",
       "    <tr>\n",
       "      <th id=\"T_7af27_level0_row14\" class=\"row_heading level0 row14\" >14</th>\n",
       "      <td id=\"T_7af27_row14_col0\" class=\"data row14 col0\" >PCA components</td>\n",
       "      <td id=\"T_7af27_row14_col1\" class=\"data row14 col1\" >None</td>\n",
       "    </tr>\n",
       "    <tr>\n",
       "      <th id=\"T_7af27_level0_row15\" class=\"row_heading level0 row15\" >15</th>\n",
       "      <td id=\"T_7af27_row15_col0\" class=\"data row15 col0\" >CPU Jobs</td>\n",
       "      <td id=\"T_7af27_row15_col1\" class=\"data row15 col1\" >-1</td>\n",
       "    </tr>\n",
       "    <tr>\n",
       "      <th id=\"T_7af27_level0_row16\" class=\"row_heading level0 row16\" >16</th>\n",
       "      <td id=\"T_7af27_row16_col0\" class=\"data row16 col0\" >Use GPU</td>\n",
       "      <td id=\"T_7af27_row16_col1\" class=\"data row16 col1\" >False</td>\n",
       "    </tr>\n",
       "    <tr>\n",
       "      <th id=\"T_7af27_level0_row17\" class=\"row_heading level0 row17\" >17</th>\n",
       "      <td id=\"T_7af27_row17_col0\" class=\"data row17 col0\" >Log Experiment</td>\n",
       "      <td id=\"T_7af27_row17_col1\" class=\"data row17 col1\" >False</td>\n",
       "    </tr>\n",
       "    <tr>\n",
       "      <th id=\"T_7af27_level0_row18\" class=\"row_heading level0 row18\" >18</th>\n",
       "      <td id=\"T_7af27_row18_col0\" class=\"data row18 col0\" >Experiment Name</td>\n",
       "      <td id=\"T_7af27_row18_col1\" class=\"data row18 col1\" >cluster-default-name</td>\n",
       "    </tr>\n",
       "    <tr>\n",
       "      <th id=\"T_7af27_level0_row19\" class=\"row_heading level0 row19\" >19</th>\n",
       "      <td id=\"T_7af27_row19_col0\" class=\"data row19 col0\" >USI</td>\n",
       "      <td id=\"T_7af27_row19_col1\" class=\"data row19 col1\" >6e31</td>\n",
       "    </tr>\n",
       "  </tbody>\n",
       "</table>\n"
      ],
      "text/plain": [
       "<pandas.io.formats.style.Styler at 0x2b123dc5720>"
      ]
     },
     "metadata": {},
     "output_type": "display_data"
    },
    {
     "data": {
      "text/html": [],
      "text/plain": [
       "<IPython.core.display.HTML object>"
      ]
     },
     "metadata": {},
     "output_type": "display_data"
    },
    {
     "data": {
      "text/html": [
       "<style type=\"text/css\">\n",
       "</style>\n",
       "<table id=\"T_53411\">\n",
       "  <thead>\n",
       "    <tr>\n",
       "      <th class=\"blank level0\" >&nbsp;</th>\n",
       "      <th id=\"T_53411_level0_col0\" class=\"col_heading level0 col0\" >Silhouette</th>\n",
       "      <th id=\"T_53411_level0_col1\" class=\"col_heading level0 col1\" >Calinski-Harabasz</th>\n",
       "      <th id=\"T_53411_level0_col2\" class=\"col_heading level0 col2\" >Davies-Bouldin</th>\n",
       "      <th id=\"T_53411_level0_col3\" class=\"col_heading level0 col3\" >Homogeneity</th>\n",
       "      <th id=\"T_53411_level0_col4\" class=\"col_heading level0 col4\" >Rand Index</th>\n",
       "      <th id=\"T_53411_level0_col5\" class=\"col_heading level0 col5\" >Completeness</th>\n",
       "    </tr>\n",
       "  </thead>\n",
       "  <tbody>\n",
       "    <tr>\n",
       "      <th id=\"T_53411_level0_row0\" class=\"row_heading level0 row0\" >0</th>\n",
       "      <td id=\"T_53411_row0_col0\" class=\"data row0 col0\" >0.4185</td>\n",
       "      <td id=\"T_53411_row0_col1\" class=\"data row0 col1\" >210.2697</td>\n",
       "      <td id=\"T_53411_row0_col2\" class=\"data row0 col2\" >0.9307</td>\n",
       "      <td id=\"T_53411_row0_col3\" class=\"data row0 col3\" >0</td>\n",
       "      <td id=\"T_53411_row0_col4\" class=\"data row0 col4\" >0</td>\n",
       "      <td id=\"T_53411_row0_col5\" class=\"data row0 col5\" >0</td>\n",
       "    </tr>\n",
       "  </tbody>\n",
       "</table>\n"
      ],
      "text/plain": [
       "<pandas.io.formats.style.Styler at 0x2b123dc7fd0>"
      ]
     },
     "metadata": {},
     "output_type": "display_data"
    },
    {
     "data": {
      "text/html": [],
      "text/plain": [
       "<IPython.core.display.HTML object>"
      ]
     },
     "metadata": {},
     "output_type": "display_data"
    },
    {
     "name": "stdout",
     "output_type": "stream",
     "text": [
      "For kmeans with 4 clusters with Transformation, PCA, and Normalization\n"
     ]
    },
    {
     "data": {
      "application/vnd.jupyter.widget-view+json": {
       "model_id": "1e24bbbeb5d543389aa63b98c869be97",
       "version_major": 2,
       "version_minor": 0
      },
      "text/plain": [
       "interactive(children=(ToggleButtons(description='Plot Type:', icons=('',), options=(('Pipeline Plot', 'pipelin…"
      ]
     },
     "metadata": {},
     "output_type": "display_data"
    },
    {
     "data": {
      "text/html": [
       "<style type=\"text/css\">\n",
       "#T_eb7f5_row4_col1, #T_eb7f5_row10_col1, #T_eb7f5_row12_col1 {\n",
       "  background-color: lightgreen;\n",
       "}\n",
       "</style>\n",
       "<table id=\"T_eb7f5\">\n",
       "  <thead>\n",
       "    <tr>\n",
       "      <th class=\"blank level0\" >&nbsp;</th>\n",
       "      <th id=\"T_eb7f5_level0_col0\" class=\"col_heading level0 col0\" >Description</th>\n",
       "      <th id=\"T_eb7f5_level0_col1\" class=\"col_heading level0 col1\" >Value</th>\n",
       "    </tr>\n",
       "  </thead>\n",
       "  <tbody>\n",
       "    <tr>\n",
       "      <th id=\"T_eb7f5_level0_row0\" class=\"row_heading level0 row0\" >0</th>\n",
       "      <td id=\"T_eb7f5_row0_col0\" class=\"data row0 col0\" >Session id</td>\n",
       "      <td id=\"T_eb7f5_row0_col1\" class=\"data row0 col1\" >2</td>\n",
       "    </tr>\n",
       "    <tr>\n",
       "      <th id=\"T_eb7f5_level0_row1\" class=\"row_heading level0 row1\" >1</th>\n",
       "      <td id=\"T_eb7f5_row1_col0\" class=\"data row1 col0\" >Original data shape</td>\n",
       "      <td id=\"T_eb7f5_row1_col1\" class=\"data row1 col1\" >(150, 4)</td>\n",
       "    </tr>\n",
       "    <tr>\n",
       "      <th id=\"T_eb7f5_level0_row2\" class=\"row_heading level0 row2\" >2</th>\n",
       "      <td id=\"T_eb7f5_row2_col0\" class=\"data row2 col0\" >Transformed data shape</td>\n",
       "      <td id=\"T_eb7f5_row2_col1\" class=\"data row2 col1\" >(150, 4)</td>\n",
       "    </tr>\n",
       "    <tr>\n",
       "      <th id=\"T_eb7f5_level0_row3\" class=\"row_heading level0 row3\" >3</th>\n",
       "      <td id=\"T_eb7f5_row3_col0\" class=\"data row3 col0\" >Numeric features</td>\n",
       "      <td id=\"T_eb7f5_row3_col1\" class=\"data row3 col1\" >4</td>\n",
       "    </tr>\n",
       "    <tr>\n",
       "      <th id=\"T_eb7f5_level0_row4\" class=\"row_heading level0 row4\" >4</th>\n",
       "      <td id=\"T_eb7f5_row4_col0\" class=\"data row4 col0\" >Preprocess</td>\n",
       "      <td id=\"T_eb7f5_row4_col1\" class=\"data row4 col1\" >True</td>\n",
       "    </tr>\n",
       "    <tr>\n",
       "      <th id=\"T_eb7f5_level0_row5\" class=\"row_heading level0 row5\" >5</th>\n",
       "      <td id=\"T_eb7f5_row5_col0\" class=\"data row5 col0\" >Imputation type</td>\n",
       "      <td id=\"T_eb7f5_row5_col1\" class=\"data row5 col1\" >simple</td>\n",
       "    </tr>\n",
       "    <tr>\n",
       "      <th id=\"T_eb7f5_level0_row6\" class=\"row_heading level0 row6\" >6</th>\n",
       "      <td id=\"T_eb7f5_row6_col0\" class=\"data row6 col0\" >Numeric imputation</td>\n",
       "      <td id=\"T_eb7f5_row6_col1\" class=\"data row6 col1\" >mean</td>\n",
       "    </tr>\n",
       "    <tr>\n",
       "      <th id=\"T_eb7f5_level0_row7\" class=\"row_heading level0 row7\" >7</th>\n",
       "      <td id=\"T_eb7f5_row7_col0\" class=\"data row7 col0\" >Categorical imputation</td>\n",
       "      <td id=\"T_eb7f5_row7_col1\" class=\"data row7 col1\" >mode</td>\n",
       "    </tr>\n",
       "    <tr>\n",
       "      <th id=\"T_eb7f5_level0_row8\" class=\"row_heading level0 row8\" >8</th>\n",
       "      <td id=\"T_eb7f5_row8_col0\" class=\"data row8 col0\" >Transformation</td>\n",
       "      <td id=\"T_eb7f5_row8_col1\" class=\"data row8 col1\" ><function custom_preprocess at 0x000002B123A65990></td>\n",
       "    </tr>\n",
       "    <tr>\n",
       "      <th id=\"T_eb7f5_level0_row9\" class=\"row_heading level0 row9\" >9</th>\n",
       "      <td id=\"T_eb7f5_row9_col0\" class=\"data row9 col0\" >Transformation method</td>\n",
       "      <td id=\"T_eb7f5_row9_col1\" class=\"data row9 col1\" >yeo-johnson</td>\n",
       "    </tr>\n",
       "    <tr>\n",
       "      <th id=\"T_eb7f5_level0_row10\" class=\"row_heading level0 row10\" >10</th>\n",
       "      <td id=\"T_eb7f5_row10_col0\" class=\"data row10 col0\" >Normalize</td>\n",
       "      <td id=\"T_eb7f5_row10_col1\" class=\"data row10 col1\" >True</td>\n",
       "    </tr>\n",
       "    <tr>\n",
       "      <th id=\"T_eb7f5_level0_row11\" class=\"row_heading level0 row11\" >11</th>\n",
       "      <td id=\"T_eb7f5_row11_col0\" class=\"data row11 col0\" >Normalize method</td>\n",
       "      <td id=\"T_eb7f5_row11_col1\" class=\"data row11 col1\" >zscore</td>\n",
       "    </tr>\n",
       "    <tr>\n",
       "      <th id=\"T_eb7f5_level0_row12\" class=\"row_heading level0 row12\" >12</th>\n",
       "      <td id=\"T_eb7f5_row12_col0\" class=\"data row12 col0\" >PCA</td>\n",
       "      <td id=\"T_eb7f5_row12_col1\" class=\"data row12 col1\" >True</td>\n",
       "    </tr>\n",
       "    <tr>\n",
       "      <th id=\"T_eb7f5_level0_row13\" class=\"row_heading level0 row13\" >13</th>\n",
       "      <td id=\"T_eb7f5_row13_col0\" class=\"data row13 col0\" >PCA method</td>\n",
       "      <td id=\"T_eb7f5_row13_col1\" class=\"data row13 col1\" >linear</td>\n",
       "    </tr>\n",
       "    <tr>\n",
       "      <th id=\"T_eb7f5_level0_row14\" class=\"row_heading level0 row14\" >14</th>\n",
       "      <td id=\"T_eb7f5_row14_col0\" class=\"data row14 col0\" >PCA components</td>\n",
       "      <td id=\"T_eb7f5_row14_col1\" class=\"data row14 col1\" >None</td>\n",
       "    </tr>\n",
       "    <tr>\n",
       "      <th id=\"T_eb7f5_level0_row15\" class=\"row_heading level0 row15\" >15</th>\n",
       "      <td id=\"T_eb7f5_row15_col0\" class=\"data row15 col0\" >CPU Jobs</td>\n",
       "      <td id=\"T_eb7f5_row15_col1\" class=\"data row15 col1\" >-1</td>\n",
       "    </tr>\n",
       "    <tr>\n",
       "      <th id=\"T_eb7f5_level0_row16\" class=\"row_heading level0 row16\" >16</th>\n",
       "      <td id=\"T_eb7f5_row16_col0\" class=\"data row16 col0\" >Use GPU</td>\n",
       "      <td id=\"T_eb7f5_row16_col1\" class=\"data row16 col1\" >False</td>\n",
       "    </tr>\n",
       "    <tr>\n",
       "      <th id=\"T_eb7f5_level0_row17\" class=\"row_heading level0 row17\" >17</th>\n",
       "      <td id=\"T_eb7f5_row17_col0\" class=\"data row17 col0\" >Log Experiment</td>\n",
       "      <td id=\"T_eb7f5_row17_col1\" class=\"data row17 col1\" >False</td>\n",
       "    </tr>\n",
       "    <tr>\n",
       "      <th id=\"T_eb7f5_level0_row18\" class=\"row_heading level0 row18\" >18</th>\n",
       "      <td id=\"T_eb7f5_row18_col0\" class=\"data row18 col0\" >Experiment Name</td>\n",
       "      <td id=\"T_eb7f5_row18_col1\" class=\"data row18 col1\" >cluster-default-name</td>\n",
       "    </tr>\n",
       "    <tr>\n",
       "      <th id=\"T_eb7f5_level0_row19\" class=\"row_heading level0 row19\" >19</th>\n",
       "      <td id=\"T_eb7f5_row19_col0\" class=\"data row19 col0\" >USI</td>\n",
       "      <td id=\"T_eb7f5_row19_col1\" class=\"data row19 col1\" >c9cb</td>\n",
       "    </tr>\n",
       "  </tbody>\n",
       "</table>\n"
      ],
      "text/plain": [
       "<pandas.io.formats.style.Styler at 0x2b123c78bb0>"
      ]
     },
     "metadata": {},
     "output_type": "display_data"
    },
    {
     "data": {
      "text/html": [],
      "text/plain": [
       "<IPython.core.display.HTML object>"
      ]
     },
     "metadata": {},
     "output_type": "display_data"
    },
    {
     "data": {
      "text/html": [
       "<style type=\"text/css\">\n",
       "</style>\n",
       "<table id=\"T_56d6f\">\n",
       "  <thead>\n",
       "    <tr>\n",
       "      <th class=\"blank level0\" >&nbsp;</th>\n",
       "      <th id=\"T_56d6f_level0_col0\" class=\"col_heading level0 col0\" >Silhouette</th>\n",
       "      <th id=\"T_56d6f_level0_col1\" class=\"col_heading level0 col1\" >Calinski-Harabasz</th>\n",
       "      <th id=\"T_56d6f_level0_col2\" class=\"col_heading level0 col2\" >Davies-Bouldin</th>\n",
       "      <th id=\"T_56d6f_level0_col3\" class=\"col_heading level0 col3\" >Homogeneity</th>\n",
       "      <th id=\"T_56d6f_level0_col4\" class=\"col_heading level0 col4\" >Rand Index</th>\n",
       "      <th id=\"T_56d6f_level0_col5\" class=\"col_heading level0 col5\" >Completeness</th>\n",
       "    </tr>\n",
       "  </thead>\n",
       "  <tbody>\n",
       "    <tr>\n",
       "      <th id=\"T_56d6f_level0_row0\" class=\"row_heading level0 row0\" >0</th>\n",
       "      <td id=\"T_56d6f_row0_col0\" class=\"data row0 col0\" >0.3542</td>\n",
       "      <td id=\"T_56d6f_row0_col1\" class=\"data row0 col1\" >208.0275</td>\n",
       "      <td id=\"T_56d6f_row0_col2\" class=\"data row0 col2\" >0.9483</td>\n",
       "      <td id=\"T_56d6f_row0_col3\" class=\"data row0 col3\" >0</td>\n",
       "      <td id=\"T_56d6f_row0_col4\" class=\"data row0 col4\" >0</td>\n",
       "      <td id=\"T_56d6f_row0_col5\" class=\"data row0 col5\" >0</td>\n",
       "    </tr>\n",
       "  </tbody>\n",
       "</table>\n"
      ],
      "text/plain": [
       "<pandas.io.formats.style.Styler at 0x2b123d0cdf0>"
      ]
     },
     "metadata": {},
     "output_type": "display_data"
    },
    {
     "data": {
      "text/html": [],
      "text/plain": [
       "<IPython.core.display.HTML object>"
      ]
     },
     "metadata": {},
     "output_type": "display_data"
    },
    {
     "name": "stdout",
     "output_type": "stream",
     "text": [
      "For kmeans with 5 clusters with Transformation, PCA, and Normalization\n"
     ]
    },
    {
     "data": {
      "application/vnd.jupyter.widget-view+json": {
       "model_id": "07f010937e0546a796fb4872b6f4a070",
       "version_major": 2,
       "version_minor": 0
      },
      "text/plain": [
       "interactive(children=(ToggleButtons(description='Plot Type:', icons=('',), options=(('Pipeline Plot', 'pipelin…"
      ]
     },
     "metadata": {},
     "output_type": "display_data"
    },
    {
     "data": {
      "text/html": [
       "<style type=\"text/css\">\n",
       "#T_113b4_row4_col1, #T_113b4_row10_col1, #T_113b4_row12_col1 {\n",
       "  background-color: lightgreen;\n",
       "}\n",
       "</style>\n",
       "<table id=\"T_113b4\">\n",
       "  <thead>\n",
       "    <tr>\n",
       "      <th class=\"blank level0\" >&nbsp;</th>\n",
       "      <th id=\"T_113b4_level0_col0\" class=\"col_heading level0 col0\" >Description</th>\n",
       "      <th id=\"T_113b4_level0_col1\" class=\"col_heading level0 col1\" >Value</th>\n",
       "    </tr>\n",
       "  </thead>\n",
       "  <tbody>\n",
       "    <tr>\n",
       "      <th id=\"T_113b4_level0_row0\" class=\"row_heading level0 row0\" >0</th>\n",
       "      <td id=\"T_113b4_row0_col0\" class=\"data row0 col0\" >Session id</td>\n",
       "      <td id=\"T_113b4_row0_col1\" class=\"data row0 col1\" >2</td>\n",
       "    </tr>\n",
       "    <tr>\n",
       "      <th id=\"T_113b4_level0_row1\" class=\"row_heading level0 row1\" >1</th>\n",
       "      <td id=\"T_113b4_row1_col0\" class=\"data row1 col0\" >Original data shape</td>\n",
       "      <td id=\"T_113b4_row1_col1\" class=\"data row1 col1\" >(150, 4)</td>\n",
       "    </tr>\n",
       "    <tr>\n",
       "      <th id=\"T_113b4_level0_row2\" class=\"row_heading level0 row2\" >2</th>\n",
       "      <td id=\"T_113b4_row2_col0\" class=\"data row2 col0\" >Transformed data shape</td>\n",
       "      <td id=\"T_113b4_row2_col1\" class=\"data row2 col1\" >(150, 4)</td>\n",
       "    </tr>\n",
       "    <tr>\n",
       "      <th id=\"T_113b4_level0_row3\" class=\"row_heading level0 row3\" >3</th>\n",
       "      <td id=\"T_113b4_row3_col0\" class=\"data row3 col0\" >Numeric features</td>\n",
       "      <td id=\"T_113b4_row3_col1\" class=\"data row3 col1\" >4</td>\n",
       "    </tr>\n",
       "    <tr>\n",
       "      <th id=\"T_113b4_level0_row4\" class=\"row_heading level0 row4\" >4</th>\n",
       "      <td id=\"T_113b4_row4_col0\" class=\"data row4 col0\" >Preprocess</td>\n",
       "      <td id=\"T_113b4_row4_col1\" class=\"data row4 col1\" >True</td>\n",
       "    </tr>\n",
       "    <tr>\n",
       "      <th id=\"T_113b4_level0_row5\" class=\"row_heading level0 row5\" >5</th>\n",
       "      <td id=\"T_113b4_row5_col0\" class=\"data row5 col0\" >Imputation type</td>\n",
       "      <td id=\"T_113b4_row5_col1\" class=\"data row5 col1\" >simple</td>\n",
       "    </tr>\n",
       "    <tr>\n",
       "      <th id=\"T_113b4_level0_row6\" class=\"row_heading level0 row6\" >6</th>\n",
       "      <td id=\"T_113b4_row6_col0\" class=\"data row6 col0\" >Numeric imputation</td>\n",
       "      <td id=\"T_113b4_row6_col1\" class=\"data row6 col1\" >mean</td>\n",
       "    </tr>\n",
       "    <tr>\n",
       "      <th id=\"T_113b4_level0_row7\" class=\"row_heading level0 row7\" >7</th>\n",
       "      <td id=\"T_113b4_row7_col0\" class=\"data row7 col0\" >Categorical imputation</td>\n",
       "      <td id=\"T_113b4_row7_col1\" class=\"data row7 col1\" >mode</td>\n",
       "    </tr>\n",
       "    <tr>\n",
       "      <th id=\"T_113b4_level0_row8\" class=\"row_heading level0 row8\" >8</th>\n",
       "      <td id=\"T_113b4_row8_col0\" class=\"data row8 col0\" >Transformation</td>\n",
       "      <td id=\"T_113b4_row8_col1\" class=\"data row8 col1\" ><function custom_preprocess at 0x000002B123A65990></td>\n",
       "    </tr>\n",
       "    <tr>\n",
       "      <th id=\"T_113b4_level0_row9\" class=\"row_heading level0 row9\" >9</th>\n",
       "      <td id=\"T_113b4_row9_col0\" class=\"data row9 col0\" >Transformation method</td>\n",
       "      <td id=\"T_113b4_row9_col1\" class=\"data row9 col1\" >yeo-johnson</td>\n",
       "    </tr>\n",
       "    <tr>\n",
       "      <th id=\"T_113b4_level0_row10\" class=\"row_heading level0 row10\" >10</th>\n",
       "      <td id=\"T_113b4_row10_col0\" class=\"data row10 col0\" >Normalize</td>\n",
       "      <td id=\"T_113b4_row10_col1\" class=\"data row10 col1\" >True</td>\n",
       "    </tr>\n",
       "    <tr>\n",
       "      <th id=\"T_113b4_level0_row11\" class=\"row_heading level0 row11\" >11</th>\n",
       "      <td id=\"T_113b4_row11_col0\" class=\"data row11 col0\" >Normalize method</td>\n",
       "      <td id=\"T_113b4_row11_col1\" class=\"data row11 col1\" >zscore</td>\n",
       "    </tr>\n",
       "    <tr>\n",
       "      <th id=\"T_113b4_level0_row12\" class=\"row_heading level0 row12\" >12</th>\n",
       "      <td id=\"T_113b4_row12_col0\" class=\"data row12 col0\" >PCA</td>\n",
       "      <td id=\"T_113b4_row12_col1\" class=\"data row12 col1\" >True</td>\n",
       "    </tr>\n",
       "    <tr>\n",
       "      <th id=\"T_113b4_level0_row13\" class=\"row_heading level0 row13\" >13</th>\n",
       "      <td id=\"T_113b4_row13_col0\" class=\"data row13 col0\" >PCA method</td>\n",
       "      <td id=\"T_113b4_row13_col1\" class=\"data row13 col1\" >linear</td>\n",
       "    </tr>\n",
       "    <tr>\n",
       "      <th id=\"T_113b4_level0_row14\" class=\"row_heading level0 row14\" >14</th>\n",
       "      <td id=\"T_113b4_row14_col0\" class=\"data row14 col0\" >PCA components</td>\n",
       "      <td id=\"T_113b4_row14_col1\" class=\"data row14 col1\" >None</td>\n",
       "    </tr>\n",
       "    <tr>\n",
       "      <th id=\"T_113b4_level0_row15\" class=\"row_heading level0 row15\" >15</th>\n",
       "      <td id=\"T_113b4_row15_col0\" class=\"data row15 col0\" >CPU Jobs</td>\n",
       "      <td id=\"T_113b4_row15_col1\" class=\"data row15 col1\" >-1</td>\n",
       "    </tr>\n",
       "    <tr>\n",
       "      <th id=\"T_113b4_level0_row16\" class=\"row_heading level0 row16\" >16</th>\n",
       "      <td id=\"T_113b4_row16_col0\" class=\"data row16 col0\" >Use GPU</td>\n",
       "      <td id=\"T_113b4_row16_col1\" class=\"data row16 col1\" >False</td>\n",
       "    </tr>\n",
       "    <tr>\n",
       "      <th id=\"T_113b4_level0_row17\" class=\"row_heading level0 row17\" >17</th>\n",
       "      <td id=\"T_113b4_row17_col0\" class=\"data row17 col0\" >Log Experiment</td>\n",
       "      <td id=\"T_113b4_row17_col1\" class=\"data row17 col1\" >False</td>\n",
       "    </tr>\n",
       "    <tr>\n",
       "      <th id=\"T_113b4_level0_row18\" class=\"row_heading level0 row18\" >18</th>\n",
       "      <td id=\"T_113b4_row18_col0\" class=\"data row18 col0\" >Experiment Name</td>\n",
       "      <td id=\"T_113b4_row18_col1\" class=\"data row18 col1\" >cluster-default-name</td>\n",
       "    </tr>\n",
       "    <tr>\n",
       "      <th id=\"T_113b4_level0_row19\" class=\"row_heading level0 row19\" >19</th>\n",
       "      <td id=\"T_113b4_row19_col0\" class=\"data row19 col0\" >USI</td>\n",
       "      <td id=\"T_113b4_row19_col1\" class=\"data row19 col1\" >589c</td>\n",
       "    </tr>\n",
       "  </tbody>\n",
       "</table>\n"
      ],
      "text/plain": [
       "<pandas.io.formats.style.Styler at 0x2b123df14b0>"
      ]
     },
     "metadata": {},
     "output_type": "display_data"
    },
    {
     "data": {
      "text/html": [],
      "text/plain": [
       "<IPython.core.display.HTML object>"
      ]
     },
     "metadata": {},
     "output_type": "display_data"
    },
    {
     "data": {
      "text/html": [
       "<style type=\"text/css\">\n",
       "</style>\n",
       "<table id=\"T_571d6\">\n",
       "  <thead>\n",
       "    <tr>\n",
       "      <th class=\"blank level0\" >&nbsp;</th>\n",
       "      <th id=\"T_571d6_level0_col0\" class=\"col_heading level0 col0\" >Silhouette</th>\n",
       "      <th id=\"T_571d6_level0_col1\" class=\"col_heading level0 col1\" >Calinski-Harabasz</th>\n",
       "      <th id=\"T_571d6_level0_col2\" class=\"col_heading level0 col2\" >Davies-Bouldin</th>\n",
       "      <th id=\"T_571d6_level0_col3\" class=\"col_heading level0 col3\" >Homogeneity</th>\n",
       "      <th id=\"T_571d6_level0_col4\" class=\"col_heading level0 col4\" >Rand Index</th>\n",
       "      <th id=\"T_571d6_level0_col5\" class=\"col_heading level0 col5\" >Completeness</th>\n",
       "    </tr>\n",
       "  </thead>\n",
       "  <tbody>\n",
       "    <tr>\n",
       "      <th id=\"T_571d6_level0_row0\" class=\"row_heading level0 row0\" >0</th>\n",
       "      <td id=\"T_571d6_row0_col0\" class=\"data row0 col0\" >0.4462</td>\n",
       "      <td id=\"T_571d6_row0_col1\" class=\"data row0 col1\" >223.4590</td>\n",
       "      <td id=\"T_571d6_row0_col2\" class=\"data row0 col2\" >0.8356</td>\n",
       "      <td id=\"T_571d6_row0_col3\" class=\"data row0 col3\" >0</td>\n",
       "      <td id=\"T_571d6_row0_col4\" class=\"data row0 col4\" >0</td>\n",
       "      <td id=\"T_571d6_row0_col5\" class=\"data row0 col5\" >0</td>\n",
       "    </tr>\n",
       "  </tbody>\n",
       "</table>\n"
      ],
      "text/plain": [
       "<pandas.io.formats.style.Styler at 0x2b123df3ca0>"
      ]
     },
     "metadata": {},
     "output_type": "display_data"
    },
    {
     "data": {
      "text/html": [],
      "text/plain": [
       "<IPython.core.display.HTML object>"
      ]
     },
     "metadata": {},
     "output_type": "display_data"
    },
    {
     "name": "stdout",
     "output_type": "stream",
     "text": [
      "For hierarchical with 3 clusters with Transformation, PCA, and Normalization\n"
     ]
    },
    {
     "data": {
      "application/vnd.jupyter.widget-view+json": {
       "model_id": "69a4f925a0384f559cb7747b12b690df",
       "version_major": 2,
       "version_minor": 0
      },
      "text/plain": [
       "interactive(children=(ToggleButtons(description='Plot Type:', icons=('',), options=(('Pipeline Plot', 'pipelin…"
      ]
     },
     "metadata": {},
     "output_type": "display_data"
    },
    {
     "data": {
      "text/html": [
       "<style type=\"text/css\">\n",
       "#T_ac6a0_row4_col1, #T_ac6a0_row10_col1, #T_ac6a0_row12_col1 {\n",
       "  background-color: lightgreen;\n",
       "}\n",
       "</style>\n",
       "<table id=\"T_ac6a0\">\n",
       "  <thead>\n",
       "    <tr>\n",
       "      <th class=\"blank level0\" >&nbsp;</th>\n",
       "      <th id=\"T_ac6a0_level0_col0\" class=\"col_heading level0 col0\" >Description</th>\n",
       "      <th id=\"T_ac6a0_level0_col1\" class=\"col_heading level0 col1\" >Value</th>\n",
       "    </tr>\n",
       "  </thead>\n",
       "  <tbody>\n",
       "    <tr>\n",
       "      <th id=\"T_ac6a0_level0_row0\" class=\"row_heading level0 row0\" >0</th>\n",
       "      <td id=\"T_ac6a0_row0_col0\" class=\"data row0 col0\" >Session id</td>\n",
       "      <td id=\"T_ac6a0_row0_col1\" class=\"data row0 col1\" >2</td>\n",
       "    </tr>\n",
       "    <tr>\n",
       "      <th id=\"T_ac6a0_level0_row1\" class=\"row_heading level0 row1\" >1</th>\n",
       "      <td id=\"T_ac6a0_row1_col0\" class=\"data row1 col0\" >Original data shape</td>\n",
       "      <td id=\"T_ac6a0_row1_col1\" class=\"data row1 col1\" >(150, 4)</td>\n",
       "    </tr>\n",
       "    <tr>\n",
       "      <th id=\"T_ac6a0_level0_row2\" class=\"row_heading level0 row2\" >2</th>\n",
       "      <td id=\"T_ac6a0_row2_col0\" class=\"data row2 col0\" >Transformed data shape</td>\n",
       "      <td id=\"T_ac6a0_row2_col1\" class=\"data row2 col1\" >(150, 4)</td>\n",
       "    </tr>\n",
       "    <tr>\n",
       "      <th id=\"T_ac6a0_level0_row3\" class=\"row_heading level0 row3\" >3</th>\n",
       "      <td id=\"T_ac6a0_row3_col0\" class=\"data row3 col0\" >Numeric features</td>\n",
       "      <td id=\"T_ac6a0_row3_col1\" class=\"data row3 col1\" >4</td>\n",
       "    </tr>\n",
       "    <tr>\n",
       "      <th id=\"T_ac6a0_level0_row4\" class=\"row_heading level0 row4\" >4</th>\n",
       "      <td id=\"T_ac6a0_row4_col0\" class=\"data row4 col0\" >Preprocess</td>\n",
       "      <td id=\"T_ac6a0_row4_col1\" class=\"data row4 col1\" >True</td>\n",
       "    </tr>\n",
       "    <tr>\n",
       "      <th id=\"T_ac6a0_level0_row5\" class=\"row_heading level0 row5\" >5</th>\n",
       "      <td id=\"T_ac6a0_row5_col0\" class=\"data row5 col0\" >Imputation type</td>\n",
       "      <td id=\"T_ac6a0_row5_col1\" class=\"data row5 col1\" >simple</td>\n",
       "    </tr>\n",
       "    <tr>\n",
       "      <th id=\"T_ac6a0_level0_row6\" class=\"row_heading level0 row6\" >6</th>\n",
       "      <td id=\"T_ac6a0_row6_col0\" class=\"data row6 col0\" >Numeric imputation</td>\n",
       "      <td id=\"T_ac6a0_row6_col1\" class=\"data row6 col1\" >mean</td>\n",
       "    </tr>\n",
       "    <tr>\n",
       "      <th id=\"T_ac6a0_level0_row7\" class=\"row_heading level0 row7\" >7</th>\n",
       "      <td id=\"T_ac6a0_row7_col0\" class=\"data row7 col0\" >Categorical imputation</td>\n",
       "      <td id=\"T_ac6a0_row7_col1\" class=\"data row7 col1\" >mode</td>\n",
       "    </tr>\n",
       "    <tr>\n",
       "      <th id=\"T_ac6a0_level0_row8\" class=\"row_heading level0 row8\" >8</th>\n",
       "      <td id=\"T_ac6a0_row8_col0\" class=\"data row8 col0\" >Transformation</td>\n",
       "      <td id=\"T_ac6a0_row8_col1\" class=\"data row8 col1\" ><function custom_preprocess at 0x000002B123A65990></td>\n",
       "    </tr>\n",
       "    <tr>\n",
       "      <th id=\"T_ac6a0_level0_row9\" class=\"row_heading level0 row9\" >9</th>\n",
       "      <td id=\"T_ac6a0_row9_col0\" class=\"data row9 col0\" >Transformation method</td>\n",
       "      <td id=\"T_ac6a0_row9_col1\" class=\"data row9 col1\" >yeo-johnson</td>\n",
       "    </tr>\n",
       "    <tr>\n",
       "      <th id=\"T_ac6a0_level0_row10\" class=\"row_heading level0 row10\" >10</th>\n",
       "      <td id=\"T_ac6a0_row10_col0\" class=\"data row10 col0\" >Normalize</td>\n",
       "      <td id=\"T_ac6a0_row10_col1\" class=\"data row10 col1\" >True</td>\n",
       "    </tr>\n",
       "    <tr>\n",
       "      <th id=\"T_ac6a0_level0_row11\" class=\"row_heading level0 row11\" >11</th>\n",
       "      <td id=\"T_ac6a0_row11_col0\" class=\"data row11 col0\" >Normalize method</td>\n",
       "      <td id=\"T_ac6a0_row11_col1\" class=\"data row11 col1\" >zscore</td>\n",
       "    </tr>\n",
       "    <tr>\n",
       "      <th id=\"T_ac6a0_level0_row12\" class=\"row_heading level0 row12\" >12</th>\n",
       "      <td id=\"T_ac6a0_row12_col0\" class=\"data row12 col0\" >PCA</td>\n",
       "      <td id=\"T_ac6a0_row12_col1\" class=\"data row12 col1\" >True</td>\n",
       "    </tr>\n",
       "    <tr>\n",
       "      <th id=\"T_ac6a0_level0_row13\" class=\"row_heading level0 row13\" >13</th>\n",
       "      <td id=\"T_ac6a0_row13_col0\" class=\"data row13 col0\" >PCA method</td>\n",
       "      <td id=\"T_ac6a0_row13_col1\" class=\"data row13 col1\" >linear</td>\n",
       "    </tr>\n",
       "    <tr>\n",
       "      <th id=\"T_ac6a0_level0_row14\" class=\"row_heading level0 row14\" >14</th>\n",
       "      <td id=\"T_ac6a0_row14_col0\" class=\"data row14 col0\" >PCA components</td>\n",
       "      <td id=\"T_ac6a0_row14_col1\" class=\"data row14 col1\" >None</td>\n",
       "    </tr>\n",
       "    <tr>\n",
       "      <th id=\"T_ac6a0_level0_row15\" class=\"row_heading level0 row15\" >15</th>\n",
       "      <td id=\"T_ac6a0_row15_col0\" class=\"data row15 col0\" >CPU Jobs</td>\n",
       "      <td id=\"T_ac6a0_row15_col1\" class=\"data row15 col1\" >-1</td>\n",
       "    </tr>\n",
       "    <tr>\n",
       "      <th id=\"T_ac6a0_level0_row16\" class=\"row_heading level0 row16\" >16</th>\n",
       "      <td id=\"T_ac6a0_row16_col0\" class=\"data row16 col0\" >Use GPU</td>\n",
       "      <td id=\"T_ac6a0_row16_col1\" class=\"data row16 col1\" >False</td>\n",
       "    </tr>\n",
       "    <tr>\n",
       "      <th id=\"T_ac6a0_level0_row17\" class=\"row_heading level0 row17\" >17</th>\n",
       "      <td id=\"T_ac6a0_row17_col0\" class=\"data row17 col0\" >Log Experiment</td>\n",
       "      <td id=\"T_ac6a0_row17_col1\" class=\"data row17 col1\" >False</td>\n",
       "    </tr>\n",
       "    <tr>\n",
       "      <th id=\"T_ac6a0_level0_row18\" class=\"row_heading level0 row18\" >18</th>\n",
       "      <td id=\"T_ac6a0_row18_col0\" class=\"data row18 col0\" >Experiment Name</td>\n",
       "      <td id=\"T_ac6a0_row18_col1\" class=\"data row18 col1\" >cluster-default-name</td>\n",
       "    </tr>\n",
       "    <tr>\n",
       "      <th id=\"T_ac6a0_level0_row19\" class=\"row_heading level0 row19\" >19</th>\n",
       "      <td id=\"T_ac6a0_row19_col0\" class=\"data row19 col0\" >USI</td>\n",
       "      <td id=\"T_ac6a0_row19_col1\" class=\"data row19 col1\" >bdc4</td>\n",
       "    </tr>\n",
       "  </tbody>\n",
       "</table>\n"
      ],
      "text/plain": [
       "<pandas.io.formats.style.Styler at 0x2b123d423b0>"
      ]
     },
     "metadata": {},
     "output_type": "display_data"
    },
    {
     "data": {
      "text/html": [],
      "text/plain": [
       "<IPython.core.display.HTML object>"
      ]
     },
     "metadata": {},
     "output_type": "display_data"
    },
    {
     "data": {
      "text/html": [
       "<style type=\"text/css\">\n",
       "</style>\n",
       "<table id=\"T_17ae4\">\n",
       "  <thead>\n",
       "    <tr>\n",
       "      <th class=\"blank level0\" >&nbsp;</th>\n",
       "      <th id=\"T_17ae4_level0_col0\" class=\"col_heading level0 col0\" >Silhouette</th>\n",
       "      <th id=\"T_17ae4_level0_col1\" class=\"col_heading level0 col1\" >Calinski-Harabasz</th>\n",
       "      <th id=\"T_17ae4_level0_col2\" class=\"col_heading level0 col2\" >Davies-Bouldin</th>\n",
       "      <th id=\"T_17ae4_level0_col3\" class=\"col_heading level0 col3\" >Homogeneity</th>\n",
       "      <th id=\"T_17ae4_level0_col4\" class=\"col_heading level0 col4\" >Rand Index</th>\n",
       "      <th id=\"T_17ae4_level0_col5\" class=\"col_heading level0 col5\" >Completeness</th>\n",
       "    </tr>\n",
       "  </thead>\n",
       "  <tbody>\n",
       "    <tr>\n",
       "      <th id=\"T_17ae4_level0_row0\" class=\"row_heading level0 row0\" >0</th>\n",
       "      <td id=\"T_17ae4_row0_col0\" class=\"data row0 col0\" >0.4251</td>\n",
       "      <td id=\"T_17ae4_row0_col1\" class=\"data row0 col1\" >200.0175</td>\n",
       "      <td id=\"T_17ae4_row0_col2\" class=\"data row0 col2\" >0.8637</td>\n",
       "      <td id=\"T_17ae4_row0_col3\" class=\"data row0 col3\" >0</td>\n",
       "      <td id=\"T_17ae4_row0_col4\" class=\"data row0 col4\" >0</td>\n",
       "      <td id=\"T_17ae4_row0_col5\" class=\"data row0 col5\" >0</td>\n",
       "    </tr>\n",
       "  </tbody>\n",
       "</table>\n"
      ],
      "text/plain": [
       "<pandas.io.formats.style.Styler at 0x2b123d9be80>"
      ]
     },
     "metadata": {},
     "output_type": "display_data"
    },
    {
     "data": {
      "text/html": [],
      "text/plain": [
       "<IPython.core.display.HTML object>"
      ]
     },
     "metadata": {},
     "output_type": "display_data"
    },
    {
     "name": "stdout",
     "output_type": "stream",
     "text": [
      "For hierarchical with 4 clusters with Transformation, PCA, and Normalization\n"
     ]
    },
    {
     "data": {
      "application/vnd.jupyter.widget-view+json": {
       "model_id": "a2c58f9cc2b74995955ba4a628285f57",
       "version_major": 2,
       "version_minor": 0
      },
      "text/plain": [
       "interactive(children=(ToggleButtons(description='Plot Type:', icons=('',), options=(('Pipeline Plot', 'pipelin…"
      ]
     },
     "metadata": {},
     "output_type": "display_data"
    },
    {
     "data": {
      "text/html": [
       "<style type=\"text/css\">\n",
       "#T_47868_row4_col1, #T_47868_row10_col1, #T_47868_row12_col1 {\n",
       "  background-color: lightgreen;\n",
       "}\n",
       "</style>\n",
       "<table id=\"T_47868\">\n",
       "  <thead>\n",
       "    <tr>\n",
       "      <th class=\"blank level0\" >&nbsp;</th>\n",
       "      <th id=\"T_47868_level0_col0\" class=\"col_heading level0 col0\" >Description</th>\n",
       "      <th id=\"T_47868_level0_col1\" class=\"col_heading level0 col1\" >Value</th>\n",
       "    </tr>\n",
       "  </thead>\n",
       "  <tbody>\n",
       "    <tr>\n",
       "      <th id=\"T_47868_level0_row0\" class=\"row_heading level0 row0\" >0</th>\n",
       "      <td id=\"T_47868_row0_col0\" class=\"data row0 col0\" >Session id</td>\n",
       "      <td id=\"T_47868_row0_col1\" class=\"data row0 col1\" >2</td>\n",
       "    </tr>\n",
       "    <tr>\n",
       "      <th id=\"T_47868_level0_row1\" class=\"row_heading level0 row1\" >1</th>\n",
       "      <td id=\"T_47868_row1_col0\" class=\"data row1 col0\" >Original data shape</td>\n",
       "      <td id=\"T_47868_row1_col1\" class=\"data row1 col1\" >(150, 4)</td>\n",
       "    </tr>\n",
       "    <tr>\n",
       "      <th id=\"T_47868_level0_row2\" class=\"row_heading level0 row2\" >2</th>\n",
       "      <td id=\"T_47868_row2_col0\" class=\"data row2 col0\" >Transformed data shape</td>\n",
       "      <td id=\"T_47868_row2_col1\" class=\"data row2 col1\" >(150, 4)</td>\n",
       "    </tr>\n",
       "    <tr>\n",
       "      <th id=\"T_47868_level0_row3\" class=\"row_heading level0 row3\" >3</th>\n",
       "      <td id=\"T_47868_row3_col0\" class=\"data row3 col0\" >Numeric features</td>\n",
       "      <td id=\"T_47868_row3_col1\" class=\"data row3 col1\" >4</td>\n",
       "    </tr>\n",
       "    <tr>\n",
       "      <th id=\"T_47868_level0_row4\" class=\"row_heading level0 row4\" >4</th>\n",
       "      <td id=\"T_47868_row4_col0\" class=\"data row4 col0\" >Preprocess</td>\n",
       "      <td id=\"T_47868_row4_col1\" class=\"data row4 col1\" >True</td>\n",
       "    </tr>\n",
       "    <tr>\n",
       "      <th id=\"T_47868_level0_row5\" class=\"row_heading level0 row5\" >5</th>\n",
       "      <td id=\"T_47868_row5_col0\" class=\"data row5 col0\" >Imputation type</td>\n",
       "      <td id=\"T_47868_row5_col1\" class=\"data row5 col1\" >simple</td>\n",
       "    </tr>\n",
       "    <tr>\n",
       "      <th id=\"T_47868_level0_row6\" class=\"row_heading level0 row6\" >6</th>\n",
       "      <td id=\"T_47868_row6_col0\" class=\"data row6 col0\" >Numeric imputation</td>\n",
       "      <td id=\"T_47868_row6_col1\" class=\"data row6 col1\" >mean</td>\n",
       "    </tr>\n",
       "    <tr>\n",
       "      <th id=\"T_47868_level0_row7\" class=\"row_heading level0 row7\" >7</th>\n",
       "      <td id=\"T_47868_row7_col0\" class=\"data row7 col0\" >Categorical imputation</td>\n",
       "      <td id=\"T_47868_row7_col1\" class=\"data row7 col1\" >mode</td>\n",
       "    </tr>\n",
       "    <tr>\n",
       "      <th id=\"T_47868_level0_row8\" class=\"row_heading level0 row8\" >8</th>\n",
       "      <td id=\"T_47868_row8_col0\" class=\"data row8 col0\" >Transformation</td>\n",
       "      <td id=\"T_47868_row8_col1\" class=\"data row8 col1\" ><function custom_preprocess at 0x000002B123A65990></td>\n",
       "    </tr>\n",
       "    <tr>\n",
       "      <th id=\"T_47868_level0_row9\" class=\"row_heading level0 row9\" >9</th>\n",
       "      <td id=\"T_47868_row9_col0\" class=\"data row9 col0\" >Transformation method</td>\n",
       "      <td id=\"T_47868_row9_col1\" class=\"data row9 col1\" >yeo-johnson</td>\n",
       "    </tr>\n",
       "    <tr>\n",
       "      <th id=\"T_47868_level0_row10\" class=\"row_heading level0 row10\" >10</th>\n",
       "      <td id=\"T_47868_row10_col0\" class=\"data row10 col0\" >Normalize</td>\n",
       "      <td id=\"T_47868_row10_col1\" class=\"data row10 col1\" >True</td>\n",
       "    </tr>\n",
       "    <tr>\n",
       "      <th id=\"T_47868_level0_row11\" class=\"row_heading level0 row11\" >11</th>\n",
       "      <td id=\"T_47868_row11_col0\" class=\"data row11 col0\" >Normalize method</td>\n",
       "      <td id=\"T_47868_row11_col1\" class=\"data row11 col1\" >zscore</td>\n",
       "    </tr>\n",
       "    <tr>\n",
       "      <th id=\"T_47868_level0_row12\" class=\"row_heading level0 row12\" >12</th>\n",
       "      <td id=\"T_47868_row12_col0\" class=\"data row12 col0\" >PCA</td>\n",
       "      <td id=\"T_47868_row12_col1\" class=\"data row12 col1\" >True</td>\n",
       "    </tr>\n",
       "    <tr>\n",
       "      <th id=\"T_47868_level0_row13\" class=\"row_heading level0 row13\" >13</th>\n",
       "      <td id=\"T_47868_row13_col0\" class=\"data row13 col0\" >PCA method</td>\n",
       "      <td id=\"T_47868_row13_col1\" class=\"data row13 col1\" >linear</td>\n",
       "    </tr>\n",
       "    <tr>\n",
       "      <th id=\"T_47868_level0_row14\" class=\"row_heading level0 row14\" >14</th>\n",
       "      <td id=\"T_47868_row14_col0\" class=\"data row14 col0\" >PCA components</td>\n",
       "      <td id=\"T_47868_row14_col1\" class=\"data row14 col1\" >None</td>\n",
       "    </tr>\n",
       "    <tr>\n",
       "      <th id=\"T_47868_level0_row15\" class=\"row_heading level0 row15\" >15</th>\n",
       "      <td id=\"T_47868_row15_col0\" class=\"data row15 col0\" >CPU Jobs</td>\n",
       "      <td id=\"T_47868_row15_col1\" class=\"data row15 col1\" >-1</td>\n",
       "    </tr>\n",
       "    <tr>\n",
       "      <th id=\"T_47868_level0_row16\" class=\"row_heading level0 row16\" >16</th>\n",
       "      <td id=\"T_47868_row16_col0\" class=\"data row16 col0\" >Use GPU</td>\n",
       "      <td id=\"T_47868_row16_col1\" class=\"data row16 col1\" >False</td>\n",
       "    </tr>\n",
       "    <tr>\n",
       "      <th id=\"T_47868_level0_row17\" class=\"row_heading level0 row17\" >17</th>\n",
       "      <td id=\"T_47868_row17_col0\" class=\"data row17 col0\" >Log Experiment</td>\n",
       "      <td id=\"T_47868_row17_col1\" class=\"data row17 col1\" >False</td>\n",
       "    </tr>\n",
       "    <tr>\n",
       "      <th id=\"T_47868_level0_row18\" class=\"row_heading level0 row18\" >18</th>\n",
       "      <td id=\"T_47868_row18_col0\" class=\"data row18 col0\" >Experiment Name</td>\n",
       "      <td id=\"T_47868_row18_col1\" class=\"data row18 col1\" >cluster-default-name</td>\n",
       "    </tr>\n",
       "    <tr>\n",
       "      <th id=\"T_47868_level0_row19\" class=\"row_heading level0 row19\" >19</th>\n",
       "      <td id=\"T_47868_row19_col0\" class=\"data row19 col0\" >USI</td>\n",
       "      <td id=\"T_47868_row19_col1\" class=\"data row19 col1\" >e06f</td>\n",
       "    </tr>\n",
       "  </tbody>\n",
       "</table>\n"
      ],
      "text/plain": [
       "<pandas.io.formats.style.Styler at 0x2b123e2b4f0>"
      ]
     },
     "metadata": {},
     "output_type": "display_data"
    },
    {
     "data": {
      "text/html": [],
      "text/plain": [
       "<IPython.core.display.HTML object>"
      ]
     },
     "metadata": {},
     "output_type": "display_data"
    },
    {
     "data": {
      "text/html": [
       "<style type=\"text/css\">\n",
       "</style>\n",
       "<table id=\"T_03a79\">\n",
       "  <thead>\n",
       "    <tr>\n",
       "      <th class=\"blank level0\" >&nbsp;</th>\n",
       "      <th id=\"T_03a79_level0_col0\" class=\"col_heading level0 col0\" >Silhouette</th>\n",
       "      <th id=\"T_03a79_level0_col1\" class=\"col_heading level0 col1\" >Calinski-Harabasz</th>\n",
       "      <th id=\"T_03a79_level0_col2\" class=\"col_heading level0 col2\" >Davies-Bouldin</th>\n",
       "      <th id=\"T_03a79_level0_col3\" class=\"col_heading level0 col3\" >Homogeneity</th>\n",
       "      <th id=\"T_03a79_level0_col4\" class=\"col_heading level0 col4\" >Rand Index</th>\n",
       "      <th id=\"T_03a79_level0_col5\" class=\"col_heading level0 col5\" >Completeness</th>\n",
       "    </tr>\n",
       "  </thead>\n",
       "  <tbody>\n",
       "    <tr>\n",
       "      <th id=\"T_03a79_level0_row0\" class=\"row_heading level0 row0\" >0</th>\n",
       "      <td id=\"T_03a79_row0_col0\" class=\"data row0 col0\" >0.3625</td>\n",
       "      <td id=\"T_03a79_row0_col1\" class=\"data row0 col1\" >199.3024</td>\n",
       "      <td id=\"T_03a79_row0_col2\" class=\"data row0 col2\" >0.8962</td>\n",
       "      <td id=\"T_03a79_row0_col3\" class=\"data row0 col3\" >0</td>\n",
       "      <td id=\"T_03a79_row0_col4\" class=\"data row0 col4\" >0</td>\n",
       "      <td id=\"T_03a79_row0_col5\" class=\"data row0 col5\" >0</td>\n",
       "    </tr>\n",
       "  </tbody>\n",
       "</table>\n"
      ],
      "text/plain": [
       "<pandas.io.formats.style.Styler at 0x2b123e286d0>"
      ]
     },
     "metadata": {},
     "output_type": "display_data"
    },
    {
     "data": {
      "text/html": [],
      "text/plain": [
       "<IPython.core.display.HTML object>"
      ]
     },
     "metadata": {},
     "output_type": "display_data"
    },
    {
     "name": "stdout",
     "output_type": "stream",
     "text": [
      "For hierarchical with 5 clusters with Transformation, PCA, and Normalization\n"
     ]
    },
    {
     "data": {
      "application/vnd.jupyter.widget-view+json": {
       "model_id": "0071fbdaeb644e6c823113bb7d46006e",
       "version_major": 2,
       "version_minor": 0
      },
      "text/plain": [
       "interactive(children=(ToggleButtons(description='Plot Type:', icons=('',), options=(('Pipeline Plot', 'pipelin…"
      ]
     },
     "metadata": {},
     "output_type": "display_data"
    },
    {
     "data": {
      "text/html": [
       "<style type=\"text/css\">\n",
       "#T_94332_row4_col1, #T_94332_row10_col1, #T_94332_row12_col1 {\n",
       "  background-color: lightgreen;\n",
       "}\n",
       "</style>\n",
       "<table id=\"T_94332\">\n",
       "  <thead>\n",
       "    <tr>\n",
       "      <th class=\"blank level0\" >&nbsp;</th>\n",
       "      <th id=\"T_94332_level0_col0\" class=\"col_heading level0 col0\" >Description</th>\n",
       "      <th id=\"T_94332_level0_col1\" class=\"col_heading level0 col1\" >Value</th>\n",
       "    </tr>\n",
       "  </thead>\n",
       "  <tbody>\n",
       "    <tr>\n",
       "      <th id=\"T_94332_level0_row0\" class=\"row_heading level0 row0\" >0</th>\n",
       "      <td id=\"T_94332_row0_col0\" class=\"data row0 col0\" >Session id</td>\n",
       "      <td id=\"T_94332_row0_col1\" class=\"data row0 col1\" >2</td>\n",
       "    </tr>\n",
       "    <tr>\n",
       "      <th id=\"T_94332_level0_row1\" class=\"row_heading level0 row1\" >1</th>\n",
       "      <td id=\"T_94332_row1_col0\" class=\"data row1 col0\" >Original data shape</td>\n",
       "      <td id=\"T_94332_row1_col1\" class=\"data row1 col1\" >(150, 4)</td>\n",
       "    </tr>\n",
       "    <tr>\n",
       "      <th id=\"T_94332_level0_row2\" class=\"row_heading level0 row2\" >2</th>\n",
       "      <td id=\"T_94332_row2_col0\" class=\"data row2 col0\" >Transformed data shape</td>\n",
       "      <td id=\"T_94332_row2_col1\" class=\"data row2 col1\" >(150, 4)</td>\n",
       "    </tr>\n",
       "    <tr>\n",
       "      <th id=\"T_94332_level0_row3\" class=\"row_heading level0 row3\" >3</th>\n",
       "      <td id=\"T_94332_row3_col0\" class=\"data row3 col0\" >Numeric features</td>\n",
       "      <td id=\"T_94332_row3_col1\" class=\"data row3 col1\" >4</td>\n",
       "    </tr>\n",
       "    <tr>\n",
       "      <th id=\"T_94332_level0_row4\" class=\"row_heading level0 row4\" >4</th>\n",
       "      <td id=\"T_94332_row4_col0\" class=\"data row4 col0\" >Preprocess</td>\n",
       "      <td id=\"T_94332_row4_col1\" class=\"data row4 col1\" >True</td>\n",
       "    </tr>\n",
       "    <tr>\n",
       "      <th id=\"T_94332_level0_row5\" class=\"row_heading level0 row5\" >5</th>\n",
       "      <td id=\"T_94332_row5_col0\" class=\"data row5 col0\" >Imputation type</td>\n",
       "      <td id=\"T_94332_row5_col1\" class=\"data row5 col1\" >simple</td>\n",
       "    </tr>\n",
       "    <tr>\n",
       "      <th id=\"T_94332_level0_row6\" class=\"row_heading level0 row6\" >6</th>\n",
       "      <td id=\"T_94332_row6_col0\" class=\"data row6 col0\" >Numeric imputation</td>\n",
       "      <td id=\"T_94332_row6_col1\" class=\"data row6 col1\" >mean</td>\n",
       "    </tr>\n",
       "    <tr>\n",
       "      <th id=\"T_94332_level0_row7\" class=\"row_heading level0 row7\" >7</th>\n",
       "      <td id=\"T_94332_row7_col0\" class=\"data row7 col0\" >Categorical imputation</td>\n",
       "      <td id=\"T_94332_row7_col1\" class=\"data row7 col1\" >mode</td>\n",
       "    </tr>\n",
       "    <tr>\n",
       "      <th id=\"T_94332_level0_row8\" class=\"row_heading level0 row8\" >8</th>\n",
       "      <td id=\"T_94332_row8_col0\" class=\"data row8 col0\" >Transformation</td>\n",
       "      <td id=\"T_94332_row8_col1\" class=\"data row8 col1\" ><function custom_preprocess at 0x000002B123A65990></td>\n",
       "    </tr>\n",
       "    <tr>\n",
       "      <th id=\"T_94332_level0_row9\" class=\"row_heading level0 row9\" >9</th>\n",
       "      <td id=\"T_94332_row9_col0\" class=\"data row9 col0\" >Transformation method</td>\n",
       "      <td id=\"T_94332_row9_col1\" class=\"data row9 col1\" >yeo-johnson</td>\n",
       "    </tr>\n",
       "    <tr>\n",
       "      <th id=\"T_94332_level0_row10\" class=\"row_heading level0 row10\" >10</th>\n",
       "      <td id=\"T_94332_row10_col0\" class=\"data row10 col0\" >Normalize</td>\n",
       "      <td id=\"T_94332_row10_col1\" class=\"data row10 col1\" >True</td>\n",
       "    </tr>\n",
       "    <tr>\n",
       "      <th id=\"T_94332_level0_row11\" class=\"row_heading level0 row11\" >11</th>\n",
       "      <td id=\"T_94332_row11_col0\" class=\"data row11 col0\" >Normalize method</td>\n",
       "      <td id=\"T_94332_row11_col1\" class=\"data row11 col1\" >zscore</td>\n",
       "    </tr>\n",
       "    <tr>\n",
       "      <th id=\"T_94332_level0_row12\" class=\"row_heading level0 row12\" >12</th>\n",
       "      <td id=\"T_94332_row12_col0\" class=\"data row12 col0\" >PCA</td>\n",
       "      <td id=\"T_94332_row12_col1\" class=\"data row12 col1\" >True</td>\n",
       "    </tr>\n",
       "    <tr>\n",
       "      <th id=\"T_94332_level0_row13\" class=\"row_heading level0 row13\" >13</th>\n",
       "      <td id=\"T_94332_row13_col0\" class=\"data row13 col0\" >PCA method</td>\n",
       "      <td id=\"T_94332_row13_col1\" class=\"data row13 col1\" >linear</td>\n",
       "    </tr>\n",
       "    <tr>\n",
       "      <th id=\"T_94332_level0_row14\" class=\"row_heading level0 row14\" >14</th>\n",
       "      <td id=\"T_94332_row14_col0\" class=\"data row14 col0\" >PCA components</td>\n",
       "      <td id=\"T_94332_row14_col1\" class=\"data row14 col1\" >None</td>\n",
       "    </tr>\n",
       "    <tr>\n",
       "      <th id=\"T_94332_level0_row15\" class=\"row_heading level0 row15\" >15</th>\n",
       "      <td id=\"T_94332_row15_col0\" class=\"data row15 col0\" >CPU Jobs</td>\n",
       "      <td id=\"T_94332_row15_col1\" class=\"data row15 col1\" >-1</td>\n",
       "    </tr>\n",
       "    <tr>\n",
       "      <th id=\"T_94332_level0_row16\" class=\"row_heading level0 row16\" >16</th>\n",
       "      <td id=\"T_94332_row16_col0\" class=\"data row16 col0\" >Use GPU</td>\n",
       "      <td id=\"T_94332_row16_col1\" class=\"data row16 col1\" >False</td>\n",
       "    </tr>\n",
       "    <tr>\n",
       "      <th id=\"T_94332_level0_row17\" class=\"row_heading level0 row17\" >17</th>\n",
       "      <td id=\"T_94332_row17_col0\" class=\"data row17 col0\" >Log Experiment</td>\n",
       "      <td id=\"T_94332_row17_col1\" class=\"data row17 col1\" >False</td>\n",
       "    </tr>\n",
       "    <tr>\n",
       "      <th id=\"T_94332_level0_row18\" class=\"row_heading level0 row18\" >18</th>\n",
       "      <td id=\"T_94332_row18_col0\" class=\"data row18 col0\" >Experiment Name</td>\n",
       "      <td id=\"T_94332_row18_col1\" class=\"data row18 col1\" >cluster-default-name</td>\n",
       "    </tr>\n",
       "    <tr>\n",
       "      <th id=\"T_94332_level0_row19\" class=\"row_heading level0 row19\" >19</th>\n",
       "      <td id=\"T_94332_row19_col0\" class=\"data row19 col0\" >USI</td>\n",
       "      <td id=\"T_94332_row19_col1\" class=\"data row19 col1\" >9a80</td>\n",
       "    </tr>\n",
       "  </tbody>\n",
       "</table>\n"
      ],
      "text/plain": [
       "<pandas.io.formats.style.Styler at 0x2b123c7b910>"
      ]
     },
     "metadata": {},
     "output_type": "display_data"
    },
    {
     "data": {
      "text/html": [],
      "text/plain": [
       "<IPython.core.display.HTML object>"
      ]
     },
     "metadata": {},
     "output_type": "display_data"
    },
    {
     "data": {
      "text/html": [
       "<style type=\"text/css\">\n",
       "</style>\n",
       "<table id=\"T_aef60\">\n",
       "  <thead>\n",
       "    <tr>\n",
       "      <th class=\"blank level0\" >&nbsp;</th>\n",
       "      <th id=\"T_aef60_level0_col0\" class=\"col_heading level0 col0\" >Silhouette</th>\n",
       "      <th id=\"T_aef60_level0_col1\" class=\"col_heading level0 col1\" >Calinski-Harabasz</th>\n",
       "      <th id=\"T_aef60_level0_col2\" class=\"col_heading level0 col2\" >Davies-Bouldin</th>\n",
       "      <th id=\"T_aef60_level0_col3\" class=\"col_heading level0 col3\" >Homogeneity</th>\n",
       "      <th id=\"T_aef60_level0_col4\" class=\"col_heading level0 col4\" >Rand Index</th>\n",
       "      <th id=\"T_aef60_level0_col5\" class=\"col_heading level0 col5\" >Completeness</th>\n",
       "    </tr>\n",
       "  </thead>\n",
       "  <tbody>\n",
       "    <tr>\n",
       "      <th id=\"T_aef60_level0_row0\" class=\"row_heading level0 row0\" >0</th>\n",
       "      <td id=\"T_aef60_row0_col0\" class=\"data row0 col0\" >0.4660</td>\n",
       "      <td id=\"T_aef60_row0_col1\" class=\"data row0 col1\" >227.0425</td>\n",
       "      <td id=\"T_aef60_row0_col2\" class=\"data row0 col2\" >0.7858</td>\n",
       "      <td id=\"T_aef60_row0_col3\" class=\"data row0 col3\" >0</td>\n",
       "      <td id=\"T_aef60_row0_col4\" class=\"data row0 col4\" >0</td>\n",
       "      <td id=\"T_aef60_row0_col5\" class=\"data row0 col5\" >0</td>\n",
       "    </tr>\n",
       "  </tbody>\n",
       "</table>\n"
      ],
      "text/plain": [
       "<pandas.io.formats.style.Styler at 0x2b123c78910>"
      ]
     },
     "metadata": {},
     "output_type": "display_data"
    },
    {
     "data": {
      "text/html": [],
      "text/plain": [
       "<IPython.core.display.HTML object>"
      ]
     },
     "metadata": {},
     "output_type": "display_data"
    },
    {
     "name": "stdout",
     "output_type": "stream",
     "text": [
      "For birch with 3 clusters with Transformation, PCA, and Normalization\n"
     ]
    },
    {
     "data": {
      "application/vnd.jupyter.widget-view+json": {
       "model_id": "35c5d76ec6444bcaaea0ad7cc81eee52",
       "version_major": 2,
       "version_minor": 0
      },
      "text/plain": [
       "interactive(children=(ToggleButtons(description='Plot Type:', icons=('',), options=(('Pipeline Plot', 'pipelin…"
      ]
     },
     "metadata": {},
     "output_type": "display_data"
    },
    {
     "data": {
      "text/html": [
       "<style type=\"text/css\">\n",
       "#T_2d3c3_row4_col1, #T_2d3c3_row10_col1, #T_2d3c3_row12_col1 {\n",
       "  background-color: lightgreen;\n",
       "}\n",
       "</style>\n",
       "<table id=\"T_2d3c3\">\n",
       "  <thead>\n",
       "    <tr>\n",
       "      <th class=\"blank level0\" >&nbsp;</th>\n",
       "      <th id=\"T_2d3c3_level0_col0\" class=\"col_heading level0 col0\" >Description</th>\n",
       "      <th id=\"T_2d3c3_level0_col1\" class=\"col_heading level0 col1\" >Value</th>\n",
       "    </tr>\n",
       "  </thead>\n",
       "  <tbody>\n",
       "    <tr>\n",
       "      <th id=\"T_2d3c3_level0_row0\" class=\"row_heading level0 row0\" >0</th>\n",
       "      <td id=\"T_2d3c3_row0_col0\" class=\"data row0 col0\" >Session id</td>\n",
       "      <td id=\"T_2d3c3_row0_col1\" class=\"data row0 col1\" >2</td>\n",
       "    </tr>\n",
       "    <tr>\n",
       "      <th id=\"T_2d3c3_level0_row1\" class=\"row_heading level0 row1\" >1</th>\n",
       "      <td id=\"T_2d3c3_row1_col0\" class=\"data row1 col0\" >Original data shape</td>\n",
       "      <td id=\"T_2d3c3_row1_col1\" class=\"data row1 col1\" >(150, 4)</td>\n",
       "    </tr>\n",
       "    <tr>\n",
       "      <th id=\"T_2d3c3_level0_row2\" class=\"row_heading level0 row2\" >2</th>\n",
       "      <td id=\"T_2d3c3_row2_col0\" class=\"data row2 col0\" >Transformed data shape</td>\n",
       "      <td id=\"T_2d3c3_row2_col1\" class=\"data row2 col1\" >(150, 4)</td>\n",
       "    </tr>\n",
       "    <tr>\n",
       "      <th id=\"T_2d3c3_level0_row3\" class=\"row_heading level0 row3\" >3</th>\n",
       "      <td id=\"T_2d3c3_row3_col0\" class=\"data row3 col0\" >Numeric features</td>\n",
       "      <td id=\"T_2d3c3_row3_col1\" class=\"data row3 col1\" >4</td>\n",
       "    </tr>\n",
       "    <tr>\n",
       "      <th id=\"T_2d3c3_level0_row4\" class=\"row_heading level0 row4\" >4</th>\n",
       "      <td id=\"T_2d3c3_row4_col0\" class=\"data row4 col0\" >Preprocess</td>\n",
       "      <td id=\"T_2d3c3_row4_col1\" class=\"data row4 col1\" >True</td>\n",
       "    </tr>\n",
       "    <tr>\n",
       "      <th id=\"T_2d3c3_level0_row5\" class=\"row_heading level0 row5\" >5</th>\n",
       "      <td id=\"T_2d3c3_row5_col0\" class=\"data row5 col0\" >Imputation type</td>\n",
       "      <td id=\"T_2d3c3_row5_col1\" class=\"data row5 col1\" >simple</td>\n",
       "    </tr>\n",
       "    <tr>\n",
       "      <th id=\"T_2d3c3_level0_row6\" class=\"row_heading level0 row6\" >6</th>\n",
       "      <td id=\"T_2d3c3_row6_col0\" class=\"data row6 col0\" >Numeric imputation</td>\n",
       "      <td id=\"T_2d3c3_row6_col1\" class=\"data row6 col1\" >mean</td>\n",
       "    </tr>\n",
       "    <tr>\n",
       "      <th id=\"T_2d3c3_level0_row7\" class=\"row_heading level0 row7\" >7</th>\n",
       "      <td id=\"T_2d3c3_row7_col0\" class=\"data row7 col0\" >Categorical imputation</td>\n",
       "      <td id=\"T_2d3c3_row7_col1\" class=\"data row7 col1\" >mode</td>\n",
       "    </tr>\n",
       "    <tr>\n",
       "      <th id=\"T_2d3c3_level0_row8\" class=\"row_heading level0 row8\" >8</th>\n",
       "      <td id=\"T_2d3c3_row8_col0\" class=\"data row8 col0\" >Transformation</td>\n",
       "      <td id=\"T_2d3c3_row8_col1\" class=\"data row8 col1\" ><function custom_preprocess at 0x000002B123A65990></td>\n",
       "    </tr>\n",
       "    <tr>\n",
       "      <th id=\"T_2d3c3_level0_row9\" class=\"row_heading level0 row9\" >9</th>\n",
       "      <td id=\"T_2d3c3_row9_col0\" class=\"data row9 col0\" >Transformation method</td>\n",
       "      <td id=\"T_2d3c3_row9_col1\" class=\"data row9 col1\" >yeo-johnson</td>\n",
       "    </tr>\n",
       "    <tr>\n",
       "      <th id=\"T_2d3c3_level0_row10\" class=\"row_heading level0 row10\" >10</th>\n",
       "      <td id=\"T_2d3c3_row10_col0\" class=\"data row10 col0\" >Normalize</td>\n",
       "      <td id=\"T_2d3c3_row10_col1\" class=\"data row10 col1\" >True</td>\n",
       "    </tr>\n",
       "    <tr>\n",
       "      <th id=\"T_2d3c3_level0_row11\" class=\"row_heading level0 row11\" >11</th>\n",
       "      <td id=\"T_2d3c3_row11_col0\" class=\"data row11 col0\" >Normalize method</td>\n",
       "      <td id=\"T_2d3c3_row11_col1\" class=\"data row11 col1\" >zscore</td>\n",
       "    </tr>\n",
       "    <tr>\n",
       "      <th id=\"T_2d3c3_level0_row12\" class=\"row_heading level0 row12\" >12</th>\n",
       "      <td id=\"T_2d3c3_row12_col0\" class=\"data row12 col0\" >PCA</td>\n",
       "      <td id=\"T_2d3c3_row12_col1\" class=\"data row12 col1\" >True</td>\n",
       "    </tr>\n",
       "    <tr>\n",
       "      <th id=\"T_2d3c3_level0_row13\" class=\"row_heading level0 row13\" >13</th>\n",
       "      <td id=\"T_2d3c3_row13_col0\" class=\"data row13 col0\" >PCA method</td>\n",
       "      <td id=\"T_2d3c3_row13_col1\" class=\"data row13 col1\" >linear</td>\n",
       "    </tr>\n",
       "    <tr>\n",
       "      <th id=\"T_2d3c3_level0_row14\" class=\"row_heading level0 row14\" >14</th>\n",
       "      <td id=\"T_2d3c3_row14_col0\" class=\"data row14 col0\" >PCA components</td>\n",
       "      <td id=\"T_2d3c3_row14_col1\" class=\"data row14 col1\" >None</td>\n",
       "    </tr>\n",
       "    <tr>\n",
       "      <th id=\"T_2d3c3_level0_row15\" class=\"row_heading level0 row15\" >15</th>\n",
       "      <td id=\"T_2d3c3_row15_col0\" class=\"data row15 col0\" >CPU Jobs</td>\n",
       "      <td id=\"T_2d3c3_row15_col1\" class=\"data row15 col1\" >-1</td>\n",
       "    </tr>\n",
       "    <tr>\n",
       "      <th id=\"T_2d3c3_level0_row16\" class=\"row_heading level0 row16\" >16</th>\n",
       "      <td id=\"T_2d3c3_row16_col0\" class=\"data row16 col0\" >Use GPU</td>\n",
       "      <td id=\"T_2d3c3_row16_col1\" class=\"data row16 col1\" >False</td>\n",
       "    </tr>\n",
       "    <tr>\n",
       "      <th id=\"T_2d3c3_level0_row17\" class=\"row_heading level0 row17\" >17</th>\n",
       "      <td id=\"T_2d3c3_row17_col0\" class=\"data row17 col0\" >Log Experiment</td>\n",
       "      <td id=\"T_2d3c3_row17_col1\" class=\"data row17 col1\" >False</td>\n",
       "    </tr>\n",
       "    <tr>\n",
       "      <th id=\"T_2d3c3_level0_row18\" class=\"row_heading level0 row18\" >18</th>\n",
       "      <td id=\"T_2d3c3_row18_col0\" class=\"data row18 col0\" >Experiment Name</td>\n",
       "      <td id=\"T_2d3c3_row18_col1\" class=\"data row18 col1\" >cluster-default-name</td>\n",
       "    </tr>\n",
       "    <tr>\n",
       "      <th id=\"T_2d3c3_level0_row19\" class=\"row_heading level0 row19\" >19</th>\n",
       "      <td id=\"T_2d3c3_row19_col0\" class=\"data row19 col0\" >USI</td>\n",
       "      <td id=\"T_2d3c3_row19_col1\" class=\"data row19 col1\" >9109</td>\n",
       "    </tr>\n",
       "  </tbody>\n",
       "</table>\n"
      ],
      "text/plain": [
       "<pandas.io.formats.style.Styler at 0x2b123df0910>"
      ]
     },
     "metadata": {},
     "output_type": "display_data"
    },
    {
     "data": {
      "text/html": [],
      "text/plain": [
       "<IPython.core.display.HTML object>"
      ]
     },
     "metadata": {},
     "output_type": "display_data"
    },
    {
     "data": {
      "text/html": [
       "<style type=\"text/css\">\n",
       "</style>\n",
       "<table id=\"T_282e7\">\n",
       "  <thead>\n",
       "    <tr>\n",
       "      <th class=\"blank level0\" >&nbsp;</th>\n",
       "      <th id=\"T_282e7_level0_col0\" class=\"col_heading level0 col0\" >Silhouette</th>\n",
       "      <th id=\"T_282e7_level0_col1\" class=\"col_heading level0 col1\" >Calinski-Harabasz</th>\n",
       "      <th id=\"T_282e7_level0_col2\" class=\"col_heading level0 col2\" >Davies-Bouldin</th>\n",
       "      <th id=\"T_282e7_level0_col3\" class=\"col_heading level0 col3\" >Homogeneity</th>\n",
       "      <th id=\"T_282e7_level0_col4\" class=\"col_heading level0 col4\" >Rand Index</th>\n",
       "      <th id=\"T_282e7_level0_col5\" class=\"col_heading level0 col5\" >Completeness</th>\n",
       "    </tr>\n",
       "  </thead>\n",
       "  <tbody>\n",
       "    <tr>\n",
       "      <th id=\"T_282e7_level0_row0\" class=\"row_heading level0 row0\" >0</th>\n",
       "      <td id=\"T_282e7_row0_col0\" class=\"data row0 col0\" >0.4025</td>\n",
       "      <td id=\"T_282e7_row0_col1\" class=\"data row0 col1\" >204.5392</td>\n",
       "      <td id=\"T_282e7_row0_col2\" class=\"data row0 col2\" >0.9729</td>\n",
       "      <td id=\"T_282e7_row0_col3\" class=\"data row0 col3\" >0</td>\n",
       "      <td id=\"T_282e7_row0_col4\" class=\"data row0 col4\" >0</td>\n",
       "      <td id=\"T_282e7_row0_col5\" class=\"data row0 col5\" >0</td>\n",
       "    </tr>\n",
       "  </tbody>\n",
       "</table>\n"
      ],
      "text/plain": [
       "<pandas.io.formats.style.Styler at 0x2b123d99b70>"
      ]
     },
     "metadata": {},
     "output_type": "display_data"
    },
    {
     "data": {
      "text/html": [],
      "text/plain": [
       "<IPython.core.display.HTML object>"
      ]
     },
     "metadata": {},
     "output_type": "display_data"
    },
    {
     "name": "stdout",
     "output_type": "stream",
     "text": [
      "For birch with 4 clusters with Transformation, PCA, and Normalization\n"
     ]
    },
    {
     "data": {
      "application/vnd.jupyter.widget-view+json": {
       "model_id": "88e98937be494d62b609ac9843f60c58",
       "version_major": 2,
       "version_minor": 0
      },
      "text/plain": [
       "interactive(children=(ToggleButtons(description='Plot Type:', icons=('',), options=(('Pipeline Plot', 'pipelin…"
      ]
     },
     "metadata": {},
     "output_type": "display_data"
    },
    {
     "data": {
      "text/html": [
       "<style type=\"text/css\">\n",
       "#T_7492f_row4_col1, #T_7492f_row10_col1, #T_7492f_row12_col1 {\n",
       "  background-color: lightgreen;\n",
       "}\n",
       "</style>\n",
       "<table id=\"T_7492f\">\n",
       "  <thead>\n",
       "    <tr>\n",
       "      <th class=\"blank level0\" >&nbsp;</th>\n",
       "      <th id=\"T_7492f_level0_col0\" class=\"col_heading level0 col0\" >Description</th>\n",
       "      <th id=\"T_7492f_level0_col1\" class=\"col_heading level0 col1\" >Value</th>\n",
       "    </tr>\n",
       "  </thead>\n",
       "  <tbody>\n",
       "    <tr>\n",
       "      <th id=\"T_7492f_level0_row0\" class=\"row_heading level0 row0\" >0</th>\n",
       "      <td id=\"T_7492f_row0_col0\" class=\"data row0 col0\" >Session id</td>\n",
       "      <td id=\"T_7492f_row0_col1\" class=\"data row0 col1\" >2</td>\n",
       "    </tr>\n",
       "    <tr>\n",
       "      <th id=\"T_7492f_level0_row1\" class=\"row_heading level0 row1\" >1</th>\n",
       "      <td id=\"T_7492f_row1_col0\" class=\"data row1 col0\" >Original data shape</td>\n",
       "      <td id=\"T_7492f_row1_col1\" class=\"data row1 col1\" >(150, 4)</td>\n",
       "    </tr>\n",
       "    <tr>\n",
       "      <th id=\"T_7492f_level0_row2\" class=\"row_heading level0 row2\" >2</th>\n",
       "      <td id=\"T_7492f_row2_col0\" class=\"data row2 col0\" >Transformed data shape</td>\n",
       "      <td id=\"T_7492f_row2_col1\" class=\"data row2 col1\" >(150, 4)</td>\n",
       "    </tr>\n",
       "    <tr>\n",
       "      <th id=\"T_7492f_level0_row3\" class=\"row_heading level0 row3\" >3</th>\n",
       "      <td id=\"T_7492f_row3_col0\" class=\"data row3 col0\" >Numeric features</td>\n",
       "      <td id=\"T_7492f_row3_col1\" class=\"data row3 col1\" >4</td>\n",
       "    </tr>\n",
       "    <tr>\n",
       "      <th id=\"T_7492f_level0_row4\" class=\"row_heading level0 row4\" >4</th>\n",
       "      <td id=\"T_7492f_row4_col0\" class=\"data row4 col0\" >Preprocess</td>\n",
       "      <td id=\"T_7492f_row4_col1\" class=\"data row4 col1\" >True</td>\n",
       "    </tr>\n",
       "    <tr>\n",
       "      <th id=\"T_7492f_level0_row5\" class=\"row_heading level0 row5\" >5</th>\n",
       "      <td id=\"T_7492f_row5_col0\" class=\"data row5 col0\" >Imputation type</td>\n",
       "      <td id=\"T_7492f_row5_col1\" class=\"data row5 col1\" >simple</td>\n",
       "    </tr>\n",
       "    <tr>\n",
       "      <th id=\"T_7492f_level0_row6\" class=\"row_heading level0 row6\" >6</th>\n",
       "      <td id=\"T_7492f_row6_col0\" class=\"data row6 col0\" >Numeric imputation</td>\n",
       "      <td id=\"T_7492f_row6_col1\" class=\"data row6 col1\" >mean</td>\n",
       "    </tr>\n",
       "    <tr>\n",
       "      <th id=\"T_7492f_level0_row7\" class=\"row_heading level0 row7\" >7</th>\n",
       "      <td id=\"T_7492f_row7_col0\" class=\"data row7 col0\" >Categorical imputation</td>\n",
       "      <td id=\"T_7492f_row7_col1\" class=\"data row7 col1\" >mode</td>\n",
       "    </tr>\n",
       "    <tr>\n",
       "      <th id=\"T_7492f_level0_row8\" class=\"row_heading level0 row8\" >8</th>\n",
       "      <td id=\"T_7492f_row8_col0\" class=\"data row8 col0\" >Transformation</td>\n",
       "      <td id=\"T_7492f_row8_col1\" class=\"data row8 col1\" ><function custom_preprocess at 0x000002B123A65990></td>\n",
       "    </tr>\n",
       "    <tr>\n",
       "      <th id=\"T_7492f_level0_row9\" class=\"row_heading level0 row9\" >9</th>\n",
       "      <td id=\"T_7492f_row9_col0\" class=\"data row9 col0\" >Transformation method</td>\n",
       "      <td id=\"T_7492f_row9_col1\" class=\"data row9 col1\" >yeo-johnson</td>\n",
       "    </tr>\n",
       "    <tr>\n",
       "      <th id=\"T_7492f_level0_row10\" class=\"row_heading level0 row10\" >10</th>\n",
       "      <td id=\"T_7492f_row10_col0\" class=\"data row10 col0\" >Normalize</td>\n",
       "      <td id=\"T_7492f_row10_col1\" class=\"data row10 col1\" >True</td>\n",
       "    </tr>\n",
       "    <tr>\n",
       "      <th id=\"T_7492f_level0_row11\" class=\"row_heading level0 row11\" >11</th>\n",
       "      <td id=\"T_7492f_row11_col0\" class=\"data row11 col0\" >Normalize method</td>\n",
       "      <td id=\"T_7492f_row11_col1\" class=\"data row11 col1\" >zscore</td>\n",
       "    </tr>\n",
       "    <tr>\n",
       "      <th id=\"T_7492f_level0_row12\" class=\"row_heading level0 row12\" >12</th>\n",
       "      <td id=\"T_7492f_row12_col0\" class=\"data row12 col0\" >PCA</td>\n",
       "      <td id=\"T_7492f_row12_col1\" class=\"data row12 col1\" >True</td>\n",
       "    </tr>\n",
       "    <tr>\n",
       "      <th id=\"T_7492f_level0_row13\" class=\"row_heading level0 row13\" >13</th>\n",
       "      <td id=\"T_7492f_row13_col0\" class=\"data row13 col0\" >PCA method</td>\n",
       "      <td id=\"T_7492f_row13_col1\" class=\"data row13 col1\" >linear</td>\n",
       "    </tr>\n",
       "    <tr>\n",
       "      <th id=\"T_7492f_level0_row14\" class=\"row_heading level0 row14\" >14</th>\n",
       "      <td id=\"T_7492f_row14_col0\" class=\"data row14 col0\" >PCA components</td>\n",
       "      <td id=\"T_7492f_row14_col1\" class=\"data row14 col1\" >None</td>\n",
       "    </tr>\n",
       "    <tr>\n",
       "      <th id=\"T_7492f_level0_row15\" class=\"row_heading level0 row15\" >15</th>\n",
       "      <td id=\"T_7492f_row15_col0\" class=\"data row15 col0\" >CPU Jobs</td>\n",
       "      <td id=\"T_7492f_row15_col1\" class=\"data row15 col1\" >-1</td>\n",
       "    </tr>\n",
       "    <tr>\n",
       "      <th id=\"T_7492f_level0_row16\" class=\"row_heading level0 row16\" >16</th>\n",
       "      <td id=\"T_7492f_row16_col0\" class=\"data row16 col0\" >Use GPU</td>\n",
       "      <td id=\"T_7492f_row16_col1\" class=\"data row16 col1\" >False</td>\n",
       "    </tr>\n",
       "    <tr>\n",
       "      <th id=\"T_7492f_level0_row17\" class=\"row_heading level0 row17\" >17</th>\n",
       "      <td id=\"T_7492f_row17_col0\" class=\"data row17 col0\" >Log Experiment</td>\n",
       "      <td id=\"T_7492f_row17_col1\" class=\"data row17 col1\" >False</td>\n",
       "    </tr>\n",
       "    <tr>\n",
       "      <th id=\"T_7492f_level0_row18\" class=\"row_heading level0 row18\" >18</th>\n",
       "      <td id=\"T_7492f_row18_col0\" class=\"data row18 col0\" >Experiment Name</td>\n",
       "      <td id=\"T_7492f_row18_col1\" class=\"data row18 col1\" >cluster-default-name</td>\n",
       "    </tr>\n",
       "    <tr>\n",
       "      <th id=\"T_7492f_level0_row19\" class=\"row_heading level0 row19\" >19</th>\n",
       "      <td id=\"T_7492f_row19_col0\" class=\"data row19 col0\" >USI</td>\n",
       "      <td id=\"T_7492f_row19_col1\" class=\"data row19 col1\" >217c</td>\n",
       "    </tr>\n",
       "  </tbody>\n",
       "</table>\n"
      ],
      "text/plain": [
       "<pandas.io.formats.style.Styler at 0x2b123e8cac0>"
      ]
     },
     "metadata": {},
     "output_type": "display_data"
    },
    {
     "data": {
      "text/html": [],
      "text/plain": [
       "<IPython.core.display.HTML object>"
      ]
     },
     "metadata": {},
     "output_type": "display_data"
    },
    {
     "data": {
      "text/html": [
       "<style type=\"text/css\">\n",
       "</style>\n",
       "<table id=\"T_0c216\">\n",
       "  <thead>\n",
       "    <tr>\n",
       "      <th class=\"blank level0\" >&nbsp;</th>\n",
       "      <th id=\"T_0c216_level0_col0\" class=\"col_heading level0 col0\" >Silhouette</th>\n",
       "      <th id=\"T_0c216_level0_col1\" class=\"col_heading level0 col1\" >Calinski-Harabasz</th>\n",
       "      <th id=\"T_0c216_level0_col2\" class=\"col_heading level0 col2\" >Davies-Bouldin</th>\n",
       "      <th id=\"T_0c216_level0_col3\" class=\"col_heading level0 col3\" >Homogeneity</th>\n",
       "      <th id=\"T_0c216_level0_col4\" class=\"col_heading level0 col4\" >Rand Index</th>\n",
       "      <th id=\"T_0c216_level0_col5\" class=\"col_heading level0 col5\" >Completeness</th>\n",
       "    </tr>\n",
       "  </thead>\n",
       "  <tbody>\n",
       "    <tr>\n",
       "      <th id=\"T_0c216_level0_row0\" class=\"row_heading level0 row0\" >0</th>\n",
       "      <td id=\"T_0c216_row0_col0\" class=\"data row0 col0\" >0.3690</td>\n",
       "      <td id=\"T_0c216_row0_col1\" class=\"data row0 col1\" >163.1024</td>\n",
       "      <td id=\"T_0c216_row0_col2\" class=\"data row0 col2\" >0.8380</td>\n",
       "      <td id=\"T_0c216_row0_col3\" class=\"data row0 col3\" >0</td>\n",
       "      <td id=\"T_0c216_row0_col4\" class=\"data row0 col4\" >0</td>\n",
       "      <td id=\"T_0c216_row0_col5\" class=\"data row0 col5\" >0</td>\n",
       "    </tr>\n",
       "  </tbody>\n",
       "</table>\n"
      ],
      "text/plain": [
       "<pandas.io.formats.style.Styler at 0x2b123d71360>"
      ]
     },
     "metadata": {},
     "output_type": "display_data"
    },
    {
     "data": {
      "text/html": [],
      "text/plain": [
       "<IPython.core.display.HTML object>"
      ]
     },
     "metadata": {},
     "output_type": "display_data"
    },
    {
     "name": "stdout",
     "output_type": "stream",
     "text": [
      "For birch with 5 clusters with Transformation, PCA, and Normalization\n"
     ]
    },
    {
     "data": {
      "application/vnd.jupyter.widget-view+json": {
       "model_id": "b7e569bc247d49ce9df1bf982ffc7fc7",
       "version_major": 2,
       "version_minor": 0
      },
      "text/plain": [
       "interactive(children=(ToggleButtons(description='Plot Type:', icons=('',), options=(('Pipeline Plot', 'pipelin…"
      ]
     },
     "metadata": {},
     "output_type": "display_data"
    }
   ],
   "source": [
    "for model in models:\n",
    "    for cluster in clusters:\n",
    "        setup1 = setup(data, normalize=True, pca=True, preprocess=True, session_id=2,transformation=custom_preprocess)\n",
    "        if model == 'kmeans':\n",
    "            mod1 = create_model('kmeans', num_clusters=cluster)\n",
    "        elif model == 'hierarchical':\n",
    "            mod1 = create_model('hclust', num_clusters=cluster)\n",
    "        elif model == 'birch':\n",
    "            mod1 = create_model('birch', num_clusters=cluster)\n",
    "        print(f\"For {model} with {cluster} clusters with Transformation, PCA, and Normalization\")\n",
    "        evaluate_model(mod1)"
   ]
  }
 ],
 "metadata": {
  "kernelspec": {
   "display_name": "Python 3",
   "language": "python",
   "name": "python3"
  },
  "language_info": {
   "codemirror_mode": {
    "name": "ipython",
    "version": 3
   },
   "file_extension": ".py",
   "mimetype": "text/x-python",
   "name": "python",
   "nbconvert_exporter": "python",
   "pygments_lexer": "ipython3",
   "version": "3.10.5"
  }
 },
 "nbformat": 4,
 "nbformat_minor": 2
}
